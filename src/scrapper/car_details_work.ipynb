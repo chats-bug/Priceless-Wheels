{
 "cells": [
  {
   "cell_type": "code",
   "execution_count": 10,
   "metadata": {
    "collapsed": true
   },
   "outputs": [],
   "source": [
    "import pandas as pd"
   ]
  },
  {
   "cell_type": "code",
   "execution_count": 11,
   "metadata": {
    "collapsed": false
   },
   "outputs": [
    {
     "name": "stdout",
     "output_type": "stream",
     "text": [
      "Shape of car_details_df: (37814, 94)\n",
      "Shape of cars_overview_df: (38071, 47)\n"
     ]
    },
    {
     "name": "stderr",
     "output_type": "stream",
     "text": [
      "/var/folders/vt/5_mmhf_d5gd9_w9qt3c4rvlw0000gn/T/ipykernel_47607/2599093068.py:2: DtypeWarning: Columns (25,43) have mixed types. Specify dtype option on import or set low_memory=False.\n",
      "  cars_overview_df = pd.read_csv(\"../data/cardekho_all_cars.csv\")\n"
     ]
    }
   ],
   "source": [
    "car_details_df = pd.read_csv(\"../data/car_details.csv\")\n",
    "cars_overview_df = pd.read_csv(\"../data/cardekho_all_cars.csv\")\n",
    "\n",
    "print(f\"Shape of car_details_df: {car_details_df.shape}\")\n",
    "print(f\"Shape of cars_overview_df: {cars_overview_df.shape}\")"
   ]
  },
  {
   "cell_type": "code",
   "execution_count": 12,
   "metadata": {
    "collapsed": false
   },
   "outputs": [
    {
     "data": {
      "text/plain": "                           usedCarSkuId  \\\n0  7111bf25-97af-47f9-867b-40879190d800   \n1  c309efc1-efaf-4f82-81ad-dcb38eb36665   \n2  7609f710-0c97-4f00-9a47-9b9284b62d3a   \n3  278b76e3-5539-4a5e-ae3e-353a2e3b6d7d   \n4  b1eab99b-a606-48dd-a75b-57feb8a9ad92   \n\n                                        top_features  \\\n0  ['Power Steering', 'Power Windows Front', 'Air...   \n1  ['Power Steering', 'Power Windows Front', 'Air...   \n2  ['Power Steering', 'Power Windows Front', 'Air...   \n3  ['Power Steering', 'Power Windows Front', 'Air...   \n4  ['Power Steering', 'Power Windows Front', 'Air...   \n\n                                    comfort_features  \\\n0  ['Power Steering', 'Power Windows Front', 'Rem...   \n1  ['Power Steering', 'Power Windows Front', 'Pow...   \n2  ['Power Steering', 'Power Windows Front', 'Pow...   \n3  ['Power Steering', 'Power Windows Front', 'Low...   \n4  ['Power Steering', 'Power Windows Front', 'Pow...   \n\n                                   interior_features  \\\n0  ['Air Conditioner', 'Heater', 'Digital Odomete...   \n1  ['Air Conditioner', 'Heater', 'Digital Odomete...   \n2  ['Air Conditioner', 'Heater', 'Adjustable Stee...   \n3  ['Air Conditioner', 'Heater', 'Electronic Mult...   \n4  ['Air Conditioner', 'Heater', 'Adjustable Stee...   \n\n                                   exterior_features  \\\n0  ['Adjustable Head Lights', 'Manually Adjustabl...   \n1  ['Adjustable Head Lights', 'Manually Adjustabl...   \n2  ['Adjustable Head Lights', 'Power Adjustable E...   \n3  ['Adjustable Head Lights', 'Manually Adjustabl...   \n4  ['Adjustable Head Lights', 'Power Adjustable E...   \n\n                                     safety_features   Color  \\\n0  ['Centeral Locking', 'Child Safety Locks', 'Da...  Silver   \n1  ['Centeral Locking', 'Child Safety Locks', 'Da...    Grey   \n2  ['Centeral Locking', 'Power Door Locks', 'Chil...  Silver   \n3  ['Centeral Locking', 'Child Safety Locks', 'Da...  Silver   \n4  ['Anti Lock Braking System', 'Brake Assist', '...   White   \n\n              Engine Type  Displacement         Max Power  ... owner_type  \\\n0             K10B Engine         998.0  58.16bhp@6200rpm  ...      first   \n1            K10B Engine          998.0   58.2bhp@6000rpm  ...      first   \n2    i-VTEC Petrol Engine        1198.0   86.7bhp@6000rpm  ...     second   \n3  K Series Petrol Engine         998.0   58.2bhp@6200rpm  ...     second   \n4                    K15C        1462.0  86.63bhp@5500rpm  ...      first   \n\n   price_segment_new               template_name_new           page_template  \\\n0        2lakh-5lakh  used cardetail v2/corporate/13  Used Car > Detail Page   \n1        2lakh-5lakh  used cardetail v2/corporate/13  Used Car > Detail Page   \n2        2lakh-5lakh  used cardetail v2/corporate/13  Used Car > Detail Page   \n3        2lakh-5lakh  used cardetail v2/corporate/13  Used Car > Detail Page   \n4            10+lakh               used cardetail v2  Used Car > Detail Page   \n\n  template_Type_new experiment               Fuel Suppy System  \\\n0              used    control                             NaN   \n1              used    control  Intelligent-Gas Port Injection   \n2              used    control                             NaN   \n3              used    control                            MPFI   \n4              used    control                             NaN   \n\n  Compression Ratio Alloy Wheel Size Ground Clearance Unladen  \n0               NaN              NaN                      NaN  \n1            11.0:1              NaN                      NaN  \n2               NaN              NaN                      NaN  \n3               NaN               13                      NaN  \n4         12.0+-.03              NaN                      NaN  \n\n[5 rows x 94 columns]",
      "text/html": "<div>\n<style scoped>\n    .dataframe tbody tr th:only-of-type {\n        vertical-align: middle;\n    }\n\n    .dataframe tbody tr th {\n        vertical-align: top;\n    }\n\n    .dataframe thead th {\n        text-align: right;\n    }\n</style>\n<table border=\"1\" class=\"dataframe\">\n  <thead>\n    <tr style=\"text-align: right;\">\n      <th></th>\n      <th>usedCarSkuId</th>\n      <th>top_features</th>\n      <th>comfort_features</th>\n      <th>interior_features</th>\n      <th>exterior_features</th>\n      <th>safety_features</th>\n      <th>Color</th>\n      <th>Engine Type</th>\n      <th>Displacement</th>\n      <th>Max Power</th>\n      <th>...</th>\n      <th>owner_type</th>\n      <th>price_segment_new</th>\n      <th>template_name_new</th>\n      <th>page_template</th>\n      <th>template_Type_new</th>\n      <th>experiment</th>\n      <th>Fuel Suppy System</th>\n      <th>Compression Ratio</th>\n      <th>Alloy Wheel Size</th>\n      <th>Ground Clearance Unladen</th>\n    </tr>\n  </thead>\n  <tbody>\n    <tr>\n      <th>0</th>\n      <td>7111bf25-97af-47f9-867b-40879190d800</td>\n      <td>['Power Steering', 'Power Windows Front', 'Air...</td>\n      <td>['Power Steering', 'Power Windows Front', 'Rem...</td>\n      <td>['Air Conditioner', 'Heater', 'Digital Odomete...</td>\n      <td>['Adjustable Head Lights', 'Manually Adjustabl...</td>\n      <td>['Centeral Locking', 'Child Safety Locks', 'Da...</td>\n      <td>Silver</td>\n      <td>K10B Engine</td>\n      <td>998.0</td>\n      <td>58.16bhp@6200rpm</td>\n      <td>...</td>\n      <td>first</td>\n      <td>2lakh-5lakh</td>\n      <td>used cardetail v2/corporate/13</td>\n      <td>Used Car &gt; Detail Page</td>\n      <td>used</td>\n      <td>control</td>\n      <td>NaN</td>\n      <td>NaN</td>\n      <td>NaN</td>\n      <td>NaN</td>\n    </tr>\n    <tr>\n      <th>1</th>\n      <td>c309efc1-efaf-4f82-81ad-dcb38eb36665</td>\n      <td>['Power Steering', 'Power Windows Front', 'Air...</td>\n      <td>['Power Steering', 'Power Windows Front', 'Pow...</td>\n      <td>['Air Conditioner', 'Heater', 'Digital Odomete...</td>\n      <td>['Adjustable Head Lights', 'Manually Adjustabl...</td>\n      <td>['Centeral Locking', 'Child Safety Locks', 'Da...</td>\n      <td>Grey</td>\n      <td>K10B Engine</td>\n      <td>998.0</td>\n      <td>58.2bhp@6000rpm</td>\n      <td>...</td>\n      <td>first</td>\n      <td>2lakh-5lakh</td>\n      <td>used cardetail v2/corporate/13</td>\n      <td>Used Car &gt; Detail Page</td>\n      <td>used</td>\n      <td>control</td>\n      <td>Intelligent-Gas Port Injection</td>\n      <td>11.0:1</td>\n      <td>NaN</td>\n      <td>NaN</td>\n    </tr>\n    <tr>\n      <th>2</th>\n      <td>7609f710-0c97-4f00-9a47-9b9284b62d3a</td>\n      <td>['Power Steering', 'Power Windows Front', 'Air...</td>\n      <td>['Power Steering', 'Power Windows Front', 'Pow...</td>\n      <td>['Air Conditioner', 'Heater', 'Adjustable Stee...</td>\n      <td>['Adjustable Head Lights', 'Power Adjustable E...</td>\n      <td>['Centeral Locking', 'Power Door Locks', 'Chil...</td>\n      <td>Silver</td>\n      <td>i-VTEC Petrol Engine</td>\n      <td>1198.0</td>\n      <td>86.7bhp@6000rpm</td>\n      <td>...</td>\n      <td>second</td>\n      <td>2lakh-5lakh</td>\n      <td>used cardetail v2/corporate/13</td>\n      <td>Used Car &gt; Detail Page</td>\n      <td>used</td>\n      <td>control</td>\n      <td>NaN</td>\n      <td>NaN</td>\n      <td>NaN</td>\n      <td>NaN</td>\n    </tr>\n    <tr>\n      <th>3</th>\n      <td>278b76e3-5539-4a5e-ae3e-353a2e3b6d7d</td>\n      <td>['Power Steering', 'Power Windows Front', 'Air...</td>\n      <td>['Power Steering', 'Power Windows Front', 'Low...</td>\n      <td>['Air Conditioner', 'Heater', 'Electronic Mult...</td>\n      <td>['Adjustable Head Lights', 'Manually Adjustabl...</td>\n      <td>['Centeral Locking', 'Child Safety Locks', 'Da...</td>\n      <td>Silver</td>\n      <td>K Series Petrol Engine</td>\n      <td>998.0</td>\n      <td>58.2bhp@6200rpm</td>\n      <td>...</td>\n      <td>second</td>\n      <td>2lakh-5lakh</td>\n      <td>used cardetail v2/corporate/13</td>\n      <td>Used Car &gt; Detail Page</td>\n      <td>used</td>\n      <td>control</td>\n      <td>MPFI</td>\n      <td>NaN</td>\n      <td>13</td>\n      <td>NaN</td>\n    </tr>\n    <tr>\n      <th>4</th>\n      <td>b1eab99b-a606-48dd-a75b-57feb8a9ad92</td>\n      <td>['Power Steering', 'Power Windows Front', 'Air...</td>\n      <td>['Power Steering', 'Power Windows Front', 'Pow...</td>\n      <td>['Air Conditioner', 'Heater', 'Adjustable Stee...</td>\n      <td>['Adjustable Head Lights', 'Power Adjustable E...</td>\n      <td>['Anti Lock Braking System', 'Brake Assist', '...</td>\n      <td>White</td>\n      <td>K15C</td>\n      <td>1462.0</td>\n      <td>86.63bhp@5500rpm</td>\n      <td>...</td>\n      <td>first</td>\n      <td>10+lakh</td>\n      <td>used cardetail v2</td>\n      <td>Used Car &gt; Detail Page</td>\n      <td>used</td>\n      <td>control</td>\n      <td>NaN</td>\n      <td>12.0+-.03</td>\n      <td>NaN</td>\n      <td>NaN</td>\n    </tr>\n  </tbody>\n</table>\n<p>5 rows × 94 columns</p>\n</div>"
     },
     "execution_count": 12,
     "metadata": {},
     "output_type": "execute_result"
    }
   ],
   "source": [
    "car_details_df.head()"
   ]
  },
  {
   "cell_type": "code",
   "execution_count": 13,
   "outputs": [
    {
     "data": {
      "text/plain": "   position            loc  myear         bt      tt   ft        km  ip  \\\n0         1    Gomti Nagar   2016  Hatchback  Manual  CNG    69,162   0   \n1         2  Borivali West   2015  Hatchback  Manual  CNG    45,864   0   \n2         3         JASOLA   2015      Sedan  Manual  CNG    81,506   0   \n3         4         jasola   2013  Hatchback  Manual  CNG  1,15,893   0   \n4         5  mumbai g.p.o.   2022        MUV  Manual  CNG    18,900   0   \n\n                                                  pi  \\\n0  https://images10.gaadi.com/usedcar_image/origi...   \n1  https://images10.gaadi.com/usedcar_image/origi...   \n2  https://images10.gaadi.com/usedcar_image/origi...   \n3                                                NaN   \n4  https://images10.gaadi.com/usedcar_image/origi...   \n\n                                              images  ...  dynx_itemid2  \\\n0  [{'img': 'https://images10.gaadi.com/usedcar_i...  ...          4312   \n1  [{'img': 'https://images10.gaadi.com/usedcar_i...  ...          3984   \n2  [{'img': 'https://images10.gaadi.com/usedcar_i...  ...          1177   \n3                                      [{'img': ''}]  ...          4351   \n4  [{'img': 'https://images10.gaadi.com/usedcar_i...  ...          8957   \n\n   dynx_totalvalue leadForm          leadFormCta offers  compare  \\\n0           370000        0                  NaN     {}     True   \n1           365000        0                  NaN     {}     True   \n2           421000        0                  NaN     {}     True   \n3           240000        0                  NaN     {}     True   \n4          1175000        1  View Seller Details     {}     True   \n\n                                        brandingIcon  pageType    carType  \\\n0  https://images10.gaadi.com/listing/icons/Certi...       ucr  corporate   \n1  https://images10.gaadi.com/listing/icons/Certi...       ucr  corporate   \n2  https://images10.gaadi.com/listing/icons/Certi...       ucr  corporate   \n3  https://images10.gaadi.com/listing/icons/Certi...       ucr  corporate   \n4                                                NaN       cls    partner   \n\n  corporateId  \n0          13  \n1          13  \n2          13  \n3          13  \n4           7  \n\n[5 rows x 47 columns]",
      "text/html": "<div>\n<style scoped>\n    .dataframe tbody tr th:only-of-type {\n        vertical-align: middle;\n    }\n\n    .dataframe tbody tr th {\n        vertical-align: top;\n    }\n\n    .dataframe thead th {\n        text-align: right;\n    }\n</style>\n<table border=\"1\" class=\"dataframe\">\n  <thead>\n    <tr style=\"text-align: right;\">\n      <th></th>\n      <th>position</th>\n      <th>loc</th>\n      <th>myear</th>\n      <th>bt</th>\n      <th>tt</th>\n      <th>ft</th>\n      <th>km</th>\n      <th>ip</th>\n      <th>pi</th>\n      <th>images</th>\n      <th>...</th>\n      <th>dynx_itemid2</th>\n      <th>dynx_totalvalue</th>\n      <th>leadForm</th>\n      <th>leadFormCta</th>\n      <th>offers</th>\n      <th>compare</th>\n      <th>brandingIcon</th>\n      <th>pageType</th>\n      <th>carType</th>\n      <th>corporateId</th>\n    </tr>\n  </thead>\n  <tbody>\n    <tr>\n      <th>0</th>\n      <td>1</td>\n      <td>Gomti Nagar</td>\n      <td>2016</td>\n      <td>Hatchback</td>\n      <td>Manual</td>\n      <td>CNG</td>\n      <td>69,162</td>\n      <td>0</td>\n      <td>https://images10.gaadi.com/usedcar_image/origi...</td>\n      <td>[{'img': 'https://images10.gaadi.com/usedcar_i...</td>\n      <td>...</td>\n      <td>4312</td>\n      <td>370000</td>\n      <td>0</td>\n      <td>NaN</td>\n      <td>{}</td>\n      <td>True</td>\n      <td>https://images10.gaadi.com/listing/icons/Certi...</td>\n      <td>ucr</td>\n      <td>corporate</td>\n      <td>13</td>\n    </tr>\n    <tr>\n      <th>1</th>\n      <td>2</td>\n      <td>Borivali West</td>\n      <td>2015</td>\n      <td>Hatchback</td>\n      <td>Manual</td>\n      <td>CNG</td>\n      <td>45,864</td>\n      <td>0</td>\n      <td>https://images10.gaadi.com/usedcar_image/origi...</td>\n      <td>[{'img': 'https://images10.gaadi.com/usedcar_i...</td>\n      <td>...</td>\n      <td>3984</td>\n      <td>365000</td>\n      <td>0</td>\n      <td>NaN</td>\n      <td>{}</td>\n      <td>True</td>\n      <td>https://images10.gaadi.com/listing/icons/Certi...</td>\n      <td>ucr</td>\n      <td>corporate</td>\n      <td>13</td>\n    </tr>\n    <tr>\n      <th>2</th>\n      <td>3</td>\n      <td>JASOLA</td>\n      <td>2015</td>\n      <td>Sedan</td>\n      <td>Manual</td>\n      <td>CNG</td>\n      <td>81,506</td>\n      <td>0</td>\n      <td>https://images10.gaadi.com/usedcar_image/origi...</td>\n      <td>[{'img': 'https://images10.gaadi.com/usedcar_i...</td>\n      <td>...</td>\n      <td>1177</td>\n      <td>421000</td>\n      <td>0</td>\n      <td>NaN</td>\n      <td>{}</td>\n      <td>True</td>\n      <td>https://images10.gaadi.com/listing/icons/Certi...</td>\n      <td>ucr</td>\n      <td>corporate</td>\n      <td>13</td>\n    </tr>\n    <tr>\n      <th>3</th>\n      <td>4</td>\n      <td>jasola</td>\n      <td>2013</td>\n      <td>Hatchback</td>\n      <td>Manual</td>\n      <td>CNG</td>\n      <td>1,15,893</td>\n      <td>0</td>\n      <td>NaN</td>\n      <td>[{'img': ''}]</td>\n      <td>...</td>\n      <td>4351</td>\n      <td>240000</td>\n      <td>0</td>\n      <td>NaN</td>\n      <td>{}</td>\n      <td>True</td>\n      <td>https://images10.gaadi.com/listing/icons/Certi...</td>\n      <td>ucr</td>\n      <td>corporate</td>\n      <td>13</td>\n    </tr>\n    <tr>\n      <th>4</th>\n      <td>5</td>\n      <td>mumbai g.p.o.</td>\n      <td>2022</td>\n      <td>MUV</td>\n      <td>Manual</td>\n      <td>CNG</td>\n      <td>18,900</td>\n      <td>0</td>\n      <td>https://images10.gaadi.com/usedcar_image/origi...</td>\n      <td>[{'img': 'https://images10.gaadi.com/usedcar_i...</td>\n      <td>...</td>\n      <td>8957</td>\n      <td>1175000</td>\n      <td>1</td>\n      <td>View Seller Details</td>\n      <td>{}</td>\n      <td>True</td>\n      <td>NaN</td>\n      <td>cls</td>\n      <td>partner</td>\n      <td>7</td>\n    </tr>\n  </tbody>\n</table>\n<p>5 rows × 47 columns</p>\n</div>"
     },
     "execution_count": 13,
     "metadata": {},
     "output_type": "execute_result"
    }
   ],
   "source": [
    "cars_overview_df.head()"
   ],
   "metadata": {
    "collapsed": false
   }
  },
  {
   "cell_type": "code",
   "execution_count": 14,
   "outputs": [
    {
     "name": "stdout",
     "output_type": "stream",
     "text": [
      "Shape of cars_df: (37814, 140)\n"
     ]
    }
   ],
   "source": [
    "# Merge the two dataframes by usedCarSkuId\n",
    "cars_df = pd.merge(cars_overview_df, car_details_df, on=\"usedCarSkuId\")\n",
    "print(f\"Shape of cars_df: {cars_df.shape}\")"
   ],
   "metadata": {
    "collapsed": false
   }
  },
  {
   "cell_type": "code",
   "execution_count": 15,
   "outputs": [
    {
     "data": {
      "text/plain": "   position            loc  myear         bt      tt   ft        km  ip  \\\n0         1    Gomti Nagar   2016  Hatchback  Manual  CNG    69,162   0   \n1         2  Borivali West   2015  Hatchback  Manual  CNG    45,864   0   \n2         3         JASOLA   2015      Sedan  Manual  CNG    81,506   0   \n3         4         jasola   2013  Hatchback  Manual  CNG  1,15,893   0   \n4         5  mumbai g.p.o.   2022        MUV  Manual  CNG    18,900   0   \n\n                                                  pi  \\\n0  https://images10.gaadi.com/usedcar_image/origi...   \n1  https://images10.gaadi.com/usedcar_image/origi...   \n2  https://images10.gaadi.com/usedcar_image/origi...   \n3                                                NaN   \n4  https://images10.gaadi.com/usedcar_image/origi...   \n\n                                              images  ...  owner_type  \\\n0  [{'img': 'https://images10.gaadi.com/usedcar_i...  ...       first   \n1  [{'img': 'https://images10.gaadi.com/usedcar_i...  ...       first   \n2  [{'img': 'https://images10.gaadi.com/usedcar_i...  ...      second   \n3                                      [{'img': ''}]  ...      second   \n4  [{'img': 'https://images10.gaadi.com/usedcar_i...  ...       first   \n\n   price_segment_new               template_name_new           page_template  \\\n0        2lakh-5lakh  used cardetail v2/corporate/13  Used Car > Detail Page   \n1        2lakh-5lakh  used cardetail v2/corporate/13  Used Car > Detail Page   \n2        2lakh-5lakh  used cardetail v2/corporate/13  Used Car > Detail Page   \n3        2lakh-5lakh  used cardetail v2/corporate/13  Used Car > Detail Page   \n4            10+lakh               used cardetail v2  Used Car > Detail Page   \n\n  template_Type_new  experiment               Fuel Suppy System  \\\n0              used     control                             NaN   \n1              used     control  Intelligent-Gas Port Injection   \n2              used     control                             NaN   \n3              used     control                            MPFI   \n4              used     control                             NaN   \n\n   Compression Ratio Alloy Wheel Size Ground Clearance Unladen  \n0                NaN              NaN                      NaN  \n1             11.0:1              NaN                      NaN  \n2                NaN              NaN                      NaN  \n3                NaN               13                      NaN  \n4          12.0+-.03              NaN                      NaN  \n\n[5 rows x 140 columns]",
      "text/html": "<div>\n<style scoped>\n    .dataframe tbody tr th:only-of-type {\n        vertical-align: middle;\n    }\n\n    .dataframe tbody tr th {\n        vertical-align: top;\n    }\n\n    .dataframe thead th {\n        text-align: right;\n    }\n</style>\n<table border=\"1\" class=\"dataframe\">\n  <thead>\n    <tr style=\"text-align: right;\">\n      <th></th>\n      <th>position</th>\n      <th>loc</th>\n      <th>myear</th>\n      <th>bt</th>\n      <th>tt</th>\n      <th>ft</th>\n      <th>km</th>\n      <th>ip</th>\n      <th>pi</th>\n      <th>images</th>\n      <th>...</th>\n      <th>owner_type</th>\n      <th>price_segment_new</th>\n      <th>template_name_new</th>\n      <th>page_template</th>\n      <th>template_Type_new</th>\n      <th>experiment</th>\n      <th>Fuel Suppy System</th>\n      <th>Compression Ratio</th>\n      <th>Alloy Wheel Size</th>\n      <th>Ground Clearance Unladen</th>\n    </tr>\n  </thead>\n  <tbody>\n    <tr>\n      <th>0</th>\n      <td>1</td>\n      <td>Gomti Nagar</td>\n      <td>2016</td>\n      <td>Hatchback</td>\n      <td>Manual</td>\n      <td>CNG</td>\n      <td>69,162</td>\n      <td>0</td>\n      <td>https://images10.gaadi.com/usedcar_image/origi...</td>\n      <td>[{'img': 'https://images10.gaadi.com/usedcar_i...</td>\n      <td>...</td>\n      <td>first</td>\n      <td>2lakh-5lakh</td>\n      <td>used cardetail v2/corporate/13</td>\n      <td>Used Car &gt; Detail Page</td>\n      <td>used</td>\n      <td>control</td>\n      <td>NaN</td>\n      <td>NaN</td>\n      <td>NaN</td>\n      <td>NaN</td>\n    </tr>\n    <tr>\n      <th>1</th>\n      <td>2</td>\n      <td>Borivali West</td>\n      <td>2015</td>\n      <td>Hatchback</td>\n      <td>Manual</td>\n      <td>CNG</td>\n      <td>45,864</td>\n      <td>0</td>\n      <td>https://images10.gaadi.com/usedcar_image/origi...</td>\n      <td>[{'img': 'https://images10.gaadi.com/usedcar_i...</td>\n      <td>...</td>\n      <td>first</td>\n      <td>2lakh-5lakh</td>\n      <td>used cardetail v2/corporate/13</td>\n      <td>Used Car &gt; Detail Page</td>\n      <td>used</td>\n      <td>control</td>\n      <td>Intelligent-Gas Port Injection</td>\n      <td>11.0:1</td>\n      <td>NaN</td>\n      <td>NaN</td>\n    </tr>\n    <tr>\n      <th>2</th>\n      <td>3</td>\n      <td>JASOLA</td>\n      <td>2015</td>\n      <td>Sedan</td>\n      <td>Manual</td>\n      <td>CNG</td>\n      <td>81,506</td>\n      <td>0</td>\n      <td>https://images10.gaadi.com/usedcar_image/origi...</td>\n      <td>[{'img': 'https://images10.gaadi.com/usedcar_i...</td>\n      <td>...</td>\n      <td>second</td>\n      <td>2lakh-5lakh</td>\n      <td>used cardetail v2/corporate/13</td>\n      <td>Used Car &gt; Detail Page</td>\n      <td>used</td>\n      <td>control</td>\n      <td>NaN</td>\n      <td>NaN</td>\n      <td>NaN</td>\n      <td>NaN</td>\n    </tr>\n    <tr>\n      <th>3</th>\n      <td>4</td>\n      <td>jasola</td>\n      <td>2013</td>\n      <td>Hatchback</td>\n      <td>Manual</td>\n      <td>CNG</td>\n      <td>1,15,893</td>\n      <td>0</td>\n      <td>NaN</td>\n      <td>[{'img': ''}]</td>\n      <td>...</td>\n      <td>second</td>\n      <td>2lakh-5lakh</td>\n      <td>used cardetail v2/corporate/13</td>\n      <td>Used Car &gt; Detail Page</td>\n      <td>used</td>\n      <td>control</td>\n      <td>MPFI</td>\n      <td>NaN</td>\n      <td>13</td>\n      <td>NaN</td>\n    </tr>\n    <tr>\n      <th>4</th>\n      <td>5</td>\n      <td>mumbai g.p.o.</td>\n      <td>2022</td>\n      <td>MUV</td>\n      <td>Manual</td>\n      <td>CNG</td>\n      <td>18,900</td>\n      <td>0</td>\n      <td>https://images10.gaadi.com/usedcar_image/origi...</td>\n      <td>[{'img': 'https://images10.gaadi.com/usedcar_i...</td>\n      <td>...</td>\n      <td>first</td>\n      <td>10+lakh</td>\n      <td>used cardetail v2</td>\n      <td>Used Car &gt; Detail Page</td>\n      <td>used</td>\n      <td>control</td>\n      <td>NaN</td>\n      <td>12.0+-.03</td>\n      <td>NaN</td>\n      <td>NaN</td>\n    </tr>\n  </tbody>\n</table>\n<p>5 rows × 140 columns</p>\n</div>"
     },
     "execution_count": 15,
     "metadata": {},
     "output_type": "execute_result"
    }
   ],
   "source": [
    "cars_df.head()"
   ],
   "metadata": {
    "collapsed": false
   }
  },
  {
   "cell_type": "code",
   "execution_count": 19,
   "outputs": [],
   "source": [
    "# Save the merged dataframe to a csv file with the current date and time in the filename\n",
    "filename = f\"../data/cardekho_cars_{pd.Timestamp.now().strftime('%Y_%m_%d_%H_%M_%S')}.csv\"\n",
    "cars_df.to_csv(filename, index=False)"
   ],
   "metadata": {
    "collapsed": false
   }
  }
 ],
 "metadata": {
  "kernelspec": {
   "display_name": "Python 3",
   "language": "python",
   "name": "python3"
  },
  "language_info": {
   "codemirror_mode": {
    "name": "ipython",
    "version": 3
   },
   "file_extension": ".py",
   "mimetype": "text/x-python",
   "name": "python",
   "nbconvert_exporter": "python",
   "pygments_lexer": "ipython3",
   "version": "3.10.5"
  }
 },
 "nbformat": 4,
 "nbformat_minor": 0
}
