{
 "cells": [
  {
   "cell_type": "code",
   "execution_count": 2,
   "metadata": {
    "collapsed": true
   },
   "outputs": [],
   "source": [
    "# Imports\n",
    "import pandas as pd"
   ]
  },
  {
   "cell_type": "code",
   "execution_count": 6,
   "outputs": [
    {
     "name": "stderr",
     "output_type": "stream",
     "text": [
      "/var/folders/vt/5_mmhf_d5gd9_w9qt3c4rvlw0000gn/T/ipykernel_22490/2833914817.py:3: DtypeWarning: Columns (25,43) have mixed types. Specify dtype option on import or set low_memory=False.\n",
      "  base_cars_df = pd.read_csv(base_cars_filename)\n"
     ]
    },
    {
     "name": "stdout",
     "output_type": "stream",
     "text": [
      "Base car count: 118074\n",
      "Non base car count: 100962\n"
     ]
    },
    {
     "name": "stderr",
     "output_type": "stream",
     "text": [
      "/var/folders/vt/5_mmhf_d5gd9_w9qt3c4rvlw0000gn/T/ipykernel_22490/2833914817.py:4: DtypeWarning: Columns (43) have mixed types. Specify dtype option on import or set low_memory=False.\n",
      "  non_base_cars_df = pd.read_csv(non_base_cars_filename)\n"
     ]
    }
   ],
   "source": [
    "base_cars_filename = \"../data/cardekho_base_case_2023-03-18_17-18-49.csv\"\n",
    "non_base_cars_filename = \"../data/cardekho_non_base_case_2023-03-18_17-43-22.csv\"\n",
    "base_cars_df = pd.read_csv(base_cars_filename)\n",
    "non_base_cars_df = pd.read_csv(non_base_cars_filename)\n",
    "\n",
    "print(f\"Base car count: {len(base_cars_df)}\")\n",
    "print(f\"Non base car count: {len(non_base_cars_df)}\")"
   ],
   "metadata": {
    "collapsed": false
   }
  },
  {
   "cell_type": "code",
   "execution_count": 7,
   "outputs": [
    {
     "name": "stdout",
     "output_type": "stream",
     "text": [
      "Total car count: 219036\n"
     ]
    }
   ],
   "source": [
    "# Concatenate the two dataframes\n",
    "all_cars_df = pd.concat([base_cars_df, non_base_cars_df])\n",
    "print(f\"Total car count: {len(all_cars_df)}\")"
   ],
   "metadata": {
    "collapsed": false
   }
  },
  {
   "cell_type": "code",
   "execution_count": 8,
   "outputs": [
    {
     "name": "stdout",
     "output_type": "stream",
     "text": [
      "Total car count after removing duplicates: 38071\n"
     ]
    }
   ],
   "source": [
    "# Remove duplicate rows based on the column \"usedCarSkuId\"\n",
    "all_cars_df = all_cars_df.drop_duplicates(subset=\"usedCarSkuId\")\n",
    "print(f\"Total car count after removing duplicates: {len(all_cars_df)}\")"
   ],
   "metadata": {
    "collapsed": false
   }
  },
  {
   "cell_type": "code",
   "execution_count": 9,
   "outputs": [],
   "source": [
    "# Save the dataframe to a csv file\n",
    "all_cars_df.to_csv(\"../data/cardekho_all_cars.csv\", index=False)"
   ],
   "metadata": {
    "collapsed": false
   }
  }
 ],
 "metadata": {
  "kernelspec": {
   "display_name": "Python 3",
   "language": "python",
   "name": "python3"
  },
  "language_info": {
   "codemirror_mode": {
    "name": "ipython",
    "version": 2
   },
   "file_extension": ".py",
   "mimetype": "text/x-python",
   "name": "python",
   "nbconvert_exporter": "python",
   "pygments_lexer": "ipython2",
   "version": "2.7.6"
  }
 },
 "nbformat": 4,
 "nbformat_minor": 0
}
