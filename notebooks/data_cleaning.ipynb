{
 "cells": [
  {
   "cell_type": "markdown",
   "id": "53405620",
   "metadata": {
    "papermill": {
     "duration": 0.009095,
     "end_time": "2023-03-19T21:34:16.967750",
     "exception": false,
     "start_time": "2023-03-19T21:34:16.958655",
     "status": "completed"
    },
    "tags": []
   },
   "source": [
    "#### Introduction\n",
    "\n",
    "Welcome to Priceless Wheels! In this project, our goal is to build a model that can accurately predict the price of a used vehicle based on various factors such as make, model, year, mileage, and condition. The automobile industry is one of the largest and most competitive industries in the world, with millions of vehicles being sold each year. The price of a vehicle can have a significant impact on a consumer's purchasing decision and it is important for both buyers and sellers to have an understanding of the market value of a vehicle. By using machine learning algorithms and data analysis, we aim to provide a reliable and robust model that can assist in determining the fair market value of a vehicle. Join us on this exciting journey as we delve into the world of vehicle price prediction."
   ]
  },
  {
   "cell_type": "markdown",
   "id": "41b68acd",
   "metadata": {
    "papermill": {
     "duration": 0.007459,
     "end_time": "2023-03-19T21:34:16.983185",
     "exception": false,
     "start_time": "2023-03-19T21:34:16.975726",
     "status": "completed"
    },
    "tags": []
   },
   "source": [
    "#### About the data\n",
    "\n",
    "This data is scrapped from https://www.cardekho.com/. This data is meant for research and academic purposes only and is **not meant for commercial use**. This dataset contains about 38000 (thirty eight thousand) used cars listed in CarDekho in India. Download the data from https://github.com/chats-bug/Priceless-Wheels/blob/data-cleaning/data/raw/cardekho_cars_2023_03_19_16_44_14.csv."
   ]
  },
  {
   "cell_type": "markdown",
   "id": "1230d8ed",
   "metadata": {
    "papermill": {
     "duration": 0.007354,
     "end_time": "2023-03-19T21:34:16.998332",
     "exception": false,
     "start_time": "2023-03-19T21:34:16.990978",
     "status": "completed"
    },
    "tags": []
   },
   "source": [
    "---"
   ]
  },
  {
   "cell_type": "markdown",
   "id": "bd919e16",
   "metadata": {
    "papermill": {
     "duration": 0.007521,
     "end_time": "2023-03-19T21:34:17.013729",
     "exception": false,
     "start_time": "2023-03-19T21:34:17.006208",
     "status": "completed"
    },
    "tags": []
   },
   "source": [
    "##### Importing the data and libraries\n",
    "\n",
    "Let's start by importing the necessary libraries and the data."
   ]
  },
  {
   "cell_type": "code",
   "execution_count": 1,
   "id": "34438fb1",
   "metadata": {
    "execution": {
     "iopub.execute_input": "2023-03-19T21:34:17.037049Z",
     "iopub.status.busy": "2023-03-19T21:34:17.036482Z",
     "iopub.status.idle": "2023-03-19T21:34:18.288228Z",
     "shell.execute_reply": "2023-03-19T21:34:18.287155Z"
    },
    "papermill": {
     "duration": 1.268768,
     "end_time": "2023-03-19T21:34:18.290973",
     "exception": false,
     "start_time": "2023-03-19T21:34:17.022205",
     "status": "completed"
    },
    "tags": []
   },
   "outputs": [],
   "source": [
    "import numpy as np # linear algebra\n",
    "import pandas as pd # data processing, CSV file I/O\n",
    "import matplotlib.pyplot as plt\n",
    "import seaborn as sns\n",
    "sns.set() # setting seaborn default for plots\n",
    "\n",
    "# removing scientific notation\n",
    "pd.set_option('display.float_format', lambda x: '%.3f' % x)"
   ]
  },
  {
   "cell_type": "markdown",
   "id": "979bc036",
   "metadata": {
    "papermill": {
     "duration": 0.007764,
     "end_time": "2023-03-19T21:34:18.307118",
     "exception": false,
     "start_time": "2023-03-19T21:34:18.299354",
     "status": "completed"
    },
    "tags": []
   },
   "source": [
    "Next, we will import the data and preview the first 5 rows\n",
    "\n",
    "- Note: The ```usedCarSkuId``` is a unique identifier for each car. We would be using this column as the index of the dataframe\n",
    "- Note: Since we are using github lfs for storing the CSV files, the link mentioned in the notebook will expire in some time. Please visit this [link](https://github.com/chats-bug/Priceless-Wheels/blob/data-cleaning/data/raw/cardekho_cars_2023_03_19_16_44_14.csv) to get the data"
   ]
  },
  {
   "cell_type": "code",
   "execution_count": 2,
   "id": "fce78f6d",
   "metadata": {
    "execution": {
     "iopub.execute_input": "2023-03-19T21:34:18.326089Z",
     "iopub.status.busy": "2023-03-19T21:34:18.325629Z",
     "iopub.status.idle": "2023-03-19T21:34:28.114313Z",
     "shell.execute_reply": "2023-03-19T21:34:28.112701Z"
    },
    "papermill": {
     "duration": 9.803094,
     "end_time": "2023-03-19T21:34:28.118577",
     "exception": false,
     "start_time": "2023-03-19T21:34:18.315483",
     "status": "completed"
    },
    "tags": []
   },
   "outputs": [
    {
     "name": "stderr",
     "output_type": "stream",
     "text": [
      "/opt/conda/lib/python3.7/site-packages/IPython/core/interactiveshell.py:3553: DtypeWarning: Columns (25,43) have mixed types.Specify dtype option on import or set low_memory=False.\n",
      "  exec(code_obj, self.user_global_ns, self.user_ns)\n"
     ]
    },
    {
     "data": {
      "text/html": [
       "<div>\n",
       "<style scoped>\n",
       "    .dataframe tbody tr th:only-of-type {\n",
       "        vertical-align: middle;\n",
       "    }\n",
       "\n",
       "    .dataframe tbody tr th {\n",
       "        vertical-align: top;\n",
       "    }\n",
       "\n",
       "    .dataframe thead th {\n",
       "        text-align: right;\n",
       "    }\n",
       "</style>\n",
       "<table border=\"1\" class=\"dataframe\">\n",
       "  <thead>\n",
       "    <tr style=\"text-align: right;\">\n",
       "      <th></th>\n",
       "      <th>position</th>\n",
       "      <th>loc</th>\n",
       "      <th>myear</th>\n",
       "      <th>bt</th>\n",
       "      <th>tt</th>\n",
       "      <th>ft</th>\n",
       "      <th>km</th>\n",
       "      <th>ip</th>\n",
       "      <th>pi</th>\n",
       "      <th>images</th>\n",
       "      <th>...</th>\n",
       "      <th>owner_type</th>\n",
       "      <th>price_segment_new</th>\n",
       "      <th>template_name_new</th>\n",
       "      <th>page_template</th>\n",
       "      <th>template_Type_new</th>\n",
       "      <th>experiment</th>\n",
       "      <th>Fuel Suppy System</th>\n",
       "      <th>Compression Ratio</th>\n",
       "      <th>Alloy Wheel Size</th>\n",
       "      <th>Ground Clearance Unladen</th>\n",
       "    </tr>\n",
       "    <tr>\n",
       "      <th>usedCarSkuId</th>\n",
       "      <th></th>\n",
       "      <th></th>\n",
       "      <th></th>\n",
       "      <th></th>\n",
       "      <th></th>\n",
       "      <th></th>\n",
       "      <th></th>\n",
       "      <th></th>\n",
       "      <th></th>\n",
       "      <th></th>\n",
       "      <th></th>\n",
       "      <th></th>\n",
       "      <th></th>\n",
       "      <th></th>\n",
       "      <th></th>\n",
       "      <th></th>\n",
       "      <th></th>\n",
       "      <th></th>\n",
       "      <th></th>\n",
       "      <th></th>\n",
       "      <th></th>\n",
       "    </tr>\n",
       "  </thead>\n",
       "  <tbody>\n",
       "    <tr>\n",
       "      <th>7111bf25-97af-47f9-867b-40879190d800</th>\n",
       "      <td>1</td>\n",
       "      <td>Gomti Nagar</td>\n",
       "      <td>2016</td>\n",
       "      <td>Hatchback</td>\n",
       "      <td>Manual</td>\n",
       "      <td>CNG</td>\n",
       "      <td>69,162</td>\n",
       "      <td>0</td>\n",
       "      <td>https://images10.gaadi.com/usedcar_image/origi...</td>\n",
       "      <td>[{'img': 'https://images10.gaadi.com/usedcar_i...</td>\n",
       "      <td>...</td>\n",
       "      <td>first</td>\n",
       "      <td>2lakh-5lakh</td>\n",
       "      <td>used cardetail v2/corporate/13</td>\n",
       "      <td>Used Car &gt; Detail Page</td>\n",
       "      <td>used</td>\n",
       "      <td>control</td>\n",
       "      <td>NaN</td>\n",
       "      <td>NaN</td>\n",
       "      <td>NaN</td>\n",
       "      <td>NaN</td>\n",
       "    </tr>\n",
       "    <tr>\n",
       "      <th>c309efc1-efaf-4f82-81ad-dcb38eb36665</th>\n",
       "      <td>2</td>\n",
       "      <td>Borivali West</td>\n",
       "      <td>2015</td>\n",
       "      <td>Hatchback</td>\n",
       "      <td>Manual</td>\n",
       "      <td>CNG</td>\n",
       "      <td>45,864</td>\n",
       "      <td>0</td>\n",
       "      <td>https://images10.gaadi.com/usedcar_image/origi...</td>\n",
       "      <td>[{'img': 'https://images10.gaadi.com/usedcar_i...</td>\n",
       "      <td>...</td>\n",
       "      <td>first</td>\n",
       "      <td>2lakh-5lakh</td>\n",
       "      <td>used cardetail v2/corporate/13</td>\n",
       "      <td>Used Car &gt; Detail Page</td>\n",
       "      <td>used</td>\n",
       "      <td>control</td>\n",
       "      <td>Intelligent-Gas Port Injection</td>\n",
       "      <td>11.0:1</td>\n",
       "      <td>NaN</td>\n",
       "      <td>NaN</td>\n",
       "    </tr>\n",
       "    <tr>\n",
       "      <th>7609f710-0c97-4f00-9a47-9b9284b62d3a</th>\n",
       "      <td>3</td>\n",
       "      <td>JASOLA</td>\n",
       "      <td>2015</td>\n",
       "      <td>Sedan</td>\n",
       "      <td>Manual</td>\n",
       "      <td>CNG</td>\n",
       "      <td>81,506</td>\n",
       "      <td>0</td>\n",
       "      <td>https://images10.gaadi.com/usedcar_image/origi...</td>\n",
       "      <td>[{'img': 'https://images10.gaadi.com/usedcar_i...</td>\n",
       "      <td>...</td>\n",
       "      <td>second</td>\n",
       "      <td>2lakh-5lakh</td>\n",
       "      <td>used cardetail v2/corporate/13</td>\n",
       "      <td>Used Car &gt; Detail Page</td>\n",
       "      <td>used</td>\n",
       "      <td>control</td>\n",
       "      <td>NaN</td>\n",
       "      <td>NaN</td>\n",
       "      <td>NaN</td>\n",
       "      <td>NaN</td>\n",
       "    </tr>\n",
       "    <tr>\n",
       "      <th>278b76e3-5539-4a5e-ae3e-353a2e3b6d7d</th>\n",
       "      <td>4</td>\n",
       "      <td>jasola</td>\n",
       "      <td>2013</td>\n",
       "      <td>Hatchback</td>\n",
       "      <td>Manual</td>\n",
       "      <td>CNG</td>\n",
       "      <td>1,15,893</td>\n",
       "      <td>0</td>\n",
       "      <td>NaN</td>\n",
       "      <td>[{'img': ''}]</td>\n",
       "      <td>...</td>\n",
       "      <td>second</td>\n",
       "      <td>2lakh-5lakh</td>\n",
       "      <td>used cardetail v2/corporate/13</td>\n",
       "      <td>Used Car &gt; Detail Page</td>\n",
       "      <td>used</td>\n",
       "      <td>control</td>\n",
       "      <td>MPFI</td>\n",
       "      <td>NaN</td>\n",
       "      <td>13</td>\n",
       "      <td>NaN</td>\n",
       "    </tr>\n",
       "    <tr>\n",
       "      <th>b1eab99b-a606-48dd-a75b-57feb8a9ad92</th>\n",
       "      <td>5</td>\n",
       "      <td>mumbai g.p.o.</td>\n",
       "      <td>2022</td>\n",
       "      <td>MUV</td>\n",
       "      <td>Manual</td>\n",
       "      <td>CNG</td>\n",
       "      <td>18,900</td>\n",
       "      <td>0</td>\n",
       "      <td>https://images10.gaadi.com/usedcar_image/origi...</td>\n",
       "      <td>[{'img': 'https://images10.gaadi.com/usedcar_i...</td>\n",
       "      <td>...</td>\n",
       "      <td>first</td>\n",
       "      <td>10+lakh</td>\n",
       "      <td>used cardetail v2</td>\n",
       "      <td>Used Car &gt; Detail Page</td>\n",
       "      <td>used</td>\n",
       "      <td>control</td>\n",
       "      <td>NaN</td>\n",
       "      <td>12.0+-.03</td>\n",
       "      <td>NaN</td>\n",
       "      <td>NaN</td>\n",
       "    </tr>\n",
       "  </tbody>\n",
       "</table>\n",
       "<p>5 rows × 139 columns</p>\n",
       "</div>"
      ],
      "text/plain": [
       "                                      position            loc  myear  \\\n",
       "usedCarSkuId                                                           \n",
       "7111bf25-97af-47f9-867b-40879190d800         1    Gomti Nagar   2016   \n",
       "c309efc1-efaf-4f82-81ad-dcb38eb36665         2  Borivali West   2015   \n",
       "7609f710-0c97-4f00-9a47-9b9284b62d3a         3         JASOLA   2015   \n",
       "278b76e3-5539-4a5e-ae3e-353a2e3b6d7d         4         jasola   2013   \n",
       "b1eab99b-a606-48dd-a75b-57feb8a9ad92         5  mumbai g.p.o.   2022   \n",
       "\n",
       "                                             bt      tt   ft        km  ip  \\\n",
       "usedCarSkuId                                                                 \n",
       "7111bf25-97af-47f9-867b-40879190d800  Hatchback  Manual  CNG    69,162   0   \n",
       "c309efc1-efaf-4f82-81ad-dcb38eb36665  Hatchback  Manual  CNG    45,864   0   \n",
       "7609f710-0c97-4f00-9a47-9b9284b62d3a      Sedan  Manual  CNG    81,506   0   \n",
       "278b76e3-5539-4a5e-ae3e-353a2e3b6d7d  Hatchback  Manual  CNG  1,15,893   0   \n",
       "b1eab99b-a606-48dd-a75b-57feb8a9ad92        MUV  Manual  CNG    18,900   0   \n",
       "\n",
       "                                                                                     pi  \\\n",
       "usedCarSkuId                                                                              \n",
       "7111bf25-97af-47f9-867b-40879190d800  https://images10.gaadi.com/usedcar_image/origi...   \n",
       "c309efc1-efaf-4f82-81ad-dcb38eb36665  https://images10.gaadi.com/usedcar_image/origi...   \n",
       "7609f710-0c97-4f00-9a47-9b9284b62d3a  https://images10.gaadi.com/usedcar_image/origi...   \n",
       "278b76e3-5539-4a5e-ae3e-353a2e3b6d7d                                                NaN   \n",
       "b1eab99b-a606-48dd-a75b-57feb8a9ad92  https://images10.gaadi.com/usedcar_image/origi...   \n",
       "\n",
       "                                                                                 images  \\\n",
       "usedCarSkuId                                                                              \n",
       "7111bf25-97af-47f9-867b-40879190d800  [{'img': 'https://images10.gaadi.com/usedcar_i...   \n",
       "c309efc1-efaf-4f82-81ad-dcb38eb36665  [{'img': 'https://images10.gaadi.com/usedcar_i...   \n",
       "7609f710-0c97-4f00-9a47-9b9284b62d3a  [{'img': 'https://images10.gaadi.com/usedcar_i...   \n",
       "278b76e3-5539-4a5e-ae3e-353a2e3b6d7d                                      [{'img': ''}]   \n",
       "b1eab99b-a606-48dd-a75b-57feb8a9ad92  [{'img': 'https://images10.gaadi.com/usedcar_i...   \n",
       "\n",
       "                                      ...  owner_type  price_segment_new  \\\n",
       "usedCarSkuId                          ...                                  \n",
       "7111bf25-97af-47f9-867b-40879190d800  ...       first        2lakh-5lakh   \n",
       "c309efc1-efaf-4f82-81ad-dcb38eb36665  ...       first        2lakh-5lakh   \n",
       "7609f710-0c97-4f00-9a47-9b9284b62d3a  ...      second        2lakh-5lakh   \n",
       "278b76e3-5539-4a5e-ae3e-353a2e3b6d7d  ...      second        2lakh-5lakh   \n",
       "b1eab99b-a606-48dd-a75b-57feb8a9ad92  ...       first            10+lakh   \n",
       "\n",
       "                                                   template_name_new  \\\n",
       "usedCarSkuId                                                           \n",
       "7111bf25-97af-47f9-867b-40879190d800  used cardetail v2/corporate/13   \n",
       "c309efc1-efaf-4f82-81ad-dcb38eb36665  used cardetail v2/corporate/13   \n",
       "7609f710-0c97-4f00-9a47-9b9284b62d3a  used cardetail v2/corporate/13   \n",
       "278b76e3-5539-4a5e-ae3e-353a2e3b6d7d  used cardetail v2/corporate/13   \n",
       "b1eab99b-a606-48dd-a75b-57feb8a9ad92               used cardetail v2   \n",
       "\n",
       "                                               page_template  \\\n",
       "usedCarSkuId                                                   \n",
       "7111bf25-97af-47f9-867b-40879190d800  Used Car > Detail Page   \n",
       "c309efc1-efaf-4f82-81ad-dcb38eb36665  Used Car > Detail Page   \n",
       "7609f710-0c97-4f00-9a47-9b9284b62d3a  Used Car > Detail Page   \n",
       "278b76e3-5539-4a5e-ae3e-353a2e3b6d7d  Used Car > Detail Page   \n",
       "b1eab99b-a606-48dd-a75b-57feb8a9ad92  Used Car > Detail Page   \n",
       "\n",
       "                                     template_Type_new  experiment  \\\n",
       "usedCarSkuId                                                         \n",
       "7111bf25-97af-47f9-867b-40879190d800              used     control   \n",
       "c309efc1-efaf-4f82-81ad-dcb38eb36665              used     control   \n",
       "7609f710-0c97-4f00-9a47-9b9284b62d3a              used     control   \n",
       "278b76e3-5539-4a5e-ae3e-353a2e3b6d7d              used     control   \n",
       "b1eab99b-a606-48dd-a75b-57feb8a9ad92              used     control   \n",
       "\n",
       "                                                   Fuel Suppy System  \\\n",
       "usedCarSkuId                                                           \n",
       "7111bf25-97af-47f9-867b-40879190d800                             NaN   \n",
       "c309efc1-efaf-4f82-81ad-dcb38eb36665  Intelligent-Gas Port Injection   \n",
       "7609f710-0c97-4f00-9a47-9b9284b62d3a                             NaN   \n",
       "278b76e3-5539-4a5e-ae3e-353a2e3b6d7d                            MPFI   \n",
       "b1eab99b-a606-48dd-a75b-57feb8a9ad92                             NaN   \n",
       "\n",
       "                                      Compression Ratio Alloy Wheel Size  \\\n",
       "usedCarSkuId                                                               \n",
       "7111bf25-97af-47f9-867b-40879190d800                NaN              NaN   \n",
       "c309efc1-efaf-4f82-81ad-dcb38eb36665             11.0:1              NaN   \n",
       "7609f710-0c97-4f00-9a47-9b9284b62d3a                NaN              NaN   \n",
       "278b76e3-5539-4a5e-ae3e-353a2e3b6d7d                NaN               13   \n",
       "b1eab99b-a606-48dd-a75b-57feb8a9ad92          12.0+-.03              NaN   \n",
       "\n",
       "                                     Ground Clearance Unladen  \n",
       "usedCarSkuId                                                   \n",
       "7111bf25-97af-47f9-867b-40879190d800                      NaN  \n",
       "c309efc1-efaf-4f82-81ad-dcb38eb36665                      NaN  \n",
       "7609f710-0c97-4f00-9a47-9b9284b62d3a                      NaN  \n",
       "278b76e3-5539-4a5e-ae3e-353a2e3b6d7d                      NaN  \n",
       "b1eab99b-a606-48dd-a75b-57feb8a9ad92                      NaN  \n",
       "\n",
       "[5 rows x 139 columns]"
      ]
     },
     "execution_count": 2,
     "metadata": {},
     "output_type": "execute_result"
    }
   ],
   "source": [
    "# Read the data from the following github link: https://media.githubusercontent.com/media/chats-bug/Priceless-Wheels/data-cleaning/data/raw/cardekho_cars_2023_03_19_16_44_14.csv?token=ARCDTMXTKLJI6OWOM7UVQBLEC5UKY\n",
    "\n",
    "file_link = \"https://media.githubusercontent.com/media/chats-bug/Priceless-Wheels/data-cleaning/data/raw/cardekho_cars_2023_03_19_16_44_14.csv?token=ARCDTMQJITVJHMJYPHJZ64DEC6GRI\"\n",
    "df = pd.read_csv(file_link, index_col=\"usedCarSkuId\")\n",
    "\n",
    "# sanity check\n",
    "df.head()"
   ]
  },
  {
   "cell_type": "markdown",
   "id": "7f125a7f",
   "metadata": {
    "papermill": {
     "duration": 0.008477,
     "end_time": "2023-03-19T21:34:28.136863",
     "exception": false,
     "start_time": "2023-03-19T21:34:28.128386",
     "status": "completed"
    },
    "tags": []
   },
   "source": [
    "The data has imported with some mixed data types. We will need to convert the data types as we explore the data."
   ]
  },
  {
   "cell_type": "code",
   "execution_count": 3,
   "id": "ee4024c7",
   "metadata": {
    "execution": {
     "iopub.execute_input": "2023-03-19T21:34:28.155576Z",
     "iopub.status.busy": "2023-03-19T21:34:28.155175Z",
     "iopub.status.idle": "2023-03-19T21:34:28.161709Z",
     "shell.execute_reply": "2023-03-19T21:34:28.160291Z"
    },
    "papermill": {
     "duration": 0.019083,
     "end_time": "2023-03-19T21:34:28.164336",
     "exception": false,
     "start_time": "2023-03-19T21:34:28.145253",
     "status": "completed"
    },
    "tags": []
   },
   "outputs": [
    {
     "name": "stdout",
     "output_type": "stream",
     "text": [
      "The shape of the dataframe is 37814 rows and 139 columns\n"
     ]
    }
   ],
   "source": [
    "# checking the shape of the dataset\n",
    "shape = df.shape\n",
    "\n",
    "print(f\"The shape of the dataframe is {shape[0]} rows and {shape[1]} columns\")"
   ]
  },
  {
   "cell_type": "markdown",
   "id": "e149c575",
   "metadata": {
    "papermill": {
     "duration": 0.008476,
     "end_time": "2023-03-19T21:34:28.181362",
     "exception": false,
     "start_time": "2023-03-19T21:34:28.172886",
     "status": "completed"
    },
    "tags": []
   },
   "source": [
    "As we can see, there are 37,814 rows and 139 columns in the dataset.\n",
    "\n",
    "Let's look at the data types of the columns."
   ]
  },
  {
   "cell_type": "code",
   "execution_count": 4,
   "id": "41c3178f",
   "metadata": {
    "execution": {
     "iopub.execute_input": "2023-03-19T21:34:28.200617Z",
     "iopub.status.busy": "2023-03-19T21:34:28.200209Z",
     "iopub.status.idle": "2023-03-19T21:34:28.228060Z",
     "shell.execute_reply": "2023-03-19T21:34:28.225581Z"
    },
    "papermill": {
     "duration": 0.040806,
     "end_time": "2023-03-19T21:34:28.231036",
     "exception": false,
     "start_time": "2023-03-19T21:34:28.190230",
     "status": "completed"
    },
    "tags": []
   },
   "outputs": [
    {
     "name": "stdout",
     "output_type": "stream",
     "text": [
      "<class 'pandas.core.frame.DataFrame'>\n",
      "Index: 37814 entries, 7111bf25-97af-47f9-867b-40879190d800 to a96fbcd7-c183-4829-ae97-b2581afe4bac\n",
      "Columns: 139 entries, position to Ground Clearance Unladen\n",
      "dtypes: bool(3), float64(10), int64(28), object(98)\n",
      "memory usage: 39.6+ MB\n"
     ]
    }
   ],
   "source": [
    "df.info()"
   ]
  },
  {
   "cell_type": "markdown",
   "id": "bc020703",
   "metadata": {
    "papermill": {
     "duration": 0.008596,
     "end_time": "2023-03-19T21:34:28.248699",
     "exception": false,
     "start_time": "2023-03-19T21:34:28.240103",
     "status": "completed"
    },
    "tags": []
   },
   "source": [
    "Now comes the difficult task. Go through the feature dictionary and remove the unwanted columns - features which might be repeated but not totally apparent. Note down the columns which makes sense to keep and are not repeating and delete the rest."
   ]
  },
  {
   "cell_type": "code",
   "execution_count": 5,
   "id": "73e95333",
   "metadata": {
    "execution": {
     "iopub.execute_input": "2023-03-19T21:34:28.268712Z",
     "iopub.status.busy": "2023-03-19T21:34:28.267697Z",
     "iopub.status.idle": "2023-03-19T21:34:28.302117Z",
     "shell.execute_reply": "2023-03-19T21:34:28.300707Z"
    },
    "papermill": {
     "duration": 0.047471,
     "end_time": "2023-03-19T21:34:28.304776",
     "exception": false,
     "start_time": "2023-03-19T21:34:28.257305",
     "status": "completed"
    },
    "tags": []
   },
   "outputs": [
    {
     "name": "stdout",
     "output_type": "stream",
     "text": [
      "After dropping some unnecessary columns, the dataset now has 60 columns. These columns are hand picked and will be be further analyzed.\n"
     ]
    }
   ],
   "source": [
    "columns_to_keep = [\n",
    "    \"loc\",\n",
    "    \"myear\",\n",
    "    \"bt\",\n",
    "    \"tt\",\n",
    "    \"ft\"\n",
    "    \"km\",\n",
    "    \"ip\",\n",
    "    \"images\",\n",
    "    \"imgCount\",\n",
    "    \"threesixty\",\n",
    "    \"dvn\",\n",
    "    \"oem\",\n",
    "    \"model\",\n",
    "    \"variantName\",\n",
    "    \"city_x\",\n",
    "    \"pu\",\n",
    "    \"discountValue\",\n",
    "    \"utype\",\n",
    "    \"carType\", \n",
    "    \"top_features\",\n",
    "    \"comfort_features\",\n",
    "    \"interior_features\",\n",
    "    \"exterior_features\",\n",
    "    \"safety_features\",\n",
    "    \"Color\",\n",
    "    \"Engine Type\",\n",
    "    \"Max Power\",\n",
    "    \"Max Torque\",\n",
    "    \"No of Cylinder\",\n",
    "    \"Values per Cylinder\",\n",
    "    \"Value Configuration\",\n",
    "    \"BoreX Stroke\",\n",
    "    \"Turbo Charger\",\n",
    "    \"Super Charger\",\n",
    "    \"Length\",\n",
    "    \"Width\",\n",
    "    \"Height\",\n",
    "    \"Wheel Base\",\n",
    "    \"Front Tread\",\n",
    "    \"Rear Tread\",\n",
    "    \"Kerb Weight\",\n",
    "    \"Gross Weight\",\n",
    "    \"Gear Box\",\n",
    "    \"Drive Type\",\n",
    "    \"Seating Capacity\",\n",
    "    \"Steering Type\",\n",
    "    \"Turning Radius\",\n",
    "    \"Front Brake Type\",\n",
    "    \"Rear Brake Type\",\n",
    "    \"Top Speed\",\n",
    "    \"Acceleration\",\n",
    "    \"Tyre Type\",\n",
    "    \"No Door Numbers\",\n",
    "    \"Cargo Volumn\",\n",
    "    \"model_type_new\",\n",
    "    \"state\",\n",
    "    \"owner_type\",\n",
    "    \"exterior_color\",\n",
    "    \"Fuel Suppy System\",\n",
    "    \"Compression Ratio\",\n",
    "    \"Alloy Wheel Size\",\n",
    "    \"Ground Clearance Unladen\",\n",
    "]\n",
    "\n",
    "df.drop([x for x in df.columns if x not in columns_to_keep], axis=1, inplace=True)\n",
    "print(f\"After dropping some unnecessary columns, the dataset now has {df.shape[1]} columns. These columns are hand picked and will be be further analyzed.\")"
   ]
  },
  {
   "cell_type": "markdown",
   "id": "963db938",
   "metadata": {
    "papermill": {
     "duration": 0.009159,
     "end_time": "2023-03-19T21:34:28.322762",
     "exception": false,
     "start_time": "2023-03-19T21:34:28.313603",
     "status": "completed"
    },
    "tags": []
   },
   "source": [
    "---"
   ]
  },
  {
   "cell_type": "markdown",
   "id": "b281273d",
   "metadata": {
    "papermill": {
     "duration": 0.009217,
     "end_time": "2023-03-19T21:34:28.340727",
     "exception": false,
     "start_time": "2023-03-19T21:34:28.331510",
     "status": "completed"
    },
    "tags": []
   },
   "source": [
    "### Data cleaning and wrangling\n",
    "\n",
    "* Dropping duplicate rows\n",
    "* Checking for multicollinearity and determining how to handle it\n",
    "* Filling in missing values/NaN values\n",
    "* Fixing the values and data types of the columns\n",
    "* Dropping irrelevant columns for the model\n",
    "* Saving the cleaned data for the next part of the project\n",
    "\n",
    "---"
   ]
  },
  {
   "cell_type": "markdown",
   "id": "a8a707ba",
   "metadata": {
    "papermill": {
     "duration": 0.008257,
     "end_time": "2023-03-19T21:34:28.357827",
     "exception": false,
     "start_time": "2023-03-19T21:34:28.349570",
     "status": "completed"
    },
    "tags": []
   },
   "source": [
    "### Duplicates\n",
    "\n",
    "We know that there should be no duplicates in the data. They are checked for and removed at the time of data collection. *(Trust me, I collected it myself 😉 )*"
   ]
  },
  {
   "cell_type": "code",
   "execution_count": 6,
   "id": "8fc7d383",
   "metadata": {
    "execution": {
     "iopub.execute_input": "2023-03-19T21:34:28.377728Z",
     "iopub.status.busy": "2023-03-19T21:34:28.376514Z",
     "iopub.status.idle": "2023-03-19T21:34:28.714121Z",
     "shell.execute_reply": "2023-03-19T21:34:28.712496Z"
    },
    "papermill": {
     "duration": 0.350089,
     "end_time": "2023-03-19T21:34:28.716623",
     "exception": false,
     "start_time": "2023-03-19T21:34:28.366534",
     "status": "completed"
    },
    "tags": []
   },
   "outputs": [
    {
     "name": "stdout",
     "output_type": "stream",
     "text": [
      "The number of duplicate rows are 1.\n"
     ]
    }
   ],
   "source": [
    "# checking for duplicate rows\n",
    "duplucate_rows = df.duplicated().sum()\n",
    "\n",
    "print(f\"The number of duplicate rows are {duplucate_rows}.\")"
   ]
  },
  {
   "cell_type": "markdown",
   "id": "ff4ab2a2",
   "metadata": {
    "papermill": {
     "duration": 0.008904,
     "end_time": "2023-03-19T21:34:28.734809",
     "exception": false,
     "start_time": "2023-03-19T21:34:28.725905",
     "status": "completed"
    },
    "tags": []
   },
   "source": [
    "Somehow, one duplicate row sneaked in (that's awkward 🫣)! Let's check the rows."
   ]
  },
  {
   "cell_type": "code",
   "execution_count": 7,
   "id": "9f71d64a",
   "metadata": {
    "execution": {
     "iopub.execute_input": "2023-03-19T21:34:28.755368Z",
     "iopub.status.busy": "2023-03-19T21:34:28.754225Z",
     "iopub.status.idle": "2023-03-19T21:34:29.073309Z",
     "shell.execute_reply": "2023-03-19T21:34:29.072418Z"
    },
    "papermill": {
     "duration": 0.331924,
     "end_time": "2023-03-19T21:34:29.075806",
     "exception": false,
     "start_time": "2023-03-19T21:34:28.743882",
     "status": "completed"
    },
    "tags": []
   },
   "outputs": [
    {
     "data": {
      "text/html": [
       "<div>\n",
       "<style scoped>\n",
       "    .dataframe tbody tr th:only-of-type {\n",
       "        vertical-align: middle;\n",
       "    }\n",
       "\n",
       "    .dataframe tbody tr th {\n",
       "        vertical-align: top;\n",
       "    }\n",
       "\n",
       "    .dataframe thead th {\n",
       "        text-align: right;\n",
       "    }\n",
       "</style>\n",
       "<table border=\"1\" class=\"dataframe\">\n",
       "  <thead>\n",
       "    <tr style=\"text-align: right;\">\n",
       "      <th></th>\n",
       "      <th>loc</th>\n",
       "      <th>myear</th>\n",
       "      <th>bt</th>\n",
       "      <th>tt</th>\n",
       "      <th>ip</th>\n",
       "      <th>images</th>\n",
       "      <th>imgCount</th>\n",
       "      <th>threesixty</th>\n",
       "      <th>dvn</th>\n",
       "      <th>oem</th>\n",
       "      <th>...</th>\n",
       "      <th>No Door Numbers</th>\n",
       "      <th>Cargo Volumn</th>\n",
       "      <th>model_type_new</th>\n",
       "      <th>state</th>\n",
       "      <th>exterior_color</th>\n",
       "      <th>owner_type</th>\n",
       "      <th>Fuel Suppy System</th>\n",
       "      <th>Compression Ratio</th>\n",
       "      <th>Alloy Wheel Size</th>\n",
       "      <th>Ground Clearance Unladen</th>\n",
       "    </tr>\n",
       "    <tr>\n",
       "      <th>usedCarSkuId</th>\n",
       "      <th></th>\n",
       "      <th></th>\n",
       "      <th></th>\n",
       "      <th></th>\n",
       "      <th></th>\n",
       "      <th></th>\n",
       "      <th></th>\n",
       "      <th></th>\n",
       "      <th></th>\n",
       "      <th></th>\n",
       "      <th></th>\n",
       "      <th></th>\n",
       "      <th></th>\n",
       "      <th></th>\n",
       "      <th></th>\n",
       "      <th></th>\n",
       "      <th></th>\n",
       "      <th></th>\n",
       "      <th></th>\n",
       "      <th></th>\n",
       "      <th></th>\n",
       "    </tr>\n",
       "  </thead>\n",
       "  <tbody>\n",
       "    <tr>\n",
       "      <th>aa39e640-6183-4379-a517-9f5b2458b2a5</th>\n",
       "      <td>NaN</td>\n",
       "      <td>2014</td>\n",
       "      <td>Hatchback</td>\n",
       "      <td>Manual</td>\n",
       "      <td>0</td>\n",
       "      <td>[{'img': ''}]</td>\n",
       "      <td>0</td>\n",
       "      <td>False</td>\n",
       "      <td>Maruti Swift VDI BSIV</td>\n",
       "      <td>Maruti</td>\n",
       "      <td>...</td>\n",
       "      <td>5.000</td>\n",
       "      <td>204-liters</td>\n",
       "      <td>used</td>\n",
       "      <td>uttar pradesh</td>\n",
       "      <td>Silver</td>\n",
       "      <td>second</td>\n",
       "      <td>CRDI</td>\n",
       "      <td>17.6:1</td>\n",
       "      <td>NaN</td>\n",
       "      <td>NaN</td>\n",
       "    </tr>\n",
       "    <tr>\n",
       "      <th>ce8b30d8-c438-4a2f-bce1-5c1887a95495</th>\n",
       "      <td>NaN</td>\n",
       "      <td>2014</td>\n",
       "      <td>Hatchback</td>\n",
       "      <td>Manual</td>\n",
       "      <td>0</td>\n",
       "      <td>[{'img': ''}]</td>\n",
       "      <td>0</td>\n",
       "      <td>False</td>\n",
       "      <td>Maruti Swift VDI BSIV</td>\n",
       "      <td>Maruti</td>\n",
       "      <td>...</td>\n",
       "      <td>5.000</td>\n",
       "      <td>204-liters</td>\n",
       "      <td>used</td>\n",
       "      <td>uttar pradesh</td>\n",
       "      <td>Silver</td>\n",
       "      <td>second</td>\n",
       "      <td>CRDI</td>\n",
       "      <td>17.6:1</td>\n",
       "      <td>NaN</td>\n",
       "      <td>NaN</td>\n",
       "    </tr>\n",
       "  </tbody>\n",
       "</table>\n",
       "<p>2 rows × 60 columns</p>\n",
       "</div>"
      ],
      "text/plain": [
       "                                      loc  myear         bt      tt  ip  \\\n",
       "usedCarSkuId                                                              \n",
       "aa39e640-6183-4379-a517-9f5b2458b2a5  NaN   2014  Hatchback  Manual   0   \n",
       "ce8b30d8-c438-4a2f-bce1-5c1887a95495  NaN   2014  Hatchback  Manual   0   \n",
       "\n",
       "                                             images  imgCount  threesixty  \\\n",
       "usedCarSkuId                                                                \n",
       "aa39e640-6183-4379-a517-9f5b2458b2a5  [{'img': ''}]         0       False   \n",
       "ce8b30d8-c438-4a2f-bce1-5c1887a95495  [{'img': ''}]         0       False   \n",
       "\n",
       "                                                        dvn     oem  ...  \\\n",
       "usedCarSkuId                                                         ...   \n",
       "aa39e640-6183-4379-a517-9f5b2458b2a5  Maruti Swift VDI BSIV  Maruti  ...   \n",
       "ce8b30d8-c438-4a2f-bce1-5c1887a95495  Maruti Swift VDI BSIV  Maruti  ...   \n",
       "\n",
       "                                     No Door Numbers Cargo Volumn  \\\n",
       "usedCarSkuId                                                        \n",
       "aa39e640-6183-4379-a517-9f5b2458b2a5           5.000   204-liters   \n",
       "ce8b30d8-c438-4a2f-bce1-5c1887a95495           5.000   204-liters   \n",
       "\n",
       "                                     model_type_new          state  \\\n",
       "usedCarSkuId                                                         \n",
       "aa39e640-6183-4379-a517-9f5b2458b2a5           used  uttar pradesh   \n",
       "ce8b30d8-c438-4a2f-bce1-5c1887a95495           used  uttar pradesh   \n",
       "\n",
       "                                      exterior_color owner_type  \\\n",
       "usedCarSkuId                                                      \n",
       "aa39e640-6183-4379-a517-9f5b2458b2a5          Silver     second   \n",
       "ce8b30d8-c438-4a2f-bce1-5c1887a95495          Silver     second   \n",
       "\n",
       "                                     Fuel Suppy System Compression Ratio  \\\n",
       "usedCarSkuId                                                               \n",
       "aa39e640-6183-4379-a517-9f5b2458b2a5              CRDI            17.6:1   \n",
       "ce8b30d8-c438-4a2f-bce1-5c1887a95495              CRDI            17.6:1   \n",
       "\n",
       "                                     Alloy Wheel Size Ground Clearance Unladen  \n",
       "usedCarSkuId                                                                    \n",
       "aa39e640-6183-4379-a517-9f5b2458b2a5              NaN                      NaN  \n",
       "ce8b30d8-c438-4a2f-bce1-5c1887a95495              NaN                      NaN  \n",
       "\n",
       "[2 rows x 60 columns]"
      ]
     },
     "execution_count": 7,
     "metadata": {},
     "output_type": "execute_result"
    }
   ],
   "source": [
    "# setting the duplicated index\n",
    "duplicate_index = df.duplicated(keep=False)\n",
    "\n",
    "# calling the duplicated index in a dataframe\n",
    "df.loc[duplicate_index, :].sort_index()"
   ]
  },
  {
   "cell_type": "markdown",
   "id": "6e4fffd3",
   "metadata": {
    "papermill": {
     "duration": 0.008848,
     "end_time": "2023-03-19T21:34:29.093845",
     "exception": false,
     "start_time": "2023-03-19T21:34:29.084997",
     "status": "completed"
    },
    "tags": []
   },
   "source": [
    "As we can see, the rows are exactly the same. This means we can safely drop the row. Since the we indexed by the usedCarSkuId, we need to drop one of them by their index."
   ]
  },
  {
   "cell_type": "code",
   "execution_count": 8,
   "id": "caac2416",
   "metadata": {
    "execution": {
     "iopub.execute_input": "2023-03-19T21:34:29.113970Z",
     "iopub.status.busy": "2023-03-19T21:34:29.113532Z",
     "iopub.status.idle": "2023-03-19T21:34:29.773476Z",
     "shell.execute_reply": "2023-03-19T21:34:29.771698Z"
    },
    "papermill": {
     "duration": 0.673628,
     "end_time": "2023-03-19T21:34:29.776583",
     "exception": false,
     "start_time": "2023-03-19T21:34:29.102955",
     "status": "completed"
    },
    "tags": []
   },
   "outputs": [
    {
     "name": "stdout",
     "output_type": "stream",
     "text": [
      "The number of duplicate rows are 0.\n"
     ]
    }
   ],
   "source": [
    "# making a copy with the duplicated rows dropped\n",
    "df2 = df.drop_duplicates().copy()\n",
    "\n",
    "# checking for duplicate rows in the new dataframe\n",
    "dup = df2.duplicated().sum()\n",
    "\n",
    "print(f\"The number of duplicate rows are {dup}.\")"
   ]
  },
  {
   "cell_type": "code",
   "execution_count": 9,
   "id": "7d2f6031",
   "metadata": {
    "execution": {
     "iopub.execute_input": "2023-03-19T21:34:29.797751Z",
     "iopub.status.busy": "2023-03-19T21:34:29.796502Z",
     "iopub.status.idle": "2023-03-19T21:34:29.826374Z",
     "shell.execute_reply": "2023-03-19T21:34:29.825042Z"
    },
    "papermill": {
     "duration": 0.043201,
     "end_time": "2023-03-19T21:34:29.829096",
     "exception": false,
     "start_time": "2023-03-19T21:34:29.785895",
     "status": "completed"
    },
    "tags": []
   },
   "outputs": [
    {
     "data": {
      "text/html": [
       "<div>\n",
       "<style scoped>\n",
       "    .dataframe tbody tr th:only-of-type {\n",
       "        vertical-align: middle;\n",
       "    }\n",
       "\n",
       "    .dataframe tbody tr th {\n",
       "        vertical-align: top;\n",
       "    }\n",
       "\n",
       "    .dataframe thead th {\n",
       "        text-align: right;\n",
       "    }\n",
       "</style>\n",
       "<table border=\"1\" class=\"dataframe\">\n",
       "  <thead>\n",
       "    <tr style=\"text-align: right;\">\n",
       "      <th></th>\n",
       "      <th>loc</th>\n",
       "      <th>myear</th>\n",
       "      <th>bt</th>\n",
       "      <th>tt</th>\n",
       "      <th>ip</th>\n",
       "      <th>images</th>\n",
       "      <th>imgCount</th>\n",
       "      <th>threesixty</th>\n",
       "      <th>dvn</th>\n",
       "      <th>oem</th>\n",
       "      <th>...</th>\n",
       "      <th>No Door Numbers</th>\n",
       "      <th>Cargo Volumn</th>\n",
       "      <th>model_type_new</th>\n",
       "      <th>state</th>\n",
       "      <th>exterior_color</th>\n",
       "      <th>owner_type</th>\n",
       "      <th>Fuel Suppy System</th>\n",
       "      <th>Compression Ratio</th>\n",
       "      <th>Alloy Wheel Size</th>\n",
       "      <th>Ground Clearance Unladen</th>\n",
       "    </tr>\n",
       "    <tr>\n",
       "      <th>usedCarSkuId</th>\n",
       "      <th></th>\n",
       "      <th></th>\n",
       "      <th></th>\n",
       "      <th></th>\n",
       "      <th></th>\n",
       "      <th></th>\n",
       "      <th></th>\n",
       "      <th></th>\n",
       "      <th></th>\n",
       "      <th></th>\n",
       "      <th></th>\n",
       "      <th></th>\n",
       "      <th></th>\n",
       "      <th></th>\n",
       "      <th></th>\n",
       "      <th></th>\n",
       "      <th></th>\n",
       "      <th></th>\n",
       "      <th></th>\n",
       "      <th></th>\n",
       "      <th></th>\n",
       "    </tr>\n",
       "  </thead>\n",
       "  <tbody>\n",
       "    <tr>\n",
       "      <th>7111bf25-97af-47f9-867b-40879190d800</th>\n",
       "      <td>Gomti Nagar</td>\n",
       "      <td>2016</td>\n",
       "      <td>Hatchback</td>\n",
       "      <td>Manual</td>\n",
       "      <td>0</td>\n",
       "      <td>[{'img': 'https://images10.gaadi.com/usedcar_i...</td>\n",
       "      <td>15</td>\n",
       "      <td>False</td>\n",
       "      <td>Maruti Wagon R LXI CNG</td>\n",
       "      <td>Maruti</td>\n",
       "      <td>...</td>\n",
       "      <td>5.000</td>\n",
       "      <td>180-liters</td>\n",
       "      <td>used</td>\n",
       "      <td>uttar pradesh</td>\n",
       "      <td>Silver</td>\n",
       "      <td>first</td>\n",
       "      <td>NaN</td>\n",
       "      <td>NaN</td>\n",
       "      <td>NaN</td>\n",
       "      <td>NaN</td>\n",
       "    </tr>\n",
       "    <tr>\n",
       "      <th>c309efc1-efaf-4f82-81ad-dcb38eb36665</th>\n",
       "      <td>Borivali West</td>\n",
       "      <td>2015</td>\n",
       "      <td>Hatchback</td>\n",
       "      <td>Manual</td>\n",
       "      <td>0</td>\n",
       "      <td>[{'img': 'https://images10.gaadi.com/usedcar_i...</td>\n",
       "      <td>15</td>\n",
       "      <td>False</td>\n",
       "      <td>Maruti Celerio Green VXI</td>\n",
       "      <td>Maruti</td>\n",
       "      <td>...</td>\n",
       "      <td>5.000</td>\n",
       "      <td>235-litres</td>\n",
       "      <td>used</td>\n",
       "      <td>maharashtra</td>\n",
       "      <td>Grey</td>\n",
       "      <td>first</td>\n",
       "      <td>Intelligent-Gas Port Injection</td>\n",
       "      <td>11.0:1</td>\n",
       "      <td>NaN</td>\n",
       "      <td>NaN</td>\n",
       "    </tr>\n",
       "    <tr>\n",
       "      <th>7609f710-0c97-4f00-9a47-9b9284b62d3a</th>\n",
       "      <td>JASOLA</td>\n",
       "      <td>2015</td>\n",
       "      <td>Sedan</td>\n",
       "      <td>Manual</td>\n",
       "      <td>0</td>\n",
       "      <td>[{'img': 'https://images10.gaadi.com/usedcar_i...</td>\n",
       "      <td>15</td>\n",
       "      <td>False</td>\n",
       "      <td>Honda Amaze S Plus i-VTEC</td>\n",
       "      <td>Honda</td>\n",
       "      <td>...</td>\n",
       "      <td>4.000</td>\n",
       "      <td>400-litres</td>\n",
       "      <td>used</td>\n",
       "      <td>delhi</td>\n",
       "      <td>Silver</td>\n",
       "      <td>second</td>\n",
       "      <td>NaN</td>\n",
       "      <td>NaN</td>\n",
       "      <td>NaN</td>\n",
       "      <td>NaN</td>\n",
       "    </tr>\n",
       "    <tr>\n",
       "      <th>278b76e3-5539-4a5e-ae3e-353a2e3b6d7d</th>\n",
       "      <td>jasola</td>\n",
       "      <td>2013</td>\n",
       "      <td>Hatchback</td>\n",
       "      <td>Manual</td>\n",
       "      <td>0</td>\n",
       "      <td>[{'img': ''}]</td>\n",
       "      <td>0</td>\n",
       "      <td>False</td>\n",
       "      <td>Maruti Wagon R LXI CNG</td>\n",
       "      <td>Maruti</td>\n",
       "      <td>...</td>\n",
       "      <td>4.000</td>\n",
       "      <td>NaN</td>\n",
       "      <td>used</td>\n",
       "      <td>delhi</td>\n",
       "      <td>Silver</td>\n",
       "      <td>second</td>\n",
       "      <td>MPFI</td>\n",
       "      <td>NaN</td>\n",
       "      <td>13</td>\n",
       "      <td>NaN</td>\n",
       "    </tr>\n",
       "    <tr>\n",
       "      <th>b1eab99b-a606-48dd-a75b-57feb8a9ad92</th>\n",
       "      <td>mumbai g.p.o.</td>\n",
       "      <td>2022</td>\n",
       "      <td>MUV</td>\n",
       "      <td>Manual</td>\n",
       "      <td>0</td>\n",
       "      <td>[{'img': 'https://images10.gaadi.com/usedcar_i...</td>\n",
       "      <td>6</td>\n",
       "      <td>False</td>\n",
       "      <td>Maruti Ertiga VXI CNG</td>\n",
       "      <td>Maruti</td>\n",
       "      <td>...</td>\n",
       "      <td>5.000</td>\n",
       "      <td>NaN</td>\n",
       "      <td>used</td>\n",
       "      <td>maharashtra</td>\n",
       "      <td>White</td>\n",
       "      <td>first</td>\n",
       "      <td>NaN</td>\n",
       "      <td>12.0+-.03</td>\n",
       "      <td>NaN</td>\n",
       "      <td>NaN</td>\n",
       "    </tr>\n",
       "  </tbody>\n",
       "</table>\n",
       "<p>5 rows × 60 columns</p>\n",
       "</div>"
      ],
      "text/plain": [
       "                                                loc  myear         bt      tt  \\\n",
       "usedCarSkuId                                                                    \n",
       "7111bf25-97af-47f9-867b-40879190d800    Gomti Nagar   2016  Hatchback  Manual   \n",
       "c309efc1-efaf-4f82-81ad-dcb38eb36665  Borivali West   2015  Hatchback  Manual   \n",
       "7609f710-0c97-4f00-9a47-9b9284b62d3a         JASOLA   2015      Sedan  Manual   \n",
       "278b76e3-5539-4a5e-ae3e-353a2e3b6d7d         jasola   2013  Hatchback  Manual   \n",
       "b1eab99b-a606-48dd-a75b-57feb8a9ad92  mumbai g.p.o.   2022        MUV  Manual   \n",
       "\n",
       "                                      ip  \\\n",
       "usedCarSkuId                               \n",
       "7111bf25-97af-47f9-867b-40879190d800   0   \n",
       "c309efc1-efaf-4f82-81ad-dcb38eb36665   0   \n",
       "7609f710-0c97-4f00-9a47-9b9284b62d3a   0   \n",
       "278b76e3-5539-4a5e-ae3e-353a2e3b6d7d   0   \n",
       "b1eab99b-a606-48dd-a75b-57feb8a9ad92   0   \n",
       "\n",
       "                                                                                 images  \\\n",
       "usedCarSkuId                                                                              \n",
       "7111bf25-97af-47f9-867b-40879190d800  [{'img': 'https://images10.gaadi.com/usedcar_i...   \n",
       "c309efc1-efaf-4f82-81ad-dcb38eb36665  [{'img': 'https://images10.gaadi.com/usedcar_i...   \n",
       "7609f710-0c97-4f00-9a47-9b9284b62d3a  [{'img': 'https://images10.gaadi.com/usedcar_i...   \n",
       "278b76e3-5539-4a5e-ae3e-353a2e3b6d7d                                      [{'img': ''}]   \n",
       "b1eab99b-a606-48dd-a75b-57feb8a9ad92  [{'img': 'https://images10.gaadi.com/usedcar_i...   \n",
       "\n",
       "                                      imgCount  threesixty  \\\n",
       "usedCarSkuId                                                 \n",
       "7111bf25-97af-47f9-867b-40879190d800        15       False   \n",
       "c309efc1-efaf-4f82-81ad-dcb38eb36665        15       False   \n",
       "7609f710-0c97-4f00-9a47-9b9284b62d3a        15       False   \n",
       "278b76e3-5539-4a5e-ae3e-353a2e3b6d7d         0       False   \n",
       "b1eab99b-a606-48dd-a75b-57feb8a9ad92         6       False   \n",
       "\n",
       "                                                            dvn     oem  ...  \\\n",
       "usedCarSkuId                                                             ...   \n",
       "7111bf25-97af-47f9-867b-40879190d800     Maruti Wagon R LXI CNG  Maruti  ...   \n",
       "c309efc1-efaf-4f82-81ad-dcb38eb36665   Maruti Celerio Green VXI  Maruti  ...   \n",
       "7609f710-0c97-4f00-9a47-9b9284b62d3a  Honda Amaze S Plus i-VTEC   Honda  ...   \n",
       "278b76e3-5539-4a5e-ae3e-353a2e3b6d7d     Maruti Wagon R LXI CNG  Maruti  ...   \n",
       "b1eab99b-a606-48dd-a75b-57feb8a9ad92      Maruti Ertiga VXI CNG  Maruti  ...   \n",
       "\n",
       "                                     No Door Numbers Cargo Volumn  \\\n",
       "usedCarSkuId                                                        \n",
       "7111bf25-97af-47f9-867b-40879190d800           5.000   180-liters   \n",
       "c309efc1-efaf-4f82-81ad-dcb38eb36665           5.000   235-litres   \n",
       "7609f710-0c97-4f00-9a47-9b9284b62d3a           4.000   400-litres   \n",
       "278b76e3-5539-4a5e-ae3e-353a2e3b6d7d           4.000          NaN   \n",
       "b1eab99b-a606-48dd-a75b-57feb8a9ad92           5.000          NaN   \n",
       "\n",
       "                                     model_type_new          state  \\\n",
       "usedCarSkuId                                                         \n",
       "7111bf25-97af-47f9-867b-40879190d800           used  uttar pradesh   \n",
       "c309efc1-efaf-4f82-81ad-dcb38eb36665           used    maharashtra   \n",
       "7609f710-0c97-4f00-9a47-9b9284b62d3a           used          delhi   \n",
       "278b76e3-5539-4a5e-ae3e-353a2e3b6d7d           used          delhi   \n",
       "b1eab99b-a606-48dd-a75b-57feb8a9ad92           used    maharashtra   \n",
       "\n",
       "                                      exterior_color owner_type  \\\n",
       "usedCarSkuId                                                      \n",
       "7111bf25-97af-47f9-867b-40879190d800          Silver      first   \n",
       "c309efc1-efaf-4f82-81ad-dcb38eb36665            Grey      first   \n",
       "7609f710-0c97-4f00-9a47-9b9284b62d3a          Silver     second   \n",
       "278b76e3-5539-4a5e-ae3e-353a2e3b6d7d          Silver     second   \n",
       "b1eab99b-a606-48dd-a75b-57feb8a9ad92           White      first   \n",
       "\n",
       "                                                   Fuel Suppy System  \\\n",
       "usedCarSkuId                                                           \n",
       "7111bf25-97af-47f9-867b-40879190d800                             NaN   \n",
       "c309efc1-efaf-4f82-81ad-dcb38eb36665  Intelligent-Gas Port Injection   \n",
       "7609f710-0c97-4f00-9a47-9b9284b62d3a                             NaN   \n",
       "278b76e3-5539-4a5e-ae3e-353a2e3b6d7d                            MPFI   \n",
       "b1eab99b-a606-48dd-a75b-57feb8a9ad92                             NaN   \n",
       "\n",
       "                                     Compression Ratio Alloy Wheel Size  \\\n",
       "usedCarSkuId                                                              \n",
       "7111bf25-97af-47f9-867b-40879190d800               NaN              NaN   \n",
       "c309efc1-efaf-4f82-81ad-dcb38eb36665            11.0:1              NaN   \n",
       "7609f710-0c97-4f00-9a47-9b9284b62d3a               NaN              NaN   \n",
       "278b76e3-5539-4a5e-ae3e-353a2e3b6d7d               NaN               13   \n",
       "b1eab99b-a606-48dd-a75b-57feb8a9ad92         12.0+-.03              NaN   \n",
       "\n",
       "                                     Ground Clearance Unladen  \n",
       "usedCarSkuId                                                   \n",
       "7111bf25-97af-47f9-867b-40879190d800                      NaN  \n",
       "c309efc1-efaf-4f82-81ad-dcb38eb36665                      NaN  \n",
       "7609f710-0c97-4f00-9a47-9b9284b62d3a                      NaN  \n",
       "278b76e3-5539-4a5e-ae3e-353a2e3b6d7d                      NaN  \n",
       "b1eab99b-a606-48dd-a75b-57feb8a9ad92                      NaN  \n",
       "\n",
       "[5 rows x 60 columns]"
      ]
     },
     "execution_count": 9,
     "metadata": {},
     "output_type": "execute_result"
    }
   ],
   "source": [
    "# sanity check\n",
    "df2.head()"
   ]
  },
  {
   "cell_type": "markdown",
   "id": "264aa681",
   "metadata": {
    "papermill": {
     "duration": 0.00924,
     "end_time": "2023-03-19T21:34:29.848328",
     "exception": false,
     "start_time": "2023-03-19T21:34:29.839088",
     "status": "completed"
    },
    "tags": []
   },
   "source": [
    "Great! Now that we have removed the duplicate rows, let's look at missing values\n",
    "\n",
    "---"
   ]
  },
  {
   "cell_type": "markdown",
   "id": "a6e9e7de",
   "metadata": {
    "papermill": {
     "duration": 0.009352,
     "end_time": "2023-03-19T21:34:29.867267",
     "exception": false,
     "start_time": "2023-03-19T21:34:29.857915",
     "status": "completed"
    },
    "tags": []
   },
   "source": [
    "### Missing Null Values"
   ]
  },
  {
   "cell_type": "code",
   "execution_count": 10,
   "id": "7b724562",
   "metadata": {
    "execution": {
     "iopub.execute_input": "2023-03-19T21:34:29.888400Z",
     "iopub.status.busy": "2023-03-19T21:34:29.887401Z",
     "iopub.status.idle": "2023-03-19T21:34:29.992390Z",
     "shell.execute_reply": "2023-03-19T21:34:29.991414Z"
    },
    "papermill": {
     "duration": 0.11827,
     "end_time": "2023-03-19T21:34:29.994992",
     "exception": false,
     "start_time": "2023-03-19T21:34:29.876722",
     "status": "completed"
    },
    "tags": []
   },
   "outputs": [
    {
     "data": {
      "text/plain": [
       "loc                          5850\n",
       "myear                           0\n",
       "bt                             19\n",
       "tt                              0\n",
       "ip                              0\n",
       "images                          0\n",
       "imgCount                        0\n",
       "threesixty                      0\n",
       "dvn                             0\n",
       "oem                             0\n",
       "model                           0\n",
       "variantName                     0\n",
       "city_x                          0\n",
       "pu                              0\n",
       "discountValue                   0\n",
       "utype                           0\n",
       "carType                         0\n",
       "top_features                    0\n",
       "comfort_features                0\n",
       "interior_features               0\n",
       "exterior_features               0\n",
       "safety_features                 0\n",
       "Color                         160\n",
       "Engine Type                   868\n",
       "Max Power                     231\n",
       "Max Torque                    231\n",
       "No of Cylinder                143\n",
       "Values per Cylinder           228\n",
       "Value Configuration          7831\n",
       "BoreX Stroke                25177\n",
       "Turbo Charger                2176\n",
       "Super Charger                5348\n",
       "Length                        362\n",
       "Width                         371\n",
       "Height                        363\n",
       "Wheel Base                    555\n",
       "Front Tread                 15874\n",
       "Rear Tread                  15875\n",
       "Kerb Weight                 13139\n",
       "Gross Weight                20890\n",
       "Gear Box                      407\n",
       "Drive Type                   4496\n",
       "Seating Capacity               18\n",
       "Steering Type                 808\n",
       "Turning Radius               5848\n",
       "Front Brake Type              327\n",
       "Rear Brake Type               326\n",
       "Top Speed                   15036\n",
       "Acceleration                13988\n",
       "Tyre Type                     257\n",
       "No Door Numbers                44\n",
       "Cargo Volumn                 6732\n",
       "model_type_new                  0\n",
       "state                           0\n",
       "exterior_color                123\n",
       "owner_type                      0\n",
       "Fuel Suppy System            5502\n",
       "Compression Ratio           27642\n",
       "Alloy Wheel Size            13145\n",
       "Ground Clearance Unladen    35661\n",
       "dtype: int64"
      ]
     },
     "execution_count": 10,
     "metadata": {},
     "output_type": "execute_result"
    }
   ],
   "source": [
    "df2.isnull().sum()"
   ]
  },
  {
   "cell_type": "markdown",
   "id": "a75c27c3",
   "metadata": {
    "papermill": {
     "duration": 0.009969,
     "end_time": "2023-03-19T21:34:30.015034",
     "exception": false,
     "start_time": "2023-03-19T21:34:30.005065",
     "status": "completed"
    },
    "tags": []
   },
   "source": [
    "There are several columns that have an exceptionally large amount of null values. This means that these columns will not be useful for our analysis because of the sheer amount of missing values.\n",
    "\n",
    "Let's set a threshold of 50% and drop any columns above that threshold. This will allow us to remove the columns that have a large amount of missing values that can skew our analysis."
   ]
  },
  {
   "cell_type": "code",
   "execution_count": 11,
   "id": "9e77a4a0",
   "metadata": {
    "execution": {
     "iopub.execute_input": "2023-03-19T21:34:30.036802Z",
     "iopub.status.busy": "2023-03-19T21:34:30.036332Z",
     "iopub.status.idle": "2023-03-19T21:34:30.253561Z",
     "shell.execute_reply": "2023-03-19T21:34:30.251831Z"
    },
    "papermill": {
     "duration": 0.231459,
     "end_time": "2023-03-19T21:34:30.256317",
     "exception": false,
     "start_time": "2023-03-19T21:34:30.024858",
     "status": "completed"
    },
    "tags": []
   },
   "outputs": [
    {
     "name": "stdout",
     "output_type": "stream",
     "text": [
      "The columns with 50% or more null values are: Index(['BoreX Stroke', 'Gross Weight', 'Compression Ratio',\n",
      "       'Ground Clearance Unladen'],\n",
      "      dtype='object')\n",
      "The new shape of the dataframe is 37813 rows and 56 columns.\n"
     ]
    }
   ],
   "source": [
    "# Delete columns containing more than 50% null values\n",
    "percentage = 50\n",
    "min_count =  int(((100-percentage)/100)*df2.shape[0] + 1)\n",
    "cars_df = df2.dropna(axis=1, thresh=min_count)\n",
    "\n",
    "print(f\"The columns with {percentage}% or more null values are: {df2.columns[df2.isna().sum()/df2.shape[0]*100 > percentage]}\")\n",
    "print(f\"The new shape of the dataframe is {cars_df.shape[0]} rows and {cars_df.shape[1]} columns.\")"
   ]
  },
  {
   "cell_type": "markdown",
   "id": "f80220a4",
   "metadata": {
    "papermill": {
     "duration": 0.009391,
     "end_time": "2023-03-19T21:34:30.275507",
     "exception": false,
     "start_time": "2023-03-19T21:34:30.266116",
     "status": "completed"
    },
    "tags": []
   },
   "source": [
    "The results show that the following columns have been dropped:\n",
    "\n",
    "* ```BoreX Stroke```\n",
    "* ```Gross Weight```\n",
    "* ```Compression Ratio```\n",
    "* ```Ground Clearance Unladen```\n"
   ]
  },
  {
   "cell_type": "markdown",
   "id": "56d4ae7f",
   "metadata": {
    "papermill": {
     "duration": 0.009366,
     "end_time": "2023-03-19T21:34:30.294612",
     "exception": false,
     "start_time": "2023-03-19T21:34:30.285246",
     "status": "completed"
    },
    "tags": []
   },
   "source": [
    "Lets filter only the columns with null values."
   ]
  },
  {
   "cell_type": "code",
   "execution_count": 12,
   "id": "94769360",
   "metadata": {
    "execution": {
     "iopub.execute_input": "2023-03-19T21:34:30.317132Z",
     "iopub.status.busy": "2023-03-19T21:34:30.315824Z",
     "iopub.status.idle": "2023-03-19T21:34:30.419554Z",
     "shell.execute_reply": "2023-03-19T21:34:30.418319Z"
    },
    "papermill": {
     "duration": 0.117846,
     "end_time": "2023-03-19T21:34:30.422200",
     "exception": false,
     "start_time": "2023-03-19T21:34:30.304354",
     "status": "completed"
    },
    "tags": []
   },
   "outputs": [
    {
     "data": {
      "text/html": [
       "<div>\n",
       "<style scoped>\n",
       "    .dataframe tbody tr th:only-of-type {\n",
       "        vertical-align: middle;\n",
       "    }\n",
       "\n",
       "    .dataframe tbody tr th {\n",
       "        vertical-align: top;\n",
       "    }\n",
       "\n",
       "    .dataframe thead th {\n",
       "        text-align: right;\n",
       "    }\n",
       "</style>\n",
       "<table border=\"1\" class=\"dataframe\">\n",
       "  <thead>\n",
       "    <tr style=\"text-align: right;\">\n",
       "      <th></th>\n",
       "      <th>0</th>\n",
       "    </tr>\n",
       "  </thead>\n",
       "  <tbody>\n",
       "    <tr>\n",
       "      <th>Rear Tread</th>\n",
       "      <td>41.983</td>\n",
       "    </tr>\n",
       "    <tr>\n",
       "      <th>Front Tread</th>\n",
       "      <td>41.980</td>\n",
       "    </tr>\n",
       "    <tr>\n",
       "      <th>Top Speed</th>\n",
       "      <td>39.764</td>\n",
       "    </tr>\n",
       "    <tr>\n",
       "      <th>Acceleration</th>\n",
       "      <td>36.993</td>\n",
       "    </tr>\n",
       "    <tr>\n",
       "      <th>Alloy Wheel Size</th>\n",
       "      <td>34.763</td>\n",
       "    </tr>\n",
       "    <tr>\n",
       "      <th>Kerb Weight</th>\n",
       "      <td>34.747</td>\n",
       "    </tr>\n",
       "    <tr>\n",
       "      <th>Value Configuration</th>\n",
       "      <td>20.710</td>\n",
       "    </tr>\n",
       "    <tr>\n",
       "      <th>Cargo Volumn</th>\n",
       "      <td>17.803</td>\n",
       "    </tr>\n",
       "    <tr>\n",
       "      <th>loc</th>\n",
       "      <td>15.471</td>\n",
       "    </tr>\n",
       "    <tr>\n",
       "      <th>Turning Radius</th>\n",
       "      <td>15.466</td>\n",
       "    </tr>\n",
       "    <tr>\n",
       "      <th>Fuel Suppy System</th>\n",
       "      <td>14.551</td>\n",
       "    </tr>\n",
       "    <tr>\n",
       "      <th>Super Charger</th>\n",
       "      <td>14.143</td>\n",
       "    </tr>\n",
       "    <tr>\n",
       "      <th>Drive Type</th>\n",
       "      <td>11.890</td>\n",
       "    </tr>\n",
       "    <tr>\n",
       "      <th>Turbo Charger</th>\n",
       "      <td>5.755</td>\n",
       "    </tr>\n",
       "    <tr>\n",
       "      <th>Engine Type</th>\n",
       "      <td>2.296</td>\n",
       "    </tr>\n",
       "    <tr>\n",
       "      <th>Steering Type</th>\n",
       "      <td>2.137</td>\n",
       "    </tr>\n",
       "    <tr>\n",
       "      <th>Wheel Base</th>\n",
       "      <td>1.468</td>\n",
       "    </tr>\n",
       "    <tr>\n",
       "      <th>Gear Box</th>\n",
       "      <td>1.076</td>\n",
       "    </tr>\n",
       "    <tr>\n",
       "      <th>Width</th>\n",
       "      <td>0.981</td>\n",
       "    </tr>\n",
       "    <tr>\n",
       "      <th>Height</th>\n",
       "      <td>0.960</td>\n",
       "    </tr>\n",
       "    <tr>\n",
       "      <th>Length</th>\n",
       "      <td>0.957</td>\n",
       "    </tr>\n",
       "    <tr>\n",
       "      <th>Front Brake Type</th>\n",
       "      <td>0.865</td>\n",
       "    </tr>\n",
       "    <tr>\n",
       "      <th>Rear Brake Type</th>\n",
       "      <td>0.862</td>\n",
       "    </tr>\n",
       "    <tr>\n",
       "      <th>Tyre Type</th>\n",
       "      <td>0.680</td>\n",
       "    </tr>\n",
       "    <tr>\n",
       "      <th>Max Power</th>\n",
       "      <td>0.611</td>\n",
       "    </tr>\n",
       "    <tr>\n",
       "      <th>Max Torque</th>\n",
       "      <td>0.611</td>\n",
       "    </tr>\n",
       "    <tr>\n",
       "      <th>Values per Cylinder</th>\n",
       "      <td>0.603</td>\n",
       "    </tr>\n",
       "    <tr>\n",
       "      <th>Color</th>\n",
       "      <td>0.423</td>\n",
       "    </tr>\n",
       "    <tr>\n",
       "      <th>No of Cylinder</th>\n",
       "      <td>0.378</td>\n",
       "    </tr>\n",
       "    <tr>\n",
       "      <th>exterior_color</th>\n",
       "      <td>0.325</td>\n",
       "    </tr>\n",
       "    <tr>\n",
       "      <th>No Door Numbers</th>\n",
       "      <td>0.116</td>\n",
       "    </tr>\n",
       "    <tr>\n",
       "      <th>bt</th>\n",
       "      <td>0.050</td>\n",
       "    </tr>\n",
       "    <tr>\n",
       "      <th>Seating Capacity</th>\n",
       "      <td>0.048</td>\n",
       "    </tr>\n",
       "  </tbody>\n",
       "</table>\n",
       "</div>"
      ],
      "text/plain": [
       "                         0\n",
       "Rear Tread          41.983\n",
       "Front Tread         41.980\n",
       "Top Speed           39.764\n",
       "Acceleration        36.993\n",
       "Alloy Wheel Size    34.763\n",
       "Kerb Weight         34.747\n",
       "Value Configuration 20.710\n",
       "Cargo Volumn        17.803\n",
       "loc                 15.471\n",
       "Turning Radius      15.466\n",
       "Fuel Suppy System   14.551\n",
       "Super Charger       14.143\n",
       "Drive Type          11.890\n",
       "Turbo Charger        5.755\n",
       "Engine Type          2.296\n",
       "Steering Type        2.137\n",
       "Wheel Base           1.468\n",
       "Gear Box             1.076\n",
       "Width                0.981\n",
       "Height               0.960\n",
       "Length               0.957\n",
       "Front Brake Type     0.865\n",
       "Rear Brake Type      0.862\n",
       "Tyre Type            0.680\n",
       "Max Power            0.611\n",
       "Max Torque           0.611\n",
       "Values per Cylinder  0.603\n",
       "Color                0.423\n",
       "No of Cylinder       0.378\n",
       "exterior_color       0.325\n",
       "No Door Numbers      0.116\n",
       "bt                   0.050\n",
       "Seating Capacity     0.048"
      ]
     },
     "execution_count": 12,
     "metadata": {},
     "output_type": "execute_result"
    }
   ],
   "source": [
    "# checking how many null values are in the dataframe that are over 0%\n",
    "percentage = cars_df.isna().sum()/cars_df.shape[0]*100\n",
    "\n",
    "pd.DataFrame(percentage[percentage > 0]).sort_values(by=0, ascending=False)"
   ]
  },
  {
   "cell_type": "markdown",
   "id": "d3efc9af",
   "metadata": {
    "papermill": {
     "duration": 0.010184,
     "end_time": "2023-03-19T21:34:30.442964",
     "exception": false,
     "start_time": "2023-03-19T21:34:30.432780",
     "status": "completed"
    },
    "tags": []
   },
   "source": [
    "Now we can focus on each column individually to determine how to handle the missing values. There are so many! 😩\n",
    "\n",
    "Let's make a copy of the dataframe so that we always have the original to go back to"
   ]
  },
  {
   "cell_type": "code",
   "execution_count": 13,
   "id": "2892752f",
   "metadata": {
    "execution": {
     "iopub.execute_input": "2023-03-19T21:34:30.466006Z",
     "iopub.status.busy": "2023-03-19T21:34:30.465570Z",
     "iopub.status.idle": "2023-03-19T21:34:30.499543Z",
     "shell.execute_reply": "2023-03-19T21:34:30.498530Z"
    },
    "papermill": {
     "duration": 0.048819,
     "end_time": "2023-03-19T21:34:30.502247",
     "exception": false,
     "start_time": "2023-03-19T21:34:30.453428",
     "status": "completed"
    },
    "tags": []
   },
   "outputs": [],
   "source": [
    "cars_df2 = cars_df.copy()"
   ]
  },
  {
   "cell_type": "markdown",
   "id": "385fd522",
   "metadata": {
    "papermill": {
     "duration": 0.009908,
     "end_time": "2023-03-19T21:34:30.522514",
     "exception": false,
     "start_time": "2023-03-19T21:34:30.512606",
     "status": "completed"
    },
    "tags": []
   },
   "source": [
    "---\n",
    "\n"
   ]
  },
  {
   "cell_type": "markdown",
   "id": "160009f8",
   "metadata": {
    "papermill": {
     "duration": 0.00995,
     "end_time": "2023-03-19T21:34:30.542650",
     "exception": false,
     "start_time": "2023-03-19T21:34:30.532700",
     "status": "completed"
    },
    "tags": []
   },
   "source": [
    "#### Rear and Front Tread\n",
    "\n",
    "Tread is the rubber on the tire that touches the road. As you drive, the tread will wear down. Since this indicates the same thing as km driven or how old the car is, it should not be very important for our ML model which we would be building.\n",
    "\n",
    "Let's see how many null values we have in this column."
   ]
  },
  {
   "cell_type": "code",
   "execution_count": 14,
   "id": "79bafdc2",
   "metadata": {
    "execution": {
     "iopub.execute_input": "2023-03-19T21:34:30.564993Z",
     "iopub.status.busy": "2023-03-19T21:34:30.564577Z",
     "iopub.status.idle": "2023-03-19T21:34:30.577311Z",
     "shell.execute_reply": "2023-03-19T21:34:30.575632Z"
    },
    "papermill": {
     "duration": 0.027263,
     "end_time": "2023-03-19T21:34:30.580020",
     "exception": false,
     "start_time": "2023-03-19T21:34:30.552757",
     "status": "completed"
    },
    "tags": []
   },
   "outputs": [
    {
     "name": "stdout",
     "output_type": "stream",
     "text": [
      "There is about 41.982915928384415 values missing in the Rear Tread column\n",
      "There is about 41.98027133525507 values missing in the Front Tread column\n"
     ]
    }
   ],
   "source": [
    "rt_null_percentage = cars_df2['Rear Tread'].isna().sum()/cars_df2.shape[0]*100\n",
    "ft_null_percentage = cars_df2['Front Tread'].isna().sum()/cars_df2.shape[0]*100\n",
    "\n",
    "print(f\"There is about {rt_null_percentage} values missing in the Rear Tread column\")\n",
    "print(f\"There is about {ft_null_percentage} values missing in the Front Tread column\")"
   ]
  },
  {
   "cell_type": "markdown",
   "id": "67a72dee",
   "metadata": {
    "papermill": {
     "duration": 0.010264,
     "end_time": "2023-03-19T21:34:30.601198",
     "exception": false,
     "start_time": "2023-03-19T21:34:30.590934",
     "status": "completed"
    },
    "tags": []
   },
   "source": [
    "We can see that both of them are missing ~40% of the values. Since we concluded they are not going to be super important for our models, we can drop them."
   ]
  },
  {
   "cell_type": "code",
   "execution_count": 15,
   "id": "34769a18",
   "metadata": {
    "execution": {
     "iopub.execute_input": "2023-03-19T21:34:30.624145Z",
     "iopub.status.busy": "2023-03-19T21:34:30.623265Z",
     "iopub.status.idle": "2023-03-19T21:34:30.660124Z",
     "shell.execute_reply": "2023-03-19T21:34:30.658944Z"
    },
    "papermill": {
     "duration": 0.050922,
     "end_time": "2023-03-19T21:34:30.662525",
     "exception": false,
     "start_time": "2023-03-19T21:34:30.611603",
     "status": "completed"
    },
    "tags": []
   },
   "outputs": [
    {
     "data": {
      "text/plain": [
       "(37813, 54)"
      ]
     },
     "execution_count": 15,
     "metadata": {},
     "output_type": "execute_result"
    }
   ],
   "source": [
    "cars_df2.drop(['Rear Tread', 'Front Tread'], axis=1, inplace=True)\n",
    "cars_df2.shape"
   ]
  },
  {
   "cell_type": "markdown",
   "id": "92e7ef57",
   "metadata": {
    "papermill": {
     "duration": 0.010053,
     "end_time": "2023-03-19T21:34:30.682987",
     "exception": false,
     "start_time": "2023-03-19T21:34:30.672934",
     "status": "completed"
    },
    "tags": []
   },
   "source": [
    "We are now left with 54 columns. Let's look at the next feature."
   ]
  },
  {
   "cell_type": "markdown",
   "id": "a9bb38af",
   "metadata": {
    "papermill": {
     "duration": 0.009975,
     "end_time": "2023-03-19T21:34:30.703212",
     "exception": false,
     "start_time": "2023-03-19T21:34:30.693237",
     "status": "completed"
    },
    "tags": []
   },
   "source": [
    "---"
   ]
  }
 ],
 "metadata": {
  "kernelspec": {
   "display_name": "Python 3",
   "language": "python",
   "name": "python3"
  },
  "language_info": {
   "codemirror_mode": {
    "name": "ipython",
    "version": 3
   },
   "file_extension": ".py",
   "mimetype": "text/x-python",
   "name": "python",
   "nbconvert_exporter": "python",
   "pygments_lexer": "ipython3",
   "version": "3.7.12"
  },
  "papermill": {
   "default_parameters": {},
   "duration": 24.813234,
   "end_time": "2023-03-19T21:34:31.537078",
   "environment_variables": {},
   "exception": null,
   "input_path": "__notebook__.ipynb",
   "output_path": "__notebook__.ipynb",
   "parameters": {},
   "start_time": "2023-03-19T21:34:06.723844",
   "version": "2.4.0"
  }
 },
 "nbformat": 4,
 "nbformat_minor": 5
}
