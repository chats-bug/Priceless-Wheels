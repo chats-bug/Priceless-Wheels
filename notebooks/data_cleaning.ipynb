{
 "cells": [
  {
   "cell_type": "markdown",
   "id": "65950a1b",
   "metadata": {
    "papermill": {
     "duration": 0.002766,
     "end_time": "2023-03-19T18:53:07.194855",
     "exception": false,
     "start_time": "2023-03-19T18:53:07.192089",
     "status": "completed"
    },
    "tags": []
   },
   "source": [
    "#### Introduction\n",
    "\n",
    "Welcome to Priceless Wheels! In this project, our goal is to build a model that can accurately predict the price of a used vehicle based on various factors such as make, model, year, mileage, and condition. The automobile industry is one of the largest and most competitive industries in the world, with millions of vehicles being sold each year. The price of a vehicle can have a significant impact on a consumer's purchasing decision and it is important for both buyers and sellers to have an understanding of the market value of a vehicle. By using machine learning algorithms and data analysis, we aim to provide a reliable and robust model that can assist in determining the fair market value of a vehicle. Join us on this exciting journey as we delve into the world of vehicle price prediction."
   ]
  },
  {
   "cell_type": "markdown",
   "id": "fb96b9b5",
   "metadata": {
    "papermill": {
     "duration": 0.001422,
     "end_time": "2023-03-19T18:53:07.198355",
     "exception": false,
     "start_time": "2023-03-19T18:53:07.196933",
     "status": "completed"
    },
    "tags": []
   },
   "source": [
    "#### About the data\n",
    "\n",
    "This data is scrapped from https://www.cardekho.com/. This data is meant for research and academic purposes only and is **not meant for commercial use**. This dataset contains about 38000 (thirty eight thousand) used cars listed in CarDekho in India. Download the data from https://github.com/chats-bug/Priceless-Wheels/blob/scrapping-branch/data/raw/cardekho_cars_2023_03_19_16_44_14.csv."
   ]
  },
  {
   "cell_type": "code",
   "execution_count": null,
   "id": "d4424057",
   "metadata": {
    "papermill": {
     "duration": 0.001296,
     "end_time": "2023-03-19T18:53:07.201251",
     "exception": false,
     "start_time": "2023-03-19T18:53:07.199955",
     "status": "completed"
    },
    "tags": []
   },
   "outputs": [],
   "source": []
  }
 ],
 "metadata": {
  "kernelspec": {
   "display_name": "Python 3",
   "language": "python",
   "name": "python3"
  },
  "language_info": {
   "codemirror_mode": {
    "name": "ipython",
    "version": 3
   },
   "file_extension": ".py",
   "mimetype": "text/x-python",
   "name": "python",
   "nbconvert_exporter": "python",
   "pygments_lexer": "ipython3",
   "version": "3.7.12"
  },
  "papermill": {
   "default_parameters": {},
   "duration": 13.438702,
   "end_time": "2023-03-19T18:53:07.930267",
   "environment_variables": {},
   "exception": null,
   "input_path": "__notebook__.ipynb",
   "output_path": "__notebook__.ipynb",
   "parameters": {},
   "start_time": "2023-03-19T18:52:54.491565",
   "version": "2.4.0"
  }
 },
 "nbformat": 4,
 "nbformat_minor": 5
}
