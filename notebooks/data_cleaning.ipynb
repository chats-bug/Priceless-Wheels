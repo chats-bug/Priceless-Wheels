{
 "cells": [
  {
   "cell_type": "markdown",
   "id": "1350c397",
   "metadata": {
    "papermill": {
     "duration": 0.024351,
     "end_time": "2023-03-25T19:14:13.698542",
     "exception": false,
     "start_time": "2023-03-25T19:14:13.674191",
     "status": "completed"
    },
    "tags": []
   },
   "source": [
    "### Introduction\n",
    "\n",
    "Welcome to Priceless Wheels! In this project, our goal is to build a model that can accurately predict the price of a used vehicle based on various factors such as make, model, year, mileage, and condition. The automobile industry is one of the largest and most competitive industries in the world, with millions of vehicles being sold each year. The price of a vehicle can have a significant impact on a consumer's purchasing decision and it is important for both buyers and sellers to have an understanding of the market value of a vehicle. By using machine learning algorithms and data analysis, we aim to provide a reliable and robust model that can assist in determining the fair market value of a vehicle. Join us on this exciting journey as we delve into the world of vehicle price prediction."
   ]
  },
  {
   "cell_type": "markdown",
   "id": "71d6ac2e",
   "metadata": {
    "papermill": {
     "duration": 0.022953,
     "end_time": "2023-03-25T19:14:13.746509",
     "exception": false,
     "start_time": "2023-03-25T19:14:13.723556",
     "status": "completed"
    },
    "tags": []
   },
   "source": [
    "### About the data\n",
    "\n",
    "This data is scrapped from https://www.cardekho.com/. This data is meant for research and academic purposes only and is **not meant for commercial use**. This dataset contains about 38000 (thirty eight thousand) used cars listed in CarDekho in India. Download the data from https://github.com/chats-bug/Priceless-Wheels/blob/data-cleaning/data/raw/cardekho_cars_2023_03_19_16_44_14.csv."
   ]
  },
  {
   "cell_type": "markdown",
   "id": "9aa75813",
   "metadata": {
    "papermill": {
     "duration": 0.022731,
     "end_time": "2023-03-25T19:14:13.792609",
     "exception": false,
     "start_time": "2023-03-25T19:14:13.769878",
     "status": "completed"
    },
    "tags": []
   },
   "source": [
    "---"
   ]
  },
  {
   "cell_type": "markdown",
   "id": "420ef743",
   "metadata": {
    "papermill": {
     "duration": 0.023511,
     "end_time": "2023-03-25T19:14:13.839460",
     "exception": false,
     "start_time": "2023-03-25T19:14:13.815949",
     "status": "completed"
    },
    "tags": []
   },
   "source": [
    "#### Importing the data and libraries\n",
    "\n",
    "Let's start by importing the necessary libraries and the data."
   ]
  },
  {
   "cell_type": "code",
   "execution_count": 1,
   "id": "3fa771be",
   "metadata": {
    "execution": {
     "iopub.execute_input": "2023-03-25T19:14:13.889835Z",
     "iopub.status.busy": "2023-03-25T19:14:13.889137Z",
     "iopub.status.idle": "2023-03-25T19:14:15.010813Z",
     "shell.execute_reply": "2023-03-25T19:14:15.009855Z"
    },
    "papermill": {
     "duration": 1.150085,
     "end_time": "2023-03-25T19:14:15.013349",
     "exception": false,
     "start_time": "2023-03-25T19:14:13.863264",
     "status": "completed"
    },
    "tags": []
   },
   "outputs": [
    {
     "name": "stdout",
     "output_type": "stream",
     "text": [
      "/kaggle/input/used-cars-dataset-cardekho/car_details_merged_cleaned.csv\n",
      "/kaggle/input/used-cars-dataset-cardekho/cars_details_merges.csv\n",
      "/kaggle/input/used-cars-dataset-cardekho/feature_dictionary.csv\n"
     ]
    }
   ],
   "source": [
    "import numpy as np # linear algebra\n",
    "import pandas as pd # data processing, CSV file I/O\n",
    "import regex as re # for regex matching\n",
    "import matplotlib.pyplot as plt # \n",
    "import seaborn as sns # seaborn for nice looking plots\n",
    "sns.set() # setting seaborn default for plots\n",
    "\n",
    "# removing scientific notation\n",
    "pd.set_option('display.float_format', lambda x: '%.3f' % x)\n",
    "\n",
    "# Input data files are available in the read-only \"../input/\" directory\n",
    "import os\n",
    "for dirname, _, filenames in os.walk('/kaggle/input'):\n",
    "    for filename in filenames:\n",
    "        print(os.path.join(dirname, filename))"
   ]
  },
  {
   "cell_type": "markdown",
   "id": "16aaf7d3",
   "metadata": {
    "papermill": {
     "duration": 0.026563,
     "end_time": "2023-03-25T19:14:15.064783",
     "exception": false,
     "start_time": "2023-03-25T19:14:15.038220",
     "status": "completed"
    },
    "tags": []
   },
   "source": [
    "Next, we will import the data and preview the first 5 rows\n",
    "\n",
    "- Note: The ```usedCarSkuId``` is a unique identifier for each car. We would be using this column as the index of the dataframe\n",
    "- Note: Since we are using github lfs for storing the CSV files, the link mentioned in the notebook will expire in some time. Please visit this [link](https://github.com/chats-bug/Priceless-Wheels/blob/data-cleaning/data/raw/cardekho_cars_2023_03_19_16_44_14.csv) to get the data"
   ]
  },
  {
   "cell_type": "code",
   "execution_count": 2,
   "id": "21f88852",
   "metadata": {
    "execution": {
     "iopub.execute_input": "2023-03-25T19:14:15.120330Z",
     "iopub.status.busy": "2023-03-25T19:14:15.119990Z",
     "iopub.status.idle": "2023-03-25T19:14:17.814636Z",
     "shell.execute_reply": "2023-03-25T19:14:17.813015Z"
    },
    "papermill": {
     "duration": 2.723491,
     "end_time": "2023-03-25T19:14:17.817069",
     "exception": false,
     "start_time": "2023-03-25T19:14:15.093578",
     "status": "completed"
    },
    "tags": []
   },
   "outputs": [
    {
     "name": "stderr",
     "output_type": "stream",
     "text": [
      "/opt/conda/lib/python3.7/site-packages/IPython/core/interactiveshell.py:3553: DtypeWarning: Columns (25,43) have mixed types.Specify dtype option on import or set low_memory=False.\n",
      "  exec(code_obj, self.user_global_ns, self.user_ns)\n"
     ]
    },
    {
     "data": {
      "text/html": [
       "<div>\n",
       "<style scoped>\n",
       "    .dataframe tbody tr th:only-of-type {\n",
       "        vertical-align: middle;\n",
       "    }\n",
       "\n",
       "    .dataframe tbody tr th {\n",
       "        vertical-align: top;\n",
       "    }\n",
       "\n",
       "    .dataframe thead th {\n",
       "        text-align: right;\n",
       "    }\n",
       "</style>\n",
       "<table border=\"1\" class=\"dataframe\">\n",
       "  <thead>\n",
       "    <tr style=\"text-align: right;\">\n",
       "      <th></th>\n",
       "      <th>position</th>\n",
       "      <th>loc</th>\n",
       "      <th>myear</th>\n",
       "      <th>bt</th>\n",
       "      <th>tt</th>\n",
       "      <th>ft</th>\n",
       "      <th>km</th>\n",
       "      <th>ip</th>\n",
       "      <th>pi</th>\n",
       "      <th>images</th>\n",
       "      <th>...</th>\n",
       "      <th>owner_type</th>\n",
       "      <th>price_segment_new</th>\n",
       "      <th>template_name_new</th>\n",
       "      <th>page_template</th>\n",
       "      <th>template_Type_new</th>\n",
       "      <th>experiment</th>\n",
       "      <th>Fuel Suppy System</th>\n",
       "      <th>Compression Ratio</th>\n",
       "      <th>Alloy Wheel Size</th>\n",
       "      <th>Ground Clearance Unladen</th>\n",
       "    </tr>\n",
       "    <tr>\n",
       "      <th>usedCarSkuId</th>\n",
       "      <th></th>\n",
       "      <th></th>\n",
       "      <th></th>\n",
       "      <th></th>\n",
       "      <th></th>\n",
       "      <th></th>\n",
       "      <th></th>\n",
       "      <th></th>\n",
       "      <th></th>\n",
       "      <th></th>\n",
       "      <th></th>\n",
       "      <th></th>\n",
       "      <th></th>\n",
       "      <th></th>\n",
       "      <th></th>\n",
       "      <th></th>\n",
       "      <th></th>\n",
       "      <th></th>\n",
       "      <th></th>\n",
       "      <th></th>\n",
       "      <th></th>\n",
       "    </tr>\n",
       "  </thead>\n",
       "  <tbody>\n",
       "    <tr>\n",
       "      <th>7111bf25-97af-47f9-867b-40879190d800</th>\n",
       "      <td>1</td>\n",
       "      <td>Gomti Nagar</td>\n",
       "      <td>2016</td>\n",
       "      <td>Hatchback</td>\n",
       "      <td>Manual</td>\n",
       "      <td>CNG</td>\n",
       "      <td>69,162</td>\n",
       "      <td>0</td>\n",
       "      <td>https://images10.gaadi.com/usedcar_image/origi...</td>\n",
       "      <td>[{'img': 'https://images10.gaadi.com/usedcar_i...</td>\n",
       "      <td>...</td>\n",
       "      <td>first</td>\n",
       "      <td>2lakh-5lakh</td>\n",
       "      <td>used cardetail v2/corporate/13</td>\n",
       "      <td>Used Car &gt; Detail Page</td>\n",
       "      <td>used</td>\n",
       "      <td>control</td>\n",
       "      <td>NaN</td>\n",
       "      <td>NaN</td>\n",
       "      <td>NaN</td>\n",
       "      <td>NaN</td>\n",
       "    </tr>\n",
       "    <tr>\n",
       "      <th>c309efc1-efaf-4f82-81ad-dcb38eb36665</th>\n",
       "      <td>2</td>\n",
       "      <td>Borivali West</td>\n",
       "      <td>2015</td>\n",
       "      <td>Hatchback</td>\n",
       "      <td>Manual</td>\n",
       "      <td>CNG</td>\n",
       "      <td>45,864</td>\n",
       "      <td>0</td>\n",
       "      <td>https://images10.gaadi.com/usedcar_image/origi...</td>\n",
       "      <td>[{'img': 'https://images10.gaadi.com/usedcar_i...</td>\n",
       "      <td>...</td>\n",
       "      <td>first</td>\n",
       "      <td>2lakh-5lakh</td>\n",
       "      <td>used cardetail v2/corporate/13</td>\n",
       "      <td>Used Car &gt; Detail Page</td>\n",
       "      <td>used</td>\n",
       "      <td>control</td>\n",
       "      <td>Intelligent-Gas Port Injection</td>\n",
       "      <td>11.0:1</td>\n",
       "      <td>NaN</td>\n",
       "      <td>NaN</td>\n",
       "    </tr>\n",
       "    <tr>\n",
       "      <th>7609f710-0c97-4f00-9a47-9b9284b62d3a</th>\n",
       "      <td>3</td>\n",
       "      <td>JASOLA</td>\n",
       "      <td>2015</td>\n",
       "      <td>Sedan</td>\n",
       "      <td>Manual</td>\n",
       "      <td>CNG</td>\n",
       "      <td>81,506</td>\n",
       "      <td>0</td>\n",
       "      <td>https://images10.gaadi.com/usedcar_image/origi...</td>\n",
       "      <td>[{'img': 'https://images10.gaadi.com/usedcar_i...</td>\n",
       "      <td>...</td>\n",
       "      <td>second</td>\n",
       "      <td>2lakh-5lakh</td>\n",
       "      <td>used cardetail v2/corporate/13</td>\n",
       "      <td>Used Car &gt; Detail Page</td>\n",
       "      <td>used</td>\n",
       "      <td>control</td>\n",
       "      <td>NaN</td>\n",
       "      <td>NaN</td>\n",
       "      <td>NaN</td>\n",
       "      <td>NaN</td>\n",
       "    </tr>\n",
       "    <tr>\n",
       "      <th>278b76e3-5539-4a5e-ae3e-353a2e3b6d7d</th>\n",
       "      <td>4</td>\n",
       "      <td>jasola</td>\n",
       "      <td>2013</td>\n",
       "      <td>Hatchback</td>\n",
       "      <td>Manual</td>\n",
       "      <td>CNG</td>\n",
       "      <td>1,15,893</td>\n",
       "      <td>0</td>\n",
       "      <td>NaN</td>\n",
       "      <td>[{'img': ''}]</td>\n",
       "      <td>...</td>\n",
       "      <td>second</td>\n",
       "      <td>2lakh-5lakh</td>\n",
       "      <td>used cardetail v2/corporate/13</td>\n",
       "      <td>Used Car &gt; Detail Page</td>\n",
       "      <td>used</td>\n",
       "      <td>control</td>\n",
       "      <td>MPFI</td>\n",
       "      <td>NaN</td>\n",
       "      <td>13</td>\n",
       "      <td>NaN</td>\n",
       "    </tr>\n",
       "    <tr>\n",
       "      <th>b1eab99b-a606-48dd-a75b-57feb8a9ad92</th>\n",
       "      <td>5</td>\n",
       "      <td>mumbai g.p.o.</td>\n",
       "      <td>2022</td>\n",
       "      <td>MUV</td>\n",
       "      <td>Manual</td>\n",
       "      <td>CNG</td>\n",
       "      <td>18,900</td>\n",
       "      <td>0</td>\n",
       "      <td>https://images10.gaadi.com/usedcar_image/origi...</td>\n",
       "      <td>[{'img': 'https://images10.gaadi.com/usedcar_i...</td>\n",
       "      <td>...</td>\n",
       "      <td>first</td>\n",
       "      <td>10+lakh</td>\n",
       "      <td>used cardetail v2</td>\n",
       "      <td>Used Car &gt; Detail Page</td>\n",
       "      <td>used</td>\n",
       "      <td>control</td>\n",
       "      <td>NaN</td>\n",
       "      <td>12.0+-.03</td>\n",
       "      <td>NaN</td>\n",
       "      <td>NaN</td>\n",
       "    </tr>\n",
       "  </tbody>\n",
       "</table>\n",
       "<p>5 rows × 139 columns</p>\n",
       "</div>"
      ],
      "text/plain": [
       "                                      position            loc  myear  \\\n",
       "usedCarSkuId                                                           \n",
       "7111bf25-97af-47f9-867b-40879190d800         1    Gomti Nagar   2016   \n",
       "c309efc1-efaf-4f82-81ad-dcb38eb36665         2  Borivali West   2015   \n",
       "7609f710-0c97-4f00-9a47-9b9284b62d3a         3         JASOLA   2015   \n",
       "278b76e3-5539-4a5e-ae3e-353a2e3b6d7d         4         jasola   2013   \n",
       "b1eab99b-a606-48dd-a75b-57feb8a9ad92         5  mumbai g.p.o.   2022   \n",
       "\n",
       "                                             bt      tt   ft        km  ip  \\\n",
       "usedCarSkuId                                                                 \n",
       "7111bf25-97af-47f9-867b-40879190d800  Hatchback  Manual  CNG    69,162   0   \n",
       "c309efc1-efaf-4f82-81ad-dcb38eb36665  Hatchback  Manual  CNG    45,864   0   \n",
       "7609f710-0c97-4f00-9a47-9b9284b62d3a      Sedan  Manual  CNG    81,506   0   \n",
       "278b76e3-5539-4a5e-ae3e-353a2e3b6d7d  Hatchback  Manual  CNG  1,15,893   0   \n",
       "b1eab99b-a606-48dd-a75b-57feb8a9ad92        MUV  Manual  CNG    18,900   0   \n",
       "\n",
       "                                                                                     pi  \\\n",
       "usedCarSkuId                                                                              \n",
       "7111bf25-97af-47f9-867b-40879190d800  https://images10.gaadi.com/usedcar_image/origi...   \n",
       "c309efc1-efaf-4f82-81ad-dcb38eb36665  https://images10.gaadi.com/usedcar_image/origi...   \n",
       "7609f710-0c97-4f00-9a47-9b9284b62d3a  https://images10.gaadi.com/usedcar_image/origi...   \n",
       "278b76e3-5539-4a5e-ae3e-353a2e3b6d7d                                                NaN   \n",
       "b1eab99b-a606-48dd-a75b-57feb8a9ad92  https://images10.gaadi.com/usedcar_image/origi...   \n",
       "\n",
       "                                                                                 images  \\\n",
       "usedCarSkuId                                                                              \n",
       "7111bf25-97af-47f9-867b-40879190d800  [{'img': 'https://images10.gaadi.com/usedcar_i...   \n",
       "c309efc1-efaf-4f82-81ad-dcb38eb36665  [{'img': 'https://images10.gaadi.com/usedcar_i...   \n",
       "7609f710-0c97-4f00-9a47-9b9284b62d3a  [{'img': 'https://images10.gaadi.com/usedcar_i...   \n",
       "278b76e3-5539-4a5e-ae3e-353a2e3b6d7d                                      [{'img': ''}]   \n",
       "b1eab99b-a606-48dd-a75b-57feb8a9ad92  [{'img': 'https://images10.gaadi.com/usedcar_i...   \n",
       "\n",
       "                                      ...  owner_type  price_segment_new  \\\n",
       "usedCarSkuId                          ...                                  \n",
       "7111bf25-97af-47f9-867b-40879190d800  ...       first        2lakh-5lakh   \n",
       "c309efc1-efaf-4f82-81ad-dcb38eb36665  ...       first        2lakh-5lakh   \n",
       "7609f710-0c97-4f00-9a47-9b9284b62d3a  ...      second        2lakh-5lakh   \n",
       "278b76e3-5539-4a5e-ae3e-353a2e3b6d7d  ...      second        2lakh-5lakh   \n",
       "b1eab99b-a606-48dd-a75b-57feb8a9ad92  ...       first            10+lakh   \n",
       "\n",
       "                                                   template_name_new  \\\n",
       "usedCarSkuId                                                           \n",
       "7111bf25-97af-47f9-867b-40879190d800  used cardetail v2/corporate/13   \n",
       "c309efc1-efaf-4f82-81ad-dcb38eb36665  used cardetail v2/corporate/13   \n",
       "7609f710-0c97-4f00-9a47-9b9284b62d3a  used cardetail v2/corporate/13   \n",
       "278b76e3-5539-4a5e-ae3e-353a2e3b6d7d  used cardetail v2/corporate/13   \n",
       "b1eab99b-a606-48dd-a75b-57feb8a9ad92               used cardetail v2   \n",
       "\n",
       "                                               page_template  \\\n",
       "usedCarSkuId                                                   \n",
       "7111bf25-97af-47f9-867b-40879190d800  Used Car > Detail Page   \n",
       "c309efc1-efaf-4f82-81ad-dcb38eb36665  Used Car > Detail Page   \n",
       "7609f710-0c97-4f00-9a47-9b9284b62d3a  Used Car > Detail Page   \n",
       "278b76e3-5539-4a5e-ae3e-353a2e3b6d7d  Used Car > Detail Page   \n",
       "b1eab99b-a606-48dd-a75b-57feb8a9ad92  Used Car > Detail Page   \n",
       "\n",
       "                                     template_Type_new  experiment  \\\n",
       "usedCarSkuId                                                         \n",
       "7111bf25-97af-47f9-867b-40879190d800              used     control   \n",
       "c309efc1-efaf-4f82-81ad-dcb38eb36665              used     control   \n",
       "7609f710-0c97-4f00-9a47-9b9284b62d3a              used     control   \n",
       "278b76e3-5539-4a5e-ae3e-353a2e3b6d7d              used     control   \n",
       "b1eab99b-a606-48dd-a75b-57feb8a9ad92              used     control   \n",
       "\n",
       "                                                   Fuel Suppy System  \\\n",
       "usedCarSkuId                                                           \n",
       "7111bf25-97af-47f9-867b-40879190d800                             NaN   \n",
       "c309efc1-efaf-4f82-81ad-dcb38eb36665  Intelligent-Gas Port Injection   \n",
       "7609f710-0c97-4f00-9a47-9b9284b62d3a                             NaN   \n",
       "278b76e3-5539-4a5e-ae3e-353a2e3b6d7d                            MPFI   \n",
       "b1eab99b-a606-48dd-a75b-57feb8a9ad92                             NaN   \n",
       "\n",
       "                                      Compression Ratio Alloy Wheel Size  \\\n",
       "usedCarSkuId                                                               \n",
       "7111bf25-97af-47f9-867b-40879190d800                NaN              NaN   \n",
       "c309efc1-efaf-4f82-81ad-dcb38eb36665             11.0:1              NaN   \n",
       "7609f710-0c97-4f00-9a47-9b9284b62d3a                NaN              NaN   \n",
       "278b76e3-5539-4a5e-ae3e-353a2e3b6d7d                NaN               13   \n",
       "b1eab99b-a606-48dd-a75b-57feb8a9ad92          12.0+-.03              NaN   \n",
       "\n",
       "                                     Ground Clearance Unladen  \n",
       "usedCarSkuId                                                   \n",
       "7111bf25-97af-47f9-867b-40879190d800                      NaN  \n",
       "c309efc1-efaf-4f82-81ad-dcb38eb36665                      NaN  \n",
       "7609f710-0c97-4f00-9a47-9b9284b62d3a                      NaN  \n",
       "278b76e3-5539-4a5e-ae3e-353a2e3b6d7d                      NaN  \n",
       "b1eab99b-a606-48dd-a75b-57feb8a9ad92                      NaN  \n",
       "\n",
       "[5 rows x 139 columns]"
      ]
     },
     "execution_count": 2,
     "metadata": {},
     "output_type": "execute_result"
    }
   ],
   "source": [
    "# The data can be found on kaggle link: https://www.kaggle.com/datasets/sukritchatterjee/used-cars-dataset-cardekho\n",
    "\n",
    "file_path = \"/kaggle/input/used-cars-dataset-cardekho/cars_details_merges.csv\"\n",
    "df = pd.read_csv(file_path, index_col=\"usedCarSkuId\")\n",
    "\n",
    "# sanity check\n",
    "df.head()"
   ]
  },
  {
   "cell_type": "markdown",
   "id": "21e911af",
   "metadata": {
    "papermill": {
     "duration": 0.024195,
     "end_time": "2023-03-25T19:14:17.866328",
     "exception": false,
     "start_time": "2023-03-25T19:14:17.842133",
     "status": "completed"
    },
    "tags": []
   },
   "source": [
    "The data has imported with some mixed data types. We will need to convert the data types as we explore the data."
   ]
  },
  {
   "cell_type": "code",
   "execution_count": 3,
   "id": "28301aa6",
   "metadata": {
    "execution": {
     "iopub.execute_input": "2023-03-25T19:14:17.915825Z",
     "iopub.status.busy": "2023-03-25T19:14:17.915451Z",
     "iopub.status.idle": "2023-03-25T19:14:17.921231Z",
     "shell.execute_reply": "2023-03-25T19:14:17.919885Z"
    },
    "papermill": {
     "duration": 0.032751,
     "end_time": "2023-03-25T19:14:17.923093",
     "exception": false,
     "start_time": "2023-03-25T19:14:17.890342",
     "status": "completed"
    },
    "tags": []
   },
   "outputs": [
    {
     "name": "stdout",
     "output_type": "stream",
     "text": [
      "The shape of the dataframe is 37814 rows and 139 columns\n"
     ]
    }
   ],
   "source": [
    "# checking the shape of the dataset\n",
    "shape = df.shape\n",
    "\n",
    "print(f\"The shape of the dataframe is {shape[0]} rows and {shape[1]} columns\")"
   ]
  },
  {
   "cell_type": "markdown",
   "id": "35018b7c",
   "metadata": {
    "papermill": {
     "duration": 0.023921,
     "end_time": "2023-03-25T19:14:17.970866",
     "exception": false,
     "start_time": "2023-03-25T19:14:17.946945",
     "status": "completed"
    },
    "tags": []
   },
   "source": [
    "As we can see, there are 37,814 rows and 139 columns in the dataset.\n",
    "\n",
    "Let's look at the data types of the columns."
   ]
  },
  {
   "cell_type": "code",
   "execution_count": 4,
   "id": "52f5ee61",
   "metadata": {
    "execution": {
     "iopub.execute_input": "2023-03-25T19:14:18.021516Z",
     "iopub.status.busy": "2023-03-25T19:14:18.021102Z",
     "iopub.status.idle": "2023-03-25T19:14:18.046587Z",
     "shell.execute_reply": "2023-03-25T19:14:18.045103Z"
    },
    "papermill": {
     "duration": 0.053782,
     "end_time": "2023-03-25T19:14:18.049633",
     "exception": false,
     "start_time": "2023-03-25T19:14:17.995851",
     "status": "completed"
    },
    "tags": []
   },
   "outputs": [
    {
     "name": "stdout",
     "output_type": "stream",
     "text": [
      "<class 'pandas.core.frame.DataFrame'>\n",
      "Index: 37814 entries, 7111bf25-97af-47f9-867b-40879190d800 to a96fbcd7-c183-4829-ae97-b2581afe4bac\n",
      "Columns: 139 entries, position to Ground Clearance Unladen\n",
      "dtypes: bool(3), float64(10), int64(28), object(98)\n",
      "memory usage: 39.6+ MB\n"
     ]
    }
   ],
   "source": [
    "df.info()"
   ]
  },
  {
   "cell_type": "markdown",
   "id": "99d082cf",
   "metadata": {
    "papermill": {
     "duration": 0.023645,
     "end_time": "2023-03-25T19:14:18.097393",
     "exception": false,
     "start_time": "2023-03-25T19:14:18.073748",
     "status": "completed"
    },
    "tags": []
   },
   "source": [
    "Let's take a look at the feature dictionary provided with the dataset."
   ]
  },
  {
   "cell_type": "code",
   "execution_count": 5,
   "id": "e7bdf3a5",
   "metadata": {
    "execution": {
     "iopub.execute_input": "2023-03-25T19:14:18.147590Z",
     "iopub.status.busy": "2023-03-25T19:14:18.147212Z",
     "iopub.status.idle": "2023-03-25T19:14:18.168016Z",
     "shell.execute_reply": "2023-03-25T19:14:18.167065Z"
    },
    "papermill": {
     "duration": 0.048369,
     "end_time": "2023-03-25T19:14:18.170140",
     "exception": false,
     "start_time": "2023-03-25T19:14:18.121771",
     "status": "completed"
    },
    "tags": []
   },
   "outputs": [
    {
     "data": {
      "text/html": [
       "<div>\n",
       "<style scoped>\n",
       "    .dataframe tbody tr th:only-of-type {\n",
       "        vertical-align: middle;\n",
       "    }\n",
       "\n",
       "    .dataframe tbody tr th {\n",
       "        vertical-align: top;\n",
       "    }\n",
       "\n",
       "    .dataframe thead th {\n",
       "        text-align: right;\n",
       "    }\n",
       "</style>\n",
       "<table border=\"1\" class=\"dataframe\">\n",
       "  <thead>\n",
       "    <tr style=\"text-align: right;\">\n",
       "      <th></th>\n",
       "      <th>Feature</th>\n",
       "      <th>Type</th>\n",
       "      <th>Sample</th>\n",
       "      <th>Missing Values</th>\n",
       "      <th>Unique Values</th>\n",
       "      <th>Description</th>\n",
       "    </tr>\n",
       "  </thead>\n",
       "  <tbody>\n",
       "    <tr>\n",
       "      <th>0</th>\n",
       "      <td>position</td>\n",
       "      <td>int64</td>\n",
       "      <td>1</td>\n",
       "      <td>0</td>\n",
       "      <td>20</td>\n",
       "      <td>Position of the car in the list</td>\n",
       "    </tr>\n",
       "    <tr>\n",
       "      <th>1</th>\n",
       "      <td>loc</td>\n",
       "      <td>object</td>\n",
       "      <td>Gomti Nagar</td>\n",
       "      <td>5851</td>\n",
       "      <td>511</td>\n",
       "      <td>Location of the car</td>\n",
       "    </tr>\n",
       "    <tr>\n",
       "      <th>2</th>\n",
       "      <td>myear</td>\n",
       "      <td>int64</td>\n",
       "      <td>2016</td>\n",
       "      <td>0</td>\n",
       "      <td>34</td>\n",
       "      <td>Manufacturing year of the car</td>\n",
       "    </tr>\n",
       "    <tr>\n",
       "      <th>3</th>\n",
       "      <td>bt</td>\n",
       "      <td>object</td>\n",
       "      <td>Hatchback</td>\n",
       "      <td>19</td>\n",
       "      <td>11</td>\n",
       "      <td>Body type of the car</td>\n",
       "    </tr>\n",
       "    <tr>\n",
       "      <th>4</th>\n",
       "      <td>tt</td>\n",
       "      <td>object</td>\n",
       "      <td>Manual</td>\n",
       "      <td>0</td>\n",
       "      <td>2</td>\n",
       "      <td>Transmission type of the car</td>\n",
       "    </tr>\n",
       "    <tr>\n",
       "      <th>...</th>\n",
       "      <td>...</td>\n",
       "      <td>...</td>\n",
       "      <td>...</td>\n",
       "      <td>...</td>\n",
       "      <td>...</td>\n",
       "      <td>...</td>\n",
       "    </tr>\n",
       "    <tr>\n",
       "      <th>135</th>\n",
       "      <td>experiment</td>\n",
       "      <td>object</td>\n",
       "      <td>control</td>\n",
       "      <td>0</td>\n",
       "      <td>1</td>\n",
       "      <td>control</td>\n",
       "    </tr>\n",
       "    <tr>\n",
       "      <th>136</th>\n",
       "      <td>Fuel Suppy System</td>\n",
       "      <td>object</td>\n",
       "      <td>NaN</td>\n",
       "      <td>5502</td>\n",
       "      <td>99</td>\n",
       "      <td>Type of fuel supply system (Carburetor, Fuel I...</td>\n",
       "    </tr>\n",
       "    <tr>\n",
       "      <th>137</th>\n",
       "      <td>Compression Ratio</td>\n",
       "      <td>object</td>\n",
       "      <td>NaN</td>\n",
       "      <td>27642</td>\n",
       "      <td>100</td>\n",
       "      <td>Compression ratio of the engine</td>\n",
       "    </tr>\n",
       "    <tr>\n",
       "      <th>138</th>\n",
       "      <td>Alloy Wheel Size</td>\n",
       "      <td>object</td>\n",
       "      <td>NaN</td>\n",
       "      <td>13146</td>\n",
       "      <td>18</td>\n",
       "      <td>Size of the alloy wheels in inches</td>\n",
       "    </tr>\n",
       "    <tr>\n",
       "      <th>139</th>\n",
       "      <td>Ground Clearance Unladen</td>\n",
       "      <td>object</td>\n",
       "      <td>NaN</td>\n",
       "      <td>35662</td>\n",
       "      <td>31</td>\n",
       "      <td>Ground clearance of the car when it is not loa...</td>\n",
       "    </tr>\n",
       "  </tbody>\n",
       "</table>\n",
       "<p>140 rows × 6 columns</p>\n",
       "</div>"
      ],
      "text/plain": [
       "                      Feature    Type       Sample  Missing Values  \\\n",
       "0                    position   int64            1               0   \n",
       "1                         loc  object  Gomti Nagar            5851   \n",
       "2                       myear   int64         2016               0   \n",
       "3                          bt  object    Hatchback              19   \n",
       "4                          tt  object       Manual               0   \n",
       "..                        ...     ...          ...             ...   \n",
       "135                experiment  object      control               0   \n",
       "136         Fuel Suppy System  object          NaN            5502   \n",
       "137         Compression Ratio  object          NaN           27642   \n",
       "138          Alloy Wheel Size  object          NaN           13146   \n",
       "139  Ground Clearance Unladen  object          NaN           35662   \n",
       "\n",
       "     Unique Values                                        Description  \n",
       "0               20                    Position of the car in the list  \n",
       "1              511                                Location of the car  \n",
       "2               34                      Manufacturing year of the car  \n",
       "3               11                               Body type of the car  \n",
       "4                2                       Transmission type of the car  \n",
       "..             ...                                                ...  \n",
       "135              1                                            control  \n",
       "136             99  Type of fuel supply system (Carburetor, Fuel I...  \n",
       "137            100                    Compression ratio of the engine  \n",
       "138             18                 Size of the alloy wheels in inches  \n",
       "139             31  Ground clearance of the car when it is not loa...  \n",
       "\n",
       "[140 rows x 6 columns]"
      ]
     },
     "execution_count": 5,
     "metadata": {},
     "output_type": "execute_result"
    }
   ],
   "source": [
    "feature_dictionary = pd.read_csv(\"/kaggle/input/used-cars-dataset-cardekho/feature_dictionary.csv\")\n",
    "feature_dictionary"
   ]
  },
  {
   "cell_type": "markdown",
   "id": "62da88c9",
   "metadata": {
    "papermill": {
     "duration": 0.023878,
     "end_time": "2023-03-25T19:14:18.219579",
     "exception": false,
     "start_time": "2023-03-25T19:14:18.195701",
     "status": "completed"
    },
    "tags": []
   },
   "source": [
    "Now comes the difficult task. Go through the feature dictionary and remove the unwanted columns - features which might be repeated but not totally apparent. Note down the columns which makes sense to keep and are not repeating and delete the rest."
   ]
  },
  {
   "cell_type": "code",
   "execution_count": 6,
   "id": "541449df",
   "metadata": {
    "execution": {
     "iopub.execute_input": "2023-03-25T19:14:18.270434Z",
     "iopub.status.busy": "2023-03-25T19:14:18.269952Z",
     "iopub.status.idle": "2023-03-25T19:14:18.297711Z",
     "shell.execute_reply": "2023-03-25T19:14:18.296657Z"
    },
    "papermill": {
     "duration": 0.056565,
     "end_time": "2023-03-25T19:14:18.300368",
     "exception": false,
     "start_time": "2023-03-25T19:14:18.243803",
     "status": "completed"
    },
    "tags": []
   },
   "outputs": [
    {
     "name": "stdout",
     "output_type": "stream",
     "text": [
      "After dropping some unnecessary columns, the dataset now has 62 columns. These columns are hand picked and will be be further analyzed.\n"
     ]
    }
   ],
   "source": [
    "columns_to_keep = [\n",
    "    \"loc\",\n",
    "    \"myear\",\n",
    "    \"bt\",\n",
    "    \"tt\",\n",
    "    \"ft\",\n",
    "    \"km\",\n",
    "    \"ip\",\n",
    "    \"images\",\n",
    "    \"imgCount\",\n",
    "    \"threesixty\",\n",
    "    \"dvn\",\n",
    "    \"oem\",\n",
    "    \"model\",\n",
    "    \"variantName\",\n",
    "    \"city_x\",\n",
    "    \"pu\",\n",
    "    \"discountValue\",\n",
    "    \"utype\",\n",
    "    \"carType\", \n",
    "    \"top_features\",\n",
    "    \"comfort_features\",\n",
    "    \"interior_features\",\n",
    "    \"exterior_features\",\n",
    "    \"safety_features\",\n",
    "    \"Color\",\n",
    "    \"Engine Type\",\n",
    "    \"Max Power\",\n",
    "    \"Max Torque\",\n",
    "    \"No of Cylinder\",\n",
    "    \"Values per Cylinder\",\n",
    "    \"Value Configuration\",\n",
    "    \"BoreX Stroke\",\n",
    "    \"Turbo Charger\",\n",
    "    \"Super Charger\",\n",
    "    \"Length\",\n",
    "    \"Width\",\n",
    "    \"Height\",\n",
    "    \"Wheel Base\",\n",
    "    \"Front Tread\",\n",
    "    \"Rear Tread\",\n",
    "    \"Kerb Weight\",\n",
    "    \"Gross Weight\",\n",
    "    \"Gear Box\",\n",
    "    \"Drive Type\",\n",
    "    \"Seating Capacity\",\n",
    "    \"Steering Type\",\n",
    "    \"Turning Radius\",\n",
    "    \"Front Brake Type\",\n",
    "    \"Rear Brake Type\",\n",
    "    \"Top Speed\",\n",
    "    \"Acceleration\",\n",
    "    \"Tyre Type\",\n",
    "    \"No Door Numbers\",\n",
    "    \"Cargo Volumn\",\n",
    "    \"model_type_new\",\n",
    "    \"state\",\n",
    "    \"owner_type\",\n",
    "    \"exterior_color\",\n",
    "    \"Fuel Suppy System\",\n",
    "    \"Compression Ratio\",\n",
    "    \"Alloy Wheel Size\",\n",
    "    \"Ground Clearance Unladen\",\n",
    "]\n",
    "\n",
    "df.drop([x for x in df.columns if x not in columns_to_keep], axis=1, inplace=True)\n",
    "print(f\"After dropping some unnecessary columns, the dataset now has {df.shape[1]} columns. These columns are hand picked and will be be further analyzed.\")"
   ]
  },
  {
   "cell_type": "markdown",
   "id": "47731454",
   "metadata": {
    "papermill": {
     "duration": 0.023952,
     "end_time": "2023-03-25T19:14:18.349369",
     "exception": false,
     "start_time": "2023-03-25T19:14:18.325417",
     "status": "completed"
    },
    "tags": []
   },
   "source": [
    "---"
   ]
  },
  {
   "cell_type": "markdown",
   "id": "38a95283",
   "metadata": {
    "papermill": {
     "duration": 0.023709,
     "end_time": "2023-03-25T19:14:18.397963",
     "exception": false,
     "start_time": "2023-03-25T19:14:18.374254",
     "status": "completed"
    },
    "tags": []
   },
   "source": [
    "### Data cleaning and wrangling\n",
    "\n",
    "* Dropping duplicate rows\n",
    "* Fixing the values and data types of the columns\n",
    "* Checking for multicollinearity and determining how to handle it\n",
    "* Dropping irrelevant columns for the model\n",
    "* Saving the cleaned data for the next part of the project\n",
    "\n",
    "---"
   ]
  },
  {
   "cell_type": "markdown",
   "id": "8f8466c6",
   "metadata": {
    "papermill": {
     "duration": 0.024065,
     "end_time": "2023-03-25T19:14:18.447453",
     "exception": false,
     "start_time": "2023-03-25T19:14:18.423388",
     "status": "completed"
    },
    "tags": []
   },
   "source": [
    "### Duplicates\n",
    "\n",
    "We know that there should be no duplicates in the data. They are checked for and removed at the time of data collection. *(Trust me, I collected it myself 😉 )*"
   ]
  },
  {
   "cell_type": "code",
   "execution_count": 7,
   "id": "98c91f16",
   "metadata": {
    "execution": {
     "iopub.execute_input": "2023-03-25T19:14:18.498635Z",
     "iopub.status.busy": "2023-03-25T19:14:18.497756Z",
     "iopub.status.idle": "2023-03-25T19:14:18.745419Z",
     "shell.execute_reply": "2023-03-25T19:14:18.743909Z"
    },
    "papermill": {
     "duration": 0.276179,
     "end_time": "2023-03-25T19:14:18.748028",
     "exception": false,
     "start_time": "2023-03-25T19:14:18.471849",
     "status": "completed"
    },
    "tags": []
   },
   "outputs": [
    {
     "name": "stdout",
     "output_type": "stream",
     "text": [
      "The number of duplicate rows are 1.\n"
     ]
    }
   ],
   "source": [
    "# checking for duplicate rows\n",
    "duplucate_rows = df.duplicated().sum()\n",
    "\n",
    "print(f\"The number of duplicate rows are {duplucate_rows}.\")"
   ]
  },
  {
   "cell_type": "markdown",
   "id": "6abfd45d",
   "metadata": {
    "papermill": {
     "duration": 0.025095,
     "end_time": "2023-03-25T19:14:18.797384",
     "exception": false,
     "start_time": "2023-03-25T19:14:18.772289",
     "status": "completed"
    },
    "tags": []
   },
   "source": [
    "Somehow, one duplicate row sneaked in (that's awkward 🫣)! Let's check the rows."
   ]
  },
  {
   "cell_type": "code",
   "execution_count": 8,
   "id": "4789a7d6",
   "metadata": {
    "execution": {
     "iopub.execute_input": "2023-03-25T19:14:18.848909Z",
     "iopub.status.busy": "2023-03-25T19:14:18.848549Z",
     "iopub.status.idle": "2023-03-25T19:14:19.108255Z",
     "shell.execute_reply": "2023-03-25T19:14:19.107087Z"
    },
    "papermill": {
     "duration": 0.288691,
     "end_time": "2023-03-25T19:14:19.111117",
     "exception": false,
     "start_time": "2023-03-25T19:14:18.822426",
     "status": "completed"
    },
    "tags": []
   },
   "outputs": [
    {
     "data": {
      "text/html": [
       "<div>\n",
       "<style scoped>\n",
       "    .dataframe tbody tr th:only-of-type {\n",
       "        vertical-align: middle;\n",
       "    }\n",
       "\n",
       "    .dataframe tbody tr th {\n",
       "        vertical-align: top;\n",
       "    }\n",
       "\n",
       "    .dataframe thead th {\n",
       "        text-align: right;\n",
       "    }\n",
       "</style>\n",
       "<table border=\"1\" class=\"dataframe\">\n",
       "  <thead>\n",
       "    <tr style=\"text-align: right;\">\n",
       "      <th></th>\n",
       "      <th>loc</th>\n",
       "      <th>myear</th>\n",
       "      <th>bt</th>\n",
       "      <th>tt</th>\n",
       "      <th>ft</th>\n",
       "      <th>km</th>\n",
       "      <th>ip</th>\n",
       "      <th>images</th>\n",
       "      <th>imgCount</th>\n",
       "      <th>threesixty</th>\n",
       "      <th>...</th>\n",
       "      <th>No Door Numbers</th>\n",
       "      <th>Cargo Volumn</th>\n",
       "      <th>model_type_new</th>\n",
       "      <th>state</th>\n",
       "      <th>exterior_color</th>\n",
       "      <th>owner_type</th>\n",
       "      <th>Fuel Suppy System</th>\n",
       "      <th>Compression Ratio</th>\n",
       "      <th>Alloy Wheel Size</th>\n",
       "      <th>Ground Clearance Unladen</th>\n",
       "    </tr>\n",
       "    <tr>\n",
       "      <th>usedCarSkuId</th>\n",
       "      <th></th>\n",
       "      <th></th>\n",
       "      <th></th>\n",
       "      <th></th>\n",
       "      <th></th>\n",
       "      <th></th>\n",
       "      <th></th>\n",
       "      <th></th>\n",
       "      <th></th>\n",
       "      <th></th>\n",
       "      <th></th>\n",
       "      <th></th>\n",
       "      <th></th>\n",
       "      <th></th>\n",
       "      <th></th>\n",
       "      <th></th>\n",
       "      <th></th>\n",
       "      <th></th>\n",
       "      <th></th>\n",
       "      <th></th>\n",
       "      <th></th>\n",
       "    </tr>\n",
       "  </thead>\n",
       "  <tbody>\n",
       "    <tr>\n",
       "      <th>aa39e640-6183-4379-a517-9f5b2458b2a5</th>\n",
       "      <td>NaN</td>\n",
       "      <td>2014</td>\n",
       "      <td>Hatchback</td>\n",
       "      <td>Manual</td>\n",
       "      <td>Diesel</td>\n",
       "      <td>70,000</td>\n",
       "      <td>0</td>\n",
       "      <td>[{'img': ''}]</td>\n",
       "      <td>0</td>\n",
       "      <td>False</td>\n",
       "      <td>...</td>\n",
       "      <td>5.000</td>\n",
       "      <td>204-liters</td>\n",
       "      <td>used</td>\n",
       "      <td>uttar pradesh</td>\n",
       "      <td>Silver</td>\n",
       "      <td>second</td>\n",
       "      <td>CRDI</td>\n",
       "      <td>17.6:1</td>\n",
       "      <td>NaN</td>\n",
       "      <td>NaN</td>\n",
       "    </tr>\n",
       "    <tr>\n",
       "      <th>ce8b30d8-c438-4a2f-bce1-5c1887a95495</th>\n",
       "      <td>NaN</td>\n",
       "      <td>2014</td>\n",
       "      <td>Hatchback</td>\n",
       "      <td>Manual</td>\n",
       "      <td>Diesel</td>\n",
       "      <td>70,000</td>\n",
       "      <td>0</td>\n",
       "      <td>[{'img': ''}]</td>\n",
       "      <td>0</td>\n",
       "      <td>False</td>\n",
       "      <td>...</td>\n",
       "      <td>5.000</td>\n",
       "      <td>204-liters</td>\n",
       "      <td>used</td>\n",
       "      <td>uttar pradesh</td>\n",
       "      <td>Silver</td>\n",
       "      <td>second</td>\n",
       "      <td>CRDI</td>\n",
       "      <td>17.6:1</td>\n",
       "      <td>NaN</td>\n",
       "      <td>NaN</td>\n",
       "    </tr>\n",
       "  </tbody>\n",
       "</table>\n",
       "<p>2 rows × 62 columns</p>\n",
       "</div>"
      ],
      "text/plain": [
       "                                      loc  myear         bt      tt      ft  \\\n",
       "usedCarSkuId                                                                  \n",
       "aa39e640-6183-4379-a517-9f5b2458b2a5  NaN   2014  Hatchback  Manual  Diesel   \n",
       "ce8b30d8-c438-4a2f-bce1-5c1887a95495  NaN   2014  Hatchback  Manual  Diesel   \n",
       "\n",
       "                                          km  ip         images  imgCount  \\\n",
       "usedCarSkuId                                                                \n",
       "aa39e640-6183-4379-a517-9f5b2458b2a5  70,000   0  [{'img': ''}]         0   \n",
       "ce8b30d8-c438-4a2f-bce1-5c1887a95495  70,000   0  [{'img': ''}]         0   \n",
       "\n",
       "                                      threesixty  ... No Door Numbers  \\\n",
       "usedCarSkuId                                      ...                   \n",
       "aa39e640-6183-4379-a517-9f5b2458b2a5       False  ...           5.000   \n",
       "ce8b30d8-c438-4a2f-bce1-5c1887a95495       False  ...           5.000   \n",
       "\n",
       "                                     Cargo Volumn model_type_new  \\\n",
       "usedCarSkuId                                                       \n",
       "aa39e640-6183-4379-a517-9f5b2458b2a5   204-liters           used   \n",
       "ce8b30d8-c438-4a2f-bce1-5c1887a95495   204-liters           used   \n",
       "\n",
       "                                              state exterior_color owner_type  \\\n",
       "usedCarSkuId                                                                    \n",
       "aa39e640-6183-4379-a517-9f5b2458b2a5  uttar pradesh         Silver     second   \n",
       "ce8b30d8-c438-4a2f-bce1-5c1887a95495  uttar pradesh         Silver     second   \n",
       "\n",
       "                                      Fuel Suppy System Compression Ratio  \\\n",
       "usedCarSkuId                                                                \n",
       "aa39e640-6183-4379-a517-9f5b2458b2a5               CRDI            17.6:1   \n",
       "ce8b30d8-c438-4a2f-bce1-5c1887a95495               CRDI            17.6:1   \n",
       "\n",
       "                                     Alloy Wheel Size Ground Clearance Unladen  \n",
       "usedCarSkuId                                                                    \n",
       "aa39e640-6183-4379-a517-9f5b2458b2a5              NaN                      NaN  \n",
       "ce8b30d8-c438-4a2f-bce1-5c1887a95495              NaN                      NaN  \n",
       "\n",
       "[2 rows x 62 columns]"
      ]
     },
     "execution_count": 8,
     "metadata": {},
     "output_type": "execute_result"
    }
   ],
   "source": [
    "# setting the duplicated index\n",
    "duplicate_index = df.duplicated(keep=False)\n",
    "\n",
    "# calling the duplicated index in a dataframe\n",
    "df.loc[duplicate_index, :].sort_index()"
   ]
  },
  {
   "cell_type": "markdown",
   "id": "665d6478",
   "metadata": {
    "papermill": {
     "duration": 0.035626,
     "end_time": "2023-03-25T19:14:19.171947",
     "exception": false,
     "start_time": "2023-03-25T19:14:19.136321",
     "status": "completed"
    },
    "tags": []
   },
   "source": [
    "As we can see, the rows are exactly the same. This means we can safely drop the row. Since the we indexed by the usedCarSkuId, we need to drop one of them by their index."
   ]
  },
  {
   "cell_type": "code",
   "execution_count": 9,
   "id": "810bc8b2",
   "metadata": {
    "execution": {
     "iopub.execute_input": "2023-03-25T19:14:19.236493Z",
     "iopub.status.busy": "2023-03-25T19:14:19.236134Z",
     "iopub.status.idle": "2023-03-25T19:14:19.746212Z",
     "shell.execute_reply": "2023-03-25T19:14:19.744519Z"
    },
    "papermill": {
     "duration": 0.541913,
     "end_time": "2023-03-25T19:14:19.748785",
     "exception": false,
     "start_time": "2023-03-25T19:14:19.206872",
     "status": "completed"
    },
    "tags": []
   },
   "outputs": [
    {
     "name": "stdout",
     "output_type": "stream",
     "text": [
      "The number of duplicate rows are 0.\n"
     ]
    }
   ],
   "source": [
    "# making a copy with the duplicated rows dropped\n",
    "df2 = df.drop_duplicates().copy()\n",
    "\n",
    "# checking for duplicate rows in the new dataframe\n",
    "dup = df2.duplicated().sum()\n",
    "\n",
    "print(f\"The number of duplicate rows are {dup}.\")"
   ]
  },
  {
   "cell_type": "code",
   "execution_count": 10,
   "id": "8640e653",
   "metadata": {
    "execution": {
     "iopub.execute_input": "2023-03-25T19:14:19.800601Z",
     "iopub.status.busy": "2023-03-25T19:14:19.800187Z",
     "iopub.status.idle": "2023-03-25T19:14:19.825926Z",
     "shell.execute_reply": "2023-03-25T19:14:19.824829Z"
    },
    "papermill": {
     "duration": 0.054017,
     "end_time": "2023-03-25T19:14:19.827919",
     "exception": false,
     "start_time": "2023-03-25T19:14:19.773902",
     "status": "completed"
    },
    "tags": []
   },
   "outputs": [
    {
     "data": {
      "text/html": [
       "<div>\n",
       "<style scoped>\n",
       "    .dataframe tbody tr th:only-of-type {\n",
       "        vertical-align: middle;\n",
       "    }\n",
       "\n",
       "    .dataframe tbody tr th {\n",
       "        vertical-align: top;\n",
       "    }\n",
       "\n",
       "    .dataframe thead th {\n",
       "        text-align: right;\n",
       "    }\n",
       "</style>\n",
       "<table border=\"1\" class=\"dataframe\">\n",
       "  <thead>\n",
       "    <tr style=\"text-align: right;\">\n",
       "      <th></th>\n",
       "      <th>loc</th>\n",
       "      <th>myear</th>\n",
       "      <th>bt</th>\n",
       "      <th>tt</th>\n",
       "      <th>ft</th>\n",
       "      <th>km</th>\n",
       "      <th>ip</th>\n",
       "      <th>images</th>\n",
       "      <th>imgCount</th>\n",
       "      <th>threesixty</th>\n",
       "      <th>...</th>\n",
       "      <th>No Door Numbers</th>\n",
       "      <th>Cargo Volumn</th>\n",
       "      <th>model_type_new</th>\n",
       "      <th>state</th>\n",
       "      <th>exterior_color</th>\n",
       "      <th>owner_type</th>\n",
       "      <th>Fuel Suppy System</th>\n",
       "      <th>Compression Ratio</th>\n",
       "      <th>Alloy Wheel Size</th>\n",
       "      <th>Ground Clearance Unladen</th>\n",
       "    </tr>\n",
       "    <tr>\n",
       "      <th>usedCarSkuId</th>\n",
       "      <th></th>\n",
       "      <th></th>\n",
       "      <th></th>\n",
       "      <th></th>\n",
       "      <th></th>\n",
       "      <th></th>\n",
       "      <th></th>\n",
       "      <th></th>\n",
       "      <th></th>\n",
       "      <th></th>\n",
       "      <th></th>\n",
       "      <th></th>\n",
       "      <th></th>\n",
       "      <th></th>\n",
       "      <th></th>\n",
       "      <th></th>\n",
       "      <th></th>\n",
       "      <th></th>\n",
       "      <th></th>\n",
       "      <th></th>\n",
       "      <th></th>\n",
       "    </tr>\n",
       "  </thead>\n",
       "  <tbody>\n",
       "    <tr>\n",
       "      <th>7111bf25-97af-47f9-867b-40879190d800</th>\n",
       "      <td>Gomti Nagar</td>\n",
       "      <td>2016</td>\n",
       "      <td>Hatchback</td>\n",
       "      <td>Manual</td>\n",
       "      <td>CNG</td>\n",
       "      <td>69,162</td>\n",
       "      <td>0</td>\n",
       "      <td>[{'img': 'https://images10.gaadi.com/usedcar_i...</td>\n",
       "      <td>15</td>\n",
       "      <td>False</td>\n",
       "      <td>...</td>\n",
       "      <td>5.000</td>\n",
       "      <td>180-liters</td>\n",
       "      <td>used</td>\n",
       "      <td>uttar pradesh</td>\n",
       "      <td>Silver</td>\n",
       "      <td>first</td>\n",
       "      <td>NaN</td>\n",
       "      <td>NaN</td>\n",
       "      <td>NaN</td>\n",
       "      <td>NaN</td>\n",
       "    </tr>\n",
       "    <tr>\n",
       "      <th>c309efc1-efaf-4f82-81ad-dcb38eb36665</th>\n",
       "      <td>Borivali West</td>\n",
       "      <td>2015</td>\n",
       "      <td>Hatchback</td>\n",
       "      <td>Manual</td>\n",
       "      <td>CNG</td>\n",
       "      <td>45,864</td>\n",
       "      <td>0</td>\n",
       "      <td>[{'img': 'https://images10.gaadi.com/usedcar_i...</td>\n",
       "      <td>15</td>\n",
       "      <td>False</td>\n",
       "      <td>...</td>\n",
       "      <td>5.000</td>\n",
       "      <td>235-litres</td>\n",
       "      <td>used</td>\n",
       "      <td>maharashtra</td>\n",
       "      <td>Grey</td>\n",
       "      <td>first</td>\n",
       "      <td>Intelligent-Gas Port Injection</td>\n",
       "      <td>11.0:1</td>\n",
       "      <td>NaN</td>\n",
       "      <td>NaN</td>\n",
       "    </tr>\n",
       "    <tr>\n",
       "      <th>7609f710-0c97-4f00-9a47-9b9284b62d3a</th>\n",
       "      <td>JASOLA</td>\n",
       "      <td>2015</td>\n",
       "      <td>Sedan</td>\n",
       "      <td>Manual</td>\n",
       "      <td>CNG</td>\n",
       "      <td>81,506</td>\n",
       "      <td>0</td>\n",
       "      <td>[{'img': 'https://images10.gaadi.com/usedcar_i...</td>\n",
       "      <td>15</td>\n",
       "      <td>False</td>\n",
       "      <td>...</td>\n",
       "      <td>4.000</td>\n",
       "      <td>400-litres</td>\n",
       "      <td>used</td>\n",
       "      <td>delhi</td>\n",
       "      <td>Silver</td>\n",
       "      <td>second</td>\n",
       "      <td>NaN</td>\n",
       "      <td>NaN</td>\n",
       "      <td>NaN</td>\n",
       "      <td>NaN</td>\n",
       "    </tr>\n",
       "    <tr>\n",
       "      <th>278b76e3-5539-4a5e-ae3e-353a2e3b6d7d</th>\n",
       "      <td>jasola</td>\n",
       "      <td>2013</td>\n",
       "      <td>Hatchback</td>\n",
       "      <td>Manual</td>\n",
       "      <td>CNG</td>\n",
       "      <td>1,15,893</td>\n",
       "      <td>0</td>\n",
       "      <td>[{'img': ''}]</td>\n",
       "      <td>0</td>\n",
       "      <td>False</td>\n",
       "      <td>...</td>\n",
       "      <td>4.000</td>\n",
       "      <td>NaN</td>\n",
       "      <td>used</td>\n",
       "      <td>delhi</td>\n",
       "      <td>Silver</td>\n",
       "      <td>second</td>\n",
       "      <td>MPFI</td>\n",
       "      <td>NaN</td>\n",
       "      <td>13</td>\n",
       "      <td>NaN</td>\n",
       "    </tr>\n",
       "    <tr>\n",
       "      <th>b1eab99b-a606-48dd-a75b-57feb8a9ad92</th>\n",
       "      <td>mumbai g.p.o.</td>\n",
       "      <td>2022</td>\n",
       "      <td>MUV</td>\n",
       "      <td>Manual</td>\n",
       "      <td>CNG</td>\n",
       "      <td>18,900</td>\n",
       "      <td>0</td>\n",
       "      <td>[{'img': 'https://images10.gaadi.com/usedcar_i...</td>\n",
       "      <td>6</td>\n",
       "      <td>False</td>\n",
       "      <td>...</td>\n",
       "      <td>5.000</td>\n",
       "      <td>NaN</td>\n",
       "      <td>used</td>\n",
       "      <td>maharashtra</td>\n",
       "      <td>White</td>\n",
       "      <td>first</td>\n",
       "      <td>NaN</td>\n",
       "      <td>12.0+-.03</td>\n",
       "      <td>NaN</td>\n",
       "      <td>NaN</td>\n",
       "    </tr>\n",
       "  </tbody>\n",
       "</table>\n",
       "<p>5 rows × 62 columns</p>\n",
       "</div>"
      ],
      "text/plain": [
       "                                                loc  myear         bt      tt  \\\n",
       "usedCarSkuId                                                                    \n",
       "7111bf25-97af-47f9-867b-40879190d800    Gomti Nagar   2016  Hatchback  Manual   \n",
       "c309efc1-efaf-4f82-81ad-dcb38eb36665  Borivali West   2015  Hatchback  Manual   \n",
       "7609f710-0c97-4f00-9a47-9b9284b62d3a         JASOLA   2015      Sedan  Manual   \n",
       "278b76e3-5539-4a5e-ae3e-353a2e3b6d7d         jasola   2013  Hatchback  Manual   \n",
       "b1eab99b-a606-48dd-a75b-57feb8a9ad92  mumbai g.p.o.   2022        MUV  Manual   \n",
       "\n",
       "                                       ft        km  ip  \\\n",
       "usedCarSkuId                                              \n",
       "7111bf25-97af-47f9-867b-40879190d800  CNG    69,162   0   \n",
       "c309efc1-efaf-4f82-81ad-dcb38eb36665  CNG    45,864   0   \n",
       "7609f710-0c97-4f00-9a47-9b9284b62d3a  CNG    81,506   0   \n",
       "278b76e3-5539-4a5e-ae3e-353a2e3b6d7d  CNG  1,15,893   0   \n",
       "b1eab99b-a606-48dd-a75b-57feb8a9ad92  CNG    18,900   0   \n",
       "\n",
       "                                                                                 images  \\\n",
       "usedCarSkuId                                                                              \n",
       "7111bf25-97af-47f9-867b-40879190d800  [{'img': 'https://images10.gaadi.com/usedcar_i...   \n",
       "c309efc1-efaf-4f82-81ad-dcb38eb36665  [{'img': 'https://images10.gaadi.com/usedcar_i...   \n",
       "7609f710-0c97-4f00-9a47-9b9284b62d3a  [{'img': 'https://images10.gaadi.com/usedcar_i...   \n",
       "278b76e3-5539-4a5e-ae3e-353a2e3b6d7d                                      [{'img': ''}]   \n",
       "b1eab99b-a606-48dd-a75b-57feb8a9ad92  [{'img': 'https://images10.gaadi.com/usedcar_i...   \n",
       "\n",
       "                                      imgCount  threesixty  ...  \\\n",
       "usedCarSkuId                                                ...   \n",
       "7111bf25-97af-47f9-867b-40879190d800        15       False  ...   \n",
       "c309efc1-efaf-4f82-81ad-dcb38eb36665        15       False  ...   \n",
       "7609f710-0c97-4f00-9a47-9b9284b62d3a        15       False  ...   \n",
       "278b76e3-5539-4a5e-ae3e-353a2e3b6d7d         0       False  ...   \n",
       "b1eab99b-a606-48dd-a75b-57feb8a9ad92         6       False  ...   \n",
       "\n",
       "                                     No Door Numbers Cargo Volumn  \\\n",
       "usedCarSkuId                                                        \n",
       "7111bf25-97af-47f9-867b-40879190d800           5.000   180-liters   \n",
       "c309efc1-efaf-4f82-81ad-dcb38eb36665           5.000   235-litres   \n",
       "7609f710-0c97-4f00-9a47-9b9284b62d3a           4.000   400-litres   \n",
       "278b76e3-5539-4a5e-ae3e-353a2e3b6d7d           4.000          NaN   \n",
       "b1eab99b-a606-48dd-a75b-57feb8a9ad92           5.000          NaN   \n",
       "\n",
       "                                     model_type_new          state  \\\n",
       "usedCarSkuId                                                         \n",
       "7111bf25-97af-47f9-867b-40879190d800           used  uttar pradesh   \n",
       "c309efc1-efaf-4f82-81ad-dcb38eb36665           used    maharashtra   \n",
       "7609f710-0c97-4f00-9a47-9b9284b62d3a           used          delhi   \n",
       "278b76e3-5539-4a5e-ae3e-353a2e3b6d7d           used          delhi   \n",
       "b1eab99b-a606-48dd-a75b-57feb8a9ad92           used    maharashtra   \n",
       "\n",
       "                                     exterior_color owner_type  \\\n",
       "usedCarSkuId                                                     \n",
       "7111bf25-97af-47f9-867b-40879190d800         Silver      first   \n",
       "c309efc1-efaf-4f82-81ad-dcb38eb36665           Grey      first   \n",
       "7609f710-0c97-4f00-9a47-9b9284b62d3a         Silver     second   \n",
       "278b76e3-5539-4a5e-ae3e-353a2e3b6d7d         Silver     second   \n",
       "b1eab99b-a606-48dd-a75b-57feb8a9ad92          White      first   \n",
       "\n",
       "                                                   Fuel Suppy System  \\\n",
       "usedCarSkuId                                                           \n",
       "7111bf25-97af-47f9-867b-40879190d800                             NaN   \n",
       "c309efc1-efaf-4f82-81ad-dcb38eb36665  Intelligent-Gas Port Injection   \n",
       "7609f710-0c97-4f00-9a47-9b9284b62d3a                             NaN   \n",
       "278b76e3-5539-4a5e-ae3e-353a2e3b6d7d                            MPFI   \n",
       "b1eab99b-a606-48dd-a75b-57feb8a9ad92                             NaN   \n",
       "\n",
       "                                     Compression Ratio Alloy Wheel Size  \\\n",
       "usedCarSkuId                                                              \n",
       "7111bf25-97af-47f9-867b-40879190d800               NaN              NaN   \n",
       "c309efc1-efaf-4f82-81ad-dcb38eb36665            11.0:1              NaN   \n",
       "7609f710-0c97-4f00-9a47-9b9284b62d3a               NaN              NaN   \n",
       "278b76e3-5539-4a5e-ae3e-353a2e3b6d7d               NaN               13   \n",
       "b1eab99b-a606-48dd-a75b-57feb8a9ad92         12.0+-.03              NaN   \n",
       "\n",
       "                                     Ground Clearance Unladen  \n",
       "usedCarSkuId                                                   \n",
       "7111bf25-97af-47f9-867b-40879190d800                      NaN  \n",
       "c309efc1-efaf-4f82-81ad-dcb38eb36665                      NaN  \n",
       "7609f710-0c97-4f00-9a47-9b9284b62d3a                      NaN  \n",
       "278b76e3-5539-4a5e-ae3e-353a2e3b6d7d                      NaN  \n",
       "b1eab99b-a606-48dd-a75b-57feb8a9ad92                      NaN  \n",
       "\n",
       "[5 rows x 62 columns]"
      ]
     },
     "execution_count": 10,
     "metadata": {},
     "output_type": "execute_result"
    }
   ],
   "source": [
    "# sanity check\n",
    "df2.head()"
   ]
  },
  {
   "cell_type": "markdown",
   "id": "fc8b340f",
   "metadata": {
    "papermill": {
     "duration": 0.024775,
     "end_time": "2023-03-25T19:14:19.878309",
     "exception": false,
     "start_time": "2023-03-25T19:14:19.853534",
     "status": "completed"
    },
    "tags": []
   },
   "source": [
    "Great! Now that we have removed the duplicate rows, let's look at missing values\n",
    "\n",
    "---"
   ]
  },
  {
   "cell_type": "markdown",
   "id": "05f14623",
   "metadata": {
    "papermill": {
     "duration": 0.024642,
     "end_time": "2023-03-25T19:14:19.927932",
     "exception": false,
     "start_time": "2023-03-25T19:14:19.903290",
     "status": "completed"
    },
    "tags": []
   },
   "source": [
    "### Fixing the data types\n",
    "\n",
    "Let's look at the data types of the columns and in the process we can check if we need to clean any them to make them more useful, such as converting them to a numeric type.\n",
    "\n",
    "*When we do feature engineering we will further modify these columns and might also drop a few of them*"
   ]
  },
  {
   "cell_type": "markdown",
   "id": "2d4a9ba8",
   "metadata": {
    "papermill": {
     "duration": 0.025351,
     "end_time": "2023-03-25T19:14:19.978677",
     "exception": false,
     "start_time": "2023-03-25T19:14:19.953326",
     "status": "completed"
    },
    "tags": []
   },
   "source": [
    "We already know about the current data types of the features from the ```feature_dictionary```."
   ]
  },
  {
   "cell_type": "code",
   "execution_count": 11,
   "id": "d259f7b6",
   "metadata": {
    "execution": {
     "iopub.execute_input": "2023-03-25T19:14:20.030908Z",
     "iopub.status.busy": "2023-03-25T19:14:20.030542Z",
     "iopub.status.idle": "2023-03-25T19:14:20.048066Z",
     "shell.execute_reply": "2023-03-25T19:14:20.046826Z"
    },
    "papermill": {
     "duration": 0.046158,
     "end_time": "2023-03-25T19:14:20.049990",
     "exception": false,
     "start_time": "2023-03-25T19:14:20.003832",
     "status": "completed"
    },
    "tags": []
   },
   "outputs": [
    {
     "data": {
      "text/html": [
       "<div>\n",
       "<style scoped>\n",
       "    .dataframe tbody tr th:only-of-type {\n",
       "        vertical-align: middle;\n",
       "    }\n",
       "\n",
       "    .dataframe tbody tr th {\n",
       "        vertical-align: top;\n",
       "    }\n",
       "\n",
       "    .dataframe thead th {\n",
       "        text-align: right;\n",
       "    }\n",
       "</style>\n",
       "<table border=\"1\" class=\"dataframe\">\n",
       "  <thead>\n",
       "    <tr style=\"text-align: right;\">\n",
       "      <th></th>\n",
       "      <th>Feature</th>\n",
       "      <th>Type</th>\n",
       "      <th>Sample</th>\n",
       "      <th>Missing Values</th>\n",
       "      <th>Unique Values</th>\n",
       "      <th>Description</th>\n",
       "    </tr>\n",
       "  </thead>\n",
       "  <tbody>\n",
       "    <tr>\n",
       "      <th>1</th>\n",
       "      <td>loc</td>\n",
       "      <td>object</td>\n",
       "      <td>Gomti Nagar</td>\n",
       "      <td>5851</td>\n",
       "      <td>511</td>\n",
       "      <td>Location of the car</td>\n",
       "    </tr>\n",
       "    <tr>\n",
       "      <th>2</th>\n",
       "      <td>myear</td>\n",
       "      <td>int64</td>\n",
       "      <td>2016</td>\n",
       "      <td>0</td>\n",
       "      <td>34</td>\n",
       "      <td>Manufacturing year of the car</td>\n",
       "    </tr>\n",
       "    <tr>\n",
       "      <th>3</th>\n",
       "      <td>bt</td>\n",
       "      <td>object</td>\n",
       "      <td>Hatchback</td>\n",
       "      <td>19</td>\n",
       "      <td>11</td>\n",
       "      <td>Body type of the car</td>\n",
       "    </tr>\n",
       "    <tr>\n",
       "      <th>4</th>\n",
       "      <td>tt</td>\n",
       "      <td>object</td>\n",
       "      <td>Manual</td>\n",
       "      <td>0</td>\n",
       "      <td>2</td>\n",
       "      <td>Transmission type of the car</td>\n",
       "    </tr>\n",
       "    <tr>\n",
       "      <th>5</th>\n",
       "      <td>ft</td>\n",
       "      <td>object</td>\n",
       "      <td>CNG</td>\n",
       "      <td>0</td>\n",
       "      <td>5</td>\n",
       "      <td>Fuel type of the car</td>\n",
       "    </tr>\n",
       "    <tr>\n",
       "      <th>...</th>\n",
       "      <td>...</td>\n",
       "      <td>...</td>\n",
       "      <td>...</td>\n",
       "      <td>...</td>\n",
       "      <td>...</td>\n",
       "      <td>...</td>\n",
       "    </tr>\n",
       "    <tr>\n",
       "      <th>130</th>\n",
       "      <td>owner_type</td>\n",
       "      <td>object</td>\n",
       "      <td>first</td>\n",
       "      <td>0</td>\n",
       "      <td>6</td>\n",
       "      <td>Owner type of the car (first, second, etc.)</td>\n",
       "    </tr>\n",
       "    <tr>\n",
       "      <th>136</th>\n",
       "      <td>Fuel Suppy System</td>\n",
       "      <td>object</td>\n",
       "      <td>NaN</td>\n",
       "      <td>5502</td>\n",
       "      <td>99</td>\n",
       "      <td>Type of fuel supply system (Carburetor, Fuel I...</td>\n",
       "    </tr>\n",
       "    <tr>\n",
       "      <th>137</th>\n",
       "      <td>Compression Ratio</td>\n",
       "      <td>object</td>\n",
       "      <td>NaN</td>\n",
       "      <td>27642</td>\n",
       "      <td>100</td>\n",
       "      <td>Compression ratio of the engine</td>\n",
       "    </tr>\n",
       "    <tr>\n",
       "      <th>138</th>\n",
       "      <td>Alloy Wheel Size</td>\n",
       "      <td>object</td>\n",
       "      <td>NaN</td>\n",
       "      <td>13146</td>\n",
       "      <td>18</td>\n",
       "      <td>Size of the alloy wheels in inches</td>\n",
       "    </tr>\n",
       "    <tr>\n",
       "      <th>139</th>\n",
       "      <td>Ground Clearance Unladen</td>\n",
       "      <td>object</td>\n",
       "      <td>NaN</td>\n",
       "      <td>35662</td>\n",
       "      <td>31</td>\n",
       "      <td>Ground clearance of the car when it is not loa...</td>\n",
       "    </tr>\n",
       "  </tbody>\n",
       "</table>\n",
       "<p>62 rows × 6 columns</p>\n",
       "</div>"
      ],
      "text/plain": [
       "                      Feature    Type       Sample  Missing Values  \\\n",
       "1                         loc  object  Gomti Nagar            5851   \n",
       "2                       myear   int64         2016               0   \n",
       "3                          bt  object    Hatchback              19   \n",
       "4                          tt  object       Manual               0   \n",
       "5                          ft  object          CNG               0   \n",
       "..                        ...     ...          ...             ...   \n",
       "130                owner_type  object        first               0   \n",
       "136         Fuel Suppy System  object          NaN            5502   \n",
       "137         Compression Ratio  object          NaN           27642   \n",
       "138          Alloy Wheel Size  object          NaN           13146   \n",
       "139  Ground Clearance Unladen  object          NaN           35662   \n",
       "\n",
       "     Unique Values                                        Description  \n",
       "1              511                                Location of the car  \n",
       "2               34                      Manufacturing year of the car  \n",
       "3               11                               Body type of the car  \n",
       "4                2                       Transmission type of the car  \n",
       "5                5                               Fuel type of the car  \n",
       "..             ...                                                ...  \n",
       "130              6        Owner type of the car (first, second, etc.)  \n",
       "136             99  Type of fuel supply system (Carburetor, Fuel I...  \n",
       "137            100                    Compression ratio of the engine  \n",
       "138             18                 Size of the alloy wheels in inches  \n",
       "139             31  Ground clearance of the car when it is not loa...  \n",
       "\n",
       "[62 rows x 6 columns]"
      ]
     },
     "execution_count": 11,
     "metadata": {},
     "output_type": "execute_result"
    }
   ],
   "source": [
    "# Filter the dataframe to only include the columns_to_keep\n",
    "new_feature_dict = feature_dictionary.copy()\n",
    "\n",
    "# Drop the rows which Feature is not in the columns_to_keep list\n",
    "row_index = [i for i, x in enumerate(new_feature_dict['Feature']) if x not in columns_to_keep]\n",
    "new_feature_dict.drop(row_index, inplace=True)\n",
    "\n",
    "new_feature_dict"
   ]
  },
  {
   "cell_type": "markdown",
   "id": "80334153",
   "metadata": {
    "papermill": {
     "duration": 0.0257,
     "end_time": "2023-03-25T19:14:20.101890",
     "exception": false,
     "start_time": "2023-03-25T19:14:20.076190",
     "status": "completed"
    },
    "tags": []
   },
   "source": [
    "We know that if a column has the ```object``` type, it means it could have mixed types as well as strings. Let's try to convert them to a numerical type wherver we encouter something like Length or '12mm'."
   ]
  },
  {
   "cell_type": "code",
   "execution_count": 12,
   "id": "090f8472",
   "metadata": {
    "execution": {
     "iopub.execute_input": "2023-03-25T19:14:20.153277Z",
     "iopub.status.busy": "2023-03-25T19:14:20.152888Z",
     "iopub.status.idle": "2023-03-25T19:14:20.158537Z",
     "shell.execute_reply": "2023-03-25T19:14:20.157580Z"
    },
    "papermill": {
     "duration": 0.033637,
     "end_time": "2023-03-25T19:14:20.160501",
     "exception": false,
     "start_time": "2023-03-25T19:14:20.126864",
     "status": "completed"
    },
    "tags": []
   },
   "outputs": [],
   "source": [
    "# A helper function to print all the types in a column for a dataframe\n",
    "def print_samples_from_every_type(df: pd.DataFrame, col: str):\n",
    "    # Get all the types in the column.\n",
    "    types = df[col].apply(type).unique()\n",
    "    for t in types:\n",
    "      # Print 10 samples from each type.\n",
    "        print(f\"Samples for type {t}: \")\n",
    "        print(df[df[col].apply(type) == t].sample(10)[col])\n",
    "        print()"
   ]
  },
  {
   "cell_type": "code",
   "execution_count": 13,
   "id": "f12909b7",
   "metadata": {
    "execution": {
     "iopub.execute_input": "2023-03-25T19:14:20.213218Z",
     "iopub.status.busy": "2023-03-25T19:14:20.212862Z",
     "iopub.status.idle": "2023-03-25T19:14:20.229210Z",
     "shell.execute_reply": "2023-03-25T19:14:20.227747Z"
    },
    "papermill": {
     "duration": 0.046017,
     "end_time": "2023-03-25T19:14:20.231954",
     "exception": false,
     "start_time": "2023-03-25T19:14:20.185937",
     "status": "completed"
    },
    "tags": []
   },
   "outputs": [],
   "source": [
    "# Make a copy of the original dataframe so that we can roll back to it anytime.\n",
    "cars_df = df2.copy()"
   ]
  },
  {
   "cell_type": "markdown",
   "id": "8323b84a",
   "metadata": {
    "papermill": {
     "duration": 0.025074,
     "end_time": "2023-03-25T19:14:20.283613",
     "exception": false,
     "start_time": "2023-03-25T19:14:20.258539",
     "status": "completed"
    },
    "tags": []
   },
   "source": [
    "---"
   ]
  },
  {
   "cell_type": "markdown",
   "id": "15fce0b7",
   "metadata": {
    "papermill": {
     "duration": 0.024188,
     "end_time": "2023-03-25T19:14:20.332302",
     "exception": false,
     "start_time": "2023-03-25T19:14:20.308114",
     "status": "completed"
    },
    "tags": []
   },
   "source": [
    "Let's list down all the columns which need the standard string treatment: \n",
    "1. Convert column to be a string type\n",
    "2. Strip the whitespace \n",
    "3. Make it lowercase\n",
    "\n",
    "*Here we are also give some of the other columns (that we wish to convert later) the standard treatment (it will help us later)*"
   ]
  },
  {
   "cell_type": "code",
   "execution_count": 14,
   "id": "824913be",
   "metadata": {
    "execution": {
     "iopub.execute_input": "2023-03-25T19:14:20.383348Z",
     "iopub.status.busy": "2023-03-25T19:14:20.382966Z",
     "iopub.status.idle": "2023-03-25T19:14:20.390542Z",
     "shell.execute_reply": "2023-03-25T19:14:20.389592Z"
    },
    "papermill": {
     "duration": 0.036071,
     "end_time": "2023-03-25T19:14:20.392888",
     "exception": false,
     "start_time": "2023-03-25T19:14:20.356817",
     "status": "completed"
    },
    "tags": []
   },
   "outputs": [],
   "source": [
    "columns_str_to_lower = [\n",
    "    'loc',\n",
    "    'bt',\n",
    "    'ft',\n",
    "    'tt',\n",
    "    'images',\n",
    "    'dvn',\n",
    "    'oem',\n",
    "    'model',\n",
    "    'variantName',\n",
    "    'city_x',\n",
    "    # 'pu': 3,70,000 -> 370000\n",
    "    'utype',\n",
    "    'carType',\n",
    "    'top_features',\n",
    "    'comfort_features',\n",
    "    'interior_features',\n",
    "    'exterior_features',\n",
    "    'safety_features',\n",
    "    'Color',\n",
    "    'Engine Type',\n",
    "    'Max Power', # Max Power : 33.54bhp@4000 rpm -> 2 columns 33.54, 4000\n",
    "    'Max Torque', # Max Torque : 40.2Nm@3500 rpm -> 2 columns 40.2, 3500\n",
    "    # No of Cylinder : float -> int,\n",
    "    # Values per Cylinder : float -> int, !! Fix the name -> Valve per Cylinder\n",
    "    'Value Configuration', # !! Fix the name -> Valve Configuration\n",
    "    'BoreX Stroke', # BoreX Stroke : 69 x 72 mm -> Bore: 69, Stroke: 72\n",
    "    'Turbo Charger', # Convert to boolean\n",
    "    'Super Charger', # Convert to boolean\n",
    "    'Length', # Length : 3599mm -> 3599\n",
    "    'Width', # Width : 1495mm -> 1495\n",
    "    'Height', # Height : 1700mm -> 1700\n",
    "    'Wheel Base', # Wheel Base : 2400mm -> 2400\n",
    "    'Front Tread', # Front Tread : 1295mm -> 1295\n",
    "    'Rear Tread', # Rear Tread : 1295mm -> 1295\n",
    "    'Kerb Weight', # Kerb Weight : 960kg -> 960\n",
    "    'Gross Weight', # Gross Weight : 1350kg -> 1350\n",
    "    'Gear Box', # might need some additional cleaning\n",
    "    'Drive Type', # might need some additional cleaning\n",
    "    # Seating Capacity : float -> int\n",
    "    'Steering Type', # might need some additional cleaning\n",
    "    'Turning Radius', # Turning Radius : 4.6 metres -> 4.6\n",
    "    'Front Brake Type', # might need some additional cleaning\n",
    "    'Rear Brake Type', # might need some additional cleaning\n",
    "    'Top Speed', # Top Speed : 137 kmph -> 137\n",
    "    'Acceleration', # Acceleration : 13.5 seconds -> 13.5\n",
    "    'Tyre Type', # might need some additional cleaning\n",
    "    # No Door Numbers : float -> int !! fix name\n",
    "    'Cargo Volumn', # 'Cargo Volumn' : 300 litres -> 300, !! fix name\n",
    "    'model_type_new', # !! fix name\n",
    "    'state',\n",
    "    'exterior_color',\n",
    "    'owner_type', # might need some additional cleaning\n",
    "    'Fuel Suppy System', # might need some additional cleaning\n",
    "    # Compression Ratio : 10.0:1 -> 10.0\n",
    "    'Alloy Wheel Size', # Alloy Wheel Size : convert to float\n",
    "    'Ground Clearance Unladen', # Ground Clearance Unladen : 170mm -> 170\n",
    "]"
   ]
  },
  {
   "cell_type": "code",
   "execution_count": 15,
   "id": "b31d140c",
   "metadata": {
    "execution": {
     "iopub.execute_input": "2023-03-25T19:14:20.446600Z",
     "iopub.status.busy": "2023-03-25T19:14:20.446234Z",
     "iopub.status.idle": "2023-03-25T19:14:21.836998Z",
     "shell.execute_reply": "2023-03-25T19:14:21.836020Z"
    },
    "papermill": {
     "duration": 1.420214,
     "end_time": "2023-03-25T19:14:21.839021",
     "exception": false,
     "start_time": "2023-03-25T19:14:20.418807",
     "status": "completed"
    },
    "tags": []
   },
   "outputs": [
    {
     "data": {
      "text/html": [
       "<div>\n",
       "<style scoped>\n",
       "    .dataframe tbody tr th:only-of-type {\n",
       "        vertical-align: middle;\n",
       "    }\n",
       "\n",
       "    .dataframe tbody tr th {\n",
       "        vertical-align: top;\n",
       "    }\n",
       "\n",
       "    .dataframe thead th {\n",
       "        text-align: right;\n",
       "    }\n",
       "</style>\n",
       "<table border=\"1\" class=\"dataframe\">\n",
       "  <thead>\n",
       "    <tr style=\"text-align: right;\">\n",
       "      <th></th>\n",
       "      <th>Feature</th>\n",
       "      <th>Type</th>\n",
       "      <th>Unique</th>\n",
       "      <th>Sample</th>\n",
       "    </tr>\n",
       "  </thead>\n",
       "  <tbody>\n",
       "    <tr>\n",
       "      <th>0</th>\n",
       "      <td>loc</td>\n",
       "      <td>object</td>\n",
       "      <td>398</td>\n",
       "      <td>nan</td>\n",
       "    </tr>\n",
       "    <tr>\n",
       "      <th>1</th>\n",
       "      <td>bt</td>\n",
       "      <td>object</td>\n",
       "      <td>12</td>\n",
       "      <td>hatchback</td>\n",
       "    </tr>\n",
       "    <tr>\n",
       "      <th>2</th>\n",
       "      <td>ft</td>\n",
       "      <td>object</td>\n",
       "      <td>5</td>\n",
       "      <td>petrol</td>\n",
       "    </tr>\n",
       "    <tr>\n",
       "      <th>3</th>\n",
       "      <td>tt</td>\n",
       "      <td>object</td>\n",
       "      <td>2</td>\n",
       "      <td>manual</td>\n",
       "    </tr>\n",
       "    <tr>\n",
       "      <th>4</th>\n",
       "      <td>images</td>\n",
       "      <td>object</td>\n",
       "      <td>37135</td>\n",
       "      <td>[{'img': 'https://images10.gaadi.com/usedcar_i...</td>\n",
       "    </tr>\n",
       "    <tr>\n",
       "      <th>5</th>\n",
       "      <td>dvn</td>\n",
       "      <td>object</td>\n",
       "      <td>4128</td>\n",
       "      <td>chevrolet cruze ltz at</td>\n",
       "    </tr>\n",
       "    <tr>\n",
       "      <th>6</th>\n",
       "      <td>oem</td>\n",
       "      <td>object</td>\n",
       "      <td>46</td>\n",
       "      <td>mahindra</td>\n",
       "    </tr>\n",
       "    <tr>\n",
       "      <th>7</th>\n",
       "      <td>model</td>\n",
       "      <td>object</td>\n",
       "      <td>382</td>\n",
       "      <td>honda city</td>\n",
       "    </tr>\n",
       "    <tr>\n",
       "      <th>8</th>\n",
       "      <td>variantName</td>\n",
       "      <td>object</td>\n",
       "      <td>3430</td>\n",
       "      <td>vxi</td>\n",
       "    </tr>\n",
       "    <tr>\n",
       "      <th>9</th>\n",
       "      <td>city_x</td>\n",
       "      <td>object</td>\n",
       "      <td>617</td>\n",
       "      <td>new delhi</td>\n",
       "    </tr>\n",
       "    <tr>\n",
       "      <th>10</th>\n",
       "      <td>utype</td>\n",
       "      <td>object</td>\n",
       "      <td>2</td>\n",
       "      <td>dealer</td>\n",
       "    </tr>\n",
       "    <tr>\n",
       "      <th>11</th>\n",
       "      <td>carType</td>\n",
       "      <td>object</td>\n",
       "      <td>3</td>\n",
       "      <td>partner</td>\n",
       "    </tr>\n",
       "    <tr>\n",
       "      <th>12</th>\n",
       "      <td>top_features</td>\n",
       "      <td>object</td>\n",
       "      <td>400</td>\n",
       "      <td>['power steering', 'power windows front', 'air...</td>\n",
       "    </tr>\n",
       "    <tr>\n",
       "      <th>13</th>\n",
       "      <td>comfort_features</td>\n",
       "      <td>object</td>\n",
       "      <td>2016</td>\n",
       "      <td>['power steering', 'power windows front', 'pow...</td>\n",
       "    </tr>\n",
       "    <tr>\n",
       "      <th>14</th>\n",
       "      <td>interior_features</td>\n",
       "      <td>object</td>\n",
       "      <td>527</td>\n",
       "      <td>['air conditioner', 'heater', 'adjustable stee...</td>\n",
       "    </tr>\n",
       "    <tr>\n",
       "      <th>15</th>\n",
       "      <td>exterior_features</td>\n",
       "      <td>object</td>\n",
       "      <td>1893</td>\n",
       "      <td>['adjustable head lights', 'fog lights front',...</td>\n",
       "    </tr>\n",
       "    <tr>\n",
       "      <th>16</th>\n",
       "      <td>safety_features</td>\n",
       "      <td>object</td>\n",
       "      <td>2116</td>\n",
       "      <td>['anti lock braking system', 'brake assist', '...</td>\n",
       "    </tr>\n",
       "    <tr>\n",
       "      <th>17</th>\n",
       "      <td>Color</td>\n",
       "      <td>object</td>\n",
       "      <td>748</td>\n",
       "      <td>grey</td>\n",
       "    </tr>\n",
       "    <tr>\n",
       "      <th>18</th>\n",
       "      <td>Engine Type</td>\n",
       "      <td>object</td>\n",
       "      <td>567</td>\n",
       "      <td>ddis 200 diesel engine</td>\n",
       "    </tr>\n",
       "    <tr>\n",
       "      <th>19</th>\n",
       "      <td>Max Power</td>\n",
       "      <td>object</td>\n",
       "      <td>1009</td>\n",
       "      <td>126.2bhp@4000rpm</td>\n",
       "    </tr>\n",
       "    <tr>\n",
       "      <th>20</th>\n",
       "      <td>Max Torque</td>\n",
       "      <td>object</td>\n",
       "      <td>773</td>\n",
       "      <td>160nm@1500-2750rpm</td>\n",
       "    </tr>\n",
       "    <tr>\n",
       "      <th>21</th>\n",
       "      <td>Value Configuration</td>\n",
       "      <td>object</td>\n",
       "      <td>13</td>\n",
       "      <td>dohc</td>\n",
       "    </tr>\n",
       "    <tr>\n",
       "      <th>22</th>\n",
       "      <td>BoreX Stroke</td>\n",
       "      <td>object</td>\n",
       "      <td>202</td>\n",
       "      <td>84.0 x 90.0 mm</td>\n",
       "    </tr>\n",
       "    <tr>\n",
       "      <th>23</th>\n",
       "      <td>Turbo Charger</td>\n",
       "      <td>object</td>\n",
       "      <td>5</td>\n",
       "      <td>no</td>\n",
       "    </tr>\n",
       "    <tr>\n",
       "      <th>24</th>\n",
       "      <td>Super Charger</td>\n",
       "      <td>object</td>\n",
       "      <td>3</td>\n",
       "      <td>nan</td>\n",
       "    </tr>\n",
       "    <tr>\n",
       "      <th>25</th>\n",
       "      <td>Length</td>\n",
       "      <td>object</td>\n",
       "      <td>513</td>\n",
       "      <td>4385mm</td>\n",
       "    </tr>\n",
       "    <tr>\n",
       "      <th>26</th>\n",
       "      <td>Width</td>\n",
       "      <td>object</td>\n",
       "      <td>394</td>\n",
       "      <td>1890mm</td>\n",
       "    </tr>\n",
       "    <tr>\n",
       "      <th>27</th>\n",
       "      <td>Height</td>\n",
       "      <td>object</td>\n",
       "      <td>423</td>\n",
       "      <td>1520mm</td>\n",
       "    </tr>\n",
       "    <tr>\n",
       "      <th>28</th>\n",
       "      <td>Wheel Base</td>\n",
       "      <td>object</td>\n",
       "      <td>328</td>\n",
       "      <td>2552mm</td>\n",
       "    </tr>\n",
       "    <tr>\n",
       "      <th>29</th>\n",
       "      <td>Front Tread</td>\n",
       "      <td>object</td>\n",
       "      <td>218</td>\n",
       "      <td>nan</td>\n",
       "    </tr>\n",
       "    <tr>\n",
       "      <th>30</th>\n",
       "      <td>Rear Tread</td>\n",
       "      <td>object</td>\n",
       "      <td>237</td>\n",
       "      <td>1505mm</td>\n",
       "    </tr>\n",
       "    <tr>\n",
       "      <th>31</th>\n",
       "      <td>Kerb Weight</td>\n",
       "      <td>object</td>\n",
       "      <td>763</td>\n",
       "      <td>nan</td>\n",
       "    </tr>\n",
       "    <tr>\n",
       "      <th>32</th>\n",
       "      <td>Gross Weight</td>\n",
       "      <td>object</td>\n",
       "      <td>411</td>\n",
       "      <td>1764kg</td>\n",
       "    </tr>\n",
       "    <tr>\n",
       "      <th>33</th>\n",
       "      <td>Gear Box</td>\n",
       "      <td>object</td>\n",
       "      <td>106</td>\n",
       "      <td>5 speed</td>\n",
       "    </tr>\n",
       "    <tr>\n",
       "      <th>34</th>\n",
       "      <td>Drive Type</td>\n",
       "      <td>object</td>\n",
       "      <td>21</td>\n",
       "      <td>fwd</td>\n",
       "    </tr>\n",
       "    <tr>\n",
       "      <th>35</th>\n",
       "      <td>Steering Type</td>\n",
       "      <td>object</td>\n",
       "      <td>10</td>\n",
       "      <td>power</td>\n",
       "    </tr>\n",
       "    <tr>\n",
       "      <th>36</th>\n",
       "      <td>Turning Radius</td>\n",
       "      <td>object</td>\n",
       "      <td>223</td>\n",
       "      <td>5.55 metres</td>\n",
       "    </tr>\n",
       "    <tr>\n",
       "      <th>37</th>\n",
       "      <td>Front Brake Type</td>\n",
       "      <td>object</td>\n",
       "      <td>33</td>\n",
       "      <td>disc</td>\n",
       "    </tr>\n",
       "    <tr>\n",
       "      <th>38</th>\n",
       "      <td>Rear Brake Type</td>\n",
       "      <td>object</td>\n",
       "      <td>35</td>\n",
       "      <td>drum</td>\n",
       "    </tr>\n",
       "    <tr>\n",
       "      <th>39</th>\n",
       "      <td>Top Speed</td>\n",
       "      <td>object</td>\n",
       "      <td>303</td>\n",
       "      <td>231 kmph</td>\n",
       "    </tr>\n",
       "    <tr>\n",
       "      <th>40</th>\n",
       "      <td>Acceleration</td>\n",
       "      <td>object</td>\n",
       "      <td>329</td>\n",
       "      <td>nan</td>\n",
       "    </tr>\n",
       "    <tr>\n",
       "      <th>41</th>\n",
       "      <td>Tyre Type</td>\n",
       "      <td>object</td>\n",
       "      <td>33</td>\n",
       "      <td>tubeless</td>\n",
       "    </tr>\n",
       "    <tr>\n",
       "      <th>42</th>\n",
       "      <td>Cargo Volumn</td>\n",
       "      <td>object</td>\n",
       "      <td>392</td>\n",
       "      <td>981</td>\n",
       "    </tr>\n",
       "    <tr>\n",
       "      <th>43</th>\n",
       "      <td>model_type_new</td>\n",
       "      <td>object</td>\n",
       "      <td>1</td>\n",
       "      <td>used</td>\n",
       "    </tr>\n",
       "    <tr>\n",
       "      <th>44</th>\n",
       "      <td>state</td>\n",
       "      <td>object</td>\n",
       "      <td>33</td>\n",
       "      <td>odisha</td>\n",
       "    </tr>\n",
       "    <tr>\n",
       "      <th>45</th>\n",
       "      <td>exterior_color</td>\n",
       "      <td>object</td>\n",
       "      <td>748</td>\n",
       "      <td>white</td>\n",
       "    </tr>\n",
       "    <tr>\n",
       "      <th>46</th>\n",
       "      <td>owner_type</td>\n",
       "      <td>object</td>\n",
       "      <td>6</td>\n",
       "      <td>first</td>\n",
       "    </tr>\n",
       "    <tr>\n",
       "      <th>47</th>\n",
       "      <td>Fuel Suppy System</td>\n",
       "      <td>object</td>\n",
       "      <td>71</td>\n",
       "      <td>mpi</td>\n",
       "    </tr>\n",
       "    <tr>\n",
       "      <th>48</th>\n",
       "      <td>Alloy Wheel Size</td>\n",
       "      <td>object</td>\n",
       "      <td>19</td>\n",
       "      <td>13</td>\n",
       "    </tr>\n",
       "    <tr>\n",
       "      <th>49</th>\n",
       "      <td>Ground Clearance Unladen</td>\n",
       "      <td>object</td>\n",
       "      <td>32</td>\n",
       "      <td>185mm</td>\n",
       "    </tr>\n",
       "  </tbody>\n",
       "</table>\n",
       "</div>"
      ],
      "text/plain": [
       "                     Feature    Type  Unique  \\\n",
       "0                        loc  object     398   \n",
       "1                         bt  object      12   \n",
       "2                         ft  object       5   \n",
       "3                         tt  object       2   \n",
       "4                     images  object   37135   \n",
       "5                        dvn  object    4128   \n",
       "6                        oem  object      46   \n",
       "7                      model  object     382   \n",
       "8                variantName  object    3430   \n",
       "9                     city_x  object     617   \n",
       "10                     utype  object       2   \n",
       "11                   carType  object       3   \n",
       "12              top_features  object     400   \n",
       "13          comfort_features  object    2016   \n",
       "14         interior_features  object     527   \n",
       "15         exterior_features  object    1893   \n",
       "16           safety_features  object    2116   \n",
       "17                     Color  object     748   \n",
       "18               Engine Type  object     567   \n",
       "19                 Max Power  object    1009   \n",
       "20                Max Torque  object     773   \n",
       "21       Value Configuration  object      13   \n",
       "22              BoreX Stroke  object     202   \n",
       "23             Turbo Charger  object       5   \n",
       "24             Super Charger  object       3   \n",
       "25                    Length  object     513   \n",
       "26                     Width  object     394   \n",
       "27                    Height  object     423   \n",
       "28                Wheel Base  object     328   \n",
       "29               Front Tread  object     218   \n",
       "30                Rear Tread  object     237   \n",
       "31               Kerb Weight  object     763   \n",
       "32              Gross Weight  object     411   \n",
       "33                  Gear Box  object     106   \n",
       "34                Drive Type  object      21   \n",
       "35             Steering Type  object      10   \n",
       "36            Turning Radius  object     223   \n",
       "37          Front Brake Type  object      33   \n",
       "38           Rear Brake Type  object      35   \n",
       "39                 Top Speed  object     303   \n",
       "40              Acceleration  object     329   \n",
       "41                 Tyre Type  object      33   \n",
       "42              Cargo Volumn  object     392   \n",
       "43            model_type_new  object       1   \n",
       "44                     state  object      33   \n",
       "45            exterior_color  object     748   \n",
       "46                owner_type  object       6   \n",
       "47         Fuel Suppy System  object      71   \n",
       "48          Alloy Wheel Size  object      19   \n",
       "49  Ground Clearance Unladen  object      32   \n",
       "\n",
       "                                               Sample  \n",
       "0                                                 nan  \n",
       "1                                           hatchback  \n",
       "2                                              petrol  \n",
       "3                                              manual  \n",
       "4   [{'img': 'https://images10.gaadi.com/usedcar_i...  \n",
       "5                              chevrolet cruze ltz at  \n",
       "6                                            mahindra  \n",
       "7                                          honda city  \n",
       "8                                                 vxi  \n",
       "9                                           new delhi  \n",
       "10                                             dealer  \n",
       "11                                            partner  \n",
       "12  ['power steering', 'power windows front', 'air...  \n",
       "13  ['power steering', 'power windows front', 'pow...  \n",
       "14  ['air conditioner', 'heater', 'adjustable stee...  \n",
       "15  ['adjustable head lights', 'fog lights front',...  \n",
       "16  ['anti lock braking system', 'brake assist', '...  \n",
       "17                                               grey  \n",
       "18                             ddis 200 diesel engine  \n",
       "19                                   126.2bhp@4000rpm  \n",
       "20                                 160nm@1500-2750rpm  \n",
       "21                                               dohc  \n",
       "22                                     84.0 x 90.0 mm  \n",
       "23                                                 no  \n",
       "24                                                nan  \n",
       "25                                             4385mm  \n",
       "26                                             1890mm  \n",
       "27                                             1520mm  \n",
       "28                                             2552mm  \n",
       "29                                                nan  \n",
       "30                                             1505mm  \n",
       "31                                                nan  \n",
       "32                                             1764kg  \n",
       "33                                            5 speed  \n",
       "34                                                fwd  \n",
       "35                                              power  \n",
       "36                                        5.55 metres  \n",
       "37                                               disc  \n",
       "38                                               drum  \n",
       "39                                           231 kmph  \n",
       "40                                                nan  \n",
       "41                                           tubeless  \n",
       "42                                                981  \n",
       "43                                               used  \n",
       "44                                             odisha  \n",
       "45                                              white  \n",
       "46                                              first  \n",
       "47                                                mpi  \n",
       "48                                                 13  \n",
       "49                                              185mm  "
      ]
     },
     "execution_count": 15,
     "metadata": {},
     "output_type": "execute_result"
    }
   ],
   "source": [
    "# Apply the changes\n",
    "temp_arr = []\n",
    "\n",
    "for col in columns_str_to_lower:\n",
    "    cars_df[col] = cars_df[col].astype(str).str.strip().str.lower()\n",
    "    \n",
    "    # Print a nice sample\n",
    "    while (True):\n",
    "        found = 0\n",
    "        vals = [v for v in cars_df[col].sample(100)]\n",
    "        for val in vals:\n",
    "            if val is not None:\n",
    "                found = 1\n",
    "                vals = val\n",
    "                break\n",
    "        \n",
    "        if found == 1:\n",
    "            temp_arr.append({ \n",
    "                \"Feature\" : col, \n",
    "                \"Type\": f'{cars_df[col].dtype}', \n",
    "                \"Unique\": cars_df[col].nunique(), \n",
    "                \"Sample\": vals\n",
    "            })\n",
    "            break\n",
    "\n",
    "pd.DataFrame(temp_arr)"
   ]
  },
  {
   "cell_type": "markdown",
   "id": "125bd318",
   "metadata": {
    "papermill": {
     "duration": 0.026295,
     "end_time": "2023-03-25T19:14:21.891867",
     "exception": false,
     "start_time": "2023-03-25T19:14:21.865572",
     "status": "completed"
    },
    "tags": []
   },
   "source": [
    "There is an additional issues here that needs to be addressed: \n",
    "Some of the columns have **more unique values** than are expected. For eg: `Turbo Charger` should either be a yes or a no or a NaN, beter are `5` unique values. The following are the columns suspected to have a higher than expected cardinality due to some quality issues: \n",
    "1. `Value Configuration`\n",
    "2. `Turbo Charger`\n",
    "3. `Gear Box`\n",
    "4. `Drive Type`\n",
    "5. `Steering Type`\n",
    "6. `Front Brake Type`\n",
    "7. `Rear Brake Type`\n",
    "8. `Tyre Type`\n"
   ]
  },
  {
   "cell_type": "code",
   "execution_count": 16,
   "id": "4021b6e8",
   "metadata": {
    "execution": {
     "iopub.execute_input": "2023-03-25T19:14:21.946797Z",
     "iopub.status.busy": "2023-03-25T19:14:21.946404Z",
     "iopub.status.idle": "2023-03-25T19:14:21.951060Z",
     "shell.execute_reply": "2023-03-25T19:14:21.950108Z"
    },
    "papermill": {
     "duration": 0.033985,
     "end_time": "2023-03-25T19:14:21.952876",
     "exception": false,
     "start_time": "2023-03-25T19:14:21.918891",
     "status": "completed"
    },
    "tags": []
   },
   "outputs": [],
   "source": [
    "# Make a list of such columns which seems to have a higher than expected cardinality\n",
    "columns_unexpected_cardinality = [\n",
    "    'Value Configuration',\n",
    "    'Turbo Charger',\n",
    "    'Gear Box',\n",
    "    'Drive Type',\n",
    "    'Steering Type',\n",
    "    'Front Brake Type',\n",
    "    'Rear Brake Type',\n",
    "    'Tyre Type',\n",
    "]"
   ]
  },
  {
   "cell_type": "markdown",
   "id": "95648d92",
   "metadata": {
    "papermill": {
     "duration": 0.026723,
     "end_time": "2023-03-25T19:14:22.006241",
     "exception": false,
     "start_time": "2023-03-25T19:14:21.979518",
     "status": "completed"
    },
    "tags": []
   },
   "source": [
    "---\n",
    "\n",
    "##### `Value Configuration`"
   ]
  },
  {
   "cell_type": "code",
   "execution_count": 17,
   "id": "46f67131",
   "metadata": {
    "execution": {
     "iopub.execute_input": "2023-03-25T19:14:22.060709Z",
     "iopub.status.busy": "2023-03-25T19:14:22.060308Z",
     "iopub.status.idle": "2023-03-25T19:14:22.070906Z",
     "shell.execute_reply": "2023-03-25T19:14:22.069713Z"
    },
    "papermill": {
     "duration": 0.04022,
     "end_time": "2023-03-25T19:14:22.072815",
     "exception": false,
     "start_time": "2023-03-25T19:14:22.032595",
     "status": "completed"
    },
    "tags": []
   },
   "outputs": [
    {
     "data": {
      "text/plain": [
       "dohc                    23502\n",
       "nan                      7831\n",
       "sohc                     6200\n",
       "undefined                 121\n",
       "idsi                       66\n",
       "dohc with vis              31\n",
       "dohc with vgt              20\n",
       "16 modules 48 cells        11\n",
       "16-valve dohc layout        9\n",
       "dohc with tis               9\n",
       "vtec                        6\n",
       "mpfi                        4\n",
       "ohv / pushrod               3\n",
       "Name: Value Configuration, dtype: int64"
      ]
     },
     "execution_count": 17,
     "metadata": {},
     "output_type": "execute_result"
    }
   ],
   "source": [
    "cars_df[columns_unexpected_cardinality[0]].value_counts()"
   ]
  },
  {
   "cell_type": "markdown",
   "id": "988720e8",
   "metadata": {
    "papermill": {
     "duration": 0.025198,
     "end_time": "2023-03-25T19:14:22.124002",
     "exception": false,
     "start_time": "2023-03-25T19:14:22.098804",
     "status": "completed"
    },
    "tags": []
   },
   "source": [
    "We have identified the following issues:\n",
    "1. As we can see, the majority of it is `dohc`. There are a couple of variants of `dohc` like `dohc vis` but they are so few that it would be practical to replace all the columns containing any variant `dohc` to simply `dohc`\n",
    "2. There are some `undefined` values which should be `NaN`\n",
    "3. `mpfi` is a fuel injection system, so replace it with `NaN`\n",
    "4. `vtec` engines can be `dohc` and `sohc` as well (`vtec` is an engine type developed by Honda in the 1960s). It would be best to replace this type by `NaN`, postpone handling it until null values handling (and there are only `6` rows, so it should be fine)"
   ]
  },
  {
   "cell_type": "code",
   "execution_count": 18,
   "id": "05bc2ed6",
   "metadata": {
    "execution": {
     "iopub.execute_input": "2023-03-25T19:14:22.176486Z",
     "iopub.status.busy": "2023-03-25T19:14:22.176080Z",
     "iopub.status.idle": "2023-03-25T19:14:22.336104Z",
     "shell.execute_reply": "2023-03-25T19:14:22.335429Z"
    },
    "papermill": {
     "duration": 0.188695,
     "end_time": "2023-03-25T19:14:22.338056",
     "exception": false,
     "start_time": "2023-03-25T19:14:22.149361",
     "status": "completed"
    },
    "tags": []
   },
   "outputs": [
    {
     "data": {
      "text/plain": [
       "dohc                   23571\n",
       "nan                     7962\n",
       "sohc                    6200\n",
       "idsi                      66\n",
       "16 modules 48 cells       11\n",
       "ohv / pushrod              3\n",
       "Name: Value Configuration, dtype: int64"
      ]
     },
     "execution_count": 18,
     "metadata": {},
     "output_type": "execute_result"
    }
   ],
   "source": [
    "# Replace all the variants of `dohc` to simply `dohc`\n",
    "cars_df['Value Configuration'] = cars_df['Value Configuration'].str.replace('dohc with vis', 'dohc')\n",
    "cars_df['Value Configuration'] = cars_df['Value Configuration'].str.replace('dohc with vgt', 'dohc')\n",
    "cars_df['Value Configuration'] = cars_df['Value Configuration'].str.replace('16-valve dohc layout', 'dohc')\n",
    "cars_df['Value Configuration'] = cars_df['Value Configuration'].str.replace('dohc with tis', 'dohc')\n",
    "\n",
    "# Replace `undefined`, `mpfi`, `vtec` with `NaN`\n",
    "cars_df['Value Configuration'] = cars_df['Value Configuration'].str.replace('undefined', 'nan')\n",
    "cars_df['Value Configuration'] = cars_df['Value Configuration'].str.replace('mpfi', 'nan')\n",
    "cars_df['Value Configuration'] = cars_df['Value Configuration'].str.replace('vtec', 'nan')\n",
    "\n",
    "cars_df['Value Configuration'].value_counts()"
   ]
  },
  {
   "cell_type": "markdown",
   "id": "589860ba",
   "metadata": {
    "papermill": {
     "duration": 0.025912,
     "end_time": "2023-03-25T19:14:22.389888",
     "exception": false,
     "start_time": "2023-03-25T19:14:22.363976",
     "status": "completed"
    },
    "tags": []
   },
   "source": [
    "---\n",
    "\n",
    "##### `Turbo Charger`"
   ]
  },
  {
   "cell_type": "code",
   "execution_count": 19,
   "id": "9b4bb2bc",
   "metadata": {
    "execution": {
     "iopub.execute_input": "2023-03-25T19:14:22.444395Z",
     "iopub.status.busy": "2023-03-25T19:14:22.443998Z",
     "iopub.status.idle": "2023-03-25T19:14:22.454378Z",
     "shell.execute_reply": "2023-03-25T19:14:22.453398Z"
    },
    "papermill": {
     "duration": 0.040395,
     "end_time": "2023-03-25T19:14:22.456578",
     "exception": false,
     "start_time": "2023-03-25T19:14:22.416183",
     "status": "completed"
    },
    "tags": []
   },
   "outputs": [
    {
     "data": {
      "text/plain": [
       "no       20247\n",
       "yes      15262\n",
       "nan       2176\n",
       "twin       125\n",
       "turbo        3\n",
       "Name: Turbo Charger, dtype: int64"
      ]
     },
     "execution_count": 19,
     "metadata": {},
     "output_type": "execute_result"
    }
   ],
   "source": [
    "cars_df[columns_unexpected_cardinality[1]].value_counts()"
   ]
  },
  {
   "cell_type": "markdown",
   "id": "26fa3306",
   "metadata": {
    "papermill": {
     "duration": 0.025485,
     "end_time": "2023-03-25T19:14:22.508469",
     "exception": false,
     "start_time": "2023-03-25T19:14:22.482984",
     "status": "completed"
    },
    "tags": []
   },
   "source": [
    "Well, cleaning this column should be quite straightforward.\n",
    "1. `twin` and `turbo` should be replaced by `yes`"
   ]
  },
  {
   "cell_type": "code",
   "execution_count": 20,
   "id": "6ae96428",
   "metadata": {
    "execution": {
     "iopub.execute_input": "2023-03-25T19:14:22.562441Z",
     "iopub.status.busy": "2023-03-25T19:14:22.562016Z",
     "iopub.status.idle": "2023-03-25T19:14:22.615629Z",
     "shell.execute_reply": "2023-03-25T19:14:22.614421Z"
    },
    "papermill": {
     "duration": 0.08331,
     "end_time": "2023-03-25T19:14:22.617676",
     "exception": false,
     "start_time": "2023-03-25T19:14:22.534366",
     "status": "completed"
    },
    "tags": []
   },
   "outputs": [
    {
     "data": {
      "text/plain": [
       "no     20247\n",
       "yes    15390\n",
       "nan     2176\n",
       "Name: Turbo Charger, dtype: int64"
      ]
     },
     "execution_count": 20,
     "metadata": {},
     "output_type": "execute_result"
    }
   ],
   "source": [
    "# Replace `twin` and `turbo` with `yes`\n",
    "cars_df['Turbo Charger'] = cars_df['Turbo Charger'].str.replace('twin', 'yes')\n",
    "cars_df['Turbo Charger'] = cars_df['Turbo Charger'].str.replace('turbo', 'yes')\n",
    "\n",
    "cars_df['Turbo Charger'].value_counts()"
   ]
  },
  {
   "cell_type": "markdown",
   "id": "57e30644",
   "metadata": {
    "papermill": {
     "duration": 0.025846,
     "end_time": "2023-03-25T19:14:22.669509",
     "exception": false,
     "start_time": "2023-03-25T19:14:22.643663",
     "status": "completed"
    },
    "tags": []
   },
   "source": [
    "--- \n",
    "\n",
    "##### `Gear Box`"
   ]
  },
  {
   "cell_type": "code",
   "execution_count": 21,
   "id": "5b5a6ce8",
   "metadata": {
    "execution": {
     "iopub.execute_input": "2023-03-25T19:14:22.724740Z",
     "iopub.status.busy": "2023-03-25T19:14:22.724352Z",
     "iopub.status.idle": "2023-03-25T19:14:22.736171Z",
     "shell.execute_reply": "2023-03-25T19:14:22.735428Z"
    },
    "papermill": {
     "duration": 0.041668,
     "end_time": "2023-03-25T19:14:22.737933",
     "exception": false,
     "start_time": "2023-03-25T19:14:22.696265",
     "status": "completed"
    },
    "tags": []
   },
   "outputs": [
    {
     "data": {
      "text/plain": [
       "5 speed                  22840\n",
       "6 speed                   5876\n",
       "5-speed                   1457\n",
       "7 speed                   1256\n",
       "6-speed                   1199\n",
       "                         ...  \n",
       "six speed manual             1\n",
       "7g-dct                       1\n",
       "amg speedshift dct 8g        1\n",
       "amg 7-speed dct              1\n",
       "ecvt                         1\n",
       "Name: Gear Box, Length: 106, dtype: int64"
      ]
     },
     "execution_count": 21,
     "metadata": {},
     "output_type": "execute_result"
    }
   ],
   "source": [
    "cars_df[columns_unexpected_cardinality[2]].value_counts()"
   ]
  },
  {
   "cell_type": "markdown",
   "id": "82bbc47e",
   "metadata": {
    "papermill": {
     "duration": 0.025795,
     "end_time": "2023-03-25T19:14:22.789982",
     "exception": false,
     "start_time": "2023-03-25T19:14:22.764187",
     "status": "completed"
    },
    "tags": []
   },
   "source": [
    "Here the cardinality is high. And as is evident, several categories can be lumped together into a single one. Let's define a mapping to clearly indeicate which data should be lumped together."
   ]
  },
  {
   "cell_type": "code",
   "execution_count": 22,
   "id": "c8ed0d3d",
   "metadata": {
    "execution": {
     "iopub.execute_input": "2023-03-25T19:14:22.844518Z",
     "iopub.status.busy": "2023-03-25T19:14:22.843348Z",
     "iopub.status.idle": "2023-03-25T19:14:22.972289Z",
     "shell.execute_reply": "2023-03-25T19:14:22.970906Z"
    },
    "papermill": {
     "duration": 0.158309,
     "end_time": "2023-03-25T19:14:22.974095",
     "exception": false,
     "start_time": "2023-03-25T19:14:22.815786",
     "status": "completed"
    },
    "tags": []
   },
   "outputs": [
    {
     "data": {
      "text/plain": [
       "5 speed            25203\n",
       "6 speed             7459\n",
       "7 speed             1842\n",
       "8 speed             1150\n",
       "4 speed              760\n",
       "cvt                  474\n",
       "nan                  471\n",
       "9 speed              399\n",
       "fully automatic       20\n",
       "1 speed               15\n",
       "direct drive          11\n",
       "10 speed               9\n",
       "Name: Gear Box, dtype: int64"
      ]
     },
     "execution_count": 22,
     "metadata": {},
     "output_type": "execute_result"
    }
   ],
   "source": [
    "gear_box_mapping = {}\n",
    "gear_box_mapping['1 speed'] = [\n",
    "\t'single speed', \n",
    "\t'single speed automatic', \n",
    "\t'single speed reduction gear', \n",
    "\t'single-speed transmission', \n",
    "]\n",
    "gear_box_mapping['4 speed'] = [\n",
    "\t'4 speed', \n",
    "\t'4-speed', \n",
    "]\n",
    "gear_box_mapping['5 speed'] = [\n",
    "\t'5', \n",
    "\t'5 - speed', \n",
    "\t'5 gears', \n",
    "\t'5 manual', \n",
    "\t'5 speed', \n",
    "\t'5 speed at+ paddle shifters', \n",
    "\t'5 speed cvt', \n",
    "\t'5 speed forward, 1 reverse', \n",
    "\t'5 speed manual', \n",
    "\t'5 speed manual transmission', \n",
    "\t'5 speed+1(r)', \n",
    "\t'5 speed,5 forward, 1 reverse', \n",
    "\t'5-speed', \n",
    "\t'5-speed`', \n",
    "\t'five speed', \n",
    "\t'five speed manual', \n",
    "\t'five speed manual transmission', \n",
    "\t'five speed manual transmission gearbox', \n",
    "]\n",
    "gear_box_mapping['6 speed'] = [\n",
    "\t'6', \n",
    "\t'6 speed', \n",
    "\t'6 speed at', \n",
    "\t'6 speed automatic', \n",
    "\t'6 speed geartronic', \n",
    "\t'6 speed imt', \n",
    "\t'6 speed ivt', \n",
    "\t'6 speed mt', \n",
    "\t'6 speed with sequential shift', \n",
    "\t'6-speed', \n",
    "\t'6-speed at', \n",
    "\t'6-speed automatic', \n",
    "\t'6-speed autoshift', \n",
    "\t'6-speed cvt', \n",
    "\t'6-speed dct', \n",
    "\t'6-speed imt', \n",
    "\t'6-speed ivt', \n",
    "\t'6-speed`', \n",
    "\t'six speed  gearbox', \n",
    "\t'six speed automatic gearbox', \n",
    "\t'six speed automatic transmission', \n",
    "\t'six speed geartronic, six speed automati', \n",
    "\t'six speed manual', \n",
    "\t'six speed manual transmission', \n",
    "\t'six speed manual with paddle shifter', \n",
    "]\n",
    "gear_box_mapping['7 speed'] = [\n",
    "\t'7 speed', \n",
    "\t'7 speed 7g-dct', \n",
    "\t'7 speed 9g-tronic automatic', \n",
    "\t'7 speed cvt', \n",
    "\t'7 speed dct', \n",
    "\t'7 speed dsg', \n",
    "\t'7 speed dual clutch transmission', \n",
    "\t'7 speed s tronic', \n",
    "\t'7-speed', \n",
    "\t'7-speed dct', \n",
    "\t'7-speed dsg', \n",
    "\t'7-speed pdk', \n",
    "\t'7-speed s tronic', \n",
    "\t'7-speed s-tronic', \n",
    "\t'7-speed steptronic', \n",
    "\t'7-speed stronic', \n",
    "\t'7g dct 7-speed dual clutch transmission', \n",
    "\t'7g-dct', \n",
    "\t'7g-tronic automatic transmission',\n",
    "\t'amg 7-speed dct',\t\n",
    "\t'mercedes benz 7 speed automatic',\n",
    "]\n",
    "gear_box_mapping['8 speed'] = [\n",
    "\t'8', \n",
    "\t'8 speed', \n",
    "\t'8 speed cvt', \n",
    "\t'8 speed multitronic', \n",
    "\t'8 speed sport', \n",
    "\t'8 speed tip tronic s', \n",
    "\t'8 speed tiptronic', \n",
    "\t'8-speed', \n",
    "\t'8-speed automatic', \n",
    "\t'8-speed automatic transmission', \n",
    "\t'8-speed dct', \n",
    "\t'8-speed steptronic', \n",
    "\t'8-speed steptronic sport automatic transmission', \n",
    "\t'8-speed tiptronic', \n",
    "\t'8speed',\n",
    "\t'amg speedshift dct 8g', \n",
    "]\n",
    "gear_box_mapping['9 speed'] = [\n",
    "\t'9 -speed', \n",
    "\t'9 speed', \n",
    "\t'9 speed tronic', \n",
    "\t'9-speed', \n",
    "\t'9-speed automatic', \n",
    "\t'9g tronic', \n",
    "\t'9g-tronic', \n",
    "\t'9g-tronic automatic', \n",
    "\t'amg speedshift 9g tct automatic',\n",
    "]\n",
    "gear_box_mapping['10 speed'] = [\n",
    "\t'10 speed', \n",
    "]\n",
    "gear_box_mapping['cvt'] = [\n",
    "'cvt', \n",
    "'e-cvt', \n",
    "'ecvt', \n",
    "]\n",
    "gear_box_mapping['direct drive'] = [\n",
    "'direct drive', \n",
    "]\n",
    "gear_box_mapping['fully automatic'] = [\n",
    "\t'automatic transmission', \n",
    "\t'fully automatic',\n",
    "]\n",
    "gear_box_mapping['nan'] = [\n",
    "'nan',\n",
    "'ags', \n",
    "'imt', \n",
    "'ivt', \n",
    "]\n",
    "\n",
    "mapping_dict = {v: k for k, lst in gear_box_mapping.items() for v in lst}\n",
    "cars_df['Gear Box'] = cars_df['Gear Box'].replace(mapping_dict)\n",
    "\n",
    "cars_df[columns_unexpected_cardinality[2]].value_counts()"
   ]
  },
  {
   "cell_type": "markdown",
   "id": "75df7aee",
   "metadata": {
    "papermill": {
     "duration": 0.026289,
     "end_time": "2023-03-25T19:14:23.029030",
     "exception": false,
     "start_time": "2023-03-25T19:14:23.002741",
     "status": "completed"
    },
    "tags": []
   },
   "source": [
    "--- \n",
    "\n",
    "##### `Drive Type`"
   ]
  },
  {
   "cell_type": "code",
   "execution_count": 23,
   "id": "71e6355f",
   "metadata": {
    "execution": {
     "iopub.execute_input": "2023-03-25T19:14:23.085672Z",
     "iopub.status.busy": "2023-03-25T19:14:23.084954Z",
     "iopub.status.idle": "2023-03-25T19:14:23.096605Z",
     "shell.execute_reply": "2023-03-25T19:14:23.095870Z"
    },
    "papermill": {
     "duration": 0.043212,
     "end_time": "2023-03-25T19:14:23.098513",
     "exception": false,
     "start_time": "2023-03-25T19:14:23.055301",
     "status": "completed"
    },
    "tags": []
   },
   "outputs": [
    {
     "data": {
      "text/plain": [
       "fwd                                         27456\n",
       "nan                                          4496\n",
       "rwd                                          2248\n",
       "awd                                          1082\n",
       "2wd                                           648\n",
       "4wd                                           570\n",
       "2 wd                                          369\n",
       "4x2                                           297\n",
       "4x4                                           229\n",
       "front wheel drive                             176\n",
       "two wheel drive                                98\n",
       "all wheel drive                                32\n",
       "rear wheel drive with esp                      29\n",
       "two whhel drive                                26\n",
       "permanent all-wheel drive quattro              21\n",
       "rwd(with mtt)                                  14\n",
       "rear-wheel drive with esp                       7\n",
       "4 wd                                            7\n",
       "all-wheel drive with electronic traction        5\n",
       "four whell drive                                2\n",
       "3                                               1\n",
       "Name: Drive Type, dtype: int64"
      ]
     },
     "execution_count": 23,
     "metadata": {},
     "output_type": "execute_result"
    }
   ],
   "source": [
    "cars_df[columns_unexpected_cardinality[3]].value_counts()"
   ]
  },
  {
   "cell_type": "markdown",
   "id": "71a2fb5f",
   "metadata": {
    "papermill": {
     "duration": 0.030442,
     "end_time": "2023-03-25T19:14:23.156135",
     "exception": false,
     "start_time": "2023-03-25T19:14:23.125693",
     "status": "completed"
    },
    "tags": []
   },
   "source": [
    "We will once again take the same approach and define a mapping since many categories are redundant here."
   ]
  },
  {
   "cell_type": "code",
   "execution_count": 24,
   "id": "6ef8aa02",
   "metadata": {
    "execution": {
     "iopub.execute_input": "2023-03-25T19:14:23.212125Z",
     "iopub.status.busy": "2023-03-25T19:14:23.211516Z",
     "iopub.status.idle": "2023-03-25T19:14:23.244626Z",
     "shell.execute_reply": "2023-03-25T19:14:23.243707Z"
    },
    "papermill": {
     "duration": 0.063487,
     "end_time": "2023-03-25T19:14:23.246515",
     "exception": false,
     "start_time": "2023-03-25T19:14:23.183028",
     "status": "completed"
    },
    "tags": []
   },
   "outputs": [
    {
     "data": {
      "text/plain": [
       "fwd    27632\n",
       "nan     4497\n",
       "rwd     2298\n",
       "2wd     1141\n",
       "awd     1140\n",
       "4wd      808\n",
       "4x2      297\n",
       "Name: Drive Type, dtype: int64"
      ]
     },
     "execution_count": 24,
     "metadata": {},
     "output_type": "execute_result"
    }
   ],
   "source": [
    "drive_type_mapping = {}\n",
    "drive_type_mapping['fwd'] = ['fwd', 'front wheel drive']\n",
    "drive_type_mapping['2wd'] = ['2wd', 'two wheel drive', '2 wd', 'two whhel drive']\n",
    "drive_type_mapping['rwd'] = ['rwd', 'rear wheel drive with esp', 'rear-wheel drive with esp', 'rwd(with mtt)']\n",
    "drive_type_mapping['awd'] = ['awd', 'all wheel drive', 'all-wheel drive with electronic traction', 'permanent all-wheel drive quattro']\n",
    "drive_type_mapping['4wd'] = ['4wd', '4 wd', '4x4', 'four whell drive']\n",
    "drive_type_mapping['nan'] = ['nan', '3']\n",
    "\n",
    "mapping_dict = {v: k for k, lst in drive_type_mapping.items() for v in lst}\n",
    "cars_df['Drive Type'] = cars_df['Drive Type'].replace(mapping_dict)\n",
    "\n",
    "cars_df[columns_unexpected_cardinality[3]].value_counts()"
   ]
  },
  {
   "cell_type": "markdown",
   "id": "8c24a66d",
   "metadata": {
    "papermill": {
     "duration": 0.026506,
     "end_time": "2023-03-25T19:14:23.300901",
     "exception": false,
     "start_time": "2023-03-25T19:14:23.274395",
     "status": "completed"
    },
    "tags": []
   },
   "source": [
    "---\n",
    "\n",
    "##### `Steering Type`"
   ]
  },
  {
   "cell_type": "code",
   "execution_count": 25,
   "id": "21293a4d",
   "metadata": {
    "execution": {
     "iopub.execute_input": "2023-03-25T19:14:23.355587Z",
     "iopub.status.busy": "2023-03-25T19:14:23.354956Z",
     "iopub.status.idle": "2023-03-25T19:14:23.366714Z",
     "shell.execute_reply": "2023-03-25T19:14:23.365566Z"
    },
    "papermill": {
     "duration": 0.041612,
     "end_time": "2023-03-25T19:14:23.368803",
     "exception": false,
     "start_time": "2023-03-25T19:14:23.327191",
     "status": "completed"
    },
    "tags": []
   },
   "outputs": [
    {
     "data": {
      "text/plain": [
       "power         31920\n",
       "electric       3895\n",
       "nan             808\n",
       "manual          652\n",
       "electronic      344\n",
       "electrical      138\n",
       "epas             49\n",
       "hydraulic         5\n",
       "mt                1\n",
       "motor             1\n",
       "Name: Steering Type, dtype: int64"
      ]
     },
     "execution_count": 25,
     "metadata": {},
     "output_type": "execute_result"
    }
   ],
   "source": [
    "# Steering Type\n",
    "cars_df[columns_unexpected_cardinality[4]].value_counts()"
   ]
  },
  {
   "cell_type": "markdown",
   "id": "57e9053b",
   "metadata": {
    "papermill": {
     "duration": 0.026583,
     "end_time": "2023-03-25T19:14:23.422544",
     "exception": false,
     "start_time": "2023-03-25T19:14:23.395961",
     "status": "completed"
    },
    "tags": []
   },
   "source": [
    "There are 2 kinds of steering types (broadly) - \n",
    "1. Power (electric)\n",
    "2. Manual (hydraulic, etc.)"
   ]
  },
  {
   "cell_type": "code",
   "execution_count": 26,
   "id": "ab479bf3",
   "metadata": {
    "execution": {
     "iopub.execute_input": "2023-03-25T19:14:23.480455Z",
     "iopub.status.busy": "2023-03-25T19:14:23.479478Z",
     "iopub.status.idle": "2023-03-25T19:14:23.656414Z",
     "shell.execute_reply": "2023-03-25T19:14:23.655433Z"
    },
    "papermill": {
     "duration": 0.209109,
     "end_time": "2023-03-25T19:14:23.658411",
     "exception": false,
     "start_time": "2023-03-25T19:14:23.449302",
     "status": "completed"
    },
    "tags": []
   },
   "outputs": [
    {
     "data": {
      "text/plain": [
       "power     36348\n",
       "nan         808\n",
       "manual      657\n",
       "Name: Steering Type, dtype: int64"
      ]
     },
     "execution_count": 26,
     "metadata": {},
     "output_type": "execute_result"
    }
   ],
   "source": [
    "cars_df['Steering Type'] = cars_df['Steering Type'].str.replace('electrical', 'power')\n",
    "cars_df['Steering Type'] = cars_df['Steering Type'].str.replace('electric', 'power')\n",
    "cars_df['Steering Type'] = cars_df['Steering Type'].str.replace('electronic', 'power')\n",
    "cars_df['Steering Type'] = cars_df['Steering Type'].str.replace('epas', 'power')\n",
    "cars_df['Steering Type'] = cars_df['Steering Type'].str.replace('mt', 'power')\n",
    "cars_df['Steering Type'] = cars_df['Steering Type'].str.replace('motor', 'power')\n",
    "cars_df['Steering Type'] = cars_df['Steering Type'].str.replace('hydraulic', 'manual')\n",
    "cars_df['Steering Type'] = cars_df['Steering Type'].str.replace('hydraulic', 'manual')\n",
    "\n",
    "cars_df[columns_unexpected_cardinality[4]].value_counts()"
   ]
  },
  {
   "cell_type": "markdown",
   "id": "73e645f5",
   "metadata": {
    "papermill": {
     "duration": 0.026566,
     "end_time": "2023-03-25T19:14:23.712143",
     "exception": false,
     "start_time": "2023-03-25T19:14:23.685577",
     "status": "completed"
    },
    "tags": []
   },
   "source": [
    "---\n",
    "\n",
    "##### `Front Brake Type` and `Rear Brake Type`"
   ]
  },
  {
   "cell_type": "code",
   "execution_count": 27,
   "id": "7a3c8dbd",
   "metadata": {
    "execution": {
     "iopub.execute_input": "2023-03-25T19:14:23.769312Z",
     "iopub.status.busy": "2023-03-25T19:14:23.767745Z",
     "iopub.status.idle": "2023-03-25T19:14:23.779816Z",
     "shell.execute_reply": "2023-03-25T19:14:23.778855Z"
    },
    "papermill": {
     "duration": 0.042991,
     "end_time": "2023-03-25T19:14:23.782570",
     "exception": false,
     "start_time": "2023-03-25T19:14:23.739579",
     "status": "completed"
    },
    "tags": []
   },
   "outputs": [
    {
     "data": {
      "text/plain": [
       "disc                                        22642\n",
       "ventilated disc                             13178\n",
       "ventilated discs                              400\n",
       "solid disc                                    398\n",
       "nan                                           327\n",
       "disc & caliper type                           296\n",
       "disk                                          205\n",
       "ventilated disk                                78\n",
       "drum                                           67\n",
       "multilateral disc                              42\n",
       "vantilated disc                                39\n",
       "disc, 236 mm                                   22\n",
       "ventlated disc                                 17\n",
       "vacuum assisted hydraulic dual circuit w       12\n",
       "ventillated disc                               11\n",
       "disc & drum                                    10\n",
       "disc,internally ventilated                      9\n",
       "electric parking brake                          8\n",
       "264mm ventilated discs                          8\n",
       "caliper ventilated disc                         6\n",
       "ventillated discs                               6\n",
       "disc brakes                                     5\n",
       "260mm discs                                     4\n",
       "discs                                           4\n",
       "abs                                             4\n",
       "tandem master cylinder with servo assist        3\n",
       "twin piston sliding fist caliper                2\n",
       "ventilated disc with twin pot caliper           2\n",
       "disc brakes with inner cooling                  2\n",
       "six piston claipers                             2\n",
       "booster assisted ventilated disc                2\n",
       "carbon ceramic brakes                           1\n",
       "ventilated & grooved steel discs                1\n",
       "Name: Front Brake Type, dtype: int64"
      ]
     },
     "execution_count": 27,
     "metadata": {},
     "output_type": "execute_result"
    }
   ],
   "source": [
    "cars_df[columns_unexpected_cardinality[5]].value_counts()"
   ]
  },
  {
   "cell_type": "code",
   "execution_count": 28,
   "id": "7270c294",
   "metadata": {
    "execution": {
     "iopub.execute_input": "2023-03-25T19:14:23.840686Z",
     "iopub.status.busy": "2023-03-25T19:14:23.840044Z",
     "iopub.status.idle": "2023-03-25T19:14:23.850558Z",
     "shell.execute_reply": "2023-03-25T19:14:23.849641Z"
    },
    "papermill": {
     "duration": 0.042583,
     "end_time": "2023-03-25T19:14:23.852483",
     "exception": false,
     "start_time": "2023-03-25T19:14:23.809900",
     "status": "completed"
    },
    "tags": []
   },
   "outputs": [
    {
     "data": {
      "text/plain": [
       "drum                                        29260\n",
       "disc                                         5272\n",
       "ventilated disc                               757\n",
       "solid disc                                    612\n",
       "nan                                           326\n",
       "self-adjusting drum                           322\n",
       "discs                                         301\n",
       "disc & caliper type                           296\n",
       "ventilated discs                              178\n",
       "leading-trailing drum                         134\n",
       "leading & trailing drum                        75\n",
       "ventilated drum                                46\n",
       "drums                                          40\n",
       "self adjusting drum                            33\n",
       "disc & drum                                    32\n",
       "self adjusting drums                           31\n",
       "drums 180 mm                                   22\n",
       "drum in discs                                  17\n",
       "vacuum assisted hydraulic dual circuit w       12\n",
       "262mm disc & drum combination                   8\n",
       "electric parking brake                          8\n",
       "ventialte disc                                  6\n",
       "203mm drums                                     4\n",
       "drum in disc                                    4\n",
       "228.6 mm dia, drums on rear wheels              3\n",
       "single piston sliding fist                      2\n",
       "disc brakes                                     2\n",
       "four piston calipers                            2\n",
       "booster assisted drum                           2\n",
       "ventilated drum in discs                        1\n",
       "carbon ceramic brakes.                          1\n",
       "ventilated & grooved steel discs                1\n",
       "ventialted disc                                 1\n",
       "drum brakes                                     1\n",
       "drum`                                           1\n",
       "Name: Rear Brake Type, dtype: int64"
      ]
     },
     "execution_count": 28,
     "metadata": {},
     "output_type": "execute_result"
    }
   ],
   "source": [
    "cars_df[columns_unexpected_cardinality[6]].value_counts()"
   ]
  },
  {
   "cell_type": "code",
   "execution_count": 29,
   "id": "052a5e91",
   "metadata": {
    "execution": {
     "iopub.execute_input": "2023-03-25T19:14:23.907973Z",
     "iopub.status.busy": "2023-03-25T19:14:23.907468Z",
     "iopub.status.idle": "2023-03-25T19:14:23.914888Z",
     "shell.execute_reply": "2023-03-25T19:14:23.914228Z"
    },
    "papermill": {
     "duration": 0.037635,
     "end_time": "2023-03-25T19:14:23.916883",
     "exception": false,
     "start_time": "2023-03-25T19:14:23.879248",
     "status": "completed"
    },
    "tags": []
   },
   "outputs": [],
   "source": [
    "brake_type_mapping = {}\n",
    "brake_type_mapping['disc'] = [\n",
    "\t'disc',\n",
    "\t'260mm discs',\n",
    "\t'disc brakes',\n",
    "\t'disc, 236 mm',\n",
    "\t'discs',\n",
    "\t'disk',\n",
    "\t'multilateral disc',\n",
    "\t'solid disc',\n",
    "\t'electric parking brake',\n",
    "\t'abs',\n",
    "]\n",
    "brake_type_mapping['ventilated disc'] = [\n",
    "\t'264mm ventilated discs',\n",
    "\t'booster assisted ventilated disc',\n",
    "\t'caliper ventilated disc',\n",
    "\t'disc brakes with inner cooling',\n",
    "\t'disc,internally ventilated',\n",
    "\t'vantilated disc',\n",
    "\t'ventilated & grooved steel discs',\n",
    "\t'ventilated disc',\n",
    "\t'ventilated disc with twin pot caliper',\n",
    "\t'ventilated discs',\n",
    "\t'ventilated disk',\n",
    "\t'ventillated disc',\n",
    "\t'ventillated discs',\n",
    "\t'ventlated disc',\n",
    "\t'ventilated drum in discs',\n",
    "\t'ventialte disc',\n",
    "\t'ventialted disc',\n",
    "]\n",
    "brake_type_mapping['carbon ceramic'] = [\n",
    "\t'carbon ceramic brakes',\n",
    "\t'carbon ceramic brakes.',\n",
    "]\n",
    "brake_type_mapping['disc & drum'] = [\n",
    "\t'disc & drum',\n",
    "\t'228.6 mm dia, drums on rear wheels',\n",
    "\t'262mm disc & drum combination',\n",
    "\t'drum in disc',\n",
    "\t'drum in discs',\n",
    "]\n",
    "brake_type_mapping['drum'] = [\n",
    "\t'drum',\n",
    "\t'203mm drums',\n",
    "\t'drum`',\n",
    "\t'drums',\n",
    "\t'drums 180 mm',\n",
    "\t'booster assisted drum',\n",
    "\t'drum brakes',\n",
    "\t'leading & trailing drum',\n",
    "\t'leading-trailing drum',\n",
    "\t'self adjusting drum',\n",
    "\t'self adjusting drums',\n",
    "\t'self-adjusting drum',\n",
    "\t'single piston sliding fist',\n",
    "\t'ventilated drum',\n",
    "\t'tandem master cylinder with servo assist',\n",
    "\n",
    "]\n",
    "brake_type_mapping['caliper'] = [\n",
    "\t'six piston claipers',\n",
    "\t'twin piston sliding fist caliper',\n",
    "\t'vacuum assisted hydraulic dual circuit w',\n",
    "\t'four piston calipers',\n",
    "\t'disc & caliper type',\n",
    "]"
   ]
  },
  {
   "cell_type": "code",
   "execution_count": 30,
   "id": "af103db5",
   "metadata": {
    "execution": {
     "iopub.execute_input": "2023-03-25T19:14:23.972397Z",
     "iopub.status.busy": "2023-03-25T19:14:23.971819Z",
     "iopub.status.idle": "2023-03-25T19:14:24.075898Z",
     "shell.execute_reply": "2023-03-25T19:14:24.074566Z"
    },
    "papermill": {
     "duration": 0.134498,
     "end_time": "2023-03-25T19:14:24.078296",
     "exception": false,
     "start_time": "2023-03-25T19:14:23.943798",
     "status": "completed"
    },
    "tags": []
   },
   "outputs": [],
   "source": [
    "mapping_dict = {v: k for k, lst in brake_type_mapping.items() for v in lst}\n",
    "cars_df['Front Brake Type'] = cars_df['Front Brake Type'].replace(mapping_dict)\n",
    "cars_df['Rear Brake Type'] = cars_df['Rear Brake Type'].replace(mapping_dict)"
   ]
  },
  {
   "cell_type": "code",
   "execution_count": 31,
   "id": "85294b85",
   "metadata": {
    "execution": {
     "iopub.execute_input": "2023-03-25T19:14:24.134451Z",
     "iopub.status.busy": "2023-03-25T19:14:24.133979Z",
     "iopub.status.idle": "2023-03-25T19:14:24.144114Z",
     "shell.execute_reply": "2023-03-25T19:14:24.142723Z"
    },
    "papermill": {
     "duration": 0.040762,
     "end_time": "2023-03-25T19:14:24.146192",
     "exception": false,
     "start_time": "2023-03-25T19:14:24.105430",
     "status": "completed"
    },
    "tags": []
   },
   "outputs": [
    {
     "data": {
      "text/plain": [
       "disc               23334\n",
       "ventilated disc    13759\n",
       "nan                  327\n",
       "caliper              312\n",
       "drum                  70\n",
       "disc & drum           10\n",
       "carbon ceramic         1\n",
       "Name: Front Brake Type, dtype: int64"
      ]
     },
     "execution_count": 31,
     "metadata": {},
     "output_type": "execute_result"
    }
   ],
   "source": [
    "cars_df[columns_unexpected_cardinality[5]].value_counts()"
   ]
  },
  {
   "cell_type": "code",
   "execution_count": 32,
   "id": "3d8f03d3",
   "metadata": {
    "execution": {
     "iopub.execute_input": "2023-03-25T19:14:24.201927Z",
     "iopub.status.busy": "2023-03-25T19:14:24.201560Z",
     "iopub.status.idle": "2023-03-25T19:14:24.211193Z",
     "shell.execute_reply": "2023-03-25T19:14:24.209816Z"
    },
    "papermill": {
     "duration": 0.03995,
     "end_time": "2023-03-25T19:14:24.212999",
     "exception": false,
     "start_time": "2023-03-25T19:14:24.173049",
     "status": "completed"
    },
    "tags": []
   },
   "outputs": [
    {
     "data": {
      "text/plain": [
       "drum               29973\n",
       "disc                6195\n",
       "ventilated disc      944\n",
       "nan                  326\n",
       "caliper              310\n",
       "disc & drum           64\n",
       "carbon ceramic         1\n",
       "Name: Rear Brake Type, dtype: int64"
      ]
     },
     "execution_count": 32,
     "metadata": {},
     "output_type": "execute_result"
    }
   ],
   "source": [
    "cars_df[columns_unexpected_cardinality[6]].value_counts()"
   ]
  },
  {
   "cell_type": "markdown",
   "id": "aabb9fe1",
   "metadata": {
    "papermill": {
     "duration": 0.026682,
     "end_time": "2023-03-25T19:14:24.266456",
     "exception": false,
     "start_time": "2023-03-25T19:14:24.239774",
     "status": "completed"
    },
    "tags": []
   },
   "source": [
    "---\n",
    "\n",
    "##### `Tyre Type`"
   ]
  },
  {
   "cell_type": "code",
   "execution_count": 33,
   "id": "3e49c0e6",
   "metadata": {
    "execution": {
     "iopub.execute_input": "2023-03-25T19:14:24.321755Z",
     "iopub.status.busy": "2023-03-25T19:14:24.321377Z",
     "iopub.status.idle": "2023-03-25T19:14:24.331804Z",
     "shell.execute_reply": "2023-03-25T19:14:24.330744Z"
    },
    "papermill": {
     "duration": 0.040316,
     "end_time": "2023-03-25T19:14:24.333451",
     "exception": false,
     "start_time": "2023-03-25T19:14:24.293135",
     "status": "completed"
    },
    "tags": []
   },
   "outputs": [
    {
     "data": {
      "text/plain": [
       "tubeless,radial               21770\n",
       "tubeless                       5723\n",
       "tubeless, radial               4994\n",
       "tubeless tyres                 2408\n",
       "radial                          606\n",
       "radial, tubeless                389\n",
       "tubeless radial tyres           301\n",
       "radial, tubless                 296\n",
       "nan                             257\n",
       "tubeless tyres, radial          224\n",
       "tubeless,radials                212\n",
       "radial,tubeless                 158\n",
       "tubless, radial                  92\n",
       "runflat                          69\n",
       "tubeless tyre                    50\n",
       "tubeless, runflat                48\n",
       "run-flat                         47\n",
       "runflat tyres                    41\n",
       "radial tubeless                  33\n",
       "tubeless,runflat                 31\n",
       "tubeless radial                  17\n",
       "runflat tyre                     16\n",
       "tubeless, radials                 7\n",
       "radial with tube                  4\n",
       "tubeless. runflat                 3\n",
       "tubeless radial tyrees            3\n",
       "tubeless tyres mud terrain        3\n",
       "radial tyres                      3\n",
       "tubeless.runflat                  2\n",
       "tubeless radial tyre              2\n",
       "tubeless , radial                 2\n",
       "tubeless radials                  1\n",
       "tubless radial tyrees             1\n",
       "Name: Tyre Type, dtype: int64"
      ]
     },
     "execution_count": 33,
     "metadata": {},
     "output_type": "execute_result"
    }
   ],
   "source": [
    "cars_df[columns_unexpected_cardinality[7]].value_counts()"
   ]
  },
  {
   "cell_type": "code",
   "execution_count": 34,
   "id": "1d27abd4",
   "metadata": {
    "execution": {
     "iopub.execute_input": "2023-03-25T19:14:24.389714Z",
     "iopub.status.busy": "2023-03-25T19:14:24.388461Z",
     "iopub.status.idle": "2023-03-25T19:14:24.395581Z",
     "shell.execute_reply": "2023-03-25T19:14:24.394597Z"
    },
    "papermill": {
     "duration": 0.037112,
     "end_time": "2023-03-25T19:14:24.397367",
     "exception": false,
     "start_time": "2023-03-25T19:14:24.360255",
     "status": "completed"
    },
    "tags": []
   },
   "outputs": [],
   "source": [
    "tyre_type_mapping = {}\n",
    "tyre_type_mapping['tubeless'] = [\n",
    "\t'tubeless tyres',\n",
    "\t'tubeless',\n",
    "\t'tubeless tyres mud terrain',\n",
    "\t'tubeless tyre',\n",
    "]\n",
    "tyre_type_mapping['tubeless radial'] = [\n",
    "\t'tubeless, radial',\n",
    "\t'tubeless,radial',\n",
    "\t'tubeless tyres, radial',\n",
    "\t'tubeless radial tyres',\n",
    "\t'radial, tubeless',\n",
    "\t'radial',\n",
    "\t'tubless, radial',\n",
    "\t'radial tubeless',\n",
    "\t'tubeless radial',\n",
    "\t'tubeless,radials',\n",
    "\t'tubeless radials',\n",
    "\t'radial,tubeless',\n",
    "\t'tubeless radial tyre',\n",
    "\t'radial, tubless',\n",
    "\t'tubless radial tyrees',\n",
    "\t'tubeless , radial',\n",
    "\t'tubeless, radials',\n",
    "\t'radial tyres',\n",
    "]\n",
    "tyre_type_mapping['runflat'] = [\n",
    "\t'runflat tyres',\n",
    "\t'runflat',\n",
    "\t'tubeless,runflat',\n",
    "\t'run-flat',\n",
    "\t'runflat tyre',\n",
    "\t'tubeless, runflat',\n",
    "\t'tubeless. runflat',\n",
    "\t'tubeless.runflat',\n",
    "\t'tubeless radial tyrees',\n",
    "]\n",
    "tyre_type_mapping['tube'] = [\n",
    "\t'radial with tube',\n",
    "]"
   ]
  },
  {
   "cell_type": "code",
   "execution_count": 35,
   "id": "b3ef8426",
   "metadata": {
    "execution": {
     "iopub.execute_input": "2023-03-25T19:14:24.455414Z",
     "iopub.status.busy": "2023-03-25T19:14:24.454436Z",
     "iopub.status.idle": "2023-03-25T19:14:24.512329Z",
     "shell.execute_reply": "2023-03-25T19:14:24.510747Z"
    },
    "papermill": {
     "duration": 0.090239,
     "end_time": "2023-03-25T19:14:24.516237",
     "exception": false,
     "start_time": "2023-03-25T19:14:24.425998",
     "status": "completed"
    },
    "tags": []
   },
   "outputs": [
    {
     "data": {
      "text/plain": [
       "tubeless radial    29108\n",
       "tubeless            8184\n",
       "runflat              260\n",
       "nan                  257\n",
       "tube                   4\n",
       "Name: Tyre Type, dtype: int64"
      ]
     },
     "execution_count": 35,
     "metadata": {},
     "output_type": "execute_result"
    }
   ],
   "source": [
    "mapping_dict = {v: k for k, lst in tyre_type_mapping.items() for v in lst}\n",
    "cars_df['Tyre Type'] = cars_df['Tyre Type'].replace(mapping_dict)\n",
    "\n",
    "cars_df[columns_unexpected_cardinality[7]].value_counts()"
   ]
  },
  {
   "cell_type": "markdown",
   "id": "ee72c94f",
   "metadata": {
    "papermill": {
     "duration": 0.02783,
     "end_time": "2023-03-25T19:14:24.580896",
     "exception": false,
     "start_time": "2023-03-25T19:14:24.553066",
     "status": "completed"
    },
    "tags": []
   },
   "source": [
    "---\n",
    "\n",
    "##### `Fuel Injection System`\n",
    "\n",
    "Although we expect a high cardinality from this feature, it's still worth a look if we could reduce the number of catgories by losing some of the variance.\n",
    "\n",
    "(This step is optional and can be skipped. Also the mapping that is done is approximate and to the best of my knowledge, your mapping could differ)"
   ]
  },
  {
   "cell_type": "code",
   "execution_count": 36,
   "id": "2856d1bc",
   "metadata": {
    "execution": {
     "iopub.execute_input": "2023-03-25T19:14:24.638037Z",
     "iopub.status.busy": "2023-03-25T19:14:24.637493Z",
     "iopub.status.idle": "2023-03-25T19:14:24.648287Z",
     "shell.execute_reply": "2023-03-25T19:14:24.647200Z"
    },
    "papermill": {
     "duration": 0.041642,
     "end_time": "2023-03-25T19:14:24.650834",
     "exception": false,
     "start_time": "2023-03-25T19:14:24.609192",
     "status": "completed"
    },
    "tags": []
   },
   "outputs": [
    {
     "data": {
      "text/plain": [
       "mpfi                                      13443\n",
       "crdi                                       9165\n",
       "nan                                        5502\n",
       "direct injection                           3831\n",
       "pgm-fi                                      882\n",
       "                                          ...  \n",
       "intake port(multi-point)                      1\n",
       "mfi                                           1\n",
       "distributor-type diesel fuel injection        1\n",
       "tfsi                                          1\n",
       "pgm-fi (programmed fuel inject                1\n",
       "Name: Fuel Suppy System, Length: 71, dtype: int64"
      ]
     },
     "execution_count": 36,
     "metadata": {},
     "output_type": "execute_result"
    }
   ],
   "source": [
    "cars_df['Fuel Suppy System'].value_counts()"
   ]
  },
  {
   "cell_type": "code",
   "execution_count": 37,
   "id": "062b9fe2",
   "metadata": {
    "execution": {
     "iopub.execute_input": "2023-03-25T19:14:24.708170Z",
     "iopub.status.busy": "2023-03-25T19:14:24.707786Z",
     "iopub.status.idle": "2023-03-25T19:14:24.792137Z",
     "shell.execute_reply": "2023-03-25T19:14:24.790589Z"
    },
    "papermill": {
     "duration": 0.115394,
     "end_time": "2023-03-25T19:14:24.794368",
     "exception": false,
     "start_time": "2023-03-25T19:14:24.678974",
     "status": "completed"
    },
    "tags": []
   },
   "outputs": [
    {
     "data": {
      "text/plain": [
       "Multi-Point Fuel Injection         14055\n",
       "Common Rail Injection              11822\n",
       "nan                                 5502\n",
       "Direct Injection                    3837\n",
       "Electronic Fuel Injection           1593\n",
       "Gasoline Direct Injection            653\n",
       "Gasoline Port Injection              100\n",
       "Diesel Direct Injection               99\n",
       "Turbo Intercooled Diesel              89\n",
       "Indirect Injection                    21\n",
       "Variable Valve Timing Injection       15\n",
       "Three-Phase AC Induction Motors       11\n",
       "Distributor-Type Fuel Injection        8\n",
       "Electric                               7\n",
       "Intake Port Injection                  1\n",
       "Name: Fuel Suppy System, dtype: int64"
      ]
     },
     "execution_count": 37,
     "metadata": {},
     "output_type": "execute_result"
    }
   ],
   "source": [
    "fuel_injection_mapping = {\n",
    "    \"Gasoline Port Injection\": [\n",
    "    \t\"intelligent-gas port injection\", \n",
    "    \t\"i-gpi\",\n",
    "    \t\"dohc\",\n",
    "    \t\"pfi\"\n",
    "\t],\n",
    "    \"Multi-Point Fuel Injection\": [\n",
    "    \t\"mpfi\", \n",
    "    \t\"multi-point injection\", \n",
    "    \t\"mpfi+lpg\", \n",
    "    \t\"mpfi+cng\", \n",
    "    \t\"multipoint injection\", \n",
    "    \t\"smpi\", \n",
    "    \t\"mpi\",\n",
    "    \t\"multi point fuel injection\",\n",
    "    \t\"dpfi\",\n",
    "    \t\"mfi\",\n",
    "    \t\"multi point injection\",\n",
    "    \t\"msds\",\n",
    "    \t\"cng\"\n",
    "    ],\n",
    "    \"Electronic Fuel Injection\": [\n",
    "\t    \"efi(electronic fuel injection)\", \n",
    "\t    \"efi\", \n",
    "\t    \"efi (electronic fuel injection)\", \n",
    "\t    \"efic\", \n",
    "\t    \"electronic fuel injection\", \n",
    "\t    \"electronically controlled injection\", \n",
    "\t    \"electronic injection system\", \n",
    "\t    \"sefi\",\n",
    "\t    \"egis\",\n",
    "\t    \"efi (electronic fuel injection\",\n",
    "\t    \"efi\",\n",
    "        \"efi -electronic fuel injection\",\n",
    "    ],\n",
    "    \"Direct Injection\": [\n",
    "    \t\"direct injection\", \n",
    "    \t\"direct injectio\", \n",
    "    \t\"direct fuel injection\",\n",
    "    \t\"direct engine\",\n",
    "    ],\n",
    "    \"Common Rail Injection\": [\n",
    "    \t\"crdi\", \n",
    "    \t\"common rail\", \n",
    "    \t\"common rail injection\", \n",
    "    \t\"common rail direct injection\", \n",
    "    \t\"common rail direct injection (dci)\", \n",
    "    \t\"common-rail type\", \n",
    "    \t\"advanced common rail\", \n",
    "    \t\"common rail system\", \n",
    "    \t\"common rail diesel\", \n",
    "    \t\"pgm-fi (programmed fuel injection)\", \n",
    "    \t\"pgm-fi (programmed fuel inje\", \n",
    "    \t\"pgm - fi\", \n",
    "    \t\"pgm-fi\", \n",
    "    \t\"pgm-fi (programmed fuel inject\",\n",
    "    \t\"direct injection common rail\",\n",
    "    \t\"cdi\"\n",
    "    ],\n",
    "    \"Distributor-Type Fuel Injection\": [\n",
    "    \t\"dedst\", \n",
    "    \t\"distribution type fuel injection\", \n",
    "    \t\"distributor-type diesel fuel injection\",\n",
    "    ],\n",
    "    \"Indirect Injection\": [\n",
    "    \t\"indirect injection\",\n",
    "    \t\"idi\"\n",
    "    ],\n",
    "    \"Gasoline Direct Injection\": [\n",
    "    \t\"gdi\", \n",
    "    \t\"gasoline direct injection\",\n",
    "    \t\"tfsi\",\n",
    "    \t\"tsi\",\n",
    "    \t\"tgdi\"\n",
    "    ],\n",
    "    \"Turbo Intercooled Diesel\": [\n",
    "    \t\"tcdi\", \n",
    "    \t\"turbo intercooled diesel\",\n",
    "    \t\"tdci\"\n",
    "    ],\n",
    "    \"Intake Port Injection\": [\n",
    "    \t\"intake port(multi-point)\"\n",
    "    ],\n",
    "    \"Diesel Direct Injection\": [\n",
    "    \t\"ddi\", \n",
    "    \t\"ddis\"\n",
    "    ],\n",
    "    \"Variable Valve Timing Injection\": [\n",
    "    \t\"dual vvt-i\", \n",
    "    \t\"vvt-ie\", \n",
    "    \t\"ti-vct\"\n",
    "    ],\n",
    "    \"Three-Phase AC Induction Motors\": [\n",
    "    \t\"3 phase ac induction motors\"\n",
    "    ],\n",
    "    \"Electric\": [\n",
    "    \t\"electric\", \n",
    "    \t\"isg\"\n",
    "    ],\n",
    "}\n",
    "\n",
    "mapping_dict = {v: k for k, lst in fuel_injection_mapping.items() for v in lst}\n",
    "cars_df['Fuel Suppy System'] = cars_df['Fuel Suppy System'].replace(mapping_dict)\n",
    "\n",
    "cars_df['Fuel Suppy System'].value_counts()"
   ]
  },
  {
   "cell_type": "markdown",
   "id": "bb3bd6bb",
   "metadata": {
    "papermill": {
     "duration": 0.026951,
     "end_time": "2023-03-25T19:14:24.848796",
     "exception": false,
     "start_time": "2023-03-25T19:14:24.821845",
     "status": "completed"
    },
    "tags": []
   },
   "source": [
    "##### With this column, all of the features suspected of high cardinality are handled. We can move on to the other things that were pointed out earlier in the code."
   ]
  },
  {
   "cell_type": "markdown",
   "id": "f3052ce7",
   "metadata": {
    "papermill": {
     "duration": 0.027353,
     "end_time": "2023-03-25T19:14:24.903333",
     "exception": false,
     "start_time": "2023-03-25T19:14:24.875980",
     "status": "completed"
    },
    "tags": []
   },
   "source": [
    "---"
   ]
  },
  {
   "cell_type": "markdown",
   "id": "c071c95f",
   "metadata": {
    "papermill": {
     "duration": 0.027256,
     "end_time": "2023-03-25T19:14:24.958248",
     "exception": false,
     "start_time": "2023-03-25T19:14:24.930992",
     "status": "completed"
    },
    "tags": []
   },
   "source": [
    "#### Converting features to numerical (and/or boolean)"
   ]
  },
  {
   "cell_type": "markdown",
   "id": "8c1614a1",
   "metadata": {
    "papermill": {
     "duration": 0.027304,
     "end_time": "2023-03-25T19:14:25.012868",
     "exception": false,
     "start_time": "2023-03-25T19:14:24.985564",
     "status": "completed"
    },
    "tags": []
   },
   "source": [
    "The features we wish to convert are the following:\n",
    "1. `pu` to float\n",
    "2. `Max Power` to 2 separate columns: `Max Power Delivered` and `Max Power At`\n",
    "3. ~~`No of Cylinder` to int (from float)~~\n",
    "4. ~~`Values per Cylinder` to int (from float)~~\n",
    "5. `BoreX Stroke` to 2 separate columns: `Bore` and `Stroke`\n",
    "6. `Turbo Charger` to boolean\n",
    "7. `Super Charger` to boolean\n",
    "8. `Length` to int \n",
    "9. `Width` to int\n",
    "10. `Height` to int\n",
    "11. `Wheel Base` to int\n",
    "12. `Front Tread` to int\n",
    "13. `Rear Tread` to int\n",
    "14. `Kerb Weight` to int\n",
    "15. `Gross Weight` to int\n",
    "16. ~~`Seating Capacity` to int (from float)~~\n",
    "17. `Turning Radius` to float\n",
    "18. `Top Speed` to int\n",
    "19. `Acceleration` to float\n",
    "20. ~~`No Door Numbers` to int (from float)~~\n",
    "21. `Cargo Volumn` to int\n",
    "22. `Compression Ratio` to float\n",
    "23. `Alloy Wheel Size` to float\n",
    "24. `Ground Clearance Unladen` to int"
   ]
  },
  {
   "cell_type": "code",
   "execution_count": 38,
   "id": "69f65d9b",
   "metadata": {
    "execution": {
     "iopub.execute_input": "2023-03-25T19:14:25.070554Z",
     "iopub.status.busy": "2023-03-25T19:14:25.070235Z",
     "iopub.status.idle": "2023-03-25T19:14:25.109658Z",
     "shell.execute_reply": "2023-03-25T19:14:25.108734Z"
    },
    "papermill": {
     "duration": 0.070953,
     "end_time": "2023-03-25T19:14:25.111847",
     "exception": false,
     "start_time": "2023-03-25T19:14:25.040894",
     "status": "completed"
    },
    "tags": []
   },
   "outputs": [
    {
     "data": {
      "text/html": [
       "<div>\n",
       "<style scoped>\n",
       "    .dataframe tbody tr th:only-of-type {\n",
       "        vertical-align: middle;\n",
       "    }\n",
       "\n",
       "    .dataframe tbody tr th {\n",
       "        vertical-align: top;\n",
       "    }\n",
       "\n",
       "    .dataframe thead th {\n",
       "        text-align: right;\n",
       "    }\n",
       "</style>\n",
       "<table border=\"1\" class=\"dataframe\">\n",
       "  <thead>\n",
       "    <tr style=\"text-align: right;\">\n",
       "      <th></th>\n",
       "      <th>loc</th>\n",
       "      <th>myear</th>\n",
       "      <th>bt</th>\n",
       "      <th>tt</th>\n",
       "      <th>ft</th>\n",
       "      <th>km</th>\n",
       "      <th>ip</th>\n",
       "      <th>images</th>\n",
       "      <th>imgCount</th>\n",
       "      <th>threesixty</th>\n",
       "      <th>...</th>\n",
       "      <th>No Door Numbers</th>\n",
       "      <th>Cargo Volumn</th>\n",
       "      <th>model_type_new</th>\n",
       "      <th>state</th>\n",
       "      <th>exterior_color</th>\n",
       "      <th>owner_type</th>\n",
       "      <th>Fuel Suppy System</th>\n",
       "      <th>Compression Ratio</th>\n",
       "      <th>Alloy Wheel Size</th>\n",
       "      <th>Ground Clearance Unladen</th>\n",
       "    </tr>\n",
       "    <tr>\n",
       "      <th>usedCarSkuId</th>\n",
       "      <th></th>\n",
       "      <th></th>\n",
       "      <th></th>\n",
       "      <th></th>\n",
       "      <th></th>\n",
       "      <th></th>\n",
       "      <th></th>\n",
       "      <th></th>\n",
       "      <th></th>\n",
       "      <th></th>\n",
       "      <th></th>\n",
       "      <th></th>\n",
       "      <th></th>\n",
       "      <th></th>\n",
       "      <th></th>\n",
       "      <th></th>\n",
       "      <th></th>\n",
       "      <th></th>\n",
       "      <th></th>\n",
       "      <th></th>\n",
       "      <th></th>\n",
       "    </tr>\n",
       "  </thead>\n",
       "  <tbody>\n",
       "    <tr>\n",
       "      <th>7111bf25-97af-47f9-867b-40879190d800</th>\n",
       "      <td>gomti nagar</td>\n",
       "      <td>2016</td>\n",
       "      <td>hatchback</td>\n",
       "      <td>manual</td>\n",
       "      <td>cng</td>\n",
       "      <td>69,162</td>\n",
       "      <td>0</td>\n",
       "      <td>[{'img': 'https://images10.gaadi.com/usedcar_i...</td>\n",
       "      <td>15</td>\n",
       "      <td>False</td>\n",
       "      <td>...</td>\n",
       "      <td>5.000</td>\n",
       "      <td>180-liters</td>\n",
       "      <td>used</td>\n",
       "      <td>uttar pradesh</td>\n",
       "      <td>silver</td>\n",
       "      <td>first</td>\n",
       "      <td>nan</td>\n",
       "      <td>NaN</td>\n",
       "      <td>nan</td>\n",
       "      <td>nan</td>\n",
       "    </tr>\n",
       "    <tr>\n",
       "      <th>c309efc1-efaf-4f82-81ad-dcb38eb36665</th>\n",
       "      <td>borivali west</td>\n",
       "      <td>2015</td>\n",
       "      <td>hatchback</td>\n",
       "      <td>manual</td>\n",
       "      <td>cng</td>\n",
       "      <td>45,864</td>\n",
       "      <td>0</td>\n",
       "      <td>[{'img': 'https://images10.gaadi.com/usedcar_i...</td>\n",
       "      <td>15</td>\n",
       "      <td>False</td>\n",
       "      <td>...</td>\n",
       "      <td>5.000</td>\n",
       "      <td>235-litres</td>\n",
       "      <td>used</td>\n",
       "      <td>maharashtra</td>\n",
       "      <td>grey</td>\n",
       "      <td>first</td>\n",
       "      <td>Gasoline Port Injection</td>\n",
       "      <td>11.0:1</td>\n",
       "      <td>nan</td>\n",
       "      <td>nan</td>\n",
       "    </tr>\n",
       "    <tr>\n",
       "      <th>7609f710-0c97-4f00-9a47-9b9284b62d3a</th>\n",
       "      <td>jasola</td>\n",
       "      <td>2015</td>\n",
       "      <td>sedan</td>\n",
       "      <td>manual</td>\n",
       "      <td>cng</td>\n",
       "      <td>81,506</td>\n",
       "      <td>0</td>\n",
       "      <td>[{'img': 'https://images10.gaadi.com/usedcar_i...</td>\n",
       "      <td>15</td>\n",
       "      <td>False</td>\n",
       "      <td>...</td>\n",
       "      <td>4.000</td>\n",
       "      <td>400-litres</td>\n",
       "      <td>used</td>\n",
       "      <td>delhi</td>\n",
       "      <td>silver</td>\n",
       "      <td>second</td>\n",
       "      <td>nan</td>\n",
       "      <td>NaN</td>\n",
       "      <td>nan</td>\n",
       "      <td>nan</td>\n",
       "    </tr>\n",
       "    <tr>\n",
       "      <th>278b76e3-5539-4a5e-ae3e-353a2e3b6d7d</th>\n",
       "      <td>jasola</td>\n",
       "      <td>2013</td>\n",
       "      <td>hatchback</td>\n",
       "      <td>manual</td>\n",
       "      <td>cng</td>\n",
       "      <td>1,15,893</td>\n",
       "      <td>0</td>\n",
       "      <td>[{'img': ''}]</td>\n",
       "      <td>0</td>\n",
       "      <td>False</td>\n",
       "      <td>...</td>\n",
       "      <td>4.000</td>\n",
       "      <td>nan</td>\n",
       "      <td>used</td>\n",
       "      <td>delhi</td>\n",
       "      <td>silver</td>\n",
       "      <td>second</td>\n",
       "      <td>Multi-Point Fuel Injection</td>\n",
       "      <td>NaN</td>\n",
       "      <td>13</td>\n",
       "      <td>nan</td>\n",
       "    </tr>\n",
       "    <tr>\n",
       "      <th>b1eab99b-a606-48dd-a75b-57feb8a9ad92</th>\n",
       "      <td>mumbai g.p.o.</td>\n",
       "      <td>2022</td>\n",
       "      <td>muv</td>\n",
       "      <td>manual</td>\n",
       "      <td>cng</td>\n",
       "      <td>18,900</td>\n",
       "      <td>0</td>\n",
       "      <td>[{'img': 'https://images10.gaadi.com/usedcar_i...</td>\n",
       "      <td>6</td>\n",
       "      <td>False</td>\n",
       "      <td>...</td>\n",
       "      <td>5.000</td>\n",
       "      <td>nan</td>\n",
       "      <td>used</td>\n",
       "      <td>maharashtra</td>\n",
       "      <td>white</td>\n",
       "      <td>first</td>\n",
       "      <td>nan</td>\n",
       "      <td>12.0+-.03</td>\n",
       "      <td>nan</td>\n",
       "      <td>nan</td>\n",
       "    </tr>\n",
       "  </tbody>\n",
       "</table>\n",
       "<p>5 rows × 62 columns</p>\n",
       "</div>"
      ],
      "text/plain": [
       "                                                loc  myear         bt      tt  \\\n",
       "usedCarSkuId                                                                    \n",
       "7111bf25-97af-47f9-867b-40879190d800    gomti nagar   2016  hatchback  manual   \n",
       "c309efc1-efaf-4f82-81ad-dcb38eb36665  borivali west   2015  hatchback  manual   \n",
       "7609f710-0c97-4f00-9a47-9b9284b62d3a         jasola   2015      sedan  manual   \n",
       "278b76e3-5539-4a5e-ae3e-353a2e3b6d7d         jasola   2013  hatchback  manual   \n",
       "b1eab99b-a606-48dd-a75b-57feb8a9ad92  mumbai g.p.o.   2022        muv  manual   \n",
       "\n",
       "                                       ft        km  ip  \\\n",
       "usedCarSkuId                                              \n",
       "7111bf25-97af-47f9-867b-40879190d800  cng    69,162   0   \n",
       "c309efc1-efaf-4f82-81ad-dcb38eb36665  cng    45,864   0   \n",
       "7609f710-0c97-4f00-9a47-9b9284b62d3a  cng    81,506   0   \n",
       "278b76e3-5539-4a5e-ae3e-353a2e3b6d7d  cng  1,15,893   0   \n",
       "b1eab99b-a606-48dd-a75b-57feb8a9ad92  cng    18,900   0   \n",
       "\n",
       "                                                                                 images  \\\n",
       "usedCarSkuId                                                                              \n",
       "7111bf25-97af-47f9-867b-40879190d800  [{'img': 'https://images10.gaadi.com/usedcar_i...   \n",
       "c309efc1-efaf-4f82-81ad-dcb38eb36665  [{'img': 'https://images10.gaadi.com/usedcar_i...   \n",
       "7609f710-0c97-4f00-9a47-9b9284b62d3a  [{'img': 'https://images10.gaadi.com/usedcar_i...   \n",
       "278b76e3-5539-4a5e-ae3e-353a2e3b6d7d                                      [{'img': ''}]   \n",
       "b1eab99b-a606-48dd-a75b-57feb8a9ad92  [{'img': 'https://images10.gaadi.com/usedcar_i...   \n",
       "\n",
       "                                      imgCount  threesixty  ...  \\\n",
       "usedCarSkuId                                                ...   \n",
       "7111bf25-97af-47f9-867b-40879190d800        15       False  ...   \n",
       "c309efc1-efaf-4f82-81ad-dcb38eb36665        15       False  ...   \n",
       "7609f710-0c97-4f00-9a47-9b9284b62d3a        15       False  ...   \n",
       "278b76e3-5539-4a5e-ae3e-353a2e3b6d7d         0       False  ...   \n",
       "b1eab99b-a606-48dd-a75b-57feb8a9ad92         6       False  ...   \n",
       "\n",
       "                                     No Door Numbers Cargo Volumn  \\\n",
       "usedCarSkuId                                                        \n",
       "7111bf25-97af-47f9-867b-40879190d800           5.000   180-liters   \n",
       "c309efc1-efaf-4f82-81ad-dcb38eb36665           5.000   235-litres   \n",
       "7609f710-0c97-4f00-9a47-9b9284b62d3a           4.000   400-litres   \n",
       "278b76e3-5539-4a5e-ae3e-353a2e3b6d7d           4.000          nan   \n",
       "b1eab99b-a606-48dd-a75b-57feb8a9ad92           5.000          nan   \n",
       "\n",
       "                                     model_type_new          state  \\\n",
       "usedCarSkuId                                                         \n",
       "7111bf25-97af-47f9-867b-40879190d800           used  uttar pradesh   \n",
       "c309efc1-efaf-4f82-81ad-dcb38eb36665           used    maharashtra   \n",
       "7609f710-0c97-4f00-9a47-9b9284b62d3a           used          delhi   \n",
       "278b76e3-5539-4a5e-ae3e-353a2e3b6d7d           used          delhi   \n",
       "b1eab99b-a606-48dd-a75b-57feb8a9ad92           used    maharashtra   \n",
       "\n",
       "                                     exterior_color owner_type  \\\n",
       "usedCarSkuId                                                     \n",
       "7111bf25-97af-47f9-867b-40879190d800         silver      first   \n",
       "c309efc1-efaf-4f82-81ad-dcb38eb36665           grey      first   \n",
       "7609f710-0c97-4f00-9a47-9b9284b62d3a         silver     second   \n",
       "278b76e3-5539-4a5e-ae3e-353a2e3b6d7d         silver     second   \n",
       "b1eab99b-a606-48dd-a75b-57feb8a9ad92          white      first   \n",
       "\n",
       "                                               Fuel Suppy System  \\\n",
       "usedCarSkuId                                                       \n",
       "7111bf25-97af-47f9-867b-40879190d800                         nan   \n",
       "c309efc1-efaf-4f82-81ad-dcb38eb36665     Gasoline Port Injection   \n",
       "7609f710-0c97-4f00-9a47-9b9284b62d3a                         nan   \n",
       "278b76e3-5539-4a5e-ae3e-353a2e3b6d7d  Multi-Point Fuel Injection   \n",
       "b1eab99b-a606-48dd-a75b-57feb8a9ad92                         nan   \n",
       "\n",
       "                                     Compression Ratio Alloy Wheel Size  \\\n",
       "usedCarSkuId                                                              \n",
       "7111bf25-97af-47f9-867b-40879190d800               NaN              nan   \n",
       "c309efc1-efaf-4f82-81ad-dcb38eb36665            11.0:1              nan   \n",
       "7609f710-0c97-4f00-9a47-9b9284b62d3a               NaN              nan   \n",
       "278b76e3-5539-4a5e-ae3e-353a2e3b6d7d               NaN               13   \n",
       "b1eab99b-a606-48dd-a75b-57feb8a9ad92         12.0+-.03              nan   \n",
       "\n",
       "                                     Ground Clearance Unladen  \n",
       "usedCarSkuId                                                   \n",
       "7111bf25-97af-47f9-867b-40879190d800                      nan  \n",
       "c309efc1-efaf-4f82-81ad-dcb38eb36665                      nan  \n",
       "7609f710-0c97-4f00-9a47-9b9284b62d3a                      nan  \n",
       "278b76e3-5539-4a5e-ae3e-353a2e3b6d7d                      nan  \n",
       "b1eab99b-a606-48dd-a75b-57feb8a9ad92                      nan  \n",
       "\n",
       "[5 rows x 62 columns]"
      ]
     },
     "execution_count": 38,
     "metadata": {},
     "output_type": "execute_result"
    }
   ],
   "source": [
    "# Make a copy of the data, cars_df will now serve as a checkpoint\n",
    "cars_df2 = cars_df.copy()\n",
    "\n",
    "# Sanity check\n",
    "cars_df2.head()"
   ]
  },
  {
   "cell_type": "code",
   "execution_count": 39,
   "id": "14c14515",
   "metadata": {
    "execution": {
     "iopub.execute_input": "2023-03-25T19:14:25.172218Z",
     "iopub.status.busy": "2023-03-25T19:14:25.171817Z",
     "iopub.status.idle": "2023-03-25T19:14:25.179090Z",
     "shell.execute_reply": "2023-03-25T19:14:25.178198Z"
    },
    "papermill": {
     "duration": 0.038555,
     "end_time": "2023-03-25T19:14:25.180867",
     "exception": false,
     "start_time": "2023-03-25T19:14:25.142312",
     "status": "completed"
    },
    "tags": []
   },
   "outputs": [],
   "source": [
    "# A utility function to get a number from a string\n",
    "def converst_to_number(x, conv: str = 'float'):\n",
    "    x = str(x)\n",
    "    new_str = ''\n",
    "    is_dec = True\n",
    "    for a in x:\n",
    "        if 48 <= ord(a) <= 57:\n",
    "            new_str += a\n",
    "            continue\n",
    "        elif a == ',' or a == '_':\n",
    "            continue\n",
    "        elif a == '.' and is_dec:\n",
    "            new_str += a\n",
    "            is_dec = False\n",
    "        else:\n",
    "            break\n",
    "    \n",
    "    if new_str == '':\n",
    "        return None\n",
    "    \n",
    "    if conv == 'int':\n",
    "        return int(new_str)\n",
    "    \n",
    "    return float(new_str)\n",
    "\n",
    "def get_begin_number(x):\n",
    "    return converst_to_number(x, 'int')\n",
    "\n",
    "def get_begin_float(x):\n",
    "    return converst_to_number(x, 'float')\n",
    "\n",
    "# def get_begin_number(x):\n",
    "#     x = str(x)\n",
    "#     reg_match = re.search(r'\\d+', x)\n",
    "#     if reg_match is None:\n",
    "#         return None\n",
    "#     return int(reg_match.group())\n",
    "\n",
    "# def get_begin_float(x):\n",
    "#     x = str(x)\n",
    "#     reg_match = re.search(r'\\d+\\.?\\d+', x)\n",
    "#     if reg_match is None:\n",
    "#         return None\n",
    "#     return float(reg_match.group())"
   ]
  },
  {
   "cell_type": "markdown",
   "id": "0ce1321e",
   "metadata": {
    "papermill": {
     "duration": 0.027902,
     "end_time": "2023-03-25T19:14:25.236798",
     "exception": false,
     "start_time": "2023-03-25T19:14:25.208896",
     "status": "completed"
    },
    "tags": []
   },
   "source": [
    "---\n",
    "\n",
    "#### `pu`\n",
    "\n",
    "This is our target column (the price of our used cars). This should be a float or int."
   ]
  },
  {
   "cell_type": "code",
   "execution_count": 40,
   "id": "88cc0c83",
   "metadata": {
    "execution": {
     "iopub.execute_input": "2023-03-25T19:14:25.296962Z",
     "iopub.status.busy": "2023-03-25T19:14:25.296584Z",
     "iopub.status.idle": "2023-03-25T19:14:25.305228Z",
     "shell.execute_reply": "2023-03-25T19:14:25.304319Z"
    },
    "papermill": {
     "duration": 0.040599,
     "end_time": "2023-03-25T19:14:25.307308",
     "exception": false,
     "start_time": "2023-03-25T19:14:25.266709",
     "status": "completed"
    },
    "tags": []
   },
   "outputs": [
    {
     "data": {
      "text/plain": [
       "usedCarSkuId\n",
       "f26e7e5c-b0ad-42e3-a824-e0b9c9981814     1,64,299\n",
       "9343a8fe-9c41-4079-8615-44b3aa2f1443     2,50,000\n",
       "c6fe217c-19fb-48e0-bdbd-164516212d81       98,414\n",
       "fdc85bdd-2991-43a1-9ec1-505fbb4216c2    10,97,000\n",
       "a51b6fe3-3117-4d5e-9edf-7b860a0ff0f4     1,35,000\n",
       "Name: pu, dtype: object"
      ]
     },
     "execution_count": 40,
     "metadata": {},
     "output_type": "execute_result"
    }
   ],
   "source": [
    "cars_df2['pu'].sample(5)"
   ]
  },
  {
   "cell_type": "code",
   "execution_count": 41,
   "id": "1dfc94b9",
   "metadata": {
    "execution": {
     "iopub.execute_input": "2023-03-25T19:14:25.364951Z",
     "iopub.status.busy": "2023-03-25T19:14:25.364563Z",
     "iopub.status.idle": "2023-03-25T19:14:25.412004Z",
     "shell.execute_reply": "2023-03-25T19:14:25.411126Z"
    },
    "papermill": {
     "duration": 0.078922,
     "end_time": "2023-03-25T19:14:25.414465",
     "exception": false,
     "start_time": "2023-03-25T19:14:25.335543",
     "status": "completed"
    },
    "tags": []
   },
   "outputs": [
    {
     "data": {
      "text/plain": [
       "usedCarSkuId\n",
       "6c1fd6d2-65ea-4f45-bd3e-8271a6f9d7ea   759000.000\n",
       "a92a4067-62f0-4dbe-b54e-0ba6842fc7f2   135000.000\n",
       "87570dad-fa42-4b06-86d5-036476044a55   293000.000\n",
       "0b8aa648-58cf-4c4e-b430-9fadbdf19e3c   310000.000\n",
       "af1beace-ceef-4d1f-90cb-20e24c2ccd5e   275000.000\n",
       "Name: pu, dtype: float64"
      ]
     },
     "execution_count": 41,
     "metadata": {},
     "output_type": "execute_result"
    }
   ],
   "source": [
    "# We simply need to replace the ',' to with '' and convert\n",
    "cars_df2['pu'] = cars_df2['pu'].str.replace(',', '').astype(float)\n",
    "\n",
    "cars_df2['pu'].sample(5)"
   ]
  },
  {
   "cell_type": "markdown",
   "id": "b4953951",
   "metadata": {
    "papermill": {
     "duration": 0.027873,
     "end_time": "2023-03-25T19:14:25.470881",
     "exception": false,
     "start_time": "2023-03-25T19:14:25.443008",
     "status": "completed"
    },
    "tags": []
   },
   "source": [
    "---\n",
    "\n",
    "#### `Max Power` and `Max Torque`\n",
    "\n",
    "We will be separating this column into 2 columns: `Max Power Delivered` and `Max Power At` (containing the rpm at which the max power is reach)\n",
    "Same with `Max Torque`"
   ]
  },
  {
   "cell_type": "code",
   "execution_count": 42,
   "id": "79e67132",
   "metadata": {
    "execution": {
     "iopub.execute_input": "2023-03-25T19:14:25.528346Z",
     "iopub.status.busy": "2023-03-25T19:14:25.527805Z",
     "iopub.status.idle": "2023-03-25T19:14:25.539882Z",
     "shell.execute_reply": "2023-03-25T19:14:25.538784Z"
    },
    "papermill": {
     "duration": 0.042963,
     "end_time": "2023-03-25T19:14:25.541755",
     "exception": false,
     "start_time": "2023-03-25T19:14:25.498792",
     "status": "completed"
    },
    "tags": []
   },
   "outputs": [
    {
     "data": {
      "text/html": [
       "<div>\n",
       "<style scoped>\n",
       "    .dataframe tbody tr th:only-of-type {\n",
       "        vertical-align: middle;\n",
       "    }\n",
       "\n",
       "    .dataframe tbody tr th {\n",
       "        vertical-align: top;\n",
       "    }\n",
       "\n",
       "    .dataframe thead th {\n",
       "        text-align: right;\n",
       "    }\n",
       "</style>\n",
       "<table border=\"1\" class=\"dataframe\">\n",
       "  <thead>\n",
       "    <tr style=\"text-align: right;\">\n",
       "      <th></th>\n",
       "      <th>Max Power</th>\n",
       "      <th>Max Torque</th>\n",
       "    </tr>\n",
       "    <tr>\n",
       "      <th>usedCarSkuId</th>\n",
       "      <th></th>\n",
       "      <th></th>\n",
       "    </tr>\n",
       "  </thead>\n",
       "  <tbody>\n",
       "    <tr>\n",
       "      <th>d9eaa650-d9a3-4dfc-a10e-b4154beb49ff</th>\n",
       "      <td>65@4,000 (ps@rpm)</td>\n",
       "      <td>16@2,000 (kgm@rpm)</td>\n",
       "    </tr>\n",
       "    <tr>\n",
       "      <th>96da63c1-cdd7-40a8-a84f-6c23383df688</th>\n",
       "      <td>68.05bhp@5500rpm</td>\n",
       "      <td>99.04nm@4500rpm</td>\n",
       "    </tr>\n",
       "    <tr>\n",
       "      <th>45b7c038-4354-456f-bc35-acde91fcd0a1</th>\n",
       "      <td>58.16bhp@6200rpm</td>\n",
       "      <td>77nm@3500rpm</td>\n",
       "    </tr>\n",
       "    <tr>\n",
       "      <th>b75efbc9-ae50-41d8-a718-9700c07f9d40</th>\n",
       "      <td>88.76bhp@4000rpm</td>\n",
       "      <td>219.6nm@1500-2750rpm</td>\n",
       "    </tr>\n",
       "    <tr>\n",
       "      <th>1a241897-f6df-4c04-87d2-d3c250c0ca96</th>\n",
       "      <td>88.8bhp@4000rpm</td>\n",
       "      <td>200nm@1750rpm</td>\n",
       "    </tr>\n",
       "  </tbody>\n",
       "</table>\n",
       "</div>"
      ],
      "text/plain": [
       "                                              Max Power            Max Torque\n",
       "usedCarSkuId                                                                 \n",
       "d9eaa650-d9a3-4dfc-a10e-b4154beb49ff  65@4,000 (ps@rpm)    16@2,000 (kgm@rpm)\n",
       "96da63c1-cdd7-40a8-a84f-6c23383df688   68.05bhp@5500rpm       99.04nm@4500rpm\n",
       "45b7c038-4354-456f-bc35-acde91fcd0a1   58.16bhp@6200rpm          77nm@3500rpm\n",
       "b75efbc9-ae50-41d8-a718-9700c07f9d40   88.76bhp@4000rpm  219.6nm@1500-2750rpm\n",
       "1a241897-f6df-4c04-87d2-d3c250c0ca96    88.8bhp@4000rpm         200nm@1750rpm"
      ]
     },
     "execution_count": 42,
     "metadata": {},
     "output_type": "execute_result"
    }
   ],
   "source": [
    "cars_df2[['Max Power', 'Max Torque']].sample(5)"
   ]
  },
  {
   "cell_type": "code",
   "execution_count": 43,
   "id": "63680465",
   "metadata": {
    "execution": {
     "iopub.execute_input": "2023-03-25T19:14:25.601984Z",
     "iopub.status.busy": "2023-03-25T19:14:25.601109Z",
     "iopub.status.idle": "2023-03-25T19:14:26.178795Z",
     "shell.execute_reply": "2023-03-25T19:14:26.177317Z"
    },
    "papermill": {
     "duration": 0.611294,
     "end_time": "2023-03-25T19:14:26.181553",
     "exception": false,
     "start_time": "2023-03-25T19:14:25.570259",
     "status": "completed"
    },
    "tags": []
   },
   "outputs": [],
   "source": [
    "c = cars_df2.copy()\n",
    "cars_df2['Max Power Delivered'] = cars_df2['Max Power'].str.split('@').str[0].apply(get_begin_float).astype(float)\n",
    "cars_df2['Max Power At'] = cars_df2['Max Power'].str.split('@').str[1].apply(get_begin_float).astype(float)\n",
    "\n",
    "\n",
    "def get_rpm_average(x):\n",
    "    x = str(x)\n",
    "    if '-' in x:\n",
    "        p1 = get_begin_float(x.split('-')[0])\n",
    "        p2 = get_begin_float(x.split('-')[1])\n",
    "        if p1 is None:\n",
    "            return p2\n",
    "        if p2 is None:\n",
    "            return p1\n",
    "        \n",
    "        return (p1 + p2)/2\n",
    "    else:\n",
    "        return get_begin_float(x)\n",
    "\n",
    "cars_df2['Max Torque Delivered'] = cars_df2['Max Torque'].str.split('@').str[0].apply(get_begin_float).astype(float)\n",
    "cars_df2['Max Torque At'] = cars_df2['Max Torque'].str.split('@').str[1].apply(get_rpm_average).astype(float)"
   ]
  },
  {
   "cell_type": "code",
   "execution_count": 44,
   "id": "20e147f1",
   "metadata": {
    "execution": {
     "iopub.execute_input": "2023-03-25T19:14:26.239968Z",
     "iopub.status.busy": "2023-03-25T19:14:26.239594Z",
     "iopub.status.idle": "2023-03-25T19:14:26.253847Z",
     "shell.execute_reply": "2023-03-25T19:14:26.252798Z"
    },
    "papermill": {
     "duration": 0.045636,
     "end_time": "2023-03-25T19:14:26.255730",
     "exception": false,
     "start_time": "2023-03-25T19:14:26.210094",
     "status": "completed"
    },
    "tags": []
   },
   "outputs": [
    {
     "data": {
      "text/html": [
       "<div>\n",
       "<style scoped>\n",
       "    .dataframe tbody tr th:only-of-type {\n",
       "        vertical-align: middle;\n",
       "    }\n",
       "\n",
       "    .dataframe tbody tr th {\n",
       "        vertical-align: top;\n",
       "    }\n",
       "\n",
       "    .dataframe thead th {\n",
       "        text-align: right;\n",
       "    }\n",
       "</style>\n",
       "<table border=\"1\" class=\"dataframe\">\n",
       "  <thead>\n",
       "    <tr style=\"text-align: right;\">\n",
       "      <th></th>\n",
       "      <th>Max Power Delivered</th>\n",
       "      <th>Max Power At</th>\n",
       "      <th>Max Torque Delivered</th>\n",
       "      <th>Max Torque At</th>\n",
       "    </tr>\n",
       "    <tr>\n",
       "      <th>usedCarSkuId</th>\n",
       "      <th></th>\n",
       "      <th></th>\n",
       "      <th></th>\n",
       "      <th></th>\n",
       "    </tr>\n",
       "  </thead>\n",
       "  <tbody>\n",
       "    <tr>\n",
       "      <th>e5af6476-aad4-4f68-b3dd-e4b253ca19ee</th>\n",
       "      <td>126.320</td>\n",
       "      <td>4000.000</td>\n",
       "      <td>259.800</td>\n",
       "      <td>2325.000</td>\n",
       "    </tr>\n",
       "    <tr>\n",
       "      <th>ea3df4a2-5247-439e-93ee-921cdaac8169</th>\n",
       "      <td>88.500</td>\n",
       "      <td>4000.000</td>\n",
       "      <td>200.000</td>\n",
       "      <td>1750.000</td>\n",
       "    </tr>\n",
       "    <tr>\n",
       "      <th>06d200b8-b937-4839-9218-14c97cfd6516</th>\n",
       "      <td>67.050</td>\n",
       "      <td>5500.000</td>\n",
       "      <td>90.000</td>\n",
       "      <td>3500.000</td>\n",
       "    </tr>\n",
       "    <tr>\n",
       "      <th>fc54d510-3451-4f79-a478-57adb067feff</th>\n",
       "      <td>171.500</td>\n",
       "      <td>3400.000</td>\n",
       "      <td>360.000</td>\n",
       "      <td>2300.000</td>\n",
       "    </tr>\n",
       "    <tr>\n",
       "      <th>bcc743bf-d6bb-46b0-a2fb-a72185f9680e</th>\n",
       "      <td>126.320</td>\n",
       "      <td>4000.000</td>\n",
       "      <td>259.800</td>\n",
       "      <td>2325.000</td>\n",
       "    </tr>\n",
       "  </tbody>\n",
       "</table>\n",
       "</div>"
      ],
      "text/plain": [
       "                                      Max Power Delivered  Max Power At  \\\n",
       "usedCarSkuId                                                              \n",
       "e5af6476-aad4-4f68-b3dd-e4b253ca19ee              126.320      4000.000   \n",
       "ea3df4a2-5247-439e-93ee-921cdaac8169               88.500      4000.000   \n",
       "06d200b8-b937-4839-9218-14c97cfd6516               67.050      5500.000   \n",
       "fc54d510-3451-4f79-a478-57adb067feff              171.500      3400.000   \n",
       "bcc743bf-d6bb-46b0-a2fb-a72185f9680e              126.320      4000.000   \n",
       "\n",
       "                                      Max Torque Delivered  Max Torque At  \n",
       "usedCarSkuId                                                               \n",
       "e5af6476-aad4-4f68-b3dd-e4b253ca19ee               259.800       2325.000  \n",
       "ea3df4a2-5247-439e-93ee-921cdaac8169               200.000       1750.000  \n",
       "06d200b8-b937-4839-9218-14c97cfd6516                90.000       3500.000  \n",
       "fc54d510-3451-4f79-a478-57adb067feff               360.000       2300.000  \n",
       "bcc743bf-d6bb-46b0-a2fb-a72185f9680e               259.800       2325.000  "
      ]
     },
     "execution_count": 44,
     "metadata": {},
     "output_type": "execute_result"
    }
   ],
   "source": [
    "cars_df2[['Max Power Delivered', 'Max Power At', 'Max Torque Delivered', 'Max Torque At']].sample(5)"
   ]
  },
  {
   "cell_type": "markdown",
   "id": "fab5d7f3",
   "metadata": {
    "papermill": {
     "duration": 0.028914,
     "end_time": "2023-03-25T19:14:26.314947",
     "exception": false,
     "start_time": "2023-03-25T19:14:26.286033",
     "status": "completed"
    },
    "tags": []
   },
   "source": [
    "Now we can safely drop `Max Power` from our dataframe"
   ]
  },
  {
   "cell_type": "code",
   "execution_count": 45,
   "id": "65c50c67",
   "metadata": {
    "execution": {
     "iopub.execute_input": "2023-03-25T19:14:26.374603Z",
     "iopub.status.busy": "2023-03-25T19:14:26.373401Z",
     "iopub.status.idle": "2023-03-25T19:14:26.450050Z",
     "shell.execute_reply": "2023-03-25T19:14:26.448818Z"
    },
    "papermill": {
     "duration": 0.108587,
     "end_time": "2023-03-25T19:14:26.452288",
     "exception": false,
     "start_time": "2023-03-25T19:14:26.343701",
     "status": "completed"
    },
    "tags": []
   },
   "outputs": [
    {
     "data": {
      "text/html": [
       "<div>\n",
       "<style scoped>\n",
       "    .dataframe tbody tr th:only-of-type {\n",
       "        vertical-align: middle;\n",
       "    }\n",
       "\n",
       "    .dataframe tbody tr th {\n",
       "        vertical-align: top;\n",
       "    }\n",
       "\n",
       "    .dataframe thead th {\n",
       "        text-align: right;\n",
       "    }\n",
       "</style>\n",
       "<table border=\"1\" class=\"dataframe\">\n",
       "  <thead>\n",
       "    <tr style=\"text-align: right;\">\n",
       "      <th></th>\n",
       "      <th>loc</th>\n",
       "      <th>myear</th>\n",
       "      <th>bt</th>\n",
       "      <th>tt</th>\n",
       "      <th>ft</th>\n",
       "      <th>km</th>\n",
       "      <th>ip</th>\n",
       "      <th>images</th>\n",
       "      <th>imgCount</th>\n",
       "      <th>threesixty</th>\n",
       "      <th>...</th>\n",
       "      <th>exterior_color</th>\n",
       "      <th>owner_type</th>\n",
       "      <th>Fuel Suppy System</th>\n",
       "      <th>Compression Ratio</th>\n",
       "      <th>Alloy Wheel Size</th>\n",
       "      <th>Ground Clearance Unladen</th>\n",
       "      <th>Max Power Delivered</th>\n",
       "      <th>Max Power At</th>\n",
       "      <th>Max Torque Delivered</th>\n",
       "      <th>Max Torque At</th>\n",
       "    </tr>\n",
       "    <tr>\n",
       "      <th>usedCarSkuId</th>\n",
       "      <th></th>\n",
       "      <th></th>\n",
       "      <th></th>\n",
       "      <th></th>\n",
       "      <th></th>\n",
       "      <th></th>\n",
       "      <th></th>\n",
       "      <th></th>\n",
       "      <th></th>\n",
       "      <th></th>\n",
       "      <th></th>\n",
       "      <th></th>\n",
       "      <th></th>\n",
       "      <th></th>\n",
       "      <th></th>\n",
       "      <th></th>\n",
       "      <th></th>\n",
       "      <th></th>\n",
       "      <th></th>\n",
       "      <th></th>\n",
       "      <th></th>\n",
       "    </tr>\n",
       "  </thead>\n",
       "  <tbody>\n",
       "    <tr>\n",
       "      <th>7111bf25-97af-47f9-867b-40879190d800</th>\n",
       "      <td>gomti nagar</td>\n",
       "      <td>2016</td>\n",
       "      <td>hatchback</td>\n",
       "      <td>manual</td>\n",
       "      <td>cng</td>\n",
       "      <td>69,162</td>\n",
       "      <td>0</td>\n",
       "      <td>[{'img': 'https://images10.gaadi.com/usedcar_i...</td>\n",
       "      <td>15</td>\n",
       "      <td>False</td>\n",
       "      <td>...</td>\n",
       "      <td>silver</td>\n",
       "      <td>first</td>\n",
       "      <td>nan</td>\n",
       "      <td>NaN</td>\n",
       "      <td>nan</td>\n",
       "      <td>nan</td>\n",
       "      <td>58.160</td>\n",
       "      <td>6200.000</td>\n",
       "      <td>77.000</td>\n",
       "      <td>3500.000</td>\n",
       "    </tr>\n",
       "    <tr>\n",
       "      <th>c309efc1-efaf-4f82-81ad-dcb38eb36665</th>\n",
       "      <td>borivali west</td>\n",
       "      <td>2015</td>\n",
       "      <td>hatchback</td>\n",
       "      <td>manual</td>\n",
       "      <td>cng</td>\n",
       "      <td>45,864</td>\n",
       "      <td>0</td>\n",
       "      <td>[{'img': 'https://images10.gaadi.com/usedcar_i...</td>\n",
       "      <td>15</td>\n",
       "      <td>False</td>\n",
       "      <td>...</td>\n",
       "      <td>grey</td>\n",
       "      <td>first</td>\n",
       "      <td>Gasoline Port Injection</td>\n",
       "      <td>11.0:1</td>\n",
       "      <td>nan</td>\n",
       "      <td>nan</td>\n",
       "      <td>58.200</td>\n",
       "      <td>6000.000</td>\n",
       "      <td>78.000</td>\n",
       "      <td>3500.000</td>\n",
       "    </tr>\n",
       "    <tr>\n",
       "      <th>7609f710-0c97-4f00-9a47-9b9284b62d3a</th>\n",
       "      <td>jasola</td>\n",
       "      <td>2015</td>\n",
       "      <td>sedan</td>\n",
       "      <td>manual</td>\n",
       "      <td>cng</td>\n",
       "      <td>81,506</td>\n",
       "      <td>0</td>\n",
       "      <td>[{'img': 'https://images10.gaadi.com/usedcar_i...</td>\n",
       "      <td>15</td>\n",
       "      <td>False</td>\n",
       "      <td>...</td>\n",
       "      <td>silver</td>\n",
       "      <td>second</td>\n",
       "      <td>nan</td>\n",
       "      <td>NaN</td>\n",
       "      <td>nan</td>\n",
       "      <td>nan</td>\n",
       "      <td>86.700</td>\n",
       "      <td>6000.000</td>\n",
       "      <td>109.000</td>\n",
       "      <td>4500.000</td>\n",
       "    </tr>\n",
       "    <tr>\n",
       "      <th>278b76e3-5539-4a5e-ae3e-353a2e3b6d7d</th>\n",
       "      <td>jasola</td>\n",
       "      <td>2013</td>\n",
       "      <td>hatchback</td>\n",
       "      <td>manual</td>\n",
       "      <td>cng</td>\n",
       "      <td>1,15,893</td>\n",
       "      <td>0</td>\n",
       "      <td>[{'img': ''}]</td>\n",
       "      <td>0</td>\n",
       "      <td>False</td>\n",
       "      <td>...</td>\n",
       "      <td>silver</td>\n",
       "      <td>second</td>\n",
       "      <td>Multi-Point Fuel Injection</td>\n",
       "      <td>NaN</td>\n",
       "      <td>13</td>\n",
       "      <td>nan</td>\n",
       "      <td>58.200</td>\n",
       "      <td>6200.000</td>\n",
       "      <td>77.000</td>\n",
       "      <td>3500.000</td>\n",
       "    </tr>\n",
       "    <tr>\n",
       "      <th>b1eab99b-a606-48dd-a75b-57feb8a9ad92</th>\n",
       "      <td>mumbai g.p.o.</td>\n",
       "      <td>2022</td>\n",
       "      <td>muv</td>\n",
       "      <td>manual</td>\n",
       "      <td>cng</td>\n",
       "      <td>18,900</td>\n",
       "      <td>0</td>\n",
       "      <td>[{'img': 'https://images10.gaadi.com/usedcar_i...</td>\n",
       "      <td>6</td>\n",
       "      <td>False</td>\n",
       "      <td>...</td>\n",
       "      <td>white</td>\n",
       "      <td>first</td>\n",
       "      <td>nan</td>\n",
       "      <td>12.0+-.03</td>\n",
       "      <td>nan</td>\n",
       "      <td>nan</td>\n",
       "      <td>86.630</td>\n",
       "      <td>5500.000</td>\n",
       "      <td>121.500</td>\n",
       "      <td>4200.000</td>\n",
       "    </tr>\n",
       "  </tbody>\n",
       "</table>\n",
       "<p>5 rows × 64 columns</p>\n",
       "</div>"
      ],
      "text/plain": [
       "                                                loc  myear         bt      tt  \\\n",
       "usedCarSkuId                                                                    \n",
       "7111bf25-97af-47f9-867b-40879190d800    gomti nagar   2016  hatchback  manual   \n",
       "c309efc1-efaf-4f82-81ad-dcb38eb36665  borivali west   2015  hatchback  manual   \n",
       "7609f710-0c97-4f00-9a47-9b9284b62d3a         jasola   2015      sedan  manual   \n",
       "278b76e3-5539-4a5e-ae3e-353a2e3b6d7d         jasola   2013  hatchback  manual   \n",
       "b1eab99b-a606-48dd-a75b-57feb8a9ad92  mumbai g.p.o.   2022        muv  manual   \n",
       "\n",
       "                                       ft        km  ip  \\\n",
       "usedCarSkuId                                              \n",
       "7111bf25-97af-47f9-867b-40879190d800  cng    69,162   0   \n",
       "c309efc1-efaf-4f82-81ad-dcb38eb36665  cng    45,864   0   \n",
       "7609f710-0c97-4f00-9a47-9b9284b62d3a  cng    81,506   0   \n",
       "278b76e3-5539-4a5e-ae3e-353a2e3b6d7d  cng  1,15,893   0   \n",
       "b1eab99b-a606-48dd-a75b-57feb8a9ad92  cng    18,900   0   \n",
       "\n",
       "                                                                                 images  \\\n",
       "usedCarSkuId                                                                              \n",
       "7111bf25-97af-47f9-867b-40879190d800  [{'img': 'https://images10.gaadi.com/usedcar_i...   \n",
       "c309efc1-efaf-4f82-81ad-dcb38eb36665  [{'img': 'https://images10.gaadi.com/usedcar_i...   \n",
       "7609f710-0c97-4f00-9a47-9b9284b62d3a  [{'img': 'https://images10.gaadi.com/usedcar_i...   \n",
       "278b76e3-5539-4a5e-ae3e-353a2e3b6d7d                                      [{'img': ''}]   \n",
       "b1eab99b-a606-48dd-a75b-57feb8a9ad92  [{'img': 'https://images10.gaadi.com/usedcar_i...   \n",
       "\n",
       "                                      imgCount  threesixty  ...  \\\n",
       "usedCarSkuId                                                ...   \n",
       "7111bf25-97af-47f9-867b-40879190d800        15       False  ...   \n",
       "c309efc1-efaf-4f82-81ad-dcb38eb36665        15       False  ...   \n",
       "7609f710-0c97-4f00-9a47-9b9284b62d3a        15       False  ...   \n",
       "278b76e3-5539-4a5e-ae3e-353a2e3b6d7d         0       False  ...   \n",
       "b1eab99b-a606-48dd-a75b-57feb8a9ad92         6       False  ...   \n",
       "\n",
       "                                     exterior_color owner_type  \\\n",
       "usedCarSkuId                                                     \n",
       "7111bf25-97af-47f9-867b-40879190d800         silver      first   \n",
       "c309efc1-efaf-4f82-81ad-dcb38eb36665           grey      first   \n",
       "7609f710-0c97-4f00-9a47-9b9284b62d3a         silver     second   \n",
       "278b76e3-5539-4a5e-ae3e-353a2e3b6d7d         silver     second   \n",
       "b1eab99b-a606-48dd-a75b-57feb8a9ad92          white      first   \n",
       "\n",
       "                                               Fuel Suppy System  \\\n",
       "usedCarSkuId                                                       \n",
       "7111bf25-97af-47f9-867b-40879190d800                         nan   \n",
       "c309efc1-efaf-4f82-81ad-dcb38eb36665     Gasoline Port Injection   \n",
       "7609f710-0c97-4f00-9a47-9b9284b62d3a                         nan   \n",
       "278b76e3-5539-4a5e-ae3e-353a2e3b6d7d  Multi-Point Fuel Injection   \n",
       "b1eab99b-a606-48dd-a75b-57feb8a9ad92                         nan   \n",
       "\n",
       "                                     Compression Ratio Alloy Wheel Size  \\\n",
       "usedCarSkuId                                                              \n",
       "7111bf25-97af-47f9-867b-40879190d800               NaN              nan   \n",
       "c309efc1-efaf-4f82-81ad-dcb38eb36665            11.0:1              nan   \n",
       "7609f710-0c97-4f00-9a47-9b9284b62d3a               NaN              nan   \n",
       "278b76e3-5539-4a5e-ae3e-353a2e3b6d7d               NaN               13   \n",
       "b1eab99b-a606-48dd-a75b-57feb8a9ad92         12.0+-.03              nan   \n",
       "\n",
       "                                      Ground Clearance Unladen  \\\n",
       "usedCarSkuId                                                     \n",
       "7111bf25-97af-47f9-867b-40879190d800                       nan   \n",
       "c309efc1-efaf-4f82-81ad-dcb38eb36665                       nan   \n",
       "7609f710-0c97-4f00-9a47-9b9284b62d3a                       nan   \n",
       "278b76e3-5539-4a5e-ae3e-353a2e3b6d7d                       nan   \n",
       "b1eab99b-a606-48dd-a75b-57feb8a9ad92                       nan   \n",
       "\n",
       "                                      Max Power Delivered Max Power At  \\\n",
       "usedCarSkuId                                                             \n",
       "7111bf25-97af-47f9-867b-40879190d800               58.160     6200.000   \n",
       "c309efc1-efaf-4f82-81ad-dcb38eb36665               58.200     6000.000   \n",
       "7609f710-0c97-4f00-9a47-9b9284b62d3a               86.700     6000.000   \n",
       "278b76e3-5539-4a5e-ae3e-353a2e3b6d7d               58.200     6200.000   \n",
       "b1eab99b-a606-48dd-a75b-57feb8a9ad92               86.630     5500.000   \n",
       "\n",
       "                                     Max Torque Delivered Max Torque At  \n",
       "usedCarSkuId                                                             \n",
       "7111bf25-97af-47f9-867b-40879190d800               77.000      3500.000  \n",
       "c309efc1-efaf-4f82-81ad-dcb38eb36665               78.000      3500.000  \n",
       "7609f710-0c97-4f00-9a47-9b9284b62d3a              109.000      4500.000  \n",
       "278b76e3-5539-4a5e-ae3e-353a2e3b6d7d               77.000      3500.000  \n",
       "b1eab99b-a606-48dd-a75b-57feb8a9ad92              121.500      4200.000  \n",
       "\n",
       "[5 rows x 64 columns]"
      ]
     },
     "execution_count": 45,
     "metadata": {},
     "output_type": "execute_result"
    }
   ],
   "source": [
    "cars_df2.drop(columns=['Max Power'], inplace=True, axis=1)\n",
    "cars_df2.drop(columns=['Max Torque'], inplace=True, axis=1)\n",
    "cars_df2.head()"
   ]
  },
  {
   "cell_type": "markdown",
   "id": "2ffc0f40",
   "metadata": {
    "papermill": {
     "duration": 0.028688,
     "end_time": "2023-03-25T19:14:26.510823",
     "exception": false,
     "start_time": "2023-03-25T19:14:26.482135",
     "status": "completed"
    },
    "tags": []
   },
   "source": [
    "---\n",
    "\n",
    "#### `BoreX Stroke`\n",
    "\n",
    "We will make 2 new columns `Bore` and `Stroke` and remove the original column.\n"
   ]
  },
  {
   "cell_type": "code",
   "execution_count": 46,
   "id": "967c0e7b",
   "metadata": {
    "execution": {
     "iopub.execute_input": "2023-03-25T19:14:26.570176Z",
     "iopub.status.busy": "2023-03-25T19:14:26.569802Z",
     "iopub.status.idle": "2023-03-25T19:14:26.579313Z",
     "shell.execute_reply": "2023-03-25T19:14:26.578177Z"
    },
    "papermill": {
     "duration": 0.042027,
     "end_time": "2023-03-25T19:14:26.581449",
     "exception": false,
     "start_time": "2023-03-25T19:14:26.539422",
     "status": "completed"
    },
    "tags": []
   },
   "outputs": [
    {
     "data": {
      "text/plain": [
       "usedCarSkuId\n",
       "1ce7d5be-fddc-4e5d-9f13-052fed4b822a    74.0 x 75.5 mm\n",
       "ac25ccf8-5422-43b7-bb93-d5c9647db3a4               nan\n",
       "3295cd5c-80cd-437e-bd48-413151345f70      76 x 80.5 mm\n",
       "6010b3cc-0cb1-447d-b45b-6e98d04883d5               nan\n",
       "aceecc27-2507-4e92-8add-393591bc9444               nan\n",
       "8172a658-3298-476c-b74d-c099955c99c7               nan\n",
       "673a7c49-510f-4890-b16e-b31fcb9afa12               nan\n",
       "6e114505-e768-4f51-8876-442c2a98967b        69 x 72 mm\n",
       "bf6684b2-c1ef-460e-a32a-c1a0140e679f               nan\n",
       "a647483e-773b-4cf6-9415-95627fdff037               nan\n",
       "Name: BoreX Stroke, dtype: object"
      ]
     },
     "execution_count": 46,
     "metadata": {},
     "output_type": "execute_result"
    }
   ],
   "source": [
    "cars_df2['BoreX Stroke'].sample(10)"
   ]
  },
  {
   "cell_type": "code",
   "execution_count": 47,
   "id": "fbb1f88c",
   "metadata": {
    "execution": {
     "iopub.execute_input": "2023-03-25T19:14:26.641534Z",
     "iopub.status.busy": "2023-03-25T19:14:26.641212Z",
     "iopub.status.idle": "2023-03-25T19:14:26.908006Z",
     "shell.execute_reply": "2023-03-25T19:14:26.906912Z"
    },
    "papermill": {
     "duration": 0.299708,
     "end_time": "2023-03-25T19:14:26.910479",
     "exception": false,
     "start_time": "2023-03-25T19:14:26.610771",
     "status": "completed"
    },
    "tags": []
   },
   "outputs": [],
   "source": [
    "cars_df2['Bore'] = cars_df2['BoreX Stroke'].str.split('x').str[0].apply(get_begin_float).astype(float)\n",
    "cars_df2['Stroke'] = cars_df2['BoreX Stroke'].str.split('x').str[1].apply(get_begin_float).astype(float)"
   ]
  },
  {
   "cell_type": "code",
   "execution_count": 48,
   "id": "2a04af02",
   "metadata": {
    "execution": {
     "iopub.execute_input": "2023-03-25T19:14:26.973243Z",
     "iopub.status.busy": "2023-03-25T19:14:26.972310Z",
     "iopub.status.idle": "2023-03-25T19:14:26.986037Z",
     "shell.execute_reply": "2023-03-25T19:14:26.985078Z"
    },
    "papermill": {
     "duration": 0.0479,
     "end_time": "2023-03-25T19:14:26.987913",
     "exception": false,
     "start_time": "2023-03-25T19:14:26.940013",
     "status": "completed"
    },
    "tags": []
   },
   "outputs": [
    {
     "data": {
      "text/html": [
       "<div>\n",
       "<style scoped>\n",
       "    .dataframe tbody tr th:only-of-type {\n",
       "        vertical-align: middle;\n",
       "    }\n",
       "\n",
       "    .dataframe tbody tr th {\n",
       "        vertical-align: top;\n",
       "    }\n",
       "\n",
       "    .dataframe thead th {\n",
       "        text-align: right;\n",
       "    }\n",
       "</style>\n",
       "<table border=\"1\" class=\"dataframe\">\n",
       "  <thead>\n",
       "    <tr style=\"text-align: right;\">\n",
       "      <th></th>\n",
       "      <th>Bore</th>\n",
       "      <th>Stroke</th>\n",
       "    </tr>\n",
       "    <tr>\n",
       "      <th>usedCarSkuId</th>\n",
       "      <th></th>\n",
       "      <th></th>\n",
       "    </tr>\n",
       "  </thead>\n",
       "  <tbody>\n",
       "    <tr>\n",
       "      <th>2de9fa3e-0ab6-429b-bef3-ce15c2aadb79</th>\n",
       "      <td>NaN</td>\n",
       "      <td>NaN</td>\n",
       "    </tr>\n",
       "    <tr>\n",
       "      <th>03214065-ce32-4355-bee7-e841e20a788f</th>\n",
       "      <td>71.000</td>\n",
       "      <td>NaN</td>\n",
       "    </tr>\n",
       "    <tr>\n",
       "      <th>16c79667-8021-47e2-909c-b7beee3f417f</th>\n",
       "      <td>NaN</td>\n",
       "      <td>NaN</td>\n",
       "    </tr>\n",
       "    <tr>\n",
       "      <th>392fd536-517e-41ce-b61c-91fd31e8f194</th>\n",
       "      <td>NaN</td>\n",
       "      <td>NaN</td>\n",
       "    </tr>\n",
       "    <tr>\n",
       "      <th>2679de2f-eb43-4e11-b274-caeaa22eea40</th>\n",
       "      <td>73.000</td>\n",
       "      <td>NaN</td>\n",
       "    </tr>\n",
       "    <tr>\n",
       "      <th>2c6e650f-835c-47af-964b-13c12e713557</th>\n",
       "      <td>77.200</td>\n",
       "      <td>NaN</td>\n",
       "    </tr>\n",
       "    <tr>\n",
       "      <th>d3e876b8-5ccf-40a4-b4ca-41c0a8de5659</th>\n",
       "      <td>NaN</td>\n",
       "      <td>NaN</td>\n",
       "    </tr>\n",
       "    <tr>\n",
       "      <th>8d6495d7-3f80-45d2-81f9-c04d31c3ee5f</th>\n",
       "      <td>NaN</td>\n",
       "      <td>NaN</td>\n",
       "    </tr>\n",
       "    <tr>\n",
       "      <th>d6e0a444-8c68-424d-90a4-3996dcee5985</th>\n",
       "      <td>NaN</td>\n",
       "      <td>NaN</td>\n",
       "    </tr>\n",
       "    <tr>\n",
       "      <th>cc3dfedf-9306-4df5-a720-c4886e9dd23d</th>\n",
       "      <td>NaN</td>\n",
       "      <td>NaN</td>\n",
       "    </tr>\n",
       "  </tbody>\n",
       "</table>\n",
       "</div>"
      ],
      "text/plain": [
       "                                       Bore  Stroke\n",
       "usedCarSkuId                                       \n",
       "2de9fa3e-0ab6-429b-bef3-ce15c2aadb79    NaN     NaN\n",
       "03214065-ce32-4355-bee7-e841e20a788f 71.000     NaN\n",
       "16c79667-8021-47e2-909c-b7beee3f417f    NaN     NaN\n",
       "392fd536-517e-41ce-b61c-91fd31e8f194    NaN     NaN\n",
       "2679de2f-eb43-4e11-b274-caeaa22eea40 73.000     NaN\n",
       "2c6e650f-835c-47af-964b-13c12e713557 77.200     NaN\n",
       "d3e876b8-5ccf-40a4-b4ca-41c0a8de5659    NaN     NaN\n",
       "8d6495d7-3f80-45d2-81f9-c04d31c3ee5f    NaN     NaN\n",
       "d6e0a444-8c68-424d-90a4-3996dcee5985    NaN     NaN\n",
       "cc3dfedf-9306-4df5-a720-c4886e9dd23d    NaN     NaN"
      ]
     },
     "execution_count": 48,
     "metadata": {},
     "output_type": "execute_result"
    }
   ],
   "source": [
    "cars_df2[['Bore', 'Stroke']].sample(10)"
   ]
  },
  {
   "cell_type": "code",
   "execution_count": 49,
   "id": "086eaec6",
   "metadata": {
    "execution": {
     "iopub.execute_input": "2023-03-25T19:14:27.049414Z",
     "iopub.status.busy": "2023-03-25T19:14:27.048783Z",
     "iopub.status.idle": "2023-03-25T19:14:27.089662Z",
     "shell.execute_reply": "2023-03-25T19:14:27.088239Z"
    },
    "papermill": {
     "duration": 0.074516,
     "end_time": "2023-03-25T19:14:27.092083",
     "exception": false,
     "start_time": "2023-03-25T19:14:27.017567",
     "status": "completed"
    },
    "tags": []
   },
   "outputs": [
    {
     "data": {
      "text/html": [
       "<div>\n",
       "<style scoped>\n",
       "    .dataframe tbody tr th:only-of-type {\n",
       "        vertical-align: middle;\n",
       "    }\n",
       "\n",
       "    .dataframe tbody tr th {\n",
       "        vertical-align: top;\n",
       "    }\n",
       "\n",
       "    .dataframe thead th {\n",
       "        text-align: right;\n",
       "    }\n",
       "</style>\n",
       "<table border=\"1\" class=\"dataframe\">\n",
       "  <thead>\n",
       "    <tr style=\"text-align: right;\">\n",
       "      <th></th>\n",
       "      <th>loc</th>\n",
       "      <th>myear</th>\n",
       "      <th>bt</th>\n",
       "      <th>tt</th>\n",
       "      <th>ft</th>\n",
       "      <th>km</th>\n",
       "      <th>ip</th>\n",
       "      <th>images</th>\n",
       "      <th>imgCount</th>\n",
       "      <th>threesixty</th>\n",
       "      <th>...</th>\n",
       "      <th>Fuel Suppy System</th>\n",
       "      <th>Compression Ratio</th>\n",
       "      <th>Alloy Wheel Size</th>\n",
       "      <th>Ground Clearance Unladen</th>\n",
       "      <th>Max Power Delivered</th>\n",
       "      <th>Max Power At</th>\n",
       "      <th>Max Torque Delivered</th>\n",
       "      <th>Max Torque At</th>\n",
       "      <th>Bore</th>\n",
       "      <th>Stroke</th>\n",
       "    </tr>\n",
       "    <tr>\n",
       "      <th>usedCarSkuId</th>\n",
       "      <th></th>\n",
       "      <th></th>\n",
       "      <th></th>\n",
       "      <th></th>\n",
       "      <th></th>\n",
       "      <th></th>\n",
       "      <th></th>\n",
       "      <th></th>\n",
       "      <th></th>\n",
       "      <th></th>\n",
       "      <th></th>\n",
       "      <th></th>\n",
       "      <th></th>\n",
       "      <th></th>\n",
       "      <th></th>\n",
       "      <th></th>\n",
       "      <th></th>\n",
       "      <th></th>\n",
       "      <th></th>\n",
       "      <th></th>\n",
       "      <th></th>\n",
       "    </tr>\n",
       "  </thead>\n",
       "  <tbody>\n",
       "    <tr>\n",
       "      <th>7111bf25-97af-47f9-867b-40879190d800</th>\n",
       "      <td>gomti nagar</td>\n",
       "      <td>2016</td>\n",
       "      <td>hatchback</td>\n",
       "      <td>manual</td>\n",
       "      <td>cng</td>\n",
       "      <td>69,162</td>\n",
       "      <td>0</td>\n",
       "      <td>[{'img': 'https://images10.gaadi.com/usedcar_i...</td>\n",
       "      <td>15</td>\n",
       "      <td>False</td>\n",
       "      <td>...</td>\n",
       "      <td>nan</td>\n",
       "      <td>NaN</td>\n",
       "      <td>nan</td>\n",
       "      <td>nan</td>\n",
       "      <td>58.160</td>\n",
       "      <td>6200.000</td>\n",
       "      <td>77.000</td>\n",
       "      <td>3500.000</td>\n",
       "      <td>69.000</td>\n",
       "      <td>NaN</td>\n",
       "    </tr>\n",
       "    <tr>\n",
       "      <th>c309efc1-efaf-4f82-81ad-dcb38eb36665</th>\n",
       "      <td>borivali west</td>\n",
       "      <td>2015</td>\n",
       "      <td>hatchback</td>\n",
       "      <td>manual</td>\n",
       "      <td>cng</td>\n",
       "      <td>45,864</td>\n",
       "      <td>0</td>\n",
       "      <td>[{'img': 'https://images10.gaadi.com/usedcar_i...</td>\n",
       "      <td>15</td>\n",
       "      <td>False</td>\n",
       "      <td>...</td>\n",
       "      <td>Gasoline Port Injection</td>\n",
       "      <td>11.0:1</td>\n",
       "      <td>nan</td>\n",
       "      <td>nan</td>\n",
       "      <td>58.200</td>\n",
       "      <td>6000.000</td>\n",
       "      <td>78.000</td>\n",
       "      <td>3500.000</td>\n",
       "      <td>73.000</td>\n",
       "      <td>NaN</td>\n",
       "    </tr>\n",
       "    <tr>\n",
       "      <th>7609f710-0c97-4f00-9a47-9b9284b62d3a</th>\n",
       "      <td>jasola</td>\n",
       "      <td>2015</td>\n",
       "      <td>sedan</td>\n",
       "      <td>manual</td>\n",
       "      <td>cng</td>\n",
       "      <td>81,506</td>\n",
       "      <td>0</td>\n",
       "      <td>[{'img': 'https://images10.gaadi.com/usedcar_i...</td>\n",
       "      <td>15</td>\n",
       "      <td>False</td>\n",
       "      <td>...</td>\n",
       "      <td>nan</td>\n",
       "      <td>NaN</td>\n",
       "      <td>nan</td>\n",
       "      <td>nan</td>\n",
       "      <td>86.700</td>\n",
       "      <td>6000.000</td>\n",
       "      <td>109.000</td>\n",
       "      <td>4500.000</td>\n",
       "      <td>NaN</td>\n",
       "      <td>NaN</td>\n",
       "    </tr>\n",
       "    <tr>\n",
       "      <th>278b76e3-5539-4a5e-ae3e-353a2e3b6d7d</th>\n",
       "      <td>jasola</td>\n",
       "      <td>2013</td>\n",
       "      <td>hatchback</td>\n",
       "      <td>manual</td>\n",
       "      <td>cng</td>\n",
       "      <td>1,15,893</td>\n",
       "      <td>0</td>\n",
       "      <td>[{'img': ''}]</td>\n",
       "      <td>0</td>\n",
       "      <td>False</td>\n",
       "      <td>...</td>\n",
       "      <td>Multi-Point Fuel Injection</td>\n",
       "      <td>NaN</td>\n",
       "      <td>13</td>\n",
       "      <td>nan</td>\n",
       "      <td>58.200</td>\n",
       "      <td>6200.000</td>\n",
       "      <td>77.000</td>\n",
       "      <td>3500.000</td>\n",
       "      <td>NaN</td>\n",
       "      <td>NaN</td>\n",
       "    </tr>\n",
       "    <tr>\n",
       "      <th>b1eab99b-a606-48dd-a75b-57feb8a9ad92</th>\n",
       "      <td>mumbai g.p.o.</td>\n",
       "      <td>2022</td>\n",
       "      <td>muv</td>\n",
       "      <td>manual</td>\n",
       "      <td>cng</td>\n",
       "      <td>18,900</td>\n",
       "      <td>0</td>\n",
       "      <td>[{'img': 'https://images10.gaadi.com/usedcar_i...</td>\n",
       "      <td>6</td>\n",
       "      <td>False</td>\n",
       "      <td>...</td>\n",
       "      <td>nan</td>\n",
       "      <td>12.0+-.03</td>\n",
       "      <td>nan</td>\n",
       "      <td>nan</td>\n",
       "      <td>86.630</td>\n",
       "      <td>5500.000</td>\n",
       "      <td>121.500</td>\n",
       "      <td>4200.000</td>\n",
       "      <td>NaN</td>\n",
       "      <td>NaN</td>\n",
       "    </tr>\n",
       "  </tbody>\n",
       "</table>\n",
       "<p>5 rows × 65 columns</p>\n",
       "</div>"
      ],
      "text/plain": [
       "                                                loc  myear         bt      tt  \\\n",
       "usedCarSkuId                                                                    \n",
       "7111bf25-97af-47f9-867b-40879190d800    gomti nagar   2016  hatchback  manual   \n",
       "c309efc1-efaf-4f82-81ad-dcb38eb36665  borivali west   2015  hatchback  manual   \n",
       "7609f710-0c97-4f00-9a47-9b9284b62d3a         jasola   2015      sedan  manual   \n",
       "278b76e3-5539-4a5e-ae3e-353a2e3b6d7d         jasola   2013  hatchback  manual   \n",
       "b1eab99b-a606-48dd-a75b-57feb8a9ad92  mumbai g.p.o.   2022        muv  manual   \n",
       "\n",
       "                                       ft        km  ip  \\\n",
       "usedCarSkuId                                              \n",
       "7111bf25-97af-47f9-867b-40879190d800  cng    69,162   0   \n",
       "c309efc1-efaf-4f82-81ad-dcb38eb36665  cng    45,864   0   \n",
       "7609f710-0c97-4f00-9a47-9b9284b62d3a  cng    81,506   0   \n",
       "278b76e3-5539-4a5e-ae3e-353a2e3b6d7d  cng  1,15,893   0   \n",
       "b1eab99b-a606-48dd-a75b-57feb8a9ad92  cng    18,900   0   \n",
       "\n",
       "                                                                                 images  \\\n",
       "usedCarSkuId                                                                              \n",
       "7111bf25-97af-47f9-867b-40879190d800  [{'img': 'https://images10.gaadi.com/usedcar_i...   \n",
       "c309efc1-efaf-4f82-81ad-dcb38eb36665  [{'img': 'https://images10.gaadi.com/usedcar_i...   \n",
       "7609f710-0c97-4f00-9a47-9b9284b62d3a  [{'img': 'https://images10.gaadi.com/usedcar_i...   \n",
       "278b76e3-5539-4a5e-ae3e-353a2e3b6d7d                                      [{'img': ''}]   \n",
       "b1eab99b-a606-48dd-a75b-57feb8a9ad92  [{'img': 'https://images10.gaadi.com/usedcar_i...   \n",
       "\n",
       "                                      imgCount  threesixty  ...  \\\n",
       "usedCarSkuId                                                ...   \n",
       "7111bf25-97af-47f9-867b-40879190d800        15       False  ...   \n",
       "c309efc1-efaf-4f82-81ad-dcb38eb36665        15       False  ...   \n",
       "7609f710-0c97-4f00-9a47-9b9284b62d3a        15       False  ...   \n",
       "278b76e3-5539-4a5e-ae3e-353a2e3b6d7d         0       False  ...   \n",
       "b1eab99b-a606-48dd-a75b-57feb8a9ad92         6       False  ...   \n",
       "\n",
       "                                               Fuel Suppy System  \\\n",
       "usedCarSkuId                                                       \n",
       "7111bf25-97af-47f9-867b-40879190d800                         nan   \n",
       "c309efc1-efaf-4f82-81ad-dcb38eb36665     Gasoline Port Injection   \n",
       "7609f710-0c97-4f00-9a47-9b9284b62d3a                         nan   \n",
       "278b76e3-5539-4a5e-ae3e-353a2e3b6d7d  Multi-Point Fuel Injection   \n",
       "b1eab99b-a606-48dd-a75b-57feb8a9ad92                         nan   \n",
       "\n",
       "                                     Compression Ratio Alloy Wheel Size  \\\n",
       "usedCarSkuId                                                              \n",
       "7111bf25-97af-47f9-867b-40879190d800               NaN              nan   \n",
       "c309efc1-efaf-4f82-81ad-dcb38eb36665            11.0:1              nan   \n",
       "7609f710-0c97-4f00-9a47-9b9284b62d3a               NaN              nan   \n",
       "278b76e3-5539-4a5e-ae3e-353a2e3b6d7d               NaN               13   \n",
       "b1eab99b-a606-48dd-a75b-57feb8a9ad92         12.0+-.03              nan   \n",
       "\n",
       "                                     Ground Clearance Unladen  \\\n",
       "usedCarSkuId                                                    \n",
       "7111bf25-97af-47f9-867b-40879190d800                      nan   \n",
       "c309efc1-efaf-4f82-81ad-dcb38eb36665                      nan   \n",
       "7609f710-0c97-4f00-9a47-9b9284b62d3a                      nan   \n",
       "278b76e3-5539-4a5e-ae3e-353a2e3b6d7d                      nan   \n",
       "b1eab99b-a606-48dd-a75b-57feb8a9ad92                      nan   \n",
       "\n",
       "                                     Max Power Delivered  Max Power At  \\\n",
       "usedCarSkuId                                                             \n",
       "7111bf25-97af-47f9-867b-40879190d800              58.160      6200.000   \n",
       "c309efc1-efaf-4f82-81ad-dcb38eb36665              58.200      6000.000   \n",
       "7609f710-0c97-4f00-9a47-9b9284b62d3a              86.700      6000.000   \n",
       "278b76e3-5539-4a5e-ae3e-353a2e3b6d7d              58.200      6200.000   \n",
       "b1eab99b-a606-48dd-a75b-57feb8a9ad92              86.630      5500.000   \n",
       "\n",
       "                                      Max Torque Delivered Max Torque At  \\\n",
       "usedCarSkuId                                                               \n",
       "7111bf25-97af-47f9-867b-40879190d800                77.000      3500.000   \n",
       "c309efc1-efaf-4f82-81ad-dcb38eb36665                78.000      3500.000   \n",
       "7609f710-0c97-4f00-9a47-9b9284b62d3a               109.000      4500.000   \n",
       "278b76e3-5539-4a5e-ae3e-353a2e3b6d7d                77.000      3500.000   \n",
       "b1eab99b-a606-48dd-a75b-57feb8a9ad92               121.500      4200.000   \n",
       "\n",
       "                                       Bore Stroke  \n",
       "usedCarSkuId                                        \n",
       "7111bf25-97af-47f9-867b-40879190d800 69.000    NaN  \n",
       "c309efc1-efaf-4f82-81ad-dcb38eb36665 73.000    NaN  \n",
       "7609f710-0c97-4f00-9a47-9b9284b62d3a    NaN    NaN  \n",
       "278b76e3-5539-4a5e-ae3e-353a2e3b6d7d    NaN    NaN  \n",
       "b1eab99b-a606-48dd-a75b-57feb8a9ad92    NaN    NaN  \n",
       "\n",
       "[5 rows x 65 columns]"
      ]
     },
     "execution_count": 49,
     "metadata": {},
     "output_type": "execute_result"
    }
   ],
   "source": [
    "cars_df2.drop(columns=['BoreX Stroke'], inplace=True, axis=1)\n",
    "cars_df2.head()"
   ]
  },
  {
   "cell_type": "markdown",
   "id": "6f340cdd",
   "metadata": {
    "papermill": {
     "duration": 0.030091,
     "end_time": "2023-03-25T19:14:27.152706",
     "exception": false,
     "start_time": "2023-03-25T19:14:27.122615",
     "status": "completed"
    },
    "tags": []
   },
   "source": [
    "---\n",
    "\n",
    "#### `Turbo Charger` and `Super Charger`\n",
    "\n",
    "Convert them to boolean"
   ]
  },
  {
   "cell_type": "code",
   "execution_count": 50,
   "id": "25148a2a",
   "metadata": {
    "execution": {
     "iopub.execute_input": "2023-03-25T19:14:27.215104Z",
     "iopub.status.busy": "2023-03-25T19:14:27.214593Z",
     "iopub.status.idle": "2023-03-25T19:14:27.226720Z",
     "shell.execute_reply": "2023-03-25T19:14:27.225747Z"
    },
    "papermill": {
     "duration": 0.046498,
     "end_time": "2023-03-25T19:14:27.229201",
     "exception": false,
     "start_time": "2023-03-25T19:14:27.182703",
     "status": "completed"
    },
    "tags": []
   },
   "outputs": [
    {
     "data": {
      "text/html": [
       "<div>\n",
       "<style scoped>\n",
       "    .dataframe tbody tr th:only-of-type {\n",
       "        vertical-align: middle;\n",
       "    }\n",
       "\n",
       "    .dataframe tbody tr th {\n",
       "        vertical-align: top;\n",
       "    }\n",
       "\n",
       "    .dataframe thead th {\n",
       "        text-align: right;\n",
       "    }\n",
       "</style>\n",
       "<table border=\"1\" class=\"dataframe\">\n",
       "  <thead>\n",
       "    <tr style=\"text-align: right;\">\n",
       "      <th></th>\n",
       "      <th>Turbo Charger</th>\n",
       "      <th>Super Charger</th>\n",
       "    </tr>\n",
       "    <tr>\n",
       "      <th>usedCarSkuId</th>\n",
       "      <th></th>\n",
       "      <th></th>\n",
       "    </tr>\n",
       "  </thead>\n",
       "  <tbody>\n",
       "    <tr>\n",
       "      <th>b8c37660-d8ac-4993-a6f8-555a50286530</th>\n",
       "      <td>nan</td>\n",
       "      <td>nan</td>\n",
       "    </tr>\n",
       "    <tr>\n",
       "      <th>57c066b4-045f-4cbd-bd1e-b51f2706186d</th>\n",
       "      <td>yes</td>\n",
       "      <td>no</td>\n",
       "    </tr>\n",
       "    <tr>\n",
       "      <th>0d7eb231-4ff9-4b0e-b161-ea7bb440c7bf</th>\n",
       "      <td>no</td>\n",
       "      <td>no</td>\n",
       "    </tr>\n",
       "    <tr>\n",
       "      <th>1581b4a5-0482-4f45-9c69-17b8c813e01a</th>\n",
       "      <td>no</td>\n",
       "      <td>no</td>\n",
       "    </tr>\n",
       "    <tr>\n",
       "      <th>a9d64673-66e8-4933-a234-f18b92b6d218</th>\n",
       "      <td>nan</td>\n",
       "      <td>nan</td>\n",
       "    </tr>\n",
       "  </tbody>\n",
       "</table>\n",
       "</div>"
      ],
      "text/plain": [
       "                                     Turbo Charger Super Charger\n",
       "usedCarSkuId                                                    \n",
       "b8c37660-d8ac-4993-a6f8-555a50286530           nan           nan\n",
       "57c066b4-045f-4cbd-bd1e-b51f2706186d           yes            no\n",
       "0d7eb231-4ff9-4b0e-b161-ea7bb440c7bf            no            no\n",
       "1581b4a5-0482-4f45-9c69-17b8c813e01a            no            no\n",
       "a9d64673-66e8-4933-a234-f18b92b6d218           nan           nan"
      ]
     },
     "execution_count": 50,
     "metadata": {},
     "output_type": "execute_result"
    }
   ],
   "source": [
    "cars_df2[['Turbo Charger', 'Super Charger']].sample(5)"
   ]
  },
  {
   "cell_type": "code",
   "execution_count": 51,
   "id": "832fc581",
   "metadata": {
    "execution": {
     "iopub.execute_input": "2023-03-25T19:14:27.292484Z",
     "iopub.status.busy": "2023-03-25T19:14:27.291776Z",
     "iopub.status.idle": "2023-03-25T19:14:27.342207Z",
     "shell.execute_reply": "2023-03-25T19:14:27.340776Z"
    },
    "papermill": {
     "duration": 0.0852,
     "end_time": "2023-03-25T19:14:27.344892",
     "exception": false,
     "start_time": "2023-03-25T19:14:27.259692",
     "status": "completed"
    },
    "tags": []
   },
   "outputs": [],
   "source": [
    "cars_df2['Turbo Charger'] = cars_df2['Turbo Charger'].replace('yes', True)\n",
    "cars_df2['Turbo Charger'] = cars_df2['Turbo Charger'].replace('no', False).astype(bool)\n",
    "\n",
    "cars_df2['Super Charger'] = cars_df2['Turbo Charger'].replace('yes', True)\n",
    "cars_df2['Super Charger'] = cars_df2['Turbo Charger'].replace('no', False).astype(bool)"
   ]
  },
  {
   "cell_type": "code",
   "execution_count": 52,
   "id": "1649d5e1",
   "metadata": {
    "execution": {
     "iopub.execute_input": "2023-03-25T19:14:27.406506Z",
     "iopub.status.busy": "2023-03-25T19:14:27.406092Z",
     "iopub.status.idle": "2023-03-25T19:14:27.419871Z",
     "shell.execute_reply": "2023-03-25T19:14:27.418674Z"
    },
    "papermill": {
     "duration": 0.047716,
     "end_time": "2023-03-25T19:14:27.423238",
     "exception": false,
     "start_time": "2023-03-25T19:14:27.375522",
     "status": "completed"
    },
    "tags": []
   },
   "outputs": [
    {
     "data": {
      "text/html": [
       "<div>\n",
       "<style scoped>\n",
       "    .dataframe tbody tr th:only-of-type {\n",
       "        vertical-align: middle;\n",
       "    }\n",
       "\n",
       "    .dataframe tbody tr th {\n",
       "        vertical-align: top;\n",
       "    }\n",
       "\n",
       "    .dataframe thead th {\n",
       "        text-align: right;\n",
       "    }\n",
       "</style>\n",
       "<table border=\"1\" class=\"dataframe\">\n",
       "  <thead>\n",
       "    <tr style=\"text-align: right;\">\n",
       "      <th></th>\n",
       "      <th>Turbo Charger</th>\n",
       "      <th>Super Charger</th>\n",
       "    </tr>\n",
       "    <tr>\n",
       "      <th>usedCarSkuId</th>\n",
       "      <th></th>\n",
       "      <th></th>\n",
       "    </tr>\n",
       "  </thead>\n",
       "  <tbody>\n",
       "    <tr>\n",
       "      <th>3249a264-f445-480e-89c5-cbf9675b4939</th>\n",
       "      <td>False</td>\n",
       "      <td>False</td>\n",
       "    </tr>\n",
       "    <tr>\n",
       "      <th>36a6cd86-1356-4ce6-ab7d-7071d9997ca5</th>\n",
       "      <td>True</td>\n",
       "      <td>True</td>\n",
       "    </tr>\n",
       "    <tr>\n",
       "      <th>18191309-3bdb-4664-8e55-63dc2adea0d8</th>\n",
       "      <td>False</td>\n",
       "      <td>False</td>\n",
       "    </tr>\n",
       "    <tr>\n",
       "      <th>7bdee52d-6fe2-4c9e-9f74-388f156ef1b9</th>\n",
       "      <td>False</td>\n",
       "      <td>False</td>\n",
       "    </tr>\n",
       "    <tr>\n",
       "      <th>a5f36e4e-7dbe-4e66-8eba-69bef042ac99</th>\n",
       "      <td>True</td>\n",
       "      <td>True</td>\n",
       "    </tr>\n",
       "  </tbody>\n",
       "</table>\n",
       "</div>"
      ],
      "text/plain": [
       "                                      Turbo Charger  Super Charger\n",
       "usedCarSkuId                                                      \n",
       "3249a264-f445-480e-89c5-cbf9675b4939          False          False\n",
       "36a6cd86-1356-4ce6-ab7d-7071d9997ca5           True           True\n",
       "18191309-3bdb-4664-8e55-63dc2adea0d8          False          False\n",
       "7bdee52d-6fe2-4c9e-9f74-388f156ef1b9          False          False\n",
       "a5f36e4e-7dbe-4e66-8eba-69bef042ac99           True           True"
      ]
     },
     "execution_count": 52,
     "metadata": {},
     "output_type": "execute_result"
    }
   ],
   "source": [
    "cars_df2[['Turbo Charger', 'Super Charger']].sample(5)"
   ]
  },
  {
   "cell_type": "markdown",
   "id": "d60fa5de",
   "metadata": {
    "papermill": {
     "duration": 0.035518,
     "end_time": "2023-03-25T19:14:27.497139",
     "exception": false,
     "start_time": "2023-03-25T19:14:27.461621",
     "status": "completed"
    },
    "tags": []
   },
   "source": [
    "---\n",
    "\n",
    "#### `Length`, `Width`, `Height`, `Wheel Base`\n",
    "\n",
    "Convert these columns to int"
   ]
  },
  {
   "cell_type": "code",
   "execution_count": 53,
   "id": "091b308a",
   "metadata": {
    "execution": {
     "iopub.execute_input": "2023-03-25T19:14:27.559860Z",
     "iopub.status.busy": "2023-03-25T19:14:27.559429Z",
     "iopub.status.idle": "2023-03-25T19:14:27.575840Z",
     "shell.execute_reply": "2023-03-25T19:14:27.574727Z"
    },
    "papermill": {
     "duration": 0.05111,
     "end_time": "2023-03-25T19:14:27.578593",
     "exception": false,
     "start_time": "2023-03-25T19:14:27.527483",
     "status": "completed"
    },
    "tags": []
   },
   "outputs": [
    {
     "data": {
      "text/html": [
       "<div>\n",
       "<style scoped>\n",
       "    .dataframe tbody tr th:only-of-type {\n",
       "        vertical-align: middle;\n",
       "    }\n",
       "\n",
       "    .dataframe tbody tr th {\n",
       "        vertical-align: top;\n",
       "    }\n",
       "\n",
       "    .dataframe thead th {\n",
       "        text-align: right;\n",
       "    }\n",
       "</style>\n",
       "<table border=\"1\" class=\"dataframe\">\n",
       "  <thead>\n",
       "    <tr style=\"text-align: right;\">\n",
       "      <th></th>\n",
       "      <th>Length</th>\n",
       "      <th>Width</th>\n",
       "      <th>Height</th>\n",
       "      <th>Wheel Base</th>\n",
       "    </tr>\n",
       "    <tr>\n",
       "      <th>usedCarSkuId</th>\n",
       "      <th></th>\n",
       "      <th></th>\n",
       "      <th></th>\n",
       "      <th></th>\n",
       "    </tr>\n",
       "  </thead>\n",
       "  <tbody>\n",
       "    <tr>\n",
       "      <th>a92170ff-44df-43f1-ab55-e8d6ce4a997c</th>\n",
       "      <td>nan</td>\n",
       "      <td>nan</td>\n",
       "      <td>nan</td>\n",
       "      <td>nan</td>\n",
       "    </tr>\n",
       "    <tr>\n",
       "      <th>4e3a8c96-7402-4e49-8778-24613ca1effb</th>\n",
       "      <td>3995mm</td>\n",
       "      <td>1790mm</td>\n",
       "      <td>1640mm</td>\n",
       "      <td>2500mm</td>\n",
       "    </tr>\n",
       "    <tr>\n",
       "      <th>a4cbd1f4-0a2e-4109-b57a-acfc46dc2044</th>\n",
       "      <td>4925mm</td>\n",
       "      <td>1700mm</td>\n",
       "      <td>1825mm</td>\n",
       "      <td>3150mm</td>\n",
       "    </tr>\n",
       "    <tr>\n",
       "      <th>08a0ca54-9281-424f-aed2-ca14369ce27c</th>\n",
       "      <td>4370mm</td>\n",
       "      <td>1700mm</td>\n",
       "      <td>1475mm</td>\n",
       "      <td>2570mm</td>\n",
       "    </tr>\n",
       "    <tr>\n",
       "      <th>cc77affe-beab-4f69-b370-e243dd2bdba4</th>\n",
       "      <td>3801mm</td>\n",
       "      <td>1665mm</td>\n",
       "      <td>1530mm</td>\n",
       "      <td>2450mm</td>\n",
       "    </tr>\n",
       "    <tr>\n",
       "      <th>580f972e-09f4-4595-b8cb-e701d47e1987</th>\n",
       "      <td>3985mm</td>\n",
       "      <td>1734mm</td>\n",
       "      <td>1505mm</td>\n",
       "      <td>2570mm</td>\n",
       "    </tr>\n",
       "    <tr>\n",
       "      <th>35e2b956-8ed3-4f1f-a74d-0bfabaf72a4d</th>\n",
       "      <td>3994mm</td>\n",
       "      <td>1811mm</td>\n",
       "      <td>1607mm</td>\n",
       "      <td>2498mm</td>\n",
       "    </tr>\n",
       "    <tr>\n",
       "      <th>0d5f8574-5fab-4b85-9681-82a967de659a</th>\n",
       "      <td>3599mm</td>\n",
       "      <td>1495mm</td>\n",
       "      <td>1700mm</td>\n",
       "      <td>2400mm</td>\n",
       "    </tr>\n",
       "    <tr>\n",
       "      <th>3917f629-adec-43e2-a4ac-a9b0336c337a</th>\n",
       "      <td>4630mm</td>\n",
       "      <td>1777 mm</td>\n",
       "      <td>1432mm</td>\n",
       "      <td>2699mm</td>\n",
       "    </tr>\n",
       "    <tr>\n",
       "      <th>573eb1b5-19d6-49a9-b35b-c7599325eff1</th>\n",
       "      <td>3565mm</td>\n",
       "      <td>1525mm</td>\n",
       "      <td>1590mm</td>\n",
       "      <td>2380mm</td>\n",
       "    </tr>\n",
       "  </tbody>\n",
       "</table>\n",
       "</div>"
      ],
      "text/plain": [
       "                                      Length    Width  Height Wheel Base\n",
       "usedCarSkuId                                                            \n",
       "a92170ff-44df-43f1-ab55-e8d6ce4a997c     nan      nan     nan        nan\n",
       "4e3a8c96-7402-4e49-8778-24613ca1effb  3995mm   1790mm  1640mm     2500mm\n",
       "a4cbd1f4-0a2e-4109-b57a-acfc46dc2044  4925mm   1700mm  1825mm     3150mm\n",
       "08a0ca54-9281-424f-aed2-ca14369ce27c  4370mm   1700mm  1475mm     2570mm\n",
       "cc77affe-beab-4f69-b370-e243dd2bdba4  3801mm   1665mm  1530mm     2450mm\n",
       "580f972e-09f4-4595-b8cb-e701d47e1987  3985mm   1734mm  1505mm     2570mm\n",
       "35e2b956-8ed3-4f1f-a74d-0bfabaf72a4d  3994mm   1811mm  1607mm     2498mm\n",
       "0d5f8574-5fab-4b85-9681-82a967de659a  3599mm   1495mm  1700mm     2400mm\n",
       "3917f629-adec-43e2-a4ac-a9b0336c337a  4630mm  1777 mm  1432mm     2699mm\n",
       "573eb1b5-19d6-49a9-b35b-c7599325eff1  3565mm   1525mm  1590mm     2380mm"
      ]
     },
     "execution_count": 53,
     "metadata": {},
     "output_type": "execute_result"
    }
   ],
   "source": [
    "cars_df2[['Length', 'Width', 'Height', 'Wheel Base']].sample(10)"
   ]
  },
  {
   "cell_type": "code",
   "execution_count": 54,
   "id": "efa58c2c",
   "metadata": {
    "execution": {
     "iopub.execute_input": "2023-03-25T19:14:27.700893Z",
     "iopub.status.busy": "2023-03-25T19:14:27.700551Z",
     "iopub.status.idle": "2023-03-25T19:14:28.030356Z",
     "shell.execute_reply": "2023-03-25T19:14:28.029197Z"
    },
    "papermill": {
     "duration": 0.423272,
     "end_time": "2023-03-25T19:14:28.032971",
     "exception": false,
     "start_time": "2023-03-25T19:14:27.609699",
     "status": "completed"
    },
    "tags": []
   },
   "outputs": [],
   "source": [
    "for col in ['Length', 'Width', 'Height', 'Wheel Base']:\n",
    "    cars_df2[col] = cars_df2[col].apply(get_begin_number).astype(float)"
   ]
  },
  {
   "cell_type": "code",
   "execution_count": 55,
   "id": "93d9ddca",
   "metadata": {
    "execution": {
     "iopub.execute_input": "2023-03-25T19:14:28.097391Z",
     "iopub.status.busy": "2023-03-25T19:14:28.096417Z",
     "iopub.status.idle": "2023-03-25T19:14:28.110007Z",
     "shell.execute_reply": "2023-03-25T19:14:28.108969Z"
    },
    "papermill": {
     "duration": 0.048795,
     "end_time": "2023-03-25T19:14:28.112484",
     "exception": false,
     "start_time": "2023-03-25T19:14:28.063689",
     "status": "completed"
    },
    "tags": []
   },
   "outputs": [
    {
     "data": {
      "text/html": [
       "<div>\n",
       "<style scoped>\n",
       "    .dataframe tbody tr th:only-of-type {\n",
       "        vertical-align: middle;\n",
       "    }\n",
       "\n",
       "    .dataframe tbody tr th {\n",
       "        vertical-align: top;\n",
       "    }\n",
       "\n",
       "    .dataframe thead th {\n",
       "        text-align: right;\n",
       "    }\n",
       "</style>\n",
       "<table border=\"1\" class=\"dataframe\">\n",
       "  <thead>\n",
       "    <tr style=\"text-align: right;\">\n",
       "      <th></th>\n",
       "      <th>Length</th>\n",
       "      <th>Width</th>\n",
       "      <th>Height</th>\n",
       "      <th>Wheel Base</th>\n",
       "    </tr>\n",
       "    <tr>\n",
       "      <th>usedCarSkuId</th>\n",
       "      <th></th>\n",
       "      <th></th>\n",
       "      <th></th>\n",
       "      <th></th>\n",
       "    </tr>\n",
       "  </thead>\n",
       "  <tbody>\n",
       "    <tr>\n",
       "      <th>de256d12-2859-4f6e-97cb-fc37839f0699</th>\n",
       "      <td>4545.000</td>\n",
       "      <td>1750.000</td>\n",
       "      <td>1450.000</td>\n",
       "      <td>2700.000</td>\n",
       "    </tr>\n",
       "    <tr>\n",
       "      <th>0b7d56e3-bfbe-41b4-811d-bb25c72c839a</th>\n",
       "      <td>4620.000</td>\n",
       "      <td>1776.000</td>\n",
       "      <td>1475.000</td>\n",
       "      <td>2700.000</td>\n",
       "    </tr>\n",
       "    <tr>\n",
       "      <th>a0364ac0-971d-4f6c-b6b9-58dff3a6f7b6</th>\n",
       "      <td>3731.000</td>\n",
       "      <td>1579.000</td>\n",
       "      <td>1474.000</td>\n",
       "      <td>NaN</td>\n",
       "    </tr>\n",
       "    <tr>\n",
       "      <th>32fb4a35-c600-4dd1-b0ba-0180446d92b0</th>\n",
       "      <td>4370.000</td>\n",
       "      <td>1700.000</td>\n",
       "      <td>1475.000</td>\n",
       "      <td>2570.000</td>\n",
       "    </tr>\n",
       "    <tr>\n",
       "      <th>d64283b6-59c1-464d-b919-b658a380b47b</th>\n",
       "      <td>4270.000</td>\n",
       "      <td>1780.000</td>\n",
       "      <td>1630.000</td>\n",
       "      <td>2590.000</td>\n",
       "    </tr>\n",
       "  </tbody>\n",
       "</table>\n",
       "</div>"
      ],
      "text/plain": [
       "                                       Length    Width   Height  Wheel Base\n",
       "usedCarSkuId                                                               \n",
       "de256d12-2859-4f6e-97cb-fc37839f0699 4545.000 1750.000 1450.000    2700.000\n",
       "0b7d56e3-bfbe-41b4-811d-bb25c72c839a 4620.000 1776.000 1475.000    2700.000\n",
       "a0364ac0-971d-4f6c-b6b9-58dff3a6f7b6 3731.000 1579.000 1474.000         NaN\n",
       "32fb4a35-c600-4dd1-b0ba-0180446d92b0 4370.000 1700.000 1475.000    2570.000\n",
       "d64283b6-59c1-464d-b919-b658a380b47b 4270.000 1780.000 1630.000    2590.000"
      ]
     },
     "execution_count": 55,
     "metadata": {},
     "output_type": "execute_result"
    }
   ],
   "source": [
    "cars_df2[['Length', 'Width', 'Height', 'Wheel Base']].sample(5)"
   ]
  },
  {
   "cell_type": "markdown",
   "id": "1395f669",
   "metadata": {
    "papermill": {
     "duration": 0.031007,
     "end_time": "2023-03-25T19:14:28.175784",
     "exception": false,
     "start_time": "2023-03-25T19:14:28.144777",
     "status": "completed"
    },
    "tags": []
   },
   "source": [
    "---\n",
    "\n",
    "#### `Front Tread` and `Rear Tread`"
   ]
  },
  {
   "cell_type": "code",
   "execution_count": 56,
   "id": "cc11fe63",
   "metadata": {
    "execution": {
     "iopub.execute_input": "2023-03-25T19:14:28.239659Z",
     "iopub.status.busy": "2023-03-25T19:14:28.239276Z",
     "iopub.status.idle": "2023-03-25T19:14:28.253844Z",
     "shell.execute_reply": "2023-03-25T19:14:28.253064Z"
    },
    "papermill": {
     "duration": 0.049429,
     "end_time": "2023-03-25T19:14:28.256067",
     "exception": false,
     "start_time": "2023-03-25T19:14:28.206638",
     "status": "completed"
    },
    "tags": []
   },
   "outputs": [
    {
     "data": {
      "text/html": [
       "<div>\n",
       "<style scoped>\n",
       "    .dataframe tbody tr th:only-of-type {\n",
       "        vertical-align: middle;\n",
       "    }\n",
       "\n",
       "    .dataframe tbody tr th {\n",
       "        vertical-align: top;\n",
       "    }\n",
       "\n",
       "    .dataframe thead th {\n",
       "        text-align: right;\n",
       "    }\n",
       "</style>\n",
       "<table border=\"1\" class=\"dataframe\">\n",
       "  <thead>\n",
       "    <tr style=\"text-align: right;\">\n",
       "      <th></th>\n",
       "      <th>Front Tread</th>\n",
       "      <th>Rear Tread</th>\n",
       "    </tr>\n",
       "    <tr>\n",
       "      <th>usedCarSkuId</th>\n",
       "      <th></th>\n",
       "      <th></th>\n",
       "    </tr>\n",
       "  </thead>\n",
       "  <tbody>\n",
       "    <tr>\n",
       "      <th>80302c9a-5f70-4767-967c-1e6fd7f15cf7</th>\n",
       "      <td>nan</td>\n",
       "      <td>nan</td>\n",
       "    </tr>\n",
       "    <tr>\n",
       "      <th>16bd3c60-6f48-4cfd-b36c-4da2d100b409</th>\n",
       "      <td>nan</td>\n",
       "      <td>nan</td>\n",
       "    </tr>\n",
       "    <tr>\n",
       "      <th>f9284d8f-ec87-4671-8591-2f9a23411c63</th>\n",
       "      <td>1479mm</td>\n",
       "      <td>1493mm</td>\n",
       "    </tr>\n",
       "    <tr>\n",
       "      <th>ce71dbb8-10e5-4028-a2ab-78886abeae21</th>\n",
       "      <td>1,505 mm</td>\n",
       "      <td>1,503 mm</td>\n",
       "    </tr>\n",
       "    <tr>\n",
       "      <th>e678e73d-3c76-4d81-82a8-631eaa21bdc2</th>\n",
       "      <td>1485mm</td>\n",
       "      <td>1495mm</td>\n",
       "    </tr>\n",
       "    <tr>\n",
       "      <th>cebaf820-0d49-4606-a3d8-e2eab3138cbd</th>\n",
       "      <td>nan</td>\n",
       "      <td>nan</td>\n",
       "    </tr>\n",
       "    <tr>\n",
       "      <th>1d05b213-6d6f-4c9d-8a25-e3f0667b3142</th>\n",
       "      <td>1495mm</td>\n",
       "      <td>1505mm</td>\n",
       "    </tr>\n",
       "    <tr>\n",
       "      <th>ac35fc2b-7e68-4936-b325-a4d023d28b3a</th>\n",
       "      <td>1475mm</td>\n",
       "      <td>1465mm</td>\n",
       "    </tr>\n",
       "    <tr>\n",
       "      <th>89c67788-27e4-4113-beb1-bcd71e5048e4</th>\n",
       "      <td>1470mm</td>\n",
       "      <td>1480mm</td>\n",
       "    </tr>\n",
       "    <tr>\n",
       "      <th>f76569bf-526b-46c2-ada6-77cbb62aafa6</th>\n",
       "      <td>nan</td>\n",
       "      <td>nan</td>\n",
       "    </tr>\n",
       "  </tbody>\n",
       "</table>\n",
       "</div>"
      ],
      "text/plain": [
       "                                     Front Tread Rear Tread\n",
       "usedCarSkuId                                               \n",
       "80302c9a-5f70-4767-967c-1e6fd7f15cf7         nan        nan\n",
       "16bd3c60-6f48-4cfd-b36c-4da2d100b409         nan        nan\n",
       "f9284d8f-ec87-4671-8591-2f9a23411c63      1479mm     1493mm\n",
       "ce71dbb8-10e5-4028-a2ab-78886abeae21    1,505 mm   1,503 mm\n",
       "e678e73d-3c76-4d81-82a8-631eaa21bdc2      1485mm     1495mm\n",
       "cebaf820-0d49-4606-a3d8-e2eab3138cbd         nan        nan\n",
       "1d05b213-6d6f-4c9d-8a25-e3f0667b3142      1495mm     1505mm\n",
       "ac35fc2b-7e68-4936-b325-a4d023d28b3a      1475mm     1465mm\n",
       "89c67788-27e4-4113-beb1-bcd71e5048e4      1470mm     1480mm\n",
       "f76569bf-526b-46c2-ada6-77cbb62aafa6         nan        nan"
      ]
     },
     "execution_count": 56,
     "metadata": {},
     "output_type": "execute_result"
    }
   ],
   "source": [
    "cars_df2[['Front Tread', 'Rear Tread']].sample(10)"
   ]
  },
  {
   "cell_type": "code",
   "execution_count": 57,
   "id": "f6c52ed8",
   "metadata": {
    "execution": {
     "iopub.execute_input": "2023-03-25T19:14:28.323474Z",
     "iopub.status.busy": "2023-03-25T19:14:28.322109Z",
     "iopub.status.idle": "2023-03-25T19:14:28.461792Z",
     "shell.execute_reply": "2023-03-25T19:14:28.460815Z"
    },
    "papermill": {
     "duration": 0.176326,
     "end_time": "2023-03-25T19:14:28.464391",
     "exception": false,
     "start_time": "2023-03-25T19:14:28.288065",
     "status": "completed"
    },
    "tags": []
   },
   "outputs": [],
   "source": [
    "for col in ['Front Tread', 'Rear Tread']:\n",
    "    cars_df2[col] = cars_df2[col].apply(get_begin_float).astype(float)"
   ]
  },
  {
   "cell_type": "code",
   "execution_count": 58,
   "id": "b136c21e",
   "metadata": {
    "execution": {
     "iopub.execute_input": "2023-03-25T19:14:28.530118Z",
     "iopub.status.busy": "2023-03-25T19:14:28.529723Z",
     "iopub.status.idle": "2023-03-25T19:14:28.541623Z",
     "shell.execute_reply": "2023-03-25T19:14:28.540600Z"
    },
    "papermill": {
     "duration": 0.046852,
     "end_time": "2023-03-25T19:14:28.543546",
     "exception": false,
     "start_time": "2023-03-25T19:14:28.496694",
     "status": "completed"
    },
    "tags": []
   },
   "outputs": [
    {
     "data": {
      "text/html": [
       "<div>\n",
       "<style scoped>\n",
       "    .dataframe tbody tr th:only-of-type {\n",
       "        vertical-align: middle;\n",
       "    }\n",
       "\n",
       "    .dataframe tbody tr th {\n",
       "        vertical-align: top;\n",
       "    }\n",
       "\n",
       "    .dataframe thead th {\n",
       "        text-align: right;\n",
       "    }\n",
       "</style>\n",
       "<table border=\"1\" class=\"dataframe\">\n",
       "  <thead>\n",
       "    <tr style=\"text-align: right;\">\n",
       "      <th></th>\n",
       "      <th>Front Tread</th>\n",
       "      <th>Rear Tread</th>\n",
       "    </tr>\n",
       "    <tr>\n",
       "      <th>usedCarSkuId</th>\n",
       "      <th></th>\n",
       "      <th></th>\n",
       "    </tr>\n",
       "  </thead>\n",
       "  <tbody>\n",
       "    <tr>\n",
       "      <th>5201d23f-fa0e-4055-a7e8-5ac8b1611cdd</th>\n",
       "      <td>1386.000</td>\n",
       "      <td>1368.000</td>\n",
       "    </tr>\n",
       "    <tr>\n",
       "      <th>ec8be169-0f9e-4687-84eb-cf5b46f8d071</th>\n",
       "      <td>1495.000</td>\n",
       "      <td>1505.000</td>\n",
       "    </tr>\n",
       "    <tr>\n",
       "      <th>1967609e-5086-48e9-8ff5-b1253457a80b</th>\n",
       "      <td>1480.000</td>\n",
       "      <td>1465.000</td>\n",
       "    </tr>\n",
       "    <tr>\n",
       "      <th>5c89465a-5c22-47aa-87bc-5e1cc945ca87</th>\n",
       "      <td>1485.000</td>\n",
       "      <td>1495.000</td>\n",
       "    </tr>\n",
       "    <tr>\n",
       "      <th>b99d21fd-9fe1-4e3e-ae12-df0330aea5a3</th>\n",
       "      <td>1400.000</td>\n",
       "      <td>1385.000</td>\n",
       "    </tr>\n",
       "  </tbody>\n",
       "</table>\n",
       "</div>"
      ],
      "text/plain": [
       "                                      Front Tread  Rear Tread\n",
       "usedCarSkuId                                                 \n",
       "5201d23f-fa0e-4055-a7e8-5ac8b1611cdd     1386.000    1368.000\n",
       "ec8be169-0f9e-4687-84eb-cf5b46f8d071     1495.000    1505.000\n",
       "1967609e-5086-48e9-8ff5-b1253457a80b     1480.000    1465.000\n",
       "5c89465a-5c22-47aa-87bc-5e1cc945ca87     1485.000    1495.000\n",
       "b99d21fd-9fe1-4e3e-ae12-df0330aea5a3     1400.000    1385.000"
      ]
     },
     "execution_count": 58,
     "metadata": {},
     "output_type": "execute_result"
    }
   ],
   "source": [
    "cars_df2[['Front Tread', 'Rear Tread']].sample(5)"
   ]
  },
  {
   "cell_type": "markdown",
   "id": "3ba0820b",
   "metadata": {
    "papermill": {
     "duration": 0.031135,
     "end_time": "2023-03-25T19:14:28.607520",
     "exception": false,
     "start_time": "2023-03-25T19:14:28.576385",
     "status": "completed"
    },
    "tags": []
   },
   "source": [
    "---\n",
    "\n",
    "#### `Kerb Weight` and `Gross Weight` \n",
    "\n",
    "Convert weights to numerical features"
   ]
  },
  {
   "cell_type": "code",
   "execution_count": 59,
   "id": "fbddc62b",
   "metadata": {
    "execution": {
     "iopub.execute_input": "2023-03-25T19:14:28.671259Z",
     "iopub.status.busy": "2023-03-25T19:14:28.670880Z",
     "iopub.status.idle": "2023-03-25T19:14:28.683910Z",
     "shell.execute_reply": "2023-03-25T19:14:28.682956Z"
    },
    "papermill": {
     "duration": 0.047088,
     "end_time": "2023-03-25T19:14:28.685910",
     "exception": false,
     "start_time": "2023-03-25T19:14:28.638822",
     "status": "completed"
    },
    "tags": []
   },
   "outputs": [
    {
     "data": {
      "text/html": [
       "<div>\n",
       "<style scoped>\n",
       "    .dataframe tbody tr th:only-of-type {\n",
       "        vertical-align: middle;\n",
       "    }\n",
       "\n",
       "    .dataframe tbody tr th {\n",
       "        vertical-align: top;\n",
       "    }\n",
       "\n",
       "    .dataframe thead th {\n",
       "        text-align: right;\n",
       "    }\n",
       "</style>\n",
       "<table border=\"1\" class=\"dataframe\">\n",
       "  <thead>\n",
       "    <tr style=\"text-align: right;\">\n",
       "      <th></th>\n",
       "      <th>Kerb Weight</th>\n",
       "      <th>Gross Weight</th>\n",
       "    </tr>\n",
       "    <tr>\n",
       "      <th>usedCarSkuId</th>\n",
       "      <th></th>\n",
       "      <th></th>\n",
       "    </tr>\n",
       "  </thead>\n",
       "  <tbody>\n",
       "    <tr>\n",
       "      <th>b8dffd90-9217-4578-805c-38d4f169d35d</th>\n",
       "      <td>nan</td>\n",
       "      <td>nan</td>\n",
       "    </tr>\n",
       "    <tr>\n",
       "      <th>6ea6d288-b0f0-47b1-a40d-6415420952b5</th>\n",
       "      <td>1030kg</td>\n",
       "      <td>nan</td>\n",
       "    </tr>\n",
       "    <tr>\n",
       "      <th>08d301cf-b63e-457a-96a7-5595ecbec007</th>\n",
       "      <td>1641 kgs</td>\n",
       "      <td>nan</td>\n",
       "    </tr>\n",
       "    <tr>\n",
       "      <th>607e3330-a82c-4a58-8f4f-704a85539c5a</th>\n",
       "      <td>960kg</td>\n",
       "      <td>1405kg</td>\n",
       "    </tr>\n",
       "    <tr>\n",
       "      <th>6269f2ac-5ba1-4704-844e-60a32cffff41</th>\n",
       "      <td>1161kg</td>\n",
       "      <td>nan</td>\n",
       "    </tr>\n",
       "    <tr>\n",
       "      <th>6f5dc61d-f743-4b9e-b1bb-aed83d351f62</th>\n",
       "      <td>1329kg</td>\n",
       "      <td>1640kg</td>\n",
       "    </tr>\n",
       "    <tr>\n",
       "      <th>481d91b2-1278-4acc-b31d-3689795ecfab</th>\n",
       "      <td>nan</td>\n",
       "      <td>nan</td>\n",
       "    </tr>\n",
       "    <tr>\n",
       "      <th>7ed3e762-a245-4f31-97b8-ab9e674bc778</th>\n",
       "      <td>1061kg</td>\n",
       "      <td>1436kg</td>\n",
       "    </tr>\n",
       "    <tr>\n",
       "      <th>8fb127a6-9d95-456a-a6e0-288d2fb7ec8f</th>\n",
       "      <td>1675kg</td>\n",
       "      <td>2220kg</td>\n",
       "    </tr>\n",
       "    <tr>\n",
       "      <th>73651eb5-3f01-41bf-80ce-d2a601446664</th>\n",
       "      <td>947kg</td>\n",
       "      <td>nan</td>\n",
       "    </tr>\n",
       "  </tbody>\n",
       "</table>\n",
       "</div>"
      ],
      "text/plain": [
       "                                     Kerb Weight Gross Weight\n",
       "usedCarSkuId                                                 \n",
       "b8dffd90-9217-4578-805c-38d4f169d35d         nan          nan\n",
       "6ea6d288-b0f0-47b1-a40d-6415420952b5      1030kg          nan\n",
       "08d301cf-b63e-457a-96a7-5595ecbec007    1641 kgs          nan\n",
       "607e3330-a82c-4a58-8f4f-704a85539c5a       960kg       1405kg\n",
       "6269f2ac-5ba1-4704-844e-60a32cffff41      1161kg          nan\n",
       "6f5dc61d-f743-4b9e-b1bb-aed83d351f62      1329kg       1640kg\n",
       "481d91b2-1278-4acc-b31d-3689795ecfab         nan          nan\n",
       "7ed3e762-a245-4f31-97b8-ab9e674bc778      1061kg       1436kg\n",
       "8fb127a6-9d95-456a-a6e0-288d2fb7ec8f      1675kg       2220kg\n",
       "73651eb5-3f01-41bf-80ce-d2a601446664       947kg          nan"
      ]
     },
     "execution_count": 59,
     "metadata": {},
     "output_type": "execute_result"
    }
   ],
   "source": [
    "cars_df2[['Kerb Weight', 'Gross Weight']].sample(10)"
   ]
  },
  {
   "cell_type": "code",
   "execution_count": 60,
   "id": "0dd2a62d",
   "metadata": {
    "execution": {
     "iopub.execute_input": "2023-03-25T19:14:28.751601Z",
     "iopub.status.busy": "2023-03-25T19:14:28.750746Z",
     "iopub.status.idle": "2023-03-25T19:14:28.883746Z",
     "shell.execute_reply": "2023-03-25T19:14:28.882221Z"
    },
    "papermill": {
     "duration": 0.16844,
     "end_time": "2023-03-25T19:14:28.886380",
     "exception": false,
     "start_time": "2023-03-25T19:14:28.717940",
     "status": "completed"
    },
    "tags": []
   },
   "outputs": [],
   "source": [
    "for col in ['Kerb Weight', 'Gross Weight']:\n",
    "    cars_df2[col] = cars_df2[col].apply(get_begin_number).astype(float)"
   ]
  },
  {
   "cell_type": "code",
   "execution_count": 61,
   "id": "b11cc5dc",
   "metadata": {
    "execution": {
     "iopub.execute_input": "2023-03-25T19:14:28.956946Z",
     "iopub.status.busy": "2023-03-25T19:14:28.956578Z",
     "iopub.status.idle": "2023-03-25T19:14:28.968454Z",
     "shell.execute_reply": "2023-03-25T19:14:28.967547Z"
    },
    "papermill": {
     "duration": 0.049927,
     "end_time": "2023-03-25T19:14:28.970331",
     "exception": false,
     "start_time": "2023-03-25T19:14:28.920404",
     "status": "completed"
    },
    "tags": []
   },
   "outputs": [
    {
     "data": {
      "text/html": [
       "<div>\n",
       "<style scoped>\n",
       "    .dataframe tbody tr th:only-of-type {\n",
       "        vertical-align: middle;\n",
       "    }\n",
       "\n",
       "    .dataframe tbody tr th {\n",
       "        vertical-align: top;\n",
       "    }\n",
       "\n",
       "    .dataframe thead th {\n",
       "        text-align: right;\n",
       "    }\n",
       "</style>\n",
       "<table border=\"1\" class=\"dataframe\">\n",
       "  <thead>\n",
       "    <tr style=\"text-align: right;\">\n",
       "      <th></th>\n",
       "      <th>Kerb Weight</th>\n",
       "      <th>Gross Weight</th>\n",
       "    </tr>\n",
       "    <tr>\n",
       "      <th>usedCarSkuId</th>\n",
       "      <th></th>\n",
       "      <th></th>\n",
       "    </tr>\n",
       "  </thead>\n",
       "  <tbody>\n",
       "    <tr>\n",
       "      <th>aa5fd2af-8646-4a03-9528-3b3c21305043</th>\n",
       "      <td>1879.000</td>\n",
       "      <td>NaN</td>\n",
       "    </tr>\n",
       "    <tr>\n",
       "      <th>0e4e09f2-ba58-4cc1-8779-80f3763a7c9c</th>\n",
       "      <td>NaN</td>\n",
       "      <td>NaN</td>\n",
       "    </tr>\n",
       "    <tr>\n",
       "      <th>d00d856c-7d97-4a69-99a3-1fe8c0e12ff1</th>\n",
       "      <td>NaN</td>\n",
       "      <td>NaN</td>\n",
       "    </tr>\n",
       "    <tr>\n",
       "      <th>2e45d982-4bdf-4d13-b273-4ac751b1bb54</th>\n",
       "      <td>NaN</td>\n",
       "      <td>NaN</td>\n",
       "    </tr>\n",
       "    <tr>\n",
       "      <th>f96dcf5c-efb6-4a60-b411-862d3cdd156b</th>\n",
       "      <td>NaN</td>\n",
       "      <td>NaN</td>\n",
       "    </tr>\n",
       "    <tr>\n",
       "      <th>fdccd770-860c-4419-8036-5624c6043556</th>\n",
       "      <td>NaN</td>\n",
       "      <td>NaN</td>\n",
       "    </tr>\n",
       "    <tr>\n",
       "      <th>d10ade31-8ffb-442d-84ff-d0629e70216c</th>\n",
       "      <td>1055.000</td>\n",
       "      <td>1505.000</td>\n",
       "    </tr>\n",
       "    <tr>\n",
       "      <th>1b0f78bd-1c81-4e2f-ab12-2269943d2c33</th>\n",
       "      <td>885.000</td>\n",
       "      <td>1350.000</td>\n",
       "    </tr>\n",
       "    <tr>\n",
       "      <th>cf7f63ee-e6e0-407f-81ac-edacb1d7b93f</th>\n",
       "      <td>1562.000</td>\n",
       "      <td>NaN</td>\n",
       "    </tr>\n",
       "    <tr>\n",
       "      <th>d4f6ec55-d4f2-4c05-9fe0-2460291c0bc7</th>\n",
       "      <td>NaN</td>\n",
       "      <td>NaN</td>\n",
       "    </tr>\n",
       "  </tbody>\n",
       "</table>\n",
       "</div>"
      ],
      "text/plain": [
       "                                      Kerb Weight  Gross Weight\n",
       "usedCarSkuId                                                   \n",
       "aa5fd2af-8646-4a03-9528-3b3c21305043     1879.000           NaN\n",
       "0e4e09f2-ba58-4cc1-8779-80f3763a7c9c          NaN           NaN\n",
       "d00d856c-7d97-4a69-99a3-1fe8c0e12ff1          NaN           NaN\n",
       "2e45d982-4bdf-4d13-b273-4ac751b1bb54          NaN           NaN\n",
       "f96dcf5c-efb6-4a60-b411-862d3cdd156b          NaN           NaN\n",
       "fdccd770-860c-4419-8036-5624c6043556          NaN           NaN\n",
       "d10ade31-8ffb-442d-84ff-d0629e70216c     1055.000      1505.000\n",
       "1b0f78bd-1c81-4e2f-ab12-2269943d2c33      885.000      1350.000\n",
       "cf7f63ee-e6e0-407f-81ac-edacb1d7b93f     1562.000           NaN\n",
       "d4f6ec55-d4f2-4c05-9fe0-2460291c0bc7          NaN           NaN"
      ]
     },
     "execution_count": 61,
     "metadata": {},
     "output_type": "execute_result"
    }
   ],
   "source": [
    "cars_df2[['Kerb Weight', 'Gross Weight']].sample(10)"
   ]
  },
  {
   "cell_type": "markdown",
   "id": "92ee78f1",
   "metadata": {
    "papermill": {
     "duration": 0.031879,
     "end_time": "2023-03-25T19:14:29.041531",
     "exception": false,
     "start_time": "2023-03-25T19:14:29.009652",
     "status": "completed"
    },
    "tags": []
   },
   "source": [
    "---\n",
    "\n",
    "#### `Turning Radius`,"
   ]
  },
  {
   "cell_type": "code",
   "execution_count": 62,
   "id": "964bbf79",
   "metadata": {
    "execution": {
     "iopub.execute_input": "2023-03-25T19:14:29.109255Z",
     "iopub.status.busy": "2023-03-25T19:14:29.108909Z",
     "iopub.status.idle": "2023-03-25T19:14:29.116135Z",
     "shell.execute_reply": "2023-03-25T19:14:29.115469Z"
    },
    "papermill": {
     "duration": 0.04472,
     "end_time": "2023-03-25T19:14:29.118391",
     "exception": false,
     "start_time": "2023-03-25T19:14:29.073671",
     "status": "completed"
    },
    "tags": []
   },
   "outputs": [
    {
     "data": {
      "text/plain": [
       "usedCarSkuId\n",
       "23167941-b330-4093-b900-0f21073f9f09    4.7 metres\n",
       "d18d9ee3-0bfe-49eb-8e8e-10cd43902bd9    4.7 metres\n",
       "8515382f-c6d0-43e1-b4b5-9f5aedc7c615    4.6 metres\n",
       "d2276422-3412-408a-90e9-dba2c8bf9451    5.5 meters\n",
       "d9ccea00-9fcc-423f-8739-b037faf9c92e           nan\n",
       "8b0b58e5-2e4b-40e4-889c-17b05230e6e0         5.3 m\n",
       "7a54e19a-c3fa-4b8d-b92c-3a77053a0116           5.3\n",
       "4ad7e9d3-f0af-4639-8820-cdedc2061bed    4.8 metres\n",
       "5e693a1e-ea1a-4e4a-9711-4262be7e91af           nan\n",
       "8d4a5b2f-9bea-4eee-80c1-3ebb4c7069d6           nan\n",
       "Name: Turning Radius, dtype: object"
      ]
     },
     "execution_count": 62,
     "metadata": {},
     "output_type": "execute_result"
    }
   ],
   "source": [
    "cars_df2['Turning Radius'].sample(10)"
   ]
  },
  {
   "cell_type": "code",
   "execution_count": 63,
   "id": "c2ae1d60",
   "metadata": {
    "execution": {
     "iopub.execute_input": "2023-03-25T19:14:29.185740Z",
     "iopub.status.busy": "2023-03-25T19:14:29.185378Z",
     "iopub.status.idle": "2023-03-25T19:14:29.260166Z",
     "shell.execute_reply": "2023-03-25T19:14:29.258707Z"
    },
    "papermill": {
     "duration": 0.11183,
     "end_time": "2023-03-25T19:14:29.262865",
     "exception": false,
     "start_time": "2023-03-25T19:14:29.151035",
     "status": "completed"
    },
    "tags": []
   },
   "outputs": [],
   "source": [
    "cars_df2['Turning Radius'] = cars_df2['Turning Radius'].apply(get_begin_float).astype(float)"
   ]
  },
  {
   "cell_type": "code",
   "execution_count": 64,
   "id": "d6ca524b",
   "metadata": {
    "execution": {
     "iopub.execute_input": "2023-03-25T19:14:29.330641Z",
     "iopub.status.busy": "2023-03-25T19:14:29.330273Z",
     "iopub.status.idle": "2023-03-25T19:14:29.338286Z",
     "shell.execute_reply": "2023-03-25T19:14:29.337416Z"
    },
    "papermill": {
     "duration": 0.043645,
     "end_time": "2023-03-25T19:14:29.340097",
     "exception": false,
     "start_time": "2023-03-25T19:14:29.296452",
     "status": "completed"
    },
    "tags": []
   },
   "outputs": [
    {
     "data": {
      "text/plain": [
       "usedCarSkuId\n",
       "feb3f66a-750f-4c2f-9e2d-310bb6ce5d53   4.600\n",
       "d1db18c2-8d5c-48fa-96e2-9625f7606d44   4.600\n",
       "9b9012be-6968-42e6-a8ef-d4c6fe4495ea   4.600\n",
       "89679497-32ac-4db0-a25b-c85aca412b3e   4.400\n",
       "99a6cbcf-10f3-46dc-9491-f68b1067b2d8   5.100\n",
       "Name: Turning Radius, dtype: float64"
      ]
     },
     "execution_count": 64,
     "metadata": {},
     "output_type": "execute_result"
    }
   ],
   "source": [
    "cars_df2['Turning Radius'].sample(5)"
   ]
  },
  {
   "cell_type": "markdown",
   "id": "bc560ae7",
   "metadata": {
    "papermill": {
     "duration": 0.031229,
     "end_time": "2023-03-25T19:14:29.402961",
     "exception": false,
     "start_time": "2023-03-25T19:14:29.371732",
     "status": "completed"
    },
    "tags": []
   },
   "source": [
    "---\n",
    "\n",
    "#### `Top Speed` and `Acceleration`"
   ]
  },
  {
   "cell_type": "code",
   "execution_count": 65,
   "id": "58224fb3",
   "metadata": {
    "execution": {
     "iopub.execute_input": "2023-03-25T19:14:29.469238Z",
     "iopub.status.busy": "2023-03-25T19:14:29.468890Z",
     "iopub.status.idle": "2023-03-25T19:14:29.483637Z",
     "shell.execute_reply": "2023-03-25T19:14:29.482689Z"
    },
    "papermill": {
     "duration": 0.051174,
     "end_time": "2023-03-25T19:14:29.485529",
     "exception": false,
     "start_time": "2023-03-25T19:14:29.434355",
     "status": "completed"
    },
    "tags": []
   },
   "outputs": [
    {
     "data": {
      "text/html": [
       "<div>\n",
       "<style scoped>\n",
       "    .dataframe tbody tr th:only-of-type {\n",
       "        vertical-align: middle;\n",
       "    }\n",
       "\n",
       "    .dataframe tbody tr th {\n",
       "        vertical-align: top;\n",
       "    }\n",
       "\n",
       "    .dataframe thead th {\n",
       "        text-align: right;\n",
       "    }\n",
       "</style>\n",
       "<table border=\"1\" class=\"dataframe\">\n",
       "  <thead>\n",
       "    <tr style=\"text-align: right;\">\n",
       "      <th></th>\n",
       "      <th>Top Speed</th>\n",
       "      <th>Acceleration</th>\n",
       "    </tr>\n",
       "    <tr>\n",
       "      <th>usedCarSkuId</th>\n",
       "      <th></th>\n",
       "      <th></th>\n",
       "    </tr>\n",
       "  </thead>\n",
       "  <tbody>\n",
       "    <tr>\n",
       "      <th>f29534c2-95dc-4185-a684-89ab0da4d831</th>\n",
       "      <td>nan</td>\n",
       "      <td>17.7</td>\n",
       "    </tr>\n",
       "    <tr>\n",
       "      <th>5cf54683-4414-4b9e-91cf-d4a67804c231</th>\n",
       "      <td>200 kmph</td>\n",
       "      <td>10.1 seconds</td>\n",
       "    </tr>\n",
       "    <tr>\n",
       "      <th>8d0ac584-6fb2-4c7b-8a3d-78cd5760434f</th>\n",
       "      <td>nan</td>\n",
       "      <td>nan</td>\n",
       "    </tr>\n",
       "    <tr>\n",
       "      <th>9dae0876-d3da-4553-ac32-c4cf20f539a9</th>\n",
       "      <td>151.63 kmph</td>\n",
       "      <td>13.21 seconds</td>\n",
       "    </tr>\n",
       "    <tr>\n",
       "      <th>a779e910-5a14-4809-8481-917bf00a380c</th>\n",
       "      <td>186km/hr</td>\n",
       "      <td>nan</td>\n",
       "    </tr>\n",
       "    <tr>\n",
       "      <th>b118f959-b05b-4aec-9eda-7aed95f9998f</th>\n",
       "      <td>160 kmph</td>\n",
       "      <td>15 seconds</td>\n",
       "    </tr>\n",
       "    <tr>\n",
       "      <th>ed743820-789f-40ec-a381-8faccf04232f</th>\n",
       "      <td>200 kmph</td>\n",
       "      <td>10.1 seconds</td>\n",
       "    </tr>\n",
       "    <tr>\n",
       "      <th>4e8cef51-d25e-405c-aec1-7b89100db93a</th>\n",
       "      <td>nan</td>\n",
       "      <td>nan</td>\n",
       "    </tr>\n",
       "    <tr>\n",
       "      <th>253e5292-9e82-4cdb-a517-93109b595fcd</th>\n",
       "      <td>nan</td>\n",
       "      <td>nan</td>\n",
       "    </tr>\n",
       "    <tr>\n",
       "      <th>90e86e96-d51a-44bd-b494-24a137ce43ad</th>\n",
       "      <td>130 kmph</td>\n",
       "      <td>16.26 seconds</td>\n",
       "    </tr>\n",
       "  </tbody>\n",
       "</table>\n",
       "</div>"
      ],
      "text/plain": [
       "                                        Top Speed   Acceleration\n",
       "usedCarSkuId                                                    \n",
       "f29534c2-95dc-4185-a684-89ab0da4d831          nan           17.7\n",
       "5cf54683-4414-4b9e-91cf-d4a67804c231     200 kmph   10.1 seconds\n",
       "8d0ac584-6fb2-4c7b-8a3d-78cd5760434f          nan            nan\n",
       "9dae0876-d3da-4553-ac32-c4cf20f539a9  151.63 kmph  13.21 seconds\n",
       "a779e910-5a14-4809-8481-917bf00a380c     186km/hr            nan\n",
       "b118f959-b05b-4aec-9eda-7aed95f9998f     160 kmph     15 seconds\n",
       "ed743820-789f-40ec-a381-8faccf04232f     200 kmph   10.1 seconds\n",
       "4e8cef51-d25e-405c-aec1-7b89100db93a          nan            nan\n",
       "253e5292-9e82-4cdb-a517-93109b595fcd          nan            nan\n",
       "90e86e96-d51a-44bd-b494-24a137ce43ad     130 kmph  16.26 seconds"
      ]
     },
     "execution_count": 65,
     "metadata": {},
     "output_type": "execute_result"
    }
   ],
   "source": [
    "cars_df2[['Top Speed', 'Acceleration']].sample(10)"
   ]
  },
  {
   "cell_type": "code",
   "execution_count": 66,
   "id": "67974654",
   "metadata": {
    "execution": {
     "iopub.execute_input": "2023-03-25T19:14:29.551771Z",
     "iopub.status.busy": "2023-03-25T19:14:29.551426Z",
     "iopub.status.idle": "2023-03-25T19:14:29.681985Z",
     "shell.execute_reply": "2023-03-25T19:14:29.680868Z"
    },
    "papermill": {
     "duration": 0.166983,
     "end_time": "2023-03-25T19:14:29.684648",
     "exception": false,
     "start_time": "2023-03-25T19:14:29.517665",
     "status": "completed"
    },
    "tags": []
   },
   "outputs": [],
   "source": [
    "cars_df2['Top Speed'] = cars_df2['Top Speed'].apply(get_begin_float).astype(float)\n",
    "cars_df2['Acceleration'] = cars_df2['Acceleration'].apply(get_begin_float).astype(float)"
   ]
  },
  {
   "cell_type": "code",
   "execution_count": 67,
   "id": "b347f2bd",
   "metadata": {
    "execution": {
     "iopub.execute_input": "2023-03-25T19:14:29.770731Z",
     "iopub.status.busy": "2023-03-25T19:14:29.770099Z",
     "iopub.status.idle": "2023-03-25T19:14:29.790283Z",
     "shell.execute_reply": "2023-03-25T19:14:29.789126Z"
    },
    "papermill": {
     "duration": 0.075602,
     "end_time": "2023-03-25T19:14:29.793567",
     "exception": false,
     "start_time": "2023-03-25T19:14:29.717965",
     "status": "completed"
    },
    "tags": []
   },
   "outputs": [
    {
     "data": {
      "text/html": [
       "<div>\n",
       "<style scoped>\n",
       "    .dataframe tbody tr th:only-of-type {\n",
       "        vertical-align: middle;\n",
       "    }\n",
       "\n",
       "    .dataframe tbody tr th {\n",
       "        vertical-align: top;\n",
       "    }\n",
       "\n",
       "    .dataframe thead th {\n",
       "        text-align: right;\n",
       "    }\n",
       "</style>\n",
       "<table border=\"1\" class=\"dataframe\">\n",
       "  <thead>\n",
       "    <tr style=\"text-align: right;\">\n",
       "      <th></th>\n",
       "      <th>Top Speed</th>\n",
       "      <th>Acceleration</th>\n",
       "    </tr>\n",
       "    <tr>\n",
       "      <th>usedCarSkuId</th>\n",
       "      <th></th>\n",
       "      <th></th>\n",
       "    </tr>\n",
       "  </thead>\n",
       "  <tbody>\n",
       "    <tr>\n",
       "      <th>babafaf2-e5bf-4e01-9afb-c280b866f09e</th>\n",
       "      <td>NaN</td>\n",
       "      <td>12.600</td>\n",
       "    </tr>\n",
       "    <tr>\n",
       "      <th>2222b43b-7922-4c4f-900f-9dc7fb072eb4</th>\n",
       "      <td>148.000</td>\n",
       "      <td>14.800</td>\n",
       "    </tr>\n",
       "    <tr>\n",
       "      <th>82f79801-f348-4fd5-96b9-3d1ee1164c8c</th>\n",
       "      <td>172.000</td>\n",
       "      <td>13.700</td>\n",
       "    </tr>\n",
       "    <tr>\n",
       "      <th>bdeab2ce-3605-4750-8d28-7ec878a3e53f</th>\n",
       "      <td>NaN</td>\n",
       "      <td>NaN</td>\n",
       "    </tr>\n",
       "    <tr>\n",
       "      <th>41c852bd-f5c3-40c5-9859-9e99402332b7</th>\n",
       "      <td>NaN</td>\n",
       "      <td>NaN</td>\n",
       "    </tr>\n",
       "    <tr>\n",
       "      <th>d61d29ef-3645-4db1-9cf0-f3fd5e63253b</th>\n",
       "      <td>195.000</td>\n",
       "      <td>10.000</td>\n",
       "    </tr>\n",
       "    <tr>\n",
       "      <th>a59985ac-7aee-4243-8da9-dde7f4dcfad1</th>\n",
       "      <td>NaN</td>\n",
       "      <td>NaN</td>\n",
       "    </tr>\n",
       "    <tr>\n",
       "      <th>3444b704-ded7-4bc7-90ee-7217d9d9a667</th>\n",
       "      <td>NaN</td>\n",
       "      <td>10.030</td>\n",
       "    </tr>\n",
       "    <tr>\n",
       "      <th>392fd536-517e-41ce-b61c-91fd31e8f194</th>\n",
       "      <td>135.000</td>\n",
       "      <td>19.000</td>\n",
       "    </tr>\n",
       "    <tr>\n",
       "      <th>c8f52b4a-3604-4063-9450-9767be45e3c2</th>\n",
       "      <td>NaN</td>\n",
       "      <td>NaN</td>\n",
       "    </tr>\n",
       "  </tbody>\n",
       "</table>\n",
       "</div>"
      ],
      "text/plain": [
       "                                      Top Speed  Acceleration\n",
       "usedCarSkuId                                                 \n",
       "babafaf2-e5bf-4e01-9afb-c280b866f09e        NaN        12.600\n",
       "2222b43b-7922-4c4f-900f-9dc7fb072eb4    148.000        14.800\n",
       "82f79801-f348-4fd5-96b9-3d1ee1164c8c    172.000        13.700\n",
       "bdeab2ce-3605-4750-8d28-7ec878a3e53f        NaN           NaN\n",
       "41c852bd-f5c3-40c5-9859-9e99402332b7        NaN           NaN\n",
       "d61d29ef-3645-4db1-9cf0-f3fd5e63253b    195.000        10.000\n",
       "a59985ac-7aee-4243-8da9-dde7f4dcfad1        NaN           NaN\n",
       "3444b704-ded7-4bc7-90ee-7217d9d9a667        NaN        10.030\n",
       "392fd536-517e-41ce-b61c-91fd31e8f194    135.000        19.000\n",
       "c8f52b4a-3604-4063-9450-9767be45e3c2        NaN           NaN"
      ]
     },
     "execution_count": 67,
     "metadata": {},
     "output_type": "execute_result"
    }
   ],
   "source": [
    "cars_df2[['Top Speed', 'Acceleration']].sample(10)"
   ]
  },
  {
   "cell_type": "markdown",
   "id": "b8cf6bcb",
   "metadata": {
    "papermill": {
     "duration": 0.031936,
     "end_time": "2023-03-25T19:14:29.859656",
     "exception": false,
     "start_time": "2023-03-25T19:14:29.827720",
     "status": "completed"
    },
    "tags": []
   },
   "source": [
    "---\n",
    "\n",
    "#### `Cargo Volumn` and `Ground Clearance Unladen`\n",
    "\n",
    "Convert these columns to int"
   ]
  },
  {
   "cell_type": "code",
   "execution_count": 68,
   "id": "a614d5fe",
   "metadata": {
    "execution": {
     "iopub.execute_input": "2023-03-25T19:14:29.926286Z",
     "iopub.status.busy": "2023-03-25T19:14:29.925877Z",
     "iopub.status.idle": "2023-03-25T19:14:29.941738Z",
     "shell.execute_reply": "2023-03-25T19:14:29.940530Z"
    },
    "papermill": {
     "duration": 0.052812,
     "end_time": "2023-03-25T19:14:29.944546",
     "exception": false,
     "start_time": "2023-03-25T19:14:29.891734",
     "status": "completed"
    },
    "tags": []
   },
   "outputs": [
    {
     "data": {
      "text/html": [
       "<div>\n",
       "<style scoped>\n",
       "    .dataframe tbody tr th:only-of-type {\n",
       "        vertical-align: middle;\n",
       "    }\n",
       "\n",
       "    .dataframe tbody tr th {\n",
       "        vertical-align: top;\n",
       "    }\n",
       "\n",
       "    .dataframe thead th {\n",
       "        text-align: right;\n",
       "    }\n",
       "</style>\n",
       "<table border=\"1\" class=\"dataframe\">\n",
       "  <thead>\n",
       "    <tr style=\"text-align: right;\">\n",
       "      <th></th>\n",
       "      <th>Cargo Volumn</th>\n",
       "      <th>Ground Clearance Unladen</th>\n",
       "    </tr>\n",
       "    <tr>\n",
       "      <th>usedCarSkuId</th>\n",
       "      <th></th>\n",
       "      <th></th>\n",
       "    </tr>\n",
       "  </thead>\n",
       "  <tbody>\n",
       "    <tr>\n",
       "      <th>ef1abf32-b502-4e7e-8fba-70ab2ae97709</th>\n",
       "      <td>nan</td>\n",
       "      <td>nan</td>\n",
       "    </tr>\n",
       "    <tr>\n",
       "      <th>34bd5fa3-da7d-44f4-87bd-83419b8313d1</th>\n",
       "      <td>433</td>\n",
       "      <td>nan</td>\n",
       "    </tr>\n",
       "    <tr>\n",
       "      <th>36b2c3ad-4609-4a76-a169-0f4f2b1042b4</th>\n",
       "      <td>nan</td>\n",
       "      <td>nan</td>\n",
       "    </tr>\n",
       "    <tr>\n",
       "      <th>9e64f708-7845-4653-be89-e5ba5bf519bb</th>\n",
       "      <td>475-litre</td>\n",
       "      <td>nan</td>\n",
       "    </tr>\n",
       "    <tr>\n",
       "      <th>145bbd59-1cc7-483b-a8cf-9fbeaa96a6d7</th>\n",
       "      <td>223-litres</td>\n",
       "      <td>nan</td>\n",
       "    </tr>\n",
       "    <tr>\n",
       "      <th>35c31acd-cd20-480f-929e-9d60c2bab9bf</th>\n",
       "      <td>400-litres</td>\n",
       "      <td>nan</td>\n",
       "    </tr>\n",
       "    <tr>\n",
       "      <th>f264abae-e6d2-4ffc-9d37-952df672b23e</th>\n",
       "      <td>236-liters</td>\n",
       "      <td>nan</td>\n",
       "    </tr>\n",
       "    <tr>\n",
       "      <th>42c0ce21-c74f-4b6a-8407-d41e2c872633</th>\n",
       "      <td>425</td>\n",
       "      <td>nan</td>\n",
       "    </tr>\n",
       "    <tr>\n",
       "      <th>daa197cf-cba5-493d-ab8f-484470fb7452</th>\n",
       "      <td>175-litres</td>\n",
       "      <td>nan</td>\n",
       "    </tr>\n",
       "    <tr>\n",
       "      <th>686ec27a-2084-47c4-a7e1-533859adf2c5</th>\n",
       "      <td>520-litres</td>\n",
       "      <td>nan</td>\n",
       "    </tr>\n",
       "  </tbody>\n",
       "</table>\n",
       "</div>"
      ],
      "text/plain": [
       "                                     Cargo Volumn Ground Clearance Unladen\n",
       "usedCarSkuId                                                              \n",
       "ef1abf32-b502-4e7e-8fba-70ab2ae97709          nan                      nan\n",
       "34bd5fa3-da7d-44f4-87bd-83419b8313d1          433                      nan\n",
       "36b2c3ad-4609-4a76-a169-0f4f2b1042b4          nan                      nan\n",
       "9e64f708-7845-4653-be89-e5ba5bf519bb    475-litre                      nan\n",
       "145bbd59-1cc7-483b-a8cf-9fbeaa96a6d7   223-litres                      nan\n",
       "35c31acd-cd20-480f-929e-9d60c2bab9bf   400-litres                      nan\n",
       "f264abae-e6d2-4ffc-9d37-952df672b23e   236-liters                      nan\n",
       "42c0ce21-c74f-4b6a-8407-d41e2c872633          425                      nan\n",
       "daa197cf-cba5-493d-ab8f-484470fb7452   175-litres                      nan\n",
       "686ec27a-2084-47c4-a7e1-533859adf2c5   520-litres                      nan"
      ]
     },
     "execution_count": 68,
     "metadata": {},
     "output_type": "execute_result"
    }
   ],
   "source": [
    "cars_df2[['Cargo Volumn', 'Ground Clearance Unladen']].sample(10)"
   ]
  },
  {
   "cell_type": "code",
   "execution_count": 69,
   "id": "1801ea7d",
   "metadata": {
    "execution": {
     "iopub.execute_input": "2023-03-25T19:14:30.014111Z",
     "iopub.status.busy": "2023-03-25T19:14:30.013724Z",
     "iopub.status.idle": "2023-03-25T19:14:30.131704Z",
     "shell.execute_reply": "2023-03-25T19:14:30.130108Z"
    },
    "papermill": {
     "duration": 0.156045,
     "end_time": "2023-03-25T19:14:30.134543",
     "exception": false,
     "start_time": "2023-03-25T19:14:29.978498",
     "status": "completed"
    },
    "tags": []
   },
   "outputs": [],
   "source": [
    "for col in ['Cargo Volumn', 'Ground Clearance Unladen']:\n",
    "    cars_df2[col] = cars_df2[col].apply(get_begin_number).astype(float)"
   ]
  },
  {
   "cell_type": "code",
   "execution_count": 70,
   "id": "d6ca3d71",
   "metadata": {
    "execution": {
     "iopub.execute_input": "2023-03-25T19:14:30.203943Z",
     "iopub.status.busy": "2023-03-25T19:14:30.203574Z",
     "iopub.status.idle": "2023-03-25T19:14:30.216282Z",
     "shell.execute_reply": "2023-03-25T19:14:30.215093Z"
    },
    "papermill": {
     "duration": 0.049968,
     "end_time": "2023-03-25T19:14:30.218750",
     "exception": false,
     "start_time": "2023-03-25T19:14:30.168782",
     "status": "completed"
    },
    "tags": []
   },
   "outputs": [
    {
     "data": {
      "text/html": [
       "<div>\n",
       "<style scoped>\n",
       "    .dataframe tbody tr th:only-of-type {\n",
       "        vertical-align: middle;\n",
       "    }\n",
       "\n",
       "    .dataframe tbody tr th {\n",
       "        vertical-align: top;\n",
       "    }\n",
       "\n",
       "    .dataframe thead th {\n",
       "        text-align: right;\n",
       "    }\n",
       "</style>\n",
       "<table border=\"1\" class=\"dataframe\">\n",
       "  <thead>\n",
       "    <tr style=\"text-align: right;\">\n",
       "      <th></th>\n",
       "      <th>Cargo Volumn</th>\n",
       "      <th>Ground Clearance Unladen</th>\n",
       "    </tr>\n",
       "    <tr>\n",
       "      <th>usedCarSkuId</th>\n",
       "      <th></th>\n",
       "      <th></th>\n",
       "    </tr>\n",
       "  </thead>\n",
       "  <tbody>\n",
       "    <tr>\n",
       "      <th>efb37b36-c0e8-4619-9895-1c9c6d0ae19e</th>\n",
       "      <td>350.000</td>\n",
       "      <td>190.000</td>\n",
       "    </tr>\n",
       "    <tr>\n",
       "      <th>615524ac-c484-4a1d-a068-894fe71d6d13</th>\n",
       "      <td>460.000</td>\n",
       "      <td>NaN</td>\n",
       "    </tr>\n",
       "    <tr>\n",
       "      <th>464c03f7-9087-41c9-ad54-4426e6036c6a</th>\n",
       "      <td>480.000</td>\n",
       "      <td>NaN</td>\n",
       "    </tr>\n",
       "    <tr>\n",
       "      <th>6cf432f0-8188-4bc2-a6bb-39399e7e4b20</th>\n",
       "      <td>510.000</td>\n",
       "      <td>NaN</td>\n",
       "    </tr>\n",
       "    <tr>\n",
       "      <th>2c6d559b-dcef-4fba-8d15-9d029b70ae71</th>\n",
       "      <td>275.000</td>\n",
       "      <td>NaN</td>\n",
       "    </tr>\n",
       "    <tr>\n",
       "      <th>50ec9936-abc4-484b-80a2-6843b687aeaf</th>\n",
       "      <td>475.000</td>\n",
       "      <td>NaN</td>\n",
       "    </tr>\n",
       "    <tr>\n",
       "      <th>f4870ce0-150c-4c22-8eb4-19ec9d4dc3fa</th>\n",
       "      <td>222.000</td>\n",
       "      <td>185.000</td>\n",
       "    </tr>\n",
       "    <tr>\n",
       "      <th>c92688c1-e28e-46cc-8da1-e28418e20e1d</th>\n",
       "      <td>155.000</td>\n",
       "      <td>192.000</td>\n",
       "    </tr>\n",
       "    <tr>\n",
       "      <th>36b782da-492d-489a-b087-bd32ee61c9d6</th>\n",
       "      <td>336.000</td>\n",
       "      <td>NaN</td>\n",
       "    </tr>\n",
       "    <tr>\n",
       "      <th>158ac2d6-bceb-4f57-8061-8c6aa8ffece9</th>\n",
       "      <td>235.000</td>\n",
       "      <td>NaN</td>\n",
       "    </tr>\n",
       "  </tbody>\n",
       "</table>\n",
       "</div>"
      ],
      "text/plain": [
       "                                      Cargo Volumn  Ground Clearance Unladen\n",
       "usedCarSkuId                                                                \n",
       "efb37b36-c0e8-4619-9895-1c9c6d0ae19e       350.000                   190.000\n",
       "615524ac-c484-4a1d-a068-894fe71d6d13       460.000                       NaN\n",
       "464c03f7-9087-41c9-ad54-4426e6036c6a       480.000                       NaN\n",
       "6cf432f0-8188-4bc2-a6bb-39399e7e4b20       510.000                       NaN\n",
       "2c6d559b-dcef-4fba-8d15-9d029b70ae71       275.000                       NaN\n",
       "50ec9936-abc4-484b-80a2-6843b687aeaf       475.000                       NaN\n",
       "f4870ce0-150c-4c22-8eb4-19ec9d4dc3fa       222.000                   185.000\n",
       "c92688c1-e28e-46cc-8da1-e28418e20e1d       155.000                   192.000\n",
       "36b782da-492d-489a-b087-bd32ee61c9d6       336.000                       NaN\n",
       "158ac2d6-bceb-4f57-8061-8c6aa8ffece9       235.000                       NaN"
      ]
     },
     "execution_count": 70,
     "metadata": {},
     "output_type": "execute_result"
    }
   ],
   "source": [
    "cars_df2[['Cargo Volumn', 'Ground Clearance Unladen']].sample(10)"
   ]
  },
  {
   "cell_type": "markdown",
   "id": "640d6a7a",
   "metadata": {
    "papermill": {
     "duration": 0.032609,
     "end_time": "2023-03-25T19:14:30.284967",
     "exception": false,
     "start_time": "2023-03-25T19:14:30.252358",
     "status": "completed"
    },
    "tags": []
   },
   "source": [
    "---\n",
    "\n",
    "#### `Compression Ratio` and `Alloy Wheel Size`\n",
    "\n",
    "These columns should be converted to floats"
   ]
  },
  {
   "cell_type": "code",
   "execution_count": 71,
   "id": "b7c47e67",
   "metadata": {
    "execution": {
     "iopub.execute_input": "2023-03-25T19:14:30.352399Z",
     "iopub.status.busy": "2023-03-25T19:14:30.352050Z",
     "iopub.status.idle": "2023-03-25T19:14:30.365721Z",
     "shell.execute_reply": "2023-03-25T19:14:30.364802Z"
    },
    "papermill": {
     "duration": 0.050582,
     "end_time": "2023-03-25T19:14:30.368139",
     "exception": false,
     "start_time": "2023-03-25T19:14:30.317557",
     "status": "completed"
    },
    "tags": []
   },
   "outputs": [
    {
     "data": {
      "text/html": [
       "<div>\n",
       "<style scoped>\n",
       "    .dataframe tbody tr th:only-of-type {\n",
       "        vertical-align: middle;\n",
       "    }\n",
       "\n",
       "    .dataframe tbody tr th {\n",
       "        vertical-align: top;\n",
       "    }\n",
       "\n",
       "    .dataframe thead th {\n",
       "        text-align: right;\n",
       "    }\n",
       "</style>\n",
       "<table border=\"1\" class=\"dataframe\">\n",
       "  <thead>\n",
       "    <tr style=\"text-align: right;\">\n",
       "      <th></th>\n",
       "      <th>Alloy Wheel Size</th>\n",
       "      <th>Compression Ratio</th>\n",
       "    </tr>\n",
       "    <tr>\n",
       "      <th>usedCarSkuId</th>\n",
       "      <th></th>\n",
       "      <th></th>\n",
       "    </tr>\n",
       "  </thead>\n",
       "  <tbody>\n",
       "    <tr>\n",
       "      <th>f2bf9aa0-e82e-4e96-badf-b8b1ddbdcfc5</th>\n",
       "      <td>15</td>\n",
       "      <td>10.1:1</td>\n",
       "    </tr>\n",
       "    <tr>\n",
       "      <th>1e63a2f2-beb9-4263-bf32-4b033bf55dd7</th>\n",
       "      <td>nan</td>\n",
       "      <td>NaN</td>\n",
       "    </tr>\n",
       "    <tr>\n",
       "      <th>f20ac7cd-3aa9-4025-8109-202e887410f4</th>\n",
       "      <td>14</td>\n",
       "      <td>NaN</td>\n",
       "    </tr>\n",
       "    <tr>\n",
       "      <th>615fbd73-f7f0-4f11-b1ba-e7041106988b</th>\n",
       "      <td>16</td>\n",
       "      <td>NaN</td>\n",
       "    </tr>\n",
       "    <tr>\n",
       "      <th>0e002f53-b2b5-4695-b8c4-27a263bb2d6c</th>\n",
       "      <td>15</td>\n",
       "      <td>16.5:1</td>\n",
       "    </tr>\n",
       "    <tr>\n",
       "      <th>4802e78b-3ae5-4df2-bb22-d1ebc4cf32d6</th>\n",
       "      <td>16</td>\n",
       "      <td>NaN</td>\n",
       "    </tr>\n",
       "    <tr>\n",
       "      <th>c4de34d3-e418-471e-80bb-3a93355ac53e</th>\n",
       "      <td>18</td>\n",
       "      <td>NaN</td>\n",
       "    </tr>\n",
       "    <tr>\n",
       "      <th>548de5a7-98cb-4063-bda4-9e6388ce8617</th>\n",
       "      <td>14</td>\n",
       "      <td>NaN</td>\n",
       "    </tr>\n",
       "    <tr>\n",
       "      <th>68830472-7586-4039-aaf8-ce5d8e5af095</th>\n",
       "      <td>nan</td>\n",
       "      <td>NaN</td>\n",
       "    </tr>\n",
       "    <tr>\n",
       "      <th>92e38480-ac97-4e5a-a27f-809f14ede584</th>\n",
       "      <td>nan</td>\n",
       "      <td>NaN</td>\n",
       "    </tr>\n",
       "  </tbody>\n",
       "</table>\n",
       "</div>"
      ],
      "text/plain": [
       "                                     Alloy Wheel Size Compression Ratio\n",
       "usedCarSkuId                                                           \n",
       "f2bf9aa0-e82e-4e96-badf-b8b1ddbdcfc5               15            10.1:1\n",
       "1e63a2f2-beb9-4263-bf32-4b033bf55dd7              nan               NaN\n",
       "f20ac7cd-3aa9-4025-8109-202e887410f4               14               NaN\n",
       "615fbd73-f7f0-4f11-b1ba-e7041106988b               16               NaN\n",
       "0e002f53-b2b5-4695-b8c4-27a263bb2d6c               15            16.5:1\n",
       "4802e78b-3ae5-4df2-bb22-d1ebc4cf32d6               16               NaN\n",
       "c4de34d3-e418-471e-80bb-3a93355ac53e               18               NaN\n",
       "548de5a7-98cb-4063-bda4-9e6388ce8617               14               NaN\n",
       "68830472-7586-4039-aaf8-ce5d8e5af095              nan               NaN\n",
       "92e38480-ac97-4e5a-a27f-809f14ede584              nan               NaN"
      ]
     },
     "execution_count": 71,
     "metadata": {},
     "output_type": "execute_result"
    }
   ],
   "source": [
    "cars_df2[['Alloy Wheel Size', 'Compression Ratio']].sample(10)"
   ]
  },
  {
   "cell_type": "code",
   "execution_count": 72,
   "id": "d46d30c5",
   "metadata": {
    "execution": {
     "iopub.execute_input": "2023-03-25T19:14:30.438331Z",
     "iopub.status.busy": "2023-03-25T19:14:30.437933Z",
     "iopub.status.idle": "2023-03-25T19:14:30.548740Z",
     "shell.execute_reply": "2023-03-25T19:14:30.547212Z"
    },
    "papermill": {
     "duration": 0.148958,
     "end_time": "2023-03-25T19:14:30.551261",
     "exception": false,
     "start_time": "2023-03-25T19:14:30.402303",
     "status": "completed"
    },
    "tags": []
   },
   "outputs": [],
   "source": [
    "for col in ['Alloy Wheel Size', 'Compression Ratio']:\n",
    "    cars_df2[col] = cars_df2[col].apply(get_begin_float).astype(float)"
   ]
  },
  {
   "cell_type": "code",
   "execution_count": 73,
   "id": "85059ab8",
   "metadata": {
    "execution": {
     "iopub.execute_input": "2023-03-25T19:14:30.618679Z",
     "iopub.status.busy": "2023-03-25T19:14:30.618274Z",
     "iopub.status.idle": "2023-03-25T19:14:30.631855Z",
     "shell.execute_reply": "2023-03-25T19:14:30.630399Z"
    },
    "papermill": {
     "duration": 0.050598,
     "end_time": "2023-03-25T19:14:30.634569",
     "exception": false,
     "start_time": "2023-03-25T19:14:30.583971",
     "status": "completed"
    },
    "tags": []
   },
   "outputs": [
    {
     "data": {
      "text/html": [
       "<div>\n",
       "<style scoped>\n",
       "    .dataframe tbody tr th:only-of-type {\n",
       "        vertical-align: middle;\n",
       "    }\n",
       "\n",
       "    .dataframe tbody tr th {\n",
       "        vertical-align: top;\n",
       "    }\n",
       "\n",
       "    .dataframe thead th {\n",
       "        text-align: right;\n",
       "    }\n",
       "</style>\n",
       "<table border=\"1\" class=\"dataframe\">\n",
       "  <thead>\n",
       "    <tr style=\"text-align: right;\">\n",
       "      <th></th>\n",
       "      <th>Alloy Wheel Size</th>\n",
       "      <th>Compression Ratio</th>\n",
       "    </tr>\n",
       "    <tr>\n",
       "      <th>usedCarSkuId</th>\n",
       "      <th></th>\n",
       "      <th></th>\n",
       "    </tr>\n",
       "  </thead>\n",
       "  <tbody>\n",
       "    <tr>\n",
       "      <th>68ca3291-f62f-439c-8334-b7d94da8627f</th>\n",
       "      <td>NaN</td>\n",
       "      <td>NaN</td>\n",
       "    </tr>\n",
       "    <tr>\n",
       "      <th>1b9c879d-b928-4f9d-bdb2-11ae5b86e756</th>\n",
       "      <td>16.000</td>\n",
       "      <td>NaN</td>\n",
       "    </tr>\n",
       "    <tr>\n",
       "      <th>f3a45aa9-4142-48d9-b719-fdfac7deb0be</th>\n",
       "      <td>NaN</td>\n",
       "      <td>NaN</td>\n",
       "    </tr>\n",
       "    <tr>\n",
       "      <th>3fed42b5-4954-4b55-a371-8a1be8c9e52e</th>\n",
       "      <td>14.000</td>\n",
       "      <td>NaN</td>\n",
       "    </tr>\n",
       "    <tr>\n",
       "      <th>105463cc-9ca6-44b7-aa87-ccfc5652a204</th>\n",
       "      <td>16.000</td>\n",
       "      <td>16.500</td>\n",
       "    </tr>\n",
       "    <tr>\n",
       "      <th>2724028f-40eb-4a45-8354-321fb2a8e503</th>\n",
       "      <td>16.000</td>\n",
       "      <td>NaN</td>\n",
       "    </tr>\n",
       "    <tr>\n",
       "      <th>74d9a080-5db7-417d-b8e5-3d7d14c6d004</th>\n",
       "      <td>NaN</td>\n",
       "      <td>NaN</td>\n",
       "    </tr>\n",
       "    <tr>\n",
       "      <th>81c61932-5495-4407-a2ab-bc0873b01c41</th>\n",
       "      <td>15.000</td>\n",
       "      <td>NaN</td>\n",
       "    </tr>\n",
       "    <tr>\n",
       "      <th>454a7037-00d8-4c33-81a0-0f25d410050a</th>\n",
       "      <td>NaN</td>\n",
       "      <td>11.000</td>\n",
       "    </tr>\n",
       "    <tr>\n",
       "      <th>fa2e3759-3f45-471b-8c3a-bc8e21ab0ca0</th>\n",
       "      <td>NaN</td>\n",
       "      <td>16.000</td>\n",
       "    </tr>\n",
       "  </tbody>\n",
       "</table>\n",
       "</div>"
      ],
      "text/plain": [
       "                                      Alloy Wheel Size  Compression Ratio\n",
       "usedCarSkuId                                                             \n",
       "68ca3291-f62f-439c-8334-b7d94da8627f               NaN                NaN\n",
       "1b9c879d-b928-4f9d-bdb2-11ae5b86e756            16.000                NaN\n",
       "f3a45aa9-4142-48d9-b719-fdfac7deb0be               NaN                NaN\n",
       "3fed42b5-4954-4b55-a371-8a1be8c9e52e            14.000                NaN\n",
       "105463cc-9ca6-44b7-aa87-ccfc5652a204            16.000             16.500\n",
       "2724028f-40eb-4a45-8354-321fb2a8e503            16.000                NaN\n",
       "74d9a080-5db7-417d-b8e5-3d7d14c6d004               NaN                NaN\n",
       "81c61932-5495-4407-a2ab-bc0873b01c41            15.000                NaN\n",
       "454a7037-00d8-4c33-81a0-0f25d410050a               NaN             11.000\n",
       "fa2e3759-3f45-471b-8c3a-bc8e21ab0ca0               NaN             16.000"
      ]
     },
     "execution_count": 73,
     "metadata": {},
     "output_type": "execute_result"
    }
   ],
   "source": [
    "cars_df2[['Alloy Wheel Size', 'Compression Ratio']].sample(10)"
   ]
  },
  {
   "cell_type": "markdown",
   "id": "18a7576a",
   "metadata": {
    "papermill": {
     "duration": 0.033828,
     "end_time": "2023-03-25T19:14:30.702945",
     "exception": false,
     "start_time": "2023-03-25T19:14:30.669117",
     "status": "completed"
    },
    "tags": []
   },
   "source": [
    "---\n",
    "### `km`\n",
    "\n",
    "The columns need to be converted to int64."
   ]
  },
  {
   "cell_type": "code",
   "execution_count": 74,
   "id": "9ad36e38",
   "metadata": {
    "execution": {
     "iopub.execute_input": "2023-03-25T19:14:30.774144Z",
     "iopub.status.busy": "2023-03-25T19:14:30.773552Z",
     "iopub.status.idle": "2023-03-25T19:14:30.781700Z",
     "shell.execute_reply": "2023-03-25T19:14:30.780302Z"
    },
    "papermill": {
     "duration": 0.046715,
     "end_time": "2023-03-25T19:14:30.784175",
     "exception": false,
     "start_time": "2023-03-25T19:14:30.737460",
     "status": "completed"
    },
    "tags": []
   },
   "outputs": [
    {
     "data": {
      "text/plain": [
       "usedCarSkuId\n",
       "1f1635ac-df15-431e-850e-bd8dc77a8293      76,376\n",
       "1db2ee60-6684-4126-a6f8-5fb29756628d      75,826\n",
       "65afd2bc-0c24-428d-8fcb-fb00c5c3ead0       8,640\n",
       "77d83904-2213-4d48-858b-b8122ba540d6    1,00,000\n",
       "3e7bd697-de32-4f9f-a8e8-95d019f8001d      96,409\n",
       "9cfed958-b5f3-464e-881e-336dfaa7102f      73,612\n",
       "387b085f-5799-4678-b2ee-31fd062076af      60,984\n",
       "d19a4f2c-4028-451a-9c90-92161a120e5f      59,613\n",
       "5893c646-b9f9-4210-959b-56ad49a3fa43    1,20,000\n",
       "166dec40-5f89-4728-a6cc-cbedb50fea0b      47,560\n",
       "Name: km, dtype: object"
      ]
     },
     "execution_count": 74,
     "metadata": {},
     "output_type": "execute_result"
    }
   ],
   "source": [
    "cars_df2['km'].sample(10)"
   ]
  },
  {
   "cell_type": "code",
   "execution_count": 75,
   "id": "5693612e",
   "metadata": {
    "execution": {
     "iopub.execute_input": "2023-03-25T19:14:30.853698Z",
     "iopub.status.busy": "2023-03-25T19:14:30.853019Z",
     "iopub.status.idle": "2023-03-25T19:14:30.937342Z",
     "shell.execute_reply": "2023-03-25T19:14:30.936328Z"
    },
    "papermill": {
     "duration": 0.121939,
     "end_time": "2023-03-25T19:14:30.939934",
     "exception": false,
     "start_time": "2023-03-25T19:14:30.817995",
     "status": "completed"
    },
    "tags": []
   },
   "outputs": [],
   "source": [
    "cars_df2['km'] = cars_df2['km'].apply(get_begin_float).astype(float)"
   ]
  },
  {
   "cell_type": "code",
   "execution_count": 76,
   "id": "ab8d3c16",
   "metadata": {
    "execution": {
     "iopub.execute_input": "2023-03-25T19:14:31.007403Z",
     "iopub.status.busy": "2023-03-25T19:14:31.007035Z",
     "iopub.status.idle": "2023-03-25T19:14:31.014786Z",
     "shell.execute_reply": "2023-03-25T19:14:31.014044Z"
    },
    "papermill": {
     "duration": 0.043484,
     "end_time": "2023-03-25T19:14:31.016534",
     "exception": false,
     "start_time": "2023-03-25T19:14:30.973050",
     "status": "completed"
    },
    "tags": []
   },
   "outputs": [
    {
     "data": {
      "text/plain": [
       "usedCarSkuId\n",
       "61046461-1423-47db-bd44-683924a176cb    50000.000\n",
       "64e4513e-55dc-48fa-a599-857deb041be7    56824.000\n",
       "a4be9d07-ece1-4de1-85f9-09f9e76d48d9    80000.000\n",
       "a544a029-d324-46c9-8be8-caf1e42bb09d    22245.000\n",
       "d4b98c15-5020-4625-b2fb-0895d89f0084    54200.000\n",
       "f451737a-d711-46f3-8159-dbc937ba392f    51473.000\n",
       "dd899639-439a-4c45-a1e3-16db340e070c    80000.000\n",
       "1f1d9705-d669-4a92-8148-b5514eba2da3   102653.000\n",
       "218cc69f-878c-4603-9f03-686bad54cf69    29908.000\n",
       "4b325bb1-a291-4baf-a123-6e6a4438516b    34470.000\n",
       "Name: km, dtype: float64"
      ]
     },
     "execution_count": 76,
     "metadata": {},
     "output_type": "execute_result"
    }
   ],
   "source": [
    "cars_df2['km'].sample(10)"
   ]
  },
  {
   "cell_type": "markdown",
   "id": "f1c9393d",
   "metadata": {
    "papermill": {
     "duration": 0.032424,
     "end_time": "2023-03-25T19:14:31.081850",
     "exception": false,
     "start_time": "2023-03-25T19:14:31.049426",
     "status": "completed"
    },
    "tags": []
   },
   "source": [
    "With this, we have converted all the columns to numerical that were noted."
   ]
  },
  {
   "cell_type": "code",
   "execution_count": 77,
   "id": "abc5e642",
   "metadata": {
    "execution": {
     "iopub.execute_input": "2023-03-25T19:14:31.149413Z",
     "iopub.status.busy": "2023-03-25T19:14:31.149049Z",
     "iopub.status.idle": "2023-03-25T19:14:31.157474Z",
     "shell.execute_reply": "2023-03-25T19:14:31.155909Z"
    },
    "papermill": {
     "duration": 0.044613,
     "end_time": "2023-03-25T19:14:31.159474",
     "exception": false,
     "start_time": "2023-03-25T19:14:31.114861",
     "status": "completed"
    },
    "tags": []
   },
   "outputs": [
    {
     "data": {
      "text/plain": [
       "object     31\n",
       "float64    27\n",
       "int64       4\n",
       "bool        3\n",
       "dtype: int64"
      ]
     },
     "execution_count": 77,
     "metadata": {},
     "output_type": "execute_result"
    }
   ],
   "source": [
    "cars_df2.dtypes.value_counts()"
   ]
  },
  {
   "cell_type": "markdown",
   "id": "b822ae28",
   "metadata": {
    "papermill": {
     "duration": 0.032911,
     "end_time": "2023-03-25T19:14:31.225876",
     "exception": false,
     "start_time": "2023-03-25T19:14:31.192965",
     "status": "completed"
    },
    "tags": []
   },
   "source": [
    "---"
   ]
  },
  {
   "cell_type": "markdown",
   "id": "7b612584",
   "metadata": {
    "papermill": {
     "duration": 0.0333,
     "end_time": "2023-03-25T19:14:31.292210",
     "exception": false,
     "start_time": "2023-03-25T19:14:31.258910",
     "status": "completed"
    },
    "tags": []
   },
   "source": [
    "#### Fixing some column names"
   ]
  },
  {
   "cell_type": "code",
   "execution_count": 78,
   "id": "ec711e79",
   "metadata": {
    "execution": {
     "iopub.execute_input": "2023-03-25T19:14:31.363395Z",
     "iopub.status.busy": "2023-03-25T19:14:31.362991Z",
     "iopub.status.idle": "2023-03-25T19:14:31.388556Z",
     "shell.execute_reply": "2023-03-25T19:14:31.387500Z"
    },
    "papermill": {
     "duration": 0.063812,
     "end_time": "2023-03-25T19:14:31.391132",
     "exception": false,
     "start_time": "2023-03-25T19:14:31.327320",
     "status": "completed"
    },
    "tags": []
   },
   "outputs": [],
   "source": [
    "cars_df2 = cars_df2.rename(columns={\n",
    "    'tt': 'transmission',\n",
    "    'bt': 'body',\n",
    "    'ft': 'fuel',\n",
    "    'variantName': 'variant',\n",
    "    'km': '',\n",
    "    'pu': 'listed_price',\n",
    "    'Values per Cylinder': 'Valves per Cylinder',\n",
    "    'Value Configuration': 'Valve Configuration',\n",
    "    'No Door Numbers': 'Doors',\n",
    "    'Seating Capacity': 'Seats',\n",
    "    'Cargo Volumn': 'Cargo Volume',\n",
    "    'city_x': 'City',\n",
    "})"
   ]
  },
  {
   "cell_type": "code",
   "execution_count": 79,
   "id": "658e9338",
   "metadata": {
    "execution": {
     "iopub.execute_input": "2023-03-25T19:14:31.461508Z",
     "iopub.status.busy": "2023-03-25T19:14:31.461134Z",
     "iopub.status.idle": "2023-03-25T19:14:31.483483Z",
     "shell.execute_reply": "2023-03-25T19:14:31.482098Z"
    },
    "papermill": {
     "duration": 0.060294,
     "end_time": "2023-03-25T19:14:31.485648",
     "exception": false,
     "start_time": "2023-03-25T19:14:31.425354",
     "status": "completed"
    },
    "tags": []
   },
   "outputs": [
    {
     "data": {
      "text/html": [
       "<div>\n",
       "<style scoped>\n",
       "    .dataframe tbody tr th:only-of-type {\n",
       "        vertical-align: middle;\n",
       "    }\n",
       "\n",
       "    .dataframe tbody tr th {\n",
       "        vertical-align: top;\n",
       "    }\n",
       "\n",
       "    .dataframe thead th {\n",
       "        text-align: right;\n",
       "    }\n",
       "</style>\n",
       "<table border=\"1\" class=\"dataframe\">\n",
       "  <thead>\n",
       "    <tr style=\"text-align: right;\">\n",
       "      <th></th>\n",
       "      <th>loc</th>\n",
       "      <th>myear</th>\n",
       "      <th>body</th>\n",
       "      <th>transmission</th>\n",
       "      <th>fuel</th>\n",
       "      <th></th>\n",
       "      <th>ip</th>\n",
       "      <th>images</th>\n",
       "      <th>imgCount</th>\n",
       "      <th>threesixty</th>\n",
       "      <th>...</th>\n",
       "      <th>Fuel Suppy System</th>\n",
       "      <th>Compression Ratio</th>\n",
       "      <th>Alloy Wheel Size</th>\n",
       "      <th>Ground Clearance Unladen</th>\n",
       "      <th>Max Power Delivered</th>\n",
       "      <th>Max Power At</th>\n",
       "      <th>Max Torque Delivered</th>\n",
       "      <th>Max Torque At</th>\n",
       "      <th>Bore</th>\n",
       "      <th>Stroke</th>\n",
       "    </tr>\n",
       "    <tr>\n",
       "      <th>usedCarSkuId</th>\n",
       "      <th></th>\n",
       "      <th></th>\n",
       "      <th></th>\n",
       "      <th></th>\n",
       "      <th></th>\n",
       "      <th></th>\n",
       "      <th></th>\n",
       "      <th></th>\n",
       "      <th></th>\n",
       "      <th></th>\n",
       "      <th></th>\n",
       "      <th></th>\n",
       "      <th></th>\n",
       "      <th></th>\n",
       "      <th></th>\n",
       "      <th></th>\n",
       "      <th></th>\n",
       "      <th></th>\n",
       "      <th></th>\n",
       "      <th></th>\n",
       "      <th></th>\n",
       "    </tr>\n",
       "  </thead>\n",
       "  <tbody>\n",
       "    <tr>\n",
       "      <th>7111bf25-97af-47f9-867b-40879190d800</th>\n",
       "      <td>gomti nagar</td>\n",
       "      <td>2016</td>\n",
       "      <td>hatchback</td>\n",
       "      <td>manual</td>\n",
       "      <td>cng</td>\n",
       "      <td>69162.000</td>\n",
       "      <td>0</td>\n",
       "      <td>[{'img': 'https://images10.gaadi.com/usedcar_i...</td>\n",
       "      <td>15</td>\n",
       "      <td>False</td>\n",
       "      <td>...</td>\n",
       "      <td>nan</td>\n",
       "      <td>NaN</td>\n",
       "      <td>NaN</td>\n",
       "      <td>NaN</td>\n",
       "      <td>58.160</td>\n",
       "      <td>6200.000</td>\n",
       "      <td>77.000</td>\n",
       "      <td>3500.000</td>\n",
       "      <td>69.000</td>\n",
       "      <td>NaN</td>\n",
       "    </tr>\n",
       "    <tr>\n",
       "      <th>c309efc1-efaf-4f82-81ad-dcb38eb36665</th>\n",
       "      <td>borivali west</td>\n",
       "      <td>2015</td>\n",
       "      <td>hatchback</td>\n",
       "      <td>manual</td>\n",
       "      <td>cng</td>\n",
       "      <td>45864.000</td>\n",
       "      <td>0</td>\n",
       "      <td>[{'img': 'https://images10.gaadi.com/usedcar_i...</td>\n",
       "      <td>15</td>\n",
       "      <td>False</td>\n",
       "      <td>...</td>\n",
       "      <td>Gasoline Port Injection</td>\n",
       "      <td>11.000</td>\n",
       "      <td>NaN</td>\n",
       "      <td>NaN</td>\n",
       "      <td>58.200</td>\n",
       "      <td>6000.000</td>\n",
       "      <td>78.000</td>\n",
       "      <td>3500.000</td>\n",
       "      <td>73.000</td>\n",
       "      <td>NaN</td>\n",
       "    </tr>\n",
       "    <tr>\n",
       "      <th>7609f710-0c97-4f00-9a47-9b9284b62d3a</th>\n",
       "      <td>jasola</td>\n",
       "      <td>2015</td>\n",
       "      <td>sedan</td>\n",
       "      <td>manual</td>\n",
       "      <td>cng</td>\n",
       "      <td>81506.000</td>\n",
       "      <td>0</td>\n",
       "      <td>[{'img': 'https://images10.gaadi.com/usedcar_i...</td>\n",
       "      <td>15</td>\n",
       "      <td>False</td>\n",
       "      <td>...</td>\n",
       "      <td>nan</td>\n",
       "      <td>NaN</td>\n",
       "      <td>NaN</td>\n",
       "      <td>NaN</td>\n",
       "      <td>86.700</td>\n",
       "      <td>6000.000</td>\n",
       "      <td>109.000</td>\n",
       "      <td>4500.000</td>\n",
       "      <td>NaN</td>\n",
       "      <td>NaN</td>\n",
       "    </tr>\n",
       "    <tr>\n",
       "      <th>278b76e3-5539-4a5e-ae3e-353a2e3b6d7d</th>\n",
       "      <td>jasola</td>\n",
       "      <td>2013</td>\n",
       "      <td>hatchback</td>\n",
       "      <td>manual</td>\n",
       "      <td>cng</td>\n",
       "      <td>115893.000</td>\n",
       "      <td>0</td>\n",
       "      <td>[{'img': ''}]</td>\n",
       "      <td>0</td>\n",
       "      <td>False</td>\n",
       "      <td>...</td>\n",
       "      <td>Multi-Point Fuel Injection</td>\n",
       "      <td>NaN</td>\n",
       "      <td>13.000</td>\n",
       "      <td>NaN</td>\n",
       "      <td>58.200</td>\n",
       "      <td>6200.000</td>\n",
       "      <td>77.000</td>\n",
       "      <td>3500.000</td>\n",
       "      <td>NaN</td>\n",
       "      <td>NaN</td>\n",
       "    </tr>\n",
       "    <tr>\n",
       "      <th>b1eab99b-a606-48dd-a75b-57feb8a9ad92</th>\n",
       "      <td>mumbai g.p.o.</td>\n",
       "      <td>2022</td>\n",
       "      <td>muv</td>\n",
       "      <td>manual</td>\n",
       "      <td>cng</td>\n",
       "      <td>18900.000</td>\n",
       "      <td>0</td>\n",
       "      <td>[{'img': 'https://images10.gaadi.com/usedcar_i...</td>\n",
       "      <td>6</td>\n",
       "      <td>False</td>\n",
       "      <td>...</td>\n",
       "      <td>nan</td>\n",
       "      <td>12.000</td>\n",
       "      <td>NaN</td>\n",
       "      <td>NaN</td>\n",
       "      <td>86.630</td>\n",
       "      <td>5500.000</td>\n",
       "      <td>121.500</td>\n",
       "      <td>4200.000</td>\n",
       "      <td>NaN</td>\n",
       "      <td>NaN</td>\n",
       "    </tr>\n",
       "  </tbody>\n",
       "</table>\n",
       "<p>5 rows × 65 columns</p>\n",
       "</div>"
      ],
      "text/plain": [
       "                                                loc  myear       body  \\\n",
       "usedCarSkuId                                                            \n",
       "7111bf25-97af-47f9-867b-40879190d800    gomti nagar   2016  hatchback   \n",
       "c309efc1-efaf-4f82-81ad-dcb38eb36665  borivali west   2015  hatchback   \n",
       "7609f710-0c97-4f00-9a47-9b9284b62d3a         jasola   2015      sedan   \n",
       "278b76e3-5539-4a5e-ae3e-353a2e3b6d7d         jasola   2013  hatchback   \n",
       "b1eab99b-a606-48dd-a75b-57feb8a9ad92  mumbai g.p.o.   2022        muv   \n",
       "\n",
       "                                     transmission fuel             ip  \\\n",
       "usedCarSkuId                                                            \n",
       "7111bf25-97af-47f9-867b-40879190d800       manual  cng  69162.000   0   \n",
       "c309efc1-efaf-4f82-81ad-dcb38eb36665       manual  cng  45864.000   0   \n",
       "7609f710-0c97-4f00-9a47-9b9284b62d3a       manual  cng  81506.000   0   \n",
       "278b76e3-5539-4a5e-ae3e-353a2e3b6d7d       manual  cng 115893.000   0   \n",
       "b1eab99b-a606-48dd-a75b-57feb8a9ad92       manual  cng  18900.000   0   \n",
       "\n",
       "                                                                                 images  \\\n",
       "usedCarSkuId                                                                              \n",
       "7111bf25-97af-47f9-867b-40879190d800  [{'img': 'https://images10.gaadi.com/usedcar_i...   \n",
       "c309efc1-efaf-4f82-81ad-dcb38eb36665  [{'img': 'https://images10.gaadi.com/usedcar_i...   \n",
       "7609f710-0c97-4f00-9a47-9b9284b62d3a  [{'img': 'https://images10.gaadi.com/usedcar_i...   \n",
       "278b76e3-5539-4a5e-ae3e-353a2e3b6d7d                                      [{'img': ''}]   \n",
       "b1eab99b-a606-48dd-a75b-57feb8a9ad92  [{'img': 'https://images10.gaadi.com/usedcar_i...   \n",
       "\n",
       "                                      imgCount  threesixty  ...  \\\n",
       "usedCarSkuId                                                ...   \n",
       "7111bf25-97af-47f9-867b-40879190d800        15       False  ...   \n",
       "c309efc1-efaf-4f82-81ad-dcb38eb36665        15       False  ...   \n",
       "7609f710-0c97-4f00-9a47-9b9284b62d3a        15       False  ...   \n",
       "278b76e3-5539-4a5e-ae3e-353a2e3b6d7d         0       False  ...   \n",
       "b1eab99b-a606-48dd-a75b-57feb8a9ad92         6       False  ...   \n",
       "\n",
       "                                               Fuel Suppy System  \\\n",
       "usedCarSkuId                                                       \n",
       "7111bf25-97af-47f9-867b-40879190d800                         nan   \n",
       "c309efc1-efaf-4f82-81ad-dcb38eb36665     Gasoline Port Injection   \n",
       "7609f710-0c97-4f00-9a47-9b9284b62d3a                         nan   \n",
       "278b76e3-5539-4a5e-ae3e-353a2e3b6d7d  Multi-Point Fuel Injection   \n",
       "b1eab99b-a606-48dd-a75b-57feb8a9ad92                         nan   \n",
       "\n",
       "                                     Compression Ratio Alloy Wheel Size  \\\n",
       "usedCarSkuId                                                              \n",
       "7111bf25-97af-47f9-867b-40879190d800               NaN              NaN   \n",
       "c309efc1-efaf-4f82-81ad-dcb38eb36665            11.000              NaN   \n",
       "7609f710-0c97-4f00-9a47-9b9284b62d3a               NaN              NaN   \n",
       "278b76e3-5539-4a5e-ae3e-353a2e3b6d7d               NaN           13.000   \n",
       "b1eab99b-a606-48dd-a75b-57feb8a9ad92            12.000              NaN   \n",
       "\n",
       "                                     Ground Clearance Unladen  \\\n",
       "usedCarSkuId                                                    \n",
       "7111bf25-97af-47f9-867b-40879190d800                      NaN   \n",
       "c309efc1-efaf-4f82-81ad-dcb38eb36665                      NaN   \n",
       "7609f710-0c97-4f00-9a47-9b9284b62d3a                      NaN   \n",
       "278b76e3-5539-4a5e-ae3e-353a2e3b6d7d                      NaN   \n",
       "b1eab99b-a606-48dd-a75b-57feb8a9ad92                      NaN   \n",
       "\n",
       "                                     Max Power Delivered  Max Power At  \\\n",
       "usedCarSkuId                                                             \n",
       "7111bf25-97af-47f9-867b-40879190d800              58.160      6200.000   \n",
       "c309efc1-efaf-4f82-81ad-dcb38eb36665              58.200      6000.000   \n",
       "7609f710-0c97-4f00-9a47-9b9284b62d3a              86.700      6000.000   \n",
       "278b76e3-5539-4a5e-ae3e-353a2e3b6d7d              58.200      6200.000   \n",
       "b1eab99b-a606-48dd-a75b-57feb8a9ad92              86.630      5500.000   \n",
       "\n",
       "                                      Max Torque Delivered Max Torque At  \\\n",
       "usedCarSkuId                                                               \n",
       "7111bf25-97af-47f9-867b-40879190d800                77.000      3500.000   \n",
       "c309efc1-efaf-4f82-81ad-dcb38eb36665                78.000      3500.000   \n",
       "7609f710-0c97-4f00-9a47-9b9284b62d3a               109.000      4500.000   \n",
       "278b76e3-5539-4a5e-ae3e-353a2e3b6d7d                77.000      3500.000   \n",
       "b1eab99b-a606-48dd-a75b-57feb8a9ad92               121.500      4200.000   \n",
       "\n",
       "                                       Bore Stroke  \n",
       "usedCarSkuId                                        \n",
       "7111bf25-97af-47f9-867b-40879190d800 69.000    NaN  \n",
       "c309efc1-efaf-4f82-81ad-dcb38eb36665 73.000    NaN  \n",
       "7609f710-0c97-4f00-9a47-9b9284b62d3a    NaN    NaN  \n",
       "278b76e3-5539-4a5e-ae3e-353a2e3b6d7d    NaN    NaN  \n",
       "b1eab99b-a606-48dd-a75b-57feb8a9ad92    NaN    NaN  \n",
       "\n",
       "[5 rows x 65 columns]"
      ]
     },
     "execution_count": 79,
     "metadata": {},
     "output_type": "execute_result"
    }
   ],
   "source": [
    "cars_df2.head()"
   ]
  },
  {
   "cell_type": "code",
   "execution_count": 80,
   "id": "721c4581",
   "metadata": {
    "execution": {
     "iopub.execute_input": "2023-03-25T19:14:31.556613Z",
     "iopub.status.busy": "2023-03-25T19:14:31.556223Z",
     "iopub.status.idle": "2023-03-25T19:14:31.634794Z",
     "shell.execute_reply": "2023-03-25T19:14:31.632968Z"
    },
    "papermill": {
     "duration": 0.116647,
     "end_time": "2023-03-25T19:14:31.637085",
     "exception": false,
     "start_time": "2023-03-25T19:14:31.520438",
     "status": "completed"
    },
    "tags": []
   },
   "outputs": [
    {
     "name": "stdout",
     "output_type": "stream",
     "text": [
      "<class 'pandas.core.frame.DataFrame'>\n",
      "Index: 37813 entries, 7111bf25-97af-47f9-867b-40879190d800 to a96fbcd7-c183-4829-ae97-b2581afe4bac\n",
      "Data columns (total 65 columns):\n",
      " #   Column                    Non-Null Count  Dtype  \n",
      "---  ------                    --------------  -----  \n",
      " 0   loc                       37813 non-null  object \n",
      " 1   myear                     37813 non-null  int64  \n",
      " 2   body                      37813 non-null  object \n",
      " 3   transmission              37813 non-null  object \n",
      " 4   fuel                      37813 non-null  object \n",
      " 5                             37813 non-null  float64\n",
      " 6   ip                        37813 non-null  int64  \n",
      " 7   images                    37813 non-null  object \n",
      " 8   imgCount                  37813 non-null  int64  \n",
      " 9   threesixty                37813 non-null  bool   \n",
      " 10  dvn                       37813 non-null  object \n",
      " 11  oem                       37813 non-null  object \n",
      " 12  model                     37813 non-null  object \n",
      " 13  variant                   37813 non-null  object \n",
      " 14  City                      37813 non-null  object \n",
      " 15  listed_price              37813 non-null  float64\n",
      " 16  discountValue             37813 non-null  int64  \n",
      " 17  utype                     37813 non-null  object \n",
      " 18  carType                   37813 non-null  object \n",
      " 19  top_features              37813 non-null  object \n",
      " 20  comfort_features          37813 non-null  object \n",
      " 21  interior_features         37813 non-null  object \n",
      " 22  exterior_features         37813 non-null  object \n",
      " 23  safety_features           37813 non-null  object \n",
      " 24  Color                     37813 non-null  object \n",
      " 25  Engine Type               37813 non-null  object \n",
      " 26  No of Cylinder            37670 non-null  float64\n",
      " 27  Valves per Cylinder       37585 non-null  float64\n",
      " 28  Valve Configuration       37813 non-null  object \n",
      " 29  Turbo Charger             37813 non-null  bool   \n",
      " 30  Super Charger             37813 non-null  bool   \n",
      " 31  Length                    37451 non-null  float64\n",
      " 32  Width                     37442 non-null  float64\n",
      " 33  Height                    37450 non-null  float64\n",
      " 34  Wheel Base                37257 non-null  float64\n",
      " 35  Front Tread               21939 non-null  float64\n",
      " 36  Rear Tread                21938 non-null  float64\n",
      " 37  Kerb Weight               24674 non-null  float64\n",
      " 38  Gross Weight              16923 non-null  float64\n",
      " 39  Gear Box                  37813 non-null  object \n",
      " 40  Drive Type                37813 non-null  object \n",
      " 41  Seats                     37795 non-null  float64\n",
      " 42  Steering Type             37813 non-null  object \n",
      " 43  Turning Radius            31965 non-null  float64\n",
      " 44  Front Brake Type          37813 non-null  object \n",
      " 45  Rear Brake Type           37813 non-null  object \n",
      " 46  Top Speed                 22461 non-null  float64\n",
      " 47  Acceleration              23825 non-null  float64\n",
      " 48  Tyre Type                 37813 non-null  object \n",
      " 49  Doors                     37769 non-null  float64\n",
      " 50  Cargo Volume              31081 non-null  float64\n",
      " 51  model_type_new            37813 non-null  object \n",
      " 52  state                     37813 non-null  object \n",
      " 53  exterior_color            37813 non-null  object \n",
      " 54  owner_type                37813 non-null  object \n",
      " 55  Fuel Suppy System         37813 non-null  object \n",
      " 56  Compression Ratio         10012 non-null  float64\n",
      " 57  Alloy Wheel Size          23352 non-null  float64\n",
      " 58  Ground Clearance Unladen  2152 non-null   float64\n",
      " 59  Max Power Delivered       37582 non-null  float64\n",
      " 60  Max Power At              35566 non-null  float64\n",
      " 61  Max Torque Delivered      37582 non-null  float64\n",
      " 62  Max Torque At             35837 non-null  float64\n",
      " 63  Bore                      12636 non-null  float64\n",
      " 64  Stroke                    513 non-null    float64\n",
      "dtypes: bool(3), float64(27), int64(4), object(31)\n",
      "memory usage: 18.3+ MB\n"
     ]
    }
   ],
   "source": [
    "cars_df2.info()"
   ]
  },
  {
   "cell_type": "markdown",
   "id": "773abf90",
   "metadata": {
    "papermill": {
     "duration": 0.035021,
     "end_time": "2023-03-25T19:14:31.708291",
     "exception": false,
     "start_time": "2023-03-25T19:14:31.673270",
     "status": "completed"
    },
    "tags": []
   },
   "source": [
    "#### With this, we are ready to move on to the next steps:\n",
    "1. EDA\n",
    "2. Feature Engineering and selection\n",
    "3. Model Building and Optimization"
   ]
  },
  {
   "cell_type": "code",
   "execution_count": 81,
   "id": "90efe15d",
   "metadata": {
    "execution": {
     "iopub.execute_input": "2023-03-25T19:14:31.778560Z",
     "iopub.status.busy": "2023-03-25T19:14:31.778248Z",
     "iopub.status.idle": "2023-03-25T19:14:31.782427Z",
     "shell.execute_reply": "2023-03-25T19:14:31.781555Z"
    },
    "papermill": {
     "duration": 0.042,
     "end_time": "2023-03-25T19:14:31.784290",
     "exception": false,
     "start_time": "2023-03-25T19:14:31.742290",
     "status": "completed"
    },
    "tags": []
   },
   "outputs": [],
   "source": [
    "import datetime\n",
    "\n",
    "fileName = f\"../data/clean/cleaned_data_{datetime.datetime.now().strftime('%Y-%m-%d_%H-%M-%S')}.csv\"\n",
    "# cars_df2.to_csv(filename)"
   ]
  }
 ],
 "metadata": {
  "kernelspec": {
   "display_name": "Python 3",
   "language": "python",
   "name": "python3"
  },
  "language_info": {
   "codemirror_mode": {
    "name": "ipython",
    "version": 3
   },
   "file_extension": ".py",
   "mimetype": "text/x-python",
   "name": "python",
   "nbconvert_exporter": "python",
   "pygments_lexer": "ipython3",
   "version": "3.7.12"
  },
  "papermill": {
   "default_parameters": {},
   "duration": 27.322875,
   "end_time": "2023-03-25T19:14:32.640795",
   "environment_variables": {},
   "exception": null,
   "input_path": "__notebook__.ipynb",
   "output_path": "__notebook__.ipynb",
   "parameters": {},
   "start_time": "2023-03-25T19:14:05.317920",
   "version": "2.4.0"
  }
 },
 "nbformat": 4,
 "nbformat_minor": 5
}
