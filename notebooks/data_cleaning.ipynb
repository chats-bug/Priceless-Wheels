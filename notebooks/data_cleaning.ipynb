{
 "cells": [
  {
   "cell_type": "markdown",
   "id": "1350c397",
   "metadata": {
    "papermill": {
     "duration": 0.024351,
     "end_time": "2023-03-25T19:14:13.698542",
     "exception": false,
     "start_time": "2023-03-25T19:14:13.674191",
     "status": "completed"
    },
    "tags": []
   },
   "source": [
    "### Introduction\n",
    "\n",
    "Welcome to Priceless Wheels! In this project, our goal is to build a model that can accurately predict the price of a used vehicle based on various factors such as make, model, year, mileage, and condition. The automobile industry is one of the largest and most competitive industries in the world, with millions of vehicles being sold each year. The price of a vehicle can have a significant impact on a consumer's purchasing decision and it is important for both buyers and sellers to have an understanding of the market value of a vehicle. By using machine learning algorithms and data analysis, we aim to provide a reliable and robust model that can assist in determining the fair market value of a vehicle. Join us on this exciting journey as we delve into the world of vehicle price prediction."
   ]
  },
  {
   "cell_type": "markdown",
   "id": "71d6ac2e",
   "metadata": {
    "papermill": {
     "duration": 0.022953,
     "end_time": "2023-03-25T19:14:13.746509",
     "exception": false,
     "start_time": "2023-03-25T19:14:13.723556",
     "status": "completed"
    },
    "tags": []
   },
   "source": [
    "### About the data\n",
    "\n",
    "This data is scrapped from https://www.cardekho.com/. This data is meant for research and academic purposes only and is **not meant for commercial use**. This dataset contains about 38000 (thirty eight thousand) used cars listed in CarDekho in India. Download the data from https://github.com/chats-bug/Priceless-Wheels/blob/data-cleaning/data/raw/cardekho_cars_2023_03_19_16_44_14.csv."
   ]
  },
  {
   "cell_type": "markdown",
   "id": "9aa75813",
   "metadata": {
    "papermill": {
     "duration": 0.022731,
     "end_time": "2023-03-25T19:14:13.792609",
     "exception": false,
     "start_time": "2023-03-25T19:14:13.769878",
     "status": "completed"
    },
    "tags": []
   },
   "source": [
    "---"
   ]
  },
  {
   "cell_type": "markdown",
   "id": "420ef743",
   "metadata": {
    "papermill": {
     "duration": 0.023511,
     "end_time": "2023-03-25T19:14:13.839460",
     "exception": false,
     "start_time": "2023-03-25T19:14:13.815949",
     "status": "completed"
    },
    "tags": []
   },
   "source": [
    "#### Importing the data and libraries\n",
    "\n",
    "Let's start by importing the necessary libraries and the data."
   ]
  },
  {
   "cell_type": "code",
   "execution_count": 1,
   "id": "3fa771be",
   "metadata": {
    "execution": {
     "iopub.execute_input": "2023-03-25T19:14:13.889835Z",
     "iopub.status.busy": "2023-03-25T19:14:13.889137Z",
     "iopub.status.idle": "2023-03-25T19:14:15.010813Z",
     "shell.execute_reply": "2023-03-25T19:14:15.009855Z"
    },
    "papermill": {
     "duration": 1.150085,
     "end_time": "2023-03-25T19:14:15.013349",
     "exception": false,
     "start_time": "2023-03-25T19:14:13.863264",
     "status": "completed"
    },
    "tags": []
   },
   "outputs": [],
   "source": [
    "import numpy as np # linear algebra\n",
    "import pandas as pd # data processing, CSV file I/O\n",
    "import regex as re # for regex matching\n",
    "import matplotlib.pyplot as plt # \n",
    "import seaborn as sns # seaborn for nice looking plots\n",
    "sns.set() # setting seaborn default for plots\n",
    "\n",
    "# removing scientific notation\n",
    "pd.set_option('display.float_format', lambda x: '%.3f' % x)\n",
    "\n",
    "# Input data files are available in the read-only \"../input/\" directory\n",
    "import os\n",
    "for dirname, _, filenames in os.walk('/kaggle/input'):\n",
    "    for filename in filenames:\n",
    "        print(os.path.join(dirname, filename))"
   ]
  },
  {
   "cell_type": "markdown",
   "id": "16aaf7d3",
   "metadata": {
    "papermill": {
     "duration": 0.026563,
     "end_time": "2023-03-25T19:14:15.064783",
     "exception": false,
     "start_time": "2023-03-25T19:14:15.038220",
     "status": "completed"
    },
    "tags": []
   },
   "source": [
    "Next, we will import the data and preview the first 5 rows\n",
    "\n",
    "- Note: The ```usedCarSkuId``` is a unique identifier for each car. We would be using this column as the index of the dataframe\n",
    "- Note: Since we are using github lfs for storing the CSV files, the link mentioned in the notebook will expire in some time. Please visit this [link](https://github.com/chats-bug/Priceless-Wheels/blob/data-cleaning/data/raw/cardekho_cars_2023_03_19_16_44_14.csv) to get the data"
   ]
  },
  {
   "cell_type": "code",
   "execution_count": 2,
   "id": "21f88852",
   "metadata": {
    "execution": {
     "iopub.execute_input": "2023-03-25T19:14:15.120330Z",
     "iopub.status.busy": "2023-03-25T19:14:15.119990Z",
     "iopub.status.idle": "2023-03-25T19:14:17.814636Z",
     "shell.execute_reply": "2023-03-25T19:14:17.813015Z"
    },
    "papermill": {
     "duration": 2.723491,
     "end_time": "2023-03-25T19:14:17.817069",
     "exception": false,
     "start_time": "2023-03-25T19:14:15.093578",
     "status": "completed"
    },
    "tags": []
   },
   "outputs": [
    {
     "name": "stderr",
     "output_type": "stream",
     "text": [
      "/var/folders/vt/5_mmhf_d5gd9_w9qt3c4rvlw0000gn/T/ipykernel_37963/199014853.py:5: DtypeWarning: Columns (25,43) have mixed types. Specify dtype option on import or set low_memory=False.\n",
      "  df = pd.read_csv(file_path, index_col=\"usedCarSkuId\")\n"
     ]
    },
    {
     "data": {
      "text/html": [
       "<div>\n",
       "<style scoped>\n",
       "    .dataframe tbody tr th:only-of-type {\n",
       "        vertical-align: middle;\n",
       "    }\n",
       "\n",
       "    .dataframe tbody tr th {\n",
       "        vertical-align: top;\n",
       "    }\n",
       "\n",
       "    .dataframe thead th {\n",
       "        text-align: right;\n",
       "    }\n",
       "</style>\n",
       "<table border=\"1\" class=\"dataframe\">\n",
       "  <thead>\n",
       "    <tr style=\"text-align: right;\">\n",
       "      <th></th>\n",
       "      <th>position</th>\n",
       "      <th>loc</th>\n",
       "      <th>myear</th>\n",
       "      <th>bt</th>\n",
       "      <th>tt</th>\n",
       "      <th>ft</th>\n",
       "      <th>km</th>\n",
       "      <th>ip</th>\n",
       "      <th>pi</th>\n",
       "      <th>images</th>\n",
       "      <th>...</th>\n",
       "      <th>owner_type</th>\n",
       "      <th>price_segment_new</th>\n",
       "      <th>template_name_new</th>\n",
       "      <th>page_template</th>\n",
       "      <th>template_Type_new</th>\n",
       "      <th>experiment</th>\n",
       "      <th>Fuel Suppy System</th>\n",
       "      <th>Compression Ratio</th>\n",
       "      <th>Alloy Wheel Size</th>\n",
       "      <th>Ground Clearance Unladen</th>\n",
       "    </tr>\n",
       "    <tr>\n",
       "      <th>usedCarSkuId</th>\n",
       "      <th></th>\n",
       "      <th></th>\n",
       "      <th></th>\n",
       "      <th></th>\n",
       "      <th></th>\n",
       "      <th></th>\n",
       "      <th></th>\n",
       "      <th></th>\n",
       "      <th></th>\n",
       "      <th></th>\n",
       "      <th></th>\n",
       "      <th></th>\n",
       "      <th></th>\n",
       "      <th></th>\n",
       "      <th></th>\n",
       "      <th></th>\n",
       "      <th></th>\n",
       "      <th></th>\n",
       "      <th></th>\n",
       "      <th></th>\n",
       "      <th></th>\n",
       "    </tr>\n",
       "  </thead>\n",
       "  <tbody>\n",
       "    <tr>\n",
       "      <th>7111bf25-97af-47f9-867b-40879190d800</th>\n",
       "      <td>1</td>\n",
       "      <td>Gomti Nagar</td>\n",
       "      <td>2016</td>\n",
       "      <td>Hatchback</td>\n",
       "      <td>Manual</td>\n",
       "      <td>CNG</td>\n",
       "      <td>69,162</td>\n",
       "      <td>0</td>\n",
       "      <td>https://images10.gaadi.com/usedcar_image/origi...</td>\n",
       "      <td>[{'img': 'https://images10.gaadi.com/usedcar_i...</td>\n",
       "      <td>...</td>\n",
       "      <td>first</td>\n",
       "      <td>2lakh-5lakh</td>\n",
       "      <td>used cardetail v2/corporate/13</td>\n",
       "      <td>Used Car &gt; Detail Page</td>\n",
       "      <td>used</td>\n",
       "      <td>control</td>\n",
       "      <td>NaN</td>\n",
       "      <td>NaN</td>\n",
       "      <td>NaN</td>\n",
       "      <td>NaN</td>\n",
       "    </tr>\n",
       "    <tr>\n",
       "      <th>c309efc1-efaf-4f82-81ad-dcb38eb36665</th>\n",
       "      <td>2</td>\n",
       "      <td>Borivali West</td>\n",
       "      <td>2015</td>\n",
       "      <td>Hatchback</td>\n",
       "      <td>Manual</td>\n",
       "      <td>CNG</td>\n",
       "      <td>45,864</td>\n",
       "      <td>0</td>\n",
       "      <td>https://images10.gaadi.com/usedcar_image/origi...</td>\n",
       "      <td>[{'img': 'https://images10.gaadi.com/usedcar_i...</td>\n",
       "      <td>...</td>\n",
       "      <td>first</td>\n",
       "      <td>2lakh-5lakh</td>\n",
       "      <td>used cardetail v2/corporate/13</td>\n",
       "      <td>Used Car &gt; Detail Page</td>\n",
       "      <td>used</td>\n",
       "      <td>control</td>\n",
       "      <td>Intelligent-Gas Port Injection</td>\n",
       "      <td>11.0:1</td>\n",
       "      <td>NaN</td>\n",
       "      <td>NaN</td>\n",
       "    </tr>\n",
       "    <tr>\n",
       "      <th>7609f710-0c97-4f00-9a47-9b9284b62d3a</th>\n",
       "      <td>3</td>\n",
       "      <td>JASOLA</td>\n",
       "      <td>2015</td>\n",
       "      <td>Sedan</td>\n",
       "      <td>Manual</td>\n",
       "      <td>CNG</td>\n",
       "      <td>81,506</td>\n",
       "      <td>0</td>\n",
       "      <td>https://images10.gaadi.com/usedcar_image/origi...</td>\n",
       "      <td>[{'img': 'https://images10.gaadi.com/usedcar_i...</td>\n",
       "      <td>...</td>\n",
       "      <td>second</td>\n",
       "      <td>2lakh-5lakh</td>\n",
       "      <td>used cardetail v2/corporate/13</td>\n",
       "      <td>Used Car &gt; Detail Page</td>\n",
       "      <td>used</td>\n",
       "      <td>control</td>\n",
       "      <td>NaN</td>\n",
       "      <td>NaN</td>\n",
       "      <td>NaN</td>\n",
       "      <td>NaN</td>\n",
       "    </tr>\n",
       "    <tr>\n",
       "      <th>278b76e3-5539-4a5e-ae3e-353a2e3b6d7d</th>\n",
       "      <td>4</td>\n",
       "      <td>jasola</td>\n",
       "      <td>2013</td>\n",
       "      <td>Hatchback</td>\n",
       "      <td>Manual</td>\n",
       "      <td>CNG</td>\n",
       "      <td>1,15,893</td>\n",
       "      <td>0</td>\n",
       "      <td>NaN</td>\n",
       "      <td>[{'img': ''}]</td>\n",
       "      <td>...</td>\n",
       "      <td>second</td>\n",
       "      <td>2lakh-5lakh</td>\n",
       "      <td>used cardetail v2/corporate/13</td>\n",
       "      <td>Used Car &gt; Detail Page</td>\n",
       "      <td>used</td>\n",
       "      <td>control</td>\n",
       "      <td>MPFI</td>\n",
       "      <td>NaN</td>\n",
       "      <td>13</td>\n",
       "      <td>NaN</td>\n",
       "    </tr>\n",
       "    <tr>\n",
       "      <th>b1eab99b-a606-48dd-a75b-57feb8a9ad92</th>\n",
       "      <td>5</td>\n",
       "      <td>mumbai g.p.o.</td>\n",
       "      <td>2022</td>\n",
       "      <td>MUV</td>\n",
       "      <td>Manual</td>\n",
       "      <td>CNG</td>\n",
       "      <td>18,900</td>\n",
       "      <td>0</td>\n",
       "      <td>https://images10.gaadi.com/usedcar_image/origi...</td>\n",
       "      <td>[{'img': 'https://images10.gaadi.com/usedcar_i...</td>\n",
       "      <td>...</td>\n",
       "      <td>first</td>\n",
       "      <td>10+lakh</td>\n",
       "      <td>used cardetail v2</td>\n",
       "      <td>Used Car &gt; Detail Page</td>\n",
       "      <td>used</td>\n",
       "      <td>control</td>\n",
       "      <td>NaN</td>\n",
       "      <td>12.0+-.03</td>\n",
       "      <td>NaN</td>\n",
       "      <td>NaN</td>\n",
       "    </tr>\n",
       "  </tbody>\n",
       "</table>\n",
       "<p>5 rows × 139 columns</p>\n",
       "</div>"
      ],
      "text/plain": [
       "                                      position            loc  myear  \\\n",
       "usedCarSkuId                                                           \n",
       "7111bf25-97af-47f9-867b-40879190d800         1    Gomti Nagar   2016   \n",
       "c309efc1-efaf-4f82-81ad-dcb38eb36665         2  Borivali West   2015   \n",
       "7609f710-0c97-4f00-9a47-9b9284b62d3a         3         JASOLA   2015   \n",
       "278b76e3-5539-4a5e-ae3e-353a2e3b6d7d         4         jasola   2013   \n",
       "b1eab99b-a606-48dd-a75b-57feb8a9ad92         5  mumbai g.p.o.   2022   \n",
       "\n",
       "                                             bt      tt   ft        km  ip  \\\n",
       "usedCarSkuId                                                                 \n",
       "7111bf25-97af-47f9-867b-40879190d800  Hatchback  Manual  CNG    69,162   0   \n",
       "c309efc1-efaf-4f82-81ad-dcb38eb36665  Hatchback  Manual  CNG    45,864   0   \n",
       "7609f710-0c97-4f00-9a47-9b9284b62d3a      Sedan  Manual  CNG    81,506   0   \n",
       "278b76e3-5539-4a5e-ae3e-353a2e3b6d7d  Hatchback  Manual  CNG  1,15,893   0   \n",
       "b1eab99b-a606-48dd-a75b-57feb8a9ad92        MUV  Manual  CNG    18,900   0   \n",
       "\n",
       "                                                                                     pi  \\\n",
       "usedCarSkuId                                                                              \n",
       "7111bf25-97af-47f9-867b-40879190d800  https://images10.gaadi.com/usedcar_image/origi...   \n",
       "c309efc1-efaf-4f82-81ad-dcb38eb36665  https://images10.gaadi.com/usedcar_image/origi...   \n",
       "7609f710-0c97-4f00-9a47-9b9284b62d3a  https://images10.gaadi.com/usedcar_image/origi...   \n",
       "278b76e3-5539-4a5e-ae3e-353a2e3b6d7d                                                NaN   \n",
       "b1eab99b-a606-48dd-a75b-57feb8a9ad92  https://images10.gaadi.com/usedcar_image/origi...   \n",
       "\n",
       "                                                                                 images  \\\n",
       "usedCarSkuId                                                                              \n",
       "7111bf25-97af-47f9-867b-40879190d800  [{'img': 'https://images10.gaadi.com/usedcar_i...   \n",
       "c309efc1-efaf-4f82-81ad-dcb38eb36665  [{'img': 'https://images10.gaadi.com/usedcar_i...   \n",
       "7609f710-0c97-4f00-9a47-9b9284b62d3a  [{'img': 'https://images10.gaadi.com/usedcar_i...   \n",
       "278b76e3-5539-4a5e-ae3e-353a2e3b6d7d                                      [{'img': ''}]   \n",
       "b1eab99b-a606-48dd-a75b-57feb8a9ad92  [{'img': 'https://images10.gaadi.com/usedcar_i...   \n",
       "\n",
       "                                      ...  owner_type  price_segment_new  \\\n",
       "usedCarSkuId                          ...                                  \n",
       "7111bf25-97af-47f9-867b-40879190d800  ...       first        2lakh-5lakh   \n",
       "c309efc1-efaf-4f82-81ad-dcb38eb36665  ...       first        2lakh-5lakh   \n",
       "7609f710-0c97-4f00-9a47-9b9284b62d3a  ...      second        2lakh-5lakh   \n",
       "278b76e3-5539-4a5e-ae3e-353a2e3b6d7d  ...      second        2lakh-5lakh   \n",
       "b1eab99b-a606-48dd-a75b-57feb8a9ad92  ...       first            10+lakh   \n",
       "\n",
       "                                                   template_name_new  \\\n",
       "usedCarSkuId                                                           \n",
       "7111bf25-97af-47f9-867b-40879190d800  used cardetail v2/corporate/13   \n",
       "c309efc1-efaf-4f82-81ad-dcb38eb36665  used cardetail v2/corporate/13   \n",
       "7609f710-0c97-4f00-9a47-9b9284b62d3a  used cardetail v2/corporate/13   \n",
       "278b76e3-5539-4a5e-ae3e-353a2e3b6d7d  used cardetail v2/corporate/13   \n",
       "b1eab99b-a606-48dd-a75b-57feb8a9ad92               used cardetail v2   \n",
       "\n",
       "                                               page_template  \\\n",
       "usedCarSkuId                                                   \n",
       "7111bf25-97af-47f9-867b-40879190d800  Used Car > Detail Page   \n",
       "c309efc1-efaf-4f82-81ad-dcb38eb36665  Used Car > Detail Page   \n",
       "7609f710-0c97-4f00-9a47-9b9284b62d3a  Used Car > Detail Page   \n",
       "278b76e3-5539-4a5e-ae3e-353a2e3b6d7d  Used Car > Detail Page   \n",
       "b1eab99b-a606-48dd-a75b-57feb8a9ad92  Used Car > Detail Page   \n",
       "\n",
       "                                     template_Type_new  experiment  \\\n",
       "usedCarSkuId                                                         \n",
       "7111bf25-97af-47f9-867b-40879190d800              used     control   \n",
       "c309efc1-efaf-4f82-81ad-dcb38eb36665              used     control   \n",
       "7609f710-0c97-4f00-9a47-9b9284b62d3a              used     control   \n",
       "278b76e3-5539-4a5e-ae3e-353a2e3b6d7d              used     control   \n",
       "b1eab99b-a606-48dd-a75b-57feb8a9ad92              used     control   \n",
       "\n",
       "                                                   Fuel Suppy System  \\\n",
       "usedCarSkuId                                                           \n",
       "7111bf25-97af-47f9-867b-40879190d800                             NaN   \n",
       "c309efc1-efaf-4f82-81ad-dcb38eb36665  Intelligent-Gas Port Injection   \n",
       "7609f710-0c97-4f00-9a47-9b9284b62d3a                             NaN   \n",
       "278b76e3-5539-4a5e-ae3e-353a2e3b6d7d                            MPFI   \n",
       "b1eab99b-a606-48dd-a75b-57feb8a9ad92                             NaN   \n",
       "\n",
       "                                      Compression Ratio Alloy Wheel Size  \\\n",
       "usedCarSkuId                                                               \n",
       "7111bf25-97af-47f9-867b-40879190d800                NaN              NaN   \n",
       "c309efc1-efaf-4f82-81ad-dcb38eb36665             11.0:1              NaN   \n",
       "7609f710-0c97-4f00-9a47-9b9284b62d3a                NaN              NaN   \n",
       "278b76e3-5539-4a5e-ae3e-353a2e3b6d7d                NaN               13   \n",
       "b1eab99b-a606-48dd-a75b-57feb8a9ad92          12.0+-.03              NaN   \n",
       "\n",
       "                                     Ground Clearance Unladen  \n",
       "usedCarSkuId                                                   \n",
       "7111bf25-97af-47f9-867b-40879190d800                      NaN  \n",
       "c309efc1-efaf-4f82-81ad-dcb38eb36665                      NaN  \n",
       "7609f710-0c97-4f00-9a47-9b9284b62d3a                      NaN  \n",
       "278b76e3-5539-4a5e-ae3e-353a2e3b6d7d                      NaN  \n",
       "b1eab99b-a606-48dd-a75b-57feb8a9ad92                      NaN  \n",
       "\n",
       "[5 rows x 139 columns]"
      ]
     },
     "execution_count": 2,
     "metadata": {},
     "output_type": "execute_result"
    }
   ],
   "source": [
    "# The data can be found on kaggle link: https://www.kaggle.com/datasets/sukritchatterjee/used-cars-dataset-cardekho\n",
    "\n",
    "# file_path = \"/kaggle/input/used-cars-dataset-cardekho/cars_details_merges.csv\"\n",
    "file_path = '../data/raw/cardekho_cars_2023_03_19_16_44_14.csv'\n",
    "df = pd.read_csv(file_path, index_col=\"usedCarSkuId\")\n",
    "\n",
    "# sanity check\n",
    "df.head()"
   ]
  },
  {
   "cell_type": "markdown",
   "id": "21e911af",
   "metadata": {
    "papermill": {
     "duration": 0.024195,
     "end_time": "2023-03-25T19:14:17.866328",
     "exception": false,
     "start_time": "2023-03-25T19:14:17.842133",
     "status": "completed"
    },
    "tags": []
   },
   "source": [
    "The data has imported with some mixed data types. We will need to convert the data types as we explore the data."
   ]
  },
  {
   "cell_type": "code",
   "execution_count": 3,
   "id": "28301aa6",
   "metadata": {
    "execution": {
     "iopub.execute_input": "2023-03-25T19:14:17.915825Z",
     "iopub.status.busy": "2023-03-25T19:14:17.915451Z",
     "iopub.status.idle": "2023-03-25T19:14:17.921231Z",
     "shell.execute_reply": "2023-03-25T19:14:17.919885Z"
    },
    "papermill": {
     "duration": 0.032751,
     "end_time": "2023-03-25T19:14:17.923093",
     "exception": false,
     "start_time": "2023-03-25T19:14:17.890342",
     "status": "completed"
    },
    "tags": []
   },
   "outputs": [
    {
     "name": "stdout",
     "output_type": "stream",
     "text": [
      "The shape of the dataframe is 37814 rows and 139 columns\n"
     ]
    }
   ],
   "source": [
    "# checking the shape of the dataset\n",
    "shape = df.shape\n",
    "\n",
    "print(f\"The shape of the dataframe is {shape[0]} rows and {shape[1]} columns\")"
   ]
  },
  {
   "cell_type": "markdown",
   "id": "35018b7c",
   "metadata": {
    "papermill": {
     "duration": 0.023921,
     "end_time": "2023-03-25T19:14:17.970866",
     "exception": false,
     "start_time": "2023-03-25T19:14:17.946945",
     "status": "completed"
    },
    "tags": []
   },
   "source": [
    "As we can see, there are 37,814 rows and 139 columns in the dataset.\n",
    "\n",
    "Let's look at the data types of the columns."
   ]
  },
  {
   "cell_type": "code",
   "execution_count": 4,
   "id": "52f5ee61",
   "metadata": {
    "execution": {
     "iopub.execute_input": "2023-03-25T19:14:18.021516Z",
     "iopub.status.busy": "2023-03-25T19:14:18.021102Z",
     "iopub.status.idle": "2023-03-25T19:14:18.046587Z",
     "shell.execute_reply": "2023-03-25T19:14:18.045103Z"
    },
    "papermill": {
     "duration": 0.053782,
     "end_time": "2023-03-25T19:14:18.049633",
     "exception": false,
     "start_time": "2023-03-25T19:14:17.995851",
     "status": "completed"
    },
    "tags": []
   },
   "outputs": [
    {
     "name": "stdout",
     "output_type": "stream",
     "text": [
      "<class 'pandas.core.frame.DataFrame'>\n",
      "Index: 37814 entries, 7111bf25-97af-47f9-867b-40879190d800 to a96fbcd7-c183-4829-ae97-b2581afe4bac\n",
      "Columns: 139 entries, position to Ground Clearance Unladen\n",
      "dtypes: bool(3), float64(10), int64(28), object(98)\n",
      "memory usage: 39.6+ MB\n"
     ]
    }
   ],
   "source": [
    "df.info()"
   ]
  },
  {
   "cell_type": "markdown",
   "id": "99d082cf",
   "metadata": {
    "papermill": {
     "duration": 0.023645,
     "end_time": "2023-03-25T19:14:18.097393",
     "exception": false,
     "start_time": "2023-03-25T19:14:18.073748",
     "status": "completed"
    },
    "tags": []
   },
   "source": [
    "Let's take a look at the feature dictionary provided with the dataset."
   ]
  },
  {
   "cell_type": "code",
   "execution_count": 5,
   "id": "e7bdf3a5",
   "metadata": {
    "execution": {
     "iopub.execute_input": "2023-03-25T19:14:18.147590Z",
     "iopub.status.busy": "2023-03-25T19:14:18.147212Z",
     "iopub.status.idle": "2023-03-25T19:14:18.168016Z",
     "shell.execute_reply": "2023-03-25T19:14:18.167065Z"
    },
    "papermill": {
     "duration": 0.048369,
     "end_time": "2023-03-25T19:14:18.170140",
     "exception": false,
     "start_time": "2023-03-25T19:14:18.121771",
     "status": "completed"
    },
    "tags": []
   },
   "outputs": [
    {
     "data": {
      "text/html": [
       "<div>\n",
       "<style scoped>\n",
       "    .dataframe tbody tr th:only-of-type {\n",
       "        vertical-align: middle;\n",
       "    }\n",
       "\n",
       "    .dataframe tbody tr th {\n",
       "        vertical-align: top;\n",
       "    }\n",
       "\n",
       "    .dataframe thead th {\n",
       "        text-align: right;\n",
       "    }\n",
       "</style>\n",
       "<table border=\"1\" class=\"dataframe\">\n",
       "  <thead>\n",
       "    <tr style=\"text-align: right;\">\n",
       "      <th></th>\n",
       "      <th>Feature</th>\n",
       "      <th>Type</th>\n",
       "      <th>Sample</th>\n",
       "      <th>Missing Values</th>\n",
       "      <th>Unique Values</th>\n",
       "      <th>Description</th>\n",
       "    </tr>\n",
       "  </thead>\n",
       "  <tbody>\n",
       "    <tr>\n",
       "      <th>0</th>\n",
       "      <td>position</td>\n",
       "      <td>int64</td>\n",
       "      <td>1</td>\n",
       "      <td>0</td>\n",
       "      <td>20</td>\n",
       "      <td>Position of the car in the list</td>\n",
       "    </tr>\n",
       "    <tr>\n",
       "      <th>1</th>\n",
       "      <td>loc</td>\n",
       "      <td>object</td>\n",
       "      <td>Gomti Nagar</td>\n",
       "      <td>5851</td>\n",
       "      <td>511</td>\n",
       "      <td>Location of the car</td>\n",
       "    </tr>\n",
       "    <tr>\n",
       "      <th>2</th>\n",
       "      <td>myear</td>\n",
       "      <td>int64</td>\n",
       "      <td>2016</td>\n",
       "      <td>0</td>\n",
       "      <td>34</td>\n",
       "      <td>Manufacturing year of the car</td>\n",
       "    </tr>\n",
       "    <tr>\n",
       "      <th>3</th>\n",
       "      <td>bt</td>\n",
       "      <td>object</td>\n",
       "      <td>Hatchback</td>\n",
       "      <td>19</td>\n",
       "      <td>11</td>\n",
       "      <td>Body type of the car</td>\n",
       "    </tr>\n",
       "    <tr>\n",
       "      <th>4</th>\n",
       "      <td>tt</td>\n",
       "      <td>object</td>\n",
       "      <td>Manual</td>\n",
       "      <td>0</td>\n",
       "      <td>2</td>\n",
       "      <td>Transmission type of the car</td>\n",
       "    </tr>\n",
       "    <tr>\n",
       "      <th>...</th>\n",
       "      <td>...</td>\n",
       "      <td>...</td>\n",
       "      <td>...</td>\n",
       "      <td>...</td>\n",
       "      <td>...</td>\n",
       "      <td>...</td>\n",
       "    </tr>\n",
       "    <tr>\n",
       "      <th>135</th>\n",
       "      <td>experiment</td>\n",
       "      <td>object</td>\n",
       "      <td>control</td>\n",
       "      <td>0</td>\n",
       "      <td>1</td>\n",
       "      <td>control</td>\n",
       "    </tr>\n",
       "    <tr>\n",
       "      <th>136</th>\n",
       "      <td>Fuel Suppy System</td>\n",
       "      <td>object</td>\n",
       "      <td>NaN</td>\n",
       "      <td>5502</td>\n",
       "      <td>99</td>\n",
       "      <td>Type of fuel supply system (Carburetor, Fuel I...</td>\n",
       "    </tr>\n",
       "    <tr>\n",
       "      <th>137</th>\n",
       "      <td>Compression Ratio</td>\n",
       "      <td>object</td>\n",
       "      <td>NaN</td>\n",
       "      <td>27642</td>\n",
       "      <td>100</td>\n",
       "      <td>Compression ratio of the engine</td>\n",
       "    </tr>\n",
       "    <tr>\n",
       "      <th>138</th>\n",
       "      <td>Alloy Wheel Size</td>\n",
       "      <td>object</td>\n",
       "      <td>NaN</td>\n",
       "      <td>13146</td>\n",
       "      <td>18</td>\n",
       "      <td>Size of the alloy wheels in inches</td>\n",
       "    </tr>\n",
       "    <tr>\n",
       "      <th>139</th>\n",
       "      <td>Ground Clearance Unladen</td>\n",
       "      <td>object</td>\n",
       "      <td>NaN</td>\n",
       "      <td>35662</td>\n",
       "      <td>31</td>\n",
       "      <td>Ground clearance of the car when it is not loa...</td>\n",
       "    </tr>\n",
       "  </tbody>\n",
       "</table>\n",
       "<p>140 rows × 6 columns</p>\n",
       "</div>"
      ],
      "text/plain": [
       "                      Feature    Type       Sample  Missing Values  \\\n",
       "0                    position   int64            1               0   \n",
       "1                         loc  object  Gomti Nagar            5851   \n",
       "2                       myear   int64         2016               0   \n",
       "3                          bt  object    Hatchback              19   \n",
       "4                          tt  object       Manual               0   \n",
       "..                        ...     ...          ...             ...   \n",
       "135                experiment  object      control               0   \n",
       "136         Fuel Suppy System  object          NaN            5502   \n",
       "137         Compression Ratio  object          NaN           27642   \n",
       "138          Alloy Wheel Size  object          NaN           13146   \n",
       "139  Ground Clearance Unladen  object          NaN           35662   \n",
       "\n",
       "     Unique Values                                        Description  \n",
       "0               20                    Position of the car in the list  \n",
       "1              511                                Location of the car  \n",
       "2               34                      Manufacturing year of the car  \n",
       "3               11                               Body type of the car  \n",
       "4                2                       Transmission type of the car  \n",
       "..             ...                                                ...  \n",
       "135              1                                            control  \n",
       "136             99  Type of fuel supply system (Carburetor, Fuel I...  \n",
       "137            100                    Compression ratio of the engine  \n",
       "138             18                 Size of the alloy wheels in inches  \n",
       "139             31  Ground clearance of the car when it is not loa...  \n",
       "\n",
       "[140 rows x 6 columns]"
      ]
     },
     "execution_count": 5,
     "metadata": {},
     "output_type": "execute_result"
    }
   ],
   "source": [
    "# feature_dictionary = pd.read_csv(\"/kaggle/input/used-cars-dataset-cardekho/feature_dictionary.csv\")\n",
    "feature_dictionary = pd.read_csv(\"../data/feature_dictionary_raw.csv\")\n",
    "feature_dictionary"
   ]
  },
  {
   "cell_type": "markdown",
   "id": "62da88c9",
   "metadata": {
    "papermill": {
     "duration": 0.023878,
     "end_time": "2023-03-25T19:14:18.219579",
     "exception": false,
     "start_time": "2023-03-25T19:14:18.195701",
     "status": "completed"
    },
    "tags": []
   },
   "source": [
    "Now comes the difficult task. Go through the feature dictionary and remove the unwanted columns - features which might be repeated but not totally apparent. Note down the columns which makes sense to keep and are not repeating and delete the rest."
   ]
  },
  {
   "cell_type": "code",
   "execution_count": 6,
   "id": "541449df",
   "metadata": {
    "execution": {
     "iopub.execute_input": "2023-03-25T19:14:18.270434Z",
     "iopub.status.busy": "2023-03-25T19:14:18.269952Z",
     "iopub.status.idle": "2023-03-25T19:14:18.297711Z",
     "shell.execute_reply": "2023-03-25T19:14:18.296657Z"
    },
    "papermill": {
     "duration": 0.056565,
     "end_time": "2023-03-25T19:14:18.300368",
     "exception": false,
     "start_time": "2023-03-25T19:14:18.243803",
     "status": "completed"
    },
    "tags": []
   },
   "outputs": [
    {
     "name": "stdout",
     "output_type": "stream",
     "text": [
      "After dropping some unnecessary columns, the dataset now has 62 columns. These columns are hand picked and will be be further analyzed.\n"
     ]
    }
   ],
   "source": [
    "columns_to_keep = [\n",
    "    \"loc\",\n",
    "    \"myear\",\n",
    "    \"bt\",\n",
    "    \"tt\",\n",
    "    \"ft\",\n",
    "    \"km\",\n",
    "    \"ip\",\n",
    "    \"images\",\n",
    "    \"imgCount\",\n",
    "    \"threesixty\",\n",
    "    \"dvn\",\n",
    "    \"oem\",\n",
    "    \"model\",\n",
    "    \"variantName\",\n",
    "    \"city_x\",\n",
    "    \"pu\",\n",
    "    \"discountValue\",\n",
    "    \"utype\",\n",
    "    \"carType\", \n",
    "    \"top_features\",\n",
    "    \"comfort_features\",\n",
    "    \"interior_features\",\n",
    "    \"exterior_features\",\n",
    "    \"safety_features\",\n",
    "    \"Color\",\n",
    "    \"Engine Type\",\n",
    "    \"Max Power\",\n",
    "    \"Max Torque\",\n",
    "    \"No of Cylinder\",\n",
    "    \"Values per Cylinder\",\n",
    "    \"Value Configuration\",\n",
    "    \"BoreX Stroke\",\n",
    "    \"Turbo Charger\",\n",
    "    \"Super Charger\",\n",
    "    \"Length\",\n",
    "    \"Width\",\n",
    "    \"Height\",\n",
    "    \"Wheel Base\",\n",
    "    \"Front Tread\",\n",
    "    \"Rear Tread\",\n",
    "    \"Kerb Weight\",\n",
    "    \"Gross Weight\",\n",
    "    \"Gear Box\",\n",
    "    \"Drive Type\",\n",
    "    \"Seating Capacity\",\n",
    "    \"Steering Type\",\n",
    "    \"Turning Radius\",\n",
    "    \"Front Brake Type\",\n",
    "    \"Rear Brake Type\",\n",
    "    \"Top Speed\",\n",
    "    \"Acceleration\",\n",
    "    \"Tyre Type\",\n",
    "    \"No Door Numbers\",\n",
    "    \"Cargo Volumn\",\n",
    "    \"model_type_new\",\n",
    "    \"state\",\n",
    "    \"owner_type\",\n",
    "    \"exterior_color\",\n",
    "    \"Fuel Suppy System\",\n",
    "    \"Compression Ratio\",\n",
    "    \"Alloy Wheel Size\",\n",
    "    \"Ground Clearance Unladen\",\n",
    "]\n",
    "\n",
    "df.drop([x for x in df.columns if x not in columns_to_keep], axis=1, inplace=True)\n",
    "print(f\"After dropping some unnecessary columns, the dataset now has {df.shape[1]} columns. These columns are hand picked and will be be further analyzed.\")"
   ]
  },
  {
   "cell_type": "markdown",
   "id": "47731454",
   "metadata": {
    "papermill": {
     "duration": 0.023952,
     "end_time": "2023-03-25T19:14:18.349369",
     "exception": false,
     "start_time": "2023-03-25T19:14:18.325417",
     "status": "completed"
    },
    "tags": []
   },
   "source": [
    "---"
   ]
  },
  {
   "cell_type": "markdown",
   "id": "38a95283",
   "metadata": {
    "papermill": {
     "duration": 0.023709,
     "end_time": "2023-03-25T19:14:18.397963",
     "exception": false,
     "start_time": "2023-03-25T19:14:18.374254",
     "status": "completed"
    },
    "tags": []
   },
   "source": [
    "### Data cleaning and wrangling\n",
    "\n",
    "* Dropping duplicate rows\n",
    "* Fixing the values and data types of the columns\n",
    "* Checking for multicollinearity and determining how to handle it\n",
    "* Dropping irrelevant columns for the model\n",
    "* Saving the cleaned data for the next part of the project\n",
    "\n",
    "---"
   ]
  },
  {
   "cell_type": "markdown",
   "id": "8f8466c6",
   "metadata": {
    "papermill": {
     "duration": 0.024065,
     "end_time": "2023-03-25T19:14:18.447453",
     "exception": false,
     "start_time": "2023-03-25T19:14:18.423388",
     "status": "completed"
    },
    "tags": []
   },
   "source": [
    "### Duplicates\n",
    "\n",
    "We know that there should be no duplicates in the data. They are checked for and removed at the time of data collection. *(Trust me, I collected it myself 😉 )*"
   ]
  },
  {
   "cell_type": "code",
   "execution_count": 7,
   "id": "98c91f16",
   "metadata": {
    "execution": {
     "iopub.execute_input": "2023-03-25T19:14:18.498635Z",
     "iopub.status.busy": "2023-03-25T19:14:18.497756Z",
     "iopub.status.idle": "2023-03-25T19:14:18.745419Z",
     "shell.execute_reply": "2023-03-25T19:14:18.743909Z"
    },
    "papermill": {
     "duration": 0.276179,
     "end_time": "2023-03-25T19:14:18.748028",
     "exception": false,
     "start_time": "2023-03-25T19:14:18.471849",
     "status": "completed"
    },
    "tags": []
   },
   "outputs": [
    {
     "name": "stdout",
     "output_type": "stream",
     "text": [
      "The number of duplicate rows are 1.\n"
     ]
    }
   ],
   "source": [
    "# checking for duplicate rows\n",
    "duplucate_rows = df.duplicated().sum()\n",
    "\n",
    "print(f\"The number of duplicate rows are {duplucate_rows}.\")"
   ]
  },
  {
   "cell_type": "markdown",
   "id": "6abfd45d",
   "metadata": {
    "papermill": {
     "duration": 0.025095,
     "end_time": "2023-03-25T19:14:18.797384",
     "exception": false,
     "start_time": "2023-03-25T19:14:18.772289",
     "status": "completed"
    },
    "tags": []
   },
   "source": [
    "Somehow, one duplicate row sneaked in (that's awkward 🫣)! Let's check the rows."
   ]
  },
  {
   "cell_type": "code",
   "execution_count": 8,
   "id": "4789a7d6",
   "metadata": {
    "execution": {
     "iopub.execute_input": "2023-03-25T19:14:18.848909Z",
     "iopub.status.busy": "2023-03-25T19:14:18.848549Z",
     "iopub.status.idle": "2023-03-25T19:14:19.108255Z",
     "shell.execute_reply": "2023-03-25T19:14:19.107087Z"
    },
    "papermill": {
     "duration": 0.288691,
     "end_time": "2023-03-25T19:14:19.111117",
     "exception": false,
     "start_time": "2023-03-25T19:14:18.822426",
     "status": "completed"
    },
    "tags": []
   },
   "outputs": [
    {
     "data": {
      "text/html": [
       "<div>\n",
       "<style scoped>\n",
       "    .dataframe tbody tr th:only-of-type {\n",
       "        vertical-align: middle;\n",
       "    }\n",
       "\n",
       "    .dataframe tbody tr th {\n",
       "        vertical-align: top;\n",
       "    }\n",
       "\n",
       "    .dataframe thead th {\n",
       "        text-align: right;\n",
       "    }\n",
       "</style>\n",
       "<table border=\"1\" class=\"dataframe\">\n",
       "  <thead>\n",
       "    <tr style=\"text-align: right;\">\n",
       "      <th></th>\n",
       "      <th>loc</th>\n",
       "      <th>myear</th>\n",
       "      <th>bt</th>\n",
       "      <th>tt</th>\n",
       "      <th>ft</th>\n",
       "      <th>km</th>\n",
       "      <th>ip</th>\n",
       "      <th>images</th>\n",
       "      <th>imgCount</th>\n",
       "      <th>threesixty</th>\n",
       "      <th>...</th>\n",
       "      <th>No Door Numbers</th>\n",
       "      <th>Cargo Volumn</th>\n",
       "      <th>model_type_new</th>\n",
       "      <th>state</th>\n",
       "      <th>exterior_color</th>\n",
       "      <th>owner_type</th>\n",
       "      <th>Fuel Suppy System</th>\n",
       "      <th>Compression Ratio</th>\n",
       "      <th>Alloy Wheel Size</th>\n",
       "      <th>Ground Clearance Unladen</th>\n",
       "    </tr>\n",
       "    <tr>\n",
       "      <th>usedCarSkuId</th>\n",
       "      <th></th>\n",
       "      <th></th>\n",
       "      <th></th>\n",
       "      <th></th>\n",
       "      <th></th>\n",
       "      <th></th>\n",
       "      <th></th>\n",
       "      <th></th>\n",
       "      <th></th>\n",
       "      <th></th>\n",
       "      <th></th>\n",
       "      <th></th>\n",
       "      <th></th>\n",
       "      <th></th>\n",
       "      <th></th>\n",
       "      <th></th>\n",
       "      <th></th>\n",
       "      <th></th>\n",
       "      <th></th>\n",
       "      <th></th>\n",
       "      <th></th>\n",
       "    </tr>\n",
       "  </thead>\n",
       "  <tbody>\n",
       "    <tr>\n",
       "      <th>aa39e640-6183-4379-a517-9f5b2458b2a5</th>\n",
       "      <td>NaN</td>\n",
       "      <td>2014</td>\n",
       "      <td>Hatchback</td>\n",
       "      <td>Manual</td>\n",
       "      <td>Diesel</td>\n",
       "      <td>70,000</td>\n",
       "      <td>0</td>\n",
       "      <td>[{'img': ''}]</td>\n",
       "      <td>0</td>\n",
       "      <td>False</td>\n",
       "      <td>...</td>\n",
       "      <td>5.000</td>\n",
       "      <td>204-liters</td>\n",
       "      <td>used</td>\n",
       "      <td>uttar pradesh</td>\n",
       "      <td>Silver</td>\n",
       "      <td>second</td>\n",
       "      <td>CRDI</td>\n",
       "      <td>17.6:1</td>\n",
       "      <td>NaN</td>\n",
       "      <td>NaN</td>\n",
       "    </tr>\n",
       "    <tr>\n",
       "      <th>ce8b30d8-c438-4a2f-bce1-5c1887a95495</th>\n",
       "      <td>NaN</td>\n",
       "      <td>2014</td>\n",
       "      <td>Hatchback</td>\n",
       "      <td>Manual</td>\n",
       "      <td>Diesel</td>\n",
       "      <td>70,000</td>\n",
       "      <td>0</td>\n",
       "      <td>[{'img': ''}]</td>\n",
       "      <td>0</td>\n",
       "      <td>False</td>\n",
       "      <td>...</td>\n",
       "      <td>5.000</td>\n",
       "      <td>204-liters</td>\n",
       "      <td>used</td>\n",
       "      <td>uttar pradesh</td>\n",
       "      <td>Silver</td>\n",
       "      <td>second</td>\n",
       "      <td>CRDI</td>\n",
       "      <td>17.6:1</td>\n",
       "      <td>NaN</td>\n",
       "      <td>NaN</td>\n",
       "    </tr>\n",
       "  </tbody>\n",
       "</table>\n",
       "<p>2 rows × 62 columns</p>\n",
       "</div>"
      ],
      "text/plain": [
       "                                      loc  myear         bt      tt      ft  \\\n",
       "usedCarSkuId                                                                  \n",
       "aa39e640-6183-4379-a517-9f5b2458b2a5  NaN   2014  Hatchback  Manual  Diesel   \n",
       "ce8b30d8-c438-4a2f-bce1-5c1887a95495  NaN   2014  Hatchback  Manual  Diesel   \n",
       "\n",
       "                                          km  ip         images  imgCount  \\\n",
       "usedCarSkuId                                                                \n",
       "aa39e640-6183-4379-a517-9f5b2458b2a5  70,000   0  [{'img': ''}]         0   \n",
       "ce8b30d8-c438-4a2f-bce1-5c1887a95495  70,000   0  [{'img': ''}]         0   \n",
       "\n",
       "                                      threesixty  ... No Door Numbers  \\\n",
       "usedCarSkuId                                      ...                   \n",
       "aa39e640-6183-4379-a517-9f5b2458b2a5       False  ...           5.000   \n",
       "ce8b30d8-c438-4a2f-bce1-5c1887a95495       False  ...           5.000   \n",
       "\n",
       "                                     Cargo Volumn model_type_new  \\\n",
       "usedCarSkuId                                                       \n",
       "aa39e640-6183-4379-a517-9f5b2458b2a5   204-liters           used   \n",
       "ce8b30d8-c438-4a2f-bce1-5c1887a95495   204-liters           used   \n",
       "\n",
       "                                              state exterior_color owner_type  \\\n",
       "usedCarSkuId                                                                    \n",
       "aa39e640-6183-4379-a517-9f5b2458b2a5  uttar pradesh         Silver     second   \n",
       "ce8b30d8-c438-4a2f-bce1-5c1887a95495  uttar pradesh         Silver     second   \n",
       "\n",
       "                                      Fuel Suppy System Compression Ratio  \\\n",
       "usedCarSkuId                                                                \n",
       "aa39e640-6183-4379-a517-9f5b2458b2a5               CRDI            17.6:1   \n",
       "ce8b30d8-c438-4a2f-bce1-5c1887a95495               CRDI            17.6:1   \n",
       "\n",
       "                                     Alloy Wheel Size Ground Clearance Unladen  \n",
       "usedCarSkuId                                                                    \n",
       "aa39e640-6183-4379-a517-9f5b2458b2a5              NaN                      NaN  \n",
       "ce8b30d8-c438-4a2f-bce1-5c1887a95495              NaN                      NaN  \n",
       "\n",
       "[2 rows x 62 columns]"
      ]
     },
     "execution_count": 8,
     "metadata": {},
     "output_type": "execute_result"
    }
   ],
   "source": [
    "# setting the duplicated index\n",
    "duplicate_index = df.duplicated(keep=False)\n",
    "\n",
    "# calling the duplicated index in a dataframe\n",
    "df.loc[duplicate_index, :].sort_index()"
   ]
  },
  {
   "cell_type": "markdown",
   "id": "665d6478",
   "metadata": {
    "papermill": {
     "duration": 0.035626,
     "end_time": "2023-03-25T19:14:19.171947",
     "exception": false,
     "start_time": "2023-03-25T19:14:19.136321",
     "status": "completed"
    },
    "tags": []
   },
   "source": [
    "As we can see, the rows are exactly the same. This means we can safely drop the row. Since the we indexed by the usedCarSkuId, we need to drop one of them by their index."
   ]
  },
  {
   "cell_type": "code",
   "execution_count": 9,
   "id": "810bc8b2",
   "metadata": {
    "execution": {
     "iopub.execute_input": "2023-03-25T19:14:19.236493Z",
     "iopub.status.busy": "2023-03-25T19:14:19.236134Z",
     "iopub.status.idle": "2023-03-25T19:14:19.746212Z",
     "shell.execute_reply": "2023-03-25T19:14:19.744519Z"
    },
    "papermill": {
     "duration": 0.541913,
     "end_time": "2023-03-25T19:14:19.748785",
     "exception": false,
     "start_time": "2023-03-25T19:14:19.206872",
     "status": "completed"
    },
    "tags": []
   },
   "outputs": [
    {
     "name": "stdout",
     "output_type": "stream",
     "text": [
      "The number of duplicate rows are 0.\n"
     ]
    }
   ],
   "source": [
    "# making a copy with the duplicated rows dropped\n",
    "df2 = df.drop_duplicates().copy()\n",
    "\n",
    "# checking for duplicate rows in the new dataframe\n",
    "dup = df2.duplicated().sum()\n",
    "\n",
    "print(f\"The number of duplicate rows are {dup}.\")"
   ]
  },
  {
   "cell_type": "code",
   "execution_count": 10,
   "id": "8640e653",
   "metadata": {
    "execution": {
     "iopub.execute_input": "2023-03-25T19:14:19.800601Z",
     "iopub.status.busy": "2023-03-25T19:14:19.800187Z",
     "iopub.status.idle": "2023-03-25T19:14:19.825926Z",
     "shell.execute_reply": "2023-03-25T19:14:19.824829Z"
    },
    "papermill": {
     "duration": 0.054017,
     "end_time": "2023-03-25T19:14:19.827919",
     "exception": false,
     "start_time": "2023-03-25T19:14:19.773902",
     "status": "completed"
    },
    "tags": []
   },
   "outputs": [
    {
     "data": {
      "text/html": [
       "<div>\n",
       "<style scoped>\n",
       "    .dataframe tbody tr th:only-of-type {\n",
       "        vertical-align: middle;\n",
       "    }\n",
       "\n",
       "    .dataframe tbody tr th {\n",
       "        vertical-align: top;\n",
       "    }\n",
       "\n",
       "    .dataframe thead th {\n",
       "        text-align: right;\n",
       "    }\n",
       "</style>\n",
       "<table border=\"1\" class=\"dataframe\">\n",
       "  <thead>\n",
       "    <tr style=\"text-align: right;\">\n",
       "      <th></th>\n",
       "      <th>loc</th>\n",
       "      <th>myear</th>\n",
       "      <th>bt</th>\n",
       "      <th>tt</th>\n",
       "      <th>ft</th>\n",
       "      <th>km</th>\n",
       "      <th>ip</th>\n",
       "      <th>images</th>\n",
       "      <th>imgCount</th>\n",
       "      <th>threesixty</th>\n",
       "      <th>...</th>\n",
       "      <th>No Door Numbers</th>\n",
       "      <th>Cargo Volumn</th>\n",
       "      <th>model_type_new</th>\n",
       "      <th>state</th>\n",
       "      <th>exterior_color</th>\n",
       "      <th>owner_type</th>\n",
       "      <th>Fuel Suppy System</th>\n",
       "      <th>Compression Ratio</th>\n",
       "      <th>Alloy Wheel Size</th>\n",
       "      <th>Ground Clearance Unladen</th>\n",
       "    </tr>\n",
       "    <tr>\n",
       "      <th>usedCarSkuId</th>\n",
       "      <th></th>\n",
       "      <th></th>\n",
       "      <th></th>\n",
       "      <th></th>\n",
       "      <th></th>\n",
       "      <th></th>\n",
       "      <th></th>\n",
       "      <th></th>\n",
       "      <th></th>\n",
       "      <th></th>\n",
       "      <th></th>\n",
       "      <th></th>\n",
       "      <th></th>\n",
       "      <th></th>\n",
       "      <th></th>\n",
       "      <th></th>\n",
       "      <th></th>\n",
       "      <th></th>\n",
       "      <th></th>\n",
       "      <th></th>\n",
       "      <th></th>\n",
       "    </tr>\n",
       "  </thead>\n",
       "  <tbody>\n",
       "    <tr>\n",
       "      <th>7111bf25-97af-47f9-867b-40879190d800</th>\n",
       "      <td>Gomti Nagar</td>\n",
       "      <td>2016</td>\n",
       "      <td>Hatchback</td>\n",
       "      <td>Manual</td>\n",
       "      <td>CNG</td>\n",
       "      <td>69,162</td>\n",
       "      <td>0</td>\n",
       "      <td>[{'img': 'https://images10.gaadi.com/usedcar_i...</td>\n",
       "      <td>15</td>\n",
       "      <td>False</td>\n",
       "      <td>...</td>\n",
       "      <td>5.000</td>\n",
       "      <td>180-liters</td>\n",
       "      <td>used</td>\n",
       "      <td>uttar pradesh</td>\n",
       "      <td>Silver</td>\n",
       "      <td>first</td>\n",
       "      <td>NaN</td>\n",
       "      <td>NaN</td>\n",
       "      <td>NaN</td>\n",
       "      <td>NaN</td>\n",
       "    </tr>\n",
       "    <tr>\n",
       "      <th>c309efc1-efaf-4f82-81ad-dcb38eb36665</th>\n",
       "      <td>Borivali West</td>\n",
       "      <td>2015</td>\n",
       "      <td>Hatchback</td>\n",
       "      <td>Manual</td>\n",
       "      <td>CNG</td>\n",
       "      <td>45,864</td>\n",
       "      <td>0</td>\n",
       "      <td>[{'img': 'https://images10.gaadi.com/usedcar_i...</td>\n",
       "      <td>15</td>\n",
       "      <td>False</td>\n",
       "      <td>...</td>\n",
       "      <td>5.000</td>\n",
       "      <td>235-litres</td>\n",
       "      <td>used</td>\n",
       "      <td>maharashtra</td>\n",
       "      <td>Grey</td>\n",
       "      <td>first</td>\n",
       "      <td>Intelligent-Gas Port Injection</td>\n",
       "      <td>11.0:1</td>\n",
       "      <td>NaN</td>\n",
       "      <td>NaN</td>\n",
       "    </tr>\n",
       "    <tr>\n",
       "      <th>7609f710-0c97-4f00-9a47-9b9284b62d3a</th>\n",
       "      <td>JASOLA</td>\n",
       "      <td>2015</td>\n",
       "      <td>Sedan</td>\n",
       "      <td>Manual</td>\n",
       "      <td>CNG</td>\n",
       "      <td>81,506</td>\n",
       "      <td>0</td>\n",
       "      <td>[{'img': 'https://images10.gaadi.com/usedcar_i...</td>\n",
       "      <td>15</td>\n",
       "      <td>False</td>\n",
       "      <td>...</td>\n",
       "      <td>4.000</td>\n",
       "      <td>400-litres</td>\n",
       "      <td>used</td>\n",
       "      <td>delhi</td>\n",
       "      <td>Silver</td>\n",
       "      <td>second</td>\n",
       "      <td>NaN</td>\n",
       "      <td>NaN</td>\n",
       "      <td>NaN</td>\n",
       "      <td>NaN</td>\n",
       "    </tr>\n",
       "    <tr>\n",
       "      <th>278b76e3-5539-4a5e-ae3e-353a2e3b6d7d</th>\n",
       "      <td>jasola</td>\n",
       "      <td>2013</td>\n",
       "      <td>Hatchback</td>\n",
       "      <td>Manual</td>\n",
       "      <td>CNG</td>\n",
       "      <td>1,15,893</td>\n",
       "      <td>0</td>\n",
       "      <td>[{'img': ''}]</td>\n",
       "      <td>0</td>\n",
       "      <td>False</td>\n",
       "      <td>...</td>\n",
       "      <td>4.000</td>\n",
       "      <td>NaN</td>\n",
       "      <td>used</td>\n",
       "      <td>delhi</td>\n",
       "      <td>Silver</td>\n",
       "      <td>second</td>\n",
       "      <td>MPFI</td>\n",
       "      <td>NaN</td>\n",
       "      <td>13</td>\n",
       "      <td>NaN</td>\n",
       "    </tr>\n",
       "    <tr>\n",
       "      <th>b1eab99b-a606-48dd-a75b-57feb8a9ad92</th>\n",
       "      <td>mumbai g.p.o.</td>\n",
       "      <td>2022</td>\n",
       "      <td>MUV</td>\n",
       "      <td>Manual</td>\n",
       "      <td>CNG</td>\n",
       "      <td>18,900</td>\n",
       "      <td>0</td>\n",
       "      <td>[{'img': 'https://images10.gaadi.com/usedcar_i...</td>\n",
       "      <td>6</td>\n",
       "      <td>False</td>\n",
       "      <td>...</td>\n",
       "      <td>5.000</td>\n",
       "      <td>NaN</td>\n",
       "      <td>used</td>\n",
       "      <td>maharashtra</td>\n",
       "      <td>White</td>\n",
       "      <td>first</td>\n",
       "      <td>NaN</td>\n",
       "      <td>12.0+-.03</td>\n",
       "      <td>NaN</td>\n",
       "      <td>NaN</td>\n",
       "    </tr>\n",
       "  </tbody>\n",
       "</table>\n",
       "<p>5 rows × 62 columns</p>\n",
       "</div>"
      ],
      "text/plain": [
       "                                                loc  myear         bt      tt  \\\n",
       "usedCarSkuId                                                                    \n",
       "7111bf25-97af-47f9-867b-40879190d800    Gomti Nagar   2016  Hatchback  Manual   \n",
       "c309efc1-efaf-4f82-81ad-dcb38eb36665  Borivali West   2015  Hatchback  Manual   \n",
       "7609f710-0c97-4f00-9a47-9b9284b62d3a         JASOLA   2015      Sedan  Manual   \n",
       "278b76e3-5539-4a5e-ae3e-353a2e3b6d7d         jasola   2013  Hatchback  Manual   \n",
       "b1eab99b-a606-48dd-a75b-57feb8a9ad92  mumbai g.p.o.   2022        MUV  Manual   \n",
       "\n",
       "                                       ft        km  ip  \\\n",
       "usedCarSkuId                                              \n",
       "7111bf25-97af-47f9-867b-40879190d800  CNG    69,162   0   \n",
       "c309efc1-efaf-4f82-81ad-dcb38eb36665  CNG    45,864   0   \n",
       "7609f710-0c97-4f00-9a47-9b9284b62d3a  CNG    81,506   0   \n",
       "278b76e3-5539-4a5e-ae3e-353a2e3b6d7d  CNG  1,15,893   0   \n",
       "b1eab99b-a606-48dd-a75b-57feb8a9ad92  CNG    18,900   0   \n",
       "\n",
       "                                                                                 images  \\\n",
       "usedCarSkuId                                                                              \n",
       "7111bf25-97af-47f9-867b-40879190d800  [{'img': 'https://images10.gaadi.com/usedcar_i...   \n",
       "c309efc1-efaf-4f82-81ad-dcb38eb36665  [{'img': 'https://images10.gaadi.com/usedcar_i...   \n",
       "7609f710-0c97-4f00-9a47-9b9284b62d3a  [{'img': 'https://images10.gaadi.com/usedcar_i...   \n",
       "278b76e3-5539-4a5e-ae3e-353a2e3b6d7d                                      [{'img': ''}]   \n",
       "b1eab99b-a606-48dd-a75b-57feb8a9ad92  [{'img': 'https://images10.gaadi.com/usedcar_i...   \n",
       "\n",
       "                                      imgCount  threesixty  ...  \\\n",
       "usedCarSkuId                                                ...   \n",
       "7111bf25-97af-47f9-867b-40879190d800        15       False  ...   \n",
       "c309efc1-efaf-4f82-81ad-dcb38eb36665        15       False  ...   \n",
       "7609f710-0c97-4f00-9a47-9b9284b62d3a        15       False  ...   \n",
       "278b76e3-5539-4a5e-ae3e-353a2e3b6d7d         0       False  ...   \n",
       "b1eab99b-a606-48dd-a75b-57feb8a9ad92         6       False  ...   \n",
       "\n",
       "                                     No Door Numbers Cargo Volumn  \\\n",
       "usedCarSkuId                                                        \n",
       "7111bf25-97af-47f9-867b-40879190d800           5.000   180-liters   \n",
       "c309efc1-efaf-4f82-81ad-dcb38eb36665           5.000   235-litres   \n",
       "7609f710-0c97-4f00-9a47-9b9284b62d3a           4.000   400-litres   \n",
       "278b76e3-5539-4a5e-ae3e-353a2e3b6d7d           4.000          NaN   \n",
       "b1eab99b-a606-48dd-a75b-57feb8a9ad92           5.000          NaN   \n",
       "\n",
       "                                     model_type_new          state  \\\n",
       "usedCarSkuId                                                         \n",
       "7111bf25-97af-47f9-867b-40879190d800           used  uttar pradesh   \n",
       "c309efc1-efaf-4f82-81ad-dcb38eb36665           used    maharashtra   \n",
       "7609f710-0c97-4f00-9a47-9b9284b62d3a           used          delhi   \n",
       "278b76e3-5539-4a5e-ae3e-353a2e3b6d7d           used          delhi   \n",
       "b1eab99b-a606-48dd-a75b-57feb8a9ad92           used    maharashtra   \n",
       "\n",
       "                                     exterior_color owner_type  \\\n",
       "usedCarSkuId                                                     \n",
       "7111bf25-97af-47f9-867b-40879190d800         Silver      first   \n",
       "c309efc1-efaf-4f82-81ad-dcb38eb36665           Grey      first   \n",
       "7609f710-0c97-4f00-9a47-9b9284b62d3a         Silver     second   \n",
       "278b76e3-5539-4a5e-ae3e-353a2e3b6d7d         Silver     second   \n",
       "b1eab99b-a606-48dd-a75b-57feb8a9ad92          White      first   \n",
       "\n",
       "                                                   Fuel Suppy System  \\\n",
       "usedCarSkuId                                                           \n",
       "7111bf25-97af-47f9-867b-40879190d800                             NaN   \n",
       "c309efc1-efaf-4f82-81ad-dcb38eb36665  Intelligent-Gas Port Injection   \n",
       "7609f710-0c97-4f00-9a47-9b9284b62d3a                             NaN   \n",
       "278b76e3-5539-4a5e-ae3e-353a2e3b6d7d                            MPFI   \n",
       "b1eab99b-a606-48dd-a75b-57feb8a9ad92                             NaN   \n",
       "\n",
       "                                     Compression Ratio Alloy Wheel Size  \\\n",
       "usedCarSkuId                                                              \n",
       "7111bf25-97af-47f9-867b-40879190d800               NaN              NaN   \n",
       "c309efc1-efaf-4f82-81ad-dcb38eb36665            11.0:1              NaN   \n",
       "7609f710-0c97-4f00-9a47-9b9284b62d3a               NaN              NaN   \n",
       "278b76e3-5539-4a5e-ae3e-353a2e3b6d7d               NaN               13   \n",
       "b1eab99b-a606-48dd-a75b-57feb8a9ad92         12.0+-.03              NaN   \n",
       "\n",
       "                                     Ground Clearance Unladen  \n",
       "usedCarSkuId                                                   \n",
       "7111bf25-97af-47f9-867b-40879190d800                      NaN  \n",
       "c309efc1-efaf-4f82-81ad-dcb38eb36665                      NaN  \n",
       "7609f710-0c97-4f00-9a47-9b9284b62d3a                      NaN  \n",
       "278b76e3-5539-4a5e-ae3e-353a2e3b6d7d                      NaN  \n",
       "b1eab99b-a606-48dd-a75b-57feb8a9ad92                      NaN  \n",
       "\n",
       "[5 rows x 62 columns]"
      ]
     },
     "execution_count": 10,
     "metadata": {},
     "output_type": "execute_result"
    }
   ],
   "source": [
    "# sanity check\n",
    "df2.head()"
   ]
  },
  {
   "cell_type": "markdown",
   "id": "fc8b340f",
   "metadata": {
    "papermill": {
     "duration": 0.024775,
     "end_time": "2023-03-25T19:14:19.878309",
     "exception": false,
     "start_time": "2023-03-25T19:14:19.853534",
     "status": "completed"
    },
    "tags": []
   },
   "source": [
    "Great! Now that we have removed the duplicate rows, let's look at missing values\n",
    "\n",
    "---"
   ]
  },
  {
   "cell_type": "markdown",
   "id": "05f14623",
   "metadata": {
    "papermill": {
     "duration": 0.024642,
     "end_time": "2023-03-25T19:14:19.927932",
     "exception": false,
     "start_time": "2023-03-25T19:14:19.903290",
     "status": "completed"
    },
    "tags": []
   },
   "source": [
    "### Fixing the data types\n",
    "\n",
    "Let's look at the data types of the columns and in the process we can check if we need to clean any them to make them more useful, such as converting them to a numeric type.\n",
    "\n",
    "*When we do feature engineering we will further modify these columns and might also drop a few of them*"
   ]
  },
  {
   "cell_type": "markdown",
   "id": "2d4a9ba8",
   "metadata": {
    "papermill": {
     "duration": 0.025351,
     "end_time": "2023-03-25T19:14:19.978677",
     "exception": false,
     "start_time": "2023-03-25T19:14:19.953326",
     "status": "completed"
    },
    "tags": []
   },
   "source": [
    "We already know about the current data types of the features from the ```feature_dictionary```."
   ]
  },
  {
   "cell_type": "code",
   "execution_count": 11,
   "id": "d259f7b6",
   "metadata": {
    "execution": {
     "iopub.execute_input": "2023-03-25T19:14:20.030908Z",
     "iopub.status.busy": "2023-03-25T19:14:20.030542Z",
     "iopub.status.idle": "2023-03-25T19:14:20.048066Z",
     "shell.execute_reply": "2023-03-25T19:14:20.046826Z"
    },
    "papermill": {
     "duration": 0.046158,
     "end_time": "2023-03-25T19:14:20.049990",
     "exception": false,
     "start_time": "2023-03-25T19:14:20.003832",
     "status": "completed"
    },
    "tags": []
   },
   "outputs": [
    {
     "data": {
      "text/html": [
       "<div>\n",
       "<style scoped>\n",
       "    .dataframe tbody tr th:only-of-type {\n",
       "        vertical-align: middle;\n",
       "    }\n",
       "\n",
       "    .dataframe tbody tr th {\n",
       "        vertical-align: top;\n",
       "    }\n",
       "\n",
       "    .dataframe thead th {\n",
       "        text-align: right;\n",
       "    }\n",
       "</style>\n",
       "<table border=\"1\" class=\"dataframe\">\n",
       "  <thead>\n",
       "    <tr style=\"text-align: right;\">\n",
       "      <th></th>\n",
       "      <th>Feature</th>\n",
       "      <th>Type</th>\n",
       "      <th>Sample</th>\n",
       "      <th>Missing Values</th>\n",
       "      <th>Unique Values</th>\n",
       "      <th>Description</th>\n",
       "    </tr>\n",
       "  </thead>\n",
       "  <tbody>\n",
       "    <tr>\n",
       "      <th>1</th>\n",
       "      <td>loc</td>\n",
       "      <td>object</td>\n",
       "      <td>Gomti Nagar</td>\n",
       "      <td>5851</td>\n",
       "      <td>511</td>\n",
       "      <td>Location of the car</td>\n",
       "    </tr>\n",
       "    <tr>\n",
       "      <th>2</th>\n",
       "      <td>myear</td>\n",
       "      <td>int64</td>\n",
       "      <td>2016</td>\n",
       "      <td>0</td>\n",
       "      <td>34</td>\n",
       "      <td>Manufacturing year of the car</td>\n",
       "    </tr>\n",
       "    <tr>\n",
       "      <th>3</th>\n",
       "      <td>bt</td>\n",
       "      <td>object</td>\n",
       "      <td>Hatchback</td>\n",
       "      <td>19</td>\n",
       "      <td>11</td>\n",
       "      <td>Body type of the car</td>\n",
       "    </tr>\n",
       "    <tr>\n",
       "      <th>4</th>\n",
       "      <td>tt</td>\n",
       "      <td>object</td>\n",
       "      <td>Manual</td>\n",
       "      <td>0</td>\n",
       "      <td>2</td>\n",
       "      <td>Transmission type of the car</td>\n",
       "    </tr>\n",
       "    <tr>\n",
       "      <th>5</th>\n",
       "      <td>ft</td>\n",
       "      <td>object</td>\n",
       "      <td>CNG</td>\n",
       "      <td>0</td>\n",
       "      <td>5</td>\n",
       "      <td>Fuel type of the car</td>\n",
       "    </tr>\n",
       "    <tr>\n",
       "      <th>...</th>\n",
       "      <td>...</td>\n",
       "      <td>...</td>\n",
       "      <td>...</td>\n",
       "      <td>...</td>\n",
       "      <td>...</td>\n",
       "      <td>...</td>\n",
       "    </tr>\n",
       "    <tr>\n",
       "      <th>130</th>\n",
       "      <td>owner_type</td>\n",
       "      <td>object</td>\n",
       "      <td>first</td>\n",
       "      <td>0</td>\n",
       "      <td>6</td>\n",
       "      <td>Owner type of the car (first, second, etc.)</td>\n",
       "    </tr>\n",
       "    <tr>\n",
       "      <th>136</th>\n",
       "      <td>Fuel Suppy System</td>\n",
       "      <td>object</td>\n",
       "      <td>NaN</td>\n",
       "      <td>5502</td>\n",
       "      <td>99</td>\n",
       "      <td>Type of fuel supply system (Carburetor, Fuel I...</td>\n",
       "    </tr>\n",
       "    <tr>\n",
       "      <th>137</th>\n",
       "      <td>Compression Ratio</td>\n",
       "      <td>object</td>\n",
       "      <td>NaN</td>\n",
       "      <td>27642</td>\n",
       "      <td>100</td>\n",
       "      <td>Compression ratio of the engine</td>\n",
       "    </tr>\n",
       "    <tr>\n",
       "      <th>138</th>\n",
       "      <td>Alloy Wheel Size</td>\n",
       "      <td>object</td>\n",
       "      <td>NaN</td>\n",
       "      <td>13146</td>\n",
       "      <td>18</td>\n",
       "      <td>Size of the alloy wheels in inches</td>\n",
       "    </tr>\n",
       "    <tr>\n",
       "      <th>139</th>\n",
       "      <td>Ground Clearance Unladen</td>\n",
       "      <td>object</td>\n",
       "      <td>NaN</td>\n",
       "      <td>35662</td>\n",
       "      <td>31</td>\n",
       "      <td>Ground clearance of the car when it is not loa...</td>\n",
       "    </tr>\n",
       "  </tbody>\n",
       "</table>\n",
       "<p>62 rows × 6 columns</p>\n",
       "</div>"
      ],
      "text/plain": [
       "                      Feature    Type       Sample  Missing Values  \\\n",
       "1                         loc  object  Gomti Nagar            5851   \n",
       "2                       myear   int64         2016               0   \n",
       "3                          bt  object    Hatchback              19   \n",
       "4                          tt  object       Manual               0   \n",
       "5                          ft  object          CNG               0   \n",
       "..                        ...     ...          ...             ...   \n",
       "130                owner_type  object        first               0   \n",
       "136         Fuel Suppy System  object          NaN            5502   \n",
       "137         Compression Ratio  object          NaN           27642   \n",
       "138          Alloy Wheel Size  object          NaN           13146   \n",
       "139  Ground Clearance Unladen  object          NaN           35662   \n",
       "\n",
       "     Unique Values                                        Description  \n",
       "1              511                                Location of the car  \n",
       "2               34                      Manufacturing year of the car  \n",
       "3               11                               Body type of the car  \n",
       "4                2                       Transmission type of the car  \n",
       "5                5                               Fuel type of the car  \n",
       "..             ...                                                ...  \n",
       "130              6        Owner type of the car (first, second, etc.)  \n",
       "136             99  Type of fuel supply system (Carburetor, Fuel I...  \n",
       "137            100                    Compression ratio of the engine  \n",
       "138             18                 Size of the alloy wheels in inches  \n",
       "139             31  Ground clearance of the car when it is not loa...  \n",
       "\n",
       "[62 rows x 6 columns]"
      ]
     },
     "execution_count": 11,
     "metadata": {},
     "output_type": "execute_result"
    }
   ],
   "source": [
    "# Filter the dataframe to only include the columns_to_keep\n",
    "new_feature_dict = feature_dictionary.copy()\n",
    "\n",
    "# Drop the rows which Feature is not in the columns_to_keep list\n",
    "row_index = [i for i, x in enumerate(new_feature_dict['Feature']) if x not in columns_to_keep]\n",
    "new_feature_dict.drop(row_index, inplace=True)\n",
    "\n",
    "new_feature_dict"
   ]
  },
  {
   "cell_type": "markdown",
   "id": "80334153",
   "metadata": {
    "papermill": {
     "duration": 0.0257,
     "end_time": "2023-03-25T19:14:20.101890",
     "exception": false,
     "start_time": "2023-03-25T19:14:20.076190",
     "status": "completed"
    },
    "tags": []
   },
   "source": [
    "We know that if a column has the ```object``` type, it means it could have mixed types as well as strings. Let's try to convert them to a numerical type wherver we encouter something like Length or '12mm'."
   ]
  },
  {
   "cell_type": "code",
   "execution_count": 12,
   "id": "090f8472",
   "metadata": {
    "execution": {
     "iopub.execute_input": "2023-03-25T19:14:20.153277Z",
     "iopub.status.busy": "2023-03-25T19:14:20.152888Z",
     "iopub.status.idle": "2023-03-25T19:14:20.158537Z",
     "shell.execute_reply": "2023-03-25T19:14:20.157580Z"
    },
    "papermill": {
     "duration": 0.033637,
     "end_time": "2023-03-25T19:14:20.160501",
     "exception": false,
     "start_time": "2023-03-25T19:14:20.126864",
     "status": "completed"
    },
    "tags": []
   },
   "outputs": [],
   "source": [
    "# A helper function to print all the types in a column for a dataframe\n",
    "def print_samples_from_every_type(df: pd.DataFrame, col: str):\n",
    "    # Get all the types in the column.\n",
    "    types = df[col].apply(type).unique()\n",
    "    for t in types:\n",
    "      # Print 10 samples from each type.\n",
    "        print(f\"Samples for type {t}: \")\n",
    "        print(df[df[col].apply(type) == t].sample(10)[col])\n",
    "        print()"
   ]
  },
  {
   "cell_type": "code",
   "execution_count": 13,
   "id": "f12909b7",
   "metadata": {
    "execution": {
     "iopub.execute_input": "2023-03-25T19:14:20.213218Z",
     "iopub.status.busy": "2023-03-25T19:14:20.212862Z",
     "iopub.status.idle": "2023-03-25T19:14:20.229210Z",
     "shell.execute_reply": "2023-03-25T19:14:20.227747Z"
    },
    "papermill": {
     "duration": 0.046017,
     "end_time": "2023-03-25T19:14:20.231954",
     "exception": false,
     "start_time": "2023-03-25T19:14:20.185937",
     "status": "completed"
    },
    "tags": []
   },
   "outputs": [],
   "source": [
    "# Make a copy of the original dataframe so that we can roll back to it anytime.\n",
    "cars_df = df2.copy()"
   ]
  },
  {
   "cell_type": "markdown",
   "id": "8323b84a",
   "metadata": {
    "papermill": {
     "duration": 0.025074,
     "end_time": "2023-03-25T19:14:20.283613",
     "exception": false,
     "start_time": "2023-03-25T19:14:20.258539",
     "status": "completed"
    },
    "tags": []
   },
   "source": [
    "---"
   ]
  },
  {
   "cell_type": "markdown",
   "id": "15fce0b7",
   "metadata": {
    "papermill": {
     "duration": 0.024188,
     "end_time": "2023-03-25T19:14:20.332302",
     "exception": false,
     "start_time": "2023-03-25T19:14:20.308114",
     "status": "completed"
    },
    "tags": []
   },
   "source": [
    "Let's list down all the columns which need the standard string treatment: \n",
    "1. Convert column to be a string type\n",
    "2. Strip the whitespace \n",
    "3. Make it lowercase\n",
    "\n",
    "*Here we are also give some of the other columns (that we wish to convert later) the standard treatment (it will help us later)*"
   ]
  },
  {
   "cell_type": "code",
   "execution_count": 14,
   "id": "824913be",
   "metadata": {
    "execution": {
     "iopub.execute_input": "2023-03-25T19:14:20.383348Z",
     "iopub.status.busy": "2023-03-25T19:14:20.382966Z",
     "iopub.status.idle": "2023-03-25T19:14:20.390542Z",
     "shell.execute_reply": "2023-03-25T19:14:20.389592Z"
    },
    "papermill": {
     "duration": 0.036071,
     "end_time": "2023-03-25T19:14:20.392888",
     "exception": false,
     "start_time": "2023-03-25T19:14:20.356817",
     "status": "completed"
    },
    "tags": []
   },
   "outputs": [],
   "source": [
    "columns_str_to_lower = [\n",
    "    'loc',\n",
    "    'bt',\n",
    "    'ft',\n",
    "    'tt',\n",
    "    'images',\n",
    "    'dvn',\n",
    "    'oem',\n",
    "    'model',\n",
    "    'variantName',\n",
    "    'city_x',\n",
    "    # 'pu': 3,70,000 -> 370000\n",
    "    'utype',\n",
    "    'carType',\n",
    "    'top_features',\n",
    "    'comfort_features',\n",
    "    'interior_features',\n",
    "    'exterior_features',\n",
    "    'safety_features',\n",
    "    'Color',\n",
    "    'Engine Type',\n",
    "    'Max Power', # Max Power : 33.54bhp@4000 rpm -> 2 columns 33.54, 4000\n",
    "    'Max Torque', # Max Torque : 40.2Nm@3500 rpm -> 2 columns 40.2, 3500\n",
    "    # No of Cylinder : float -> int,\n",
    "    # Values per Cylinder : float -> int, !! Fix the name -> Valve per Cylinder\n",
    "    'Value Configuration', # !! Fix the name -> Valve Configuration\n",
    "    'BoreX Stroke', # BoreX Stroke : 69 x 72 mm -> Bore: 69, Stroke: 72\n",
    "    'Turbo Charger', # Convert to boolean\n",
    "    'Super Charger', # Convert to boolean\n",
    "    'Length', # Length : 3599mm -> 3599\n",
    "    'Width', # Width : 1495mm -> 1495\n",
    "    'Height', # Height : 1700mm -> 1700\n",
    "    'Wheel Base', # Wheel Base : 2400mm -> 2400\n",
    "    'Front Tread', # Front Tread : 1295mm -> 1295\n",
    "    'Rear Tread', # Rear Tread : 1295mm -> 1295\n",
    "    'Kerb Weight', # Kerb Weight : 960kg -> 960\n",
    "    'Gross Weight', # Gross Weight : 1350kg -> 1350\n",
    "    'Gear Box', # might need some additional cleaning\n",
    "    'Drive Type', # might need some additional cleaning\n",
    "    # Seating Capacity : float -> int\n",
    "    'Steering Type', # might need some additional cleaning\n",
    "    'Turning Radius', # Turning Radius : 4.6 metres -> 4.6\n",
    "    'Front Brake Type', # might need some additional cleaning\n",
    "    'Rear Brake Type', # might need some additional cleaning\n",
    "    'Top Speed', # Top Speed : 137 kmph -> 137\n",
    "    'Acceleration', # Acceleration : 13.5 seconds -> 13.5\n",
    "    'Tyre Type', # might need some additional cleaning\n",
    "    # No Door Numbers : float -> int !! fix name\n",
    "    'Cargo Volumn', # 'Cargo Volumn' : 300 litres -> 300, !! fix name\n",
    "    'model_type_new', # !! fix name\n",
    "    'state',\n",
    "    'exterior_color',\n",
    "    'owner_type', # might need some additional cleaning\n",
    "    'Fuel Suppy System', # might need some additional cleaning\n",
    "    # Compression Ratio : 10.0:1 -> 10.0\n",
    "    'Alloy Wheel Size', # Alloy Wheel Size : convert to float\n",
    "    'Ground Clearance Unladen', # Ground Clearance Unladen : 170mm -> 170\n",
    "]"
   ]
  },
  {
   "cell_type": "code",
   "execution_count": 15,
   "id": "b31d140c",
   "metadata": {
    "execution": {
     "iopub.execute_input": "2023-03-25T19:14:20.446600Z",
     "iopub.status.busy": "2023-03-25T19:14:20.446234Z",
     "iopub.status.idle": "2023-03-25T19:14:21.836998Z",
     "shell.execute_reply": "2023-03-25T19:14:21.836020Z"
    },
    "papermill": {
     "duration": 1.420214,
     "end_time": "2023-03-25T19:14:21.839021",
     "exception": false,
     "start_time": "2023-03-25T19:14:20.418807",
     "status": "completed"
    },
    "tags": []
   },
   "outputs": [
    {
     "data": {
      "text/html": [
       "<div>\n",
       "<style scoped>\n",
       "    .dataframe tbody tr th:only-of-type {\n",
       "        vertical-align: middle;\n",
       "    }\n",
       "\n",
       "    .dataframe tbody tr th {\n",
       "        vertical-align: top;\n",
       "    }\n",
       "\n",
       "    .dataframe thead th {\n",
       "        text-align: right;\n",
       "    }\n",
       "</style>\n",
       "<table border=\"1\" class=\"dataframe\">\n",
       "  <thead>\n",
       "    <tr style=\"text-align: right;\">\n",
       "      <th></th>\n",
       "      <th>Feature</th>\n",
       "      <th>Type</th>\n",
       "      <th>Unique</th>\n",
       "      <th>Sample</th>\n",
       "    </tr>\n",
       "  </thead>\n",
       "  <tbody>\n",
       "    <tr>\n",
       "      <th>0</th>\n",
       "      <td>loc</td>\n",
       "      <td>object</td>\n",
       "      <td>398</td>\n",
       "      <td>bangalore city</td>\n",
       "    </tr>\n",
       "    <tr>\n",
       "      <th>1</th>\n",
       "      <td>bt</td>\n",
       "      <td>object</td>\n",
       "      <td>12</td>\n",
       "      <td>sedan</td>\n",
       "    </tr>\n",
       "    <tr>\n",
       "      <th>2</th>\n",
       "      <td>ft</td>\n",
       "      <td>object</td>\n",
       "      <td>5</td>\n",
       "      <td>petrol</td>\n",
       "    </tr>\n",
       "    <tr>\n",
       "      <th>3</th>\n",
       "      <td>tt</td>\n",
       "      <td>object</td>\n",
       "      <td>2</td>\n",
       "      <td>manual</td>\n",
       "    </tr>\n",
       "    <tr>\n",
       "      <th>4</th>\n",
       "      <td>images</td>\n",
       "      <td>object</td>\n",
       "      <td>37135</td>\n",
       "      <td>[{'img': 'https://images10.gaadi.com/usedcar_i...</td>\n",
       "    </tr>\n",
       "    <tr>\n",
       "      <th>5</th>\n",
       "      <td>dvn</td>\n",
       "      <td>object</td>\n",
       "      <td>4128</td>\n",
       "      <td>honda amaze s i-vtech</td>\n",
       "    </tr>\n",
       "    <tr>\n",
       "      <th>6</th>\n",
       "      <td>oem</td>\n",
       "      <td>object</td>\n",
       "      <td>46</td>\n",
       "      <td>maruti</td>\n",
       "    </tr>\n",
       "    <tr>\n",
       "      <th>7</th>\n",
       "      <td>model</td>\n",
       "      <td>object</td>\n",
       "      <td>382</td>\n",
       "      <td>tata indica ev2</td>\n",
       "    </tr>\n",
       "    <tr>\n",
       "      <th>8</th>\n",
       "      <td>variantName</td>\n",
       "      <td>object</td>\n",
       "      <td>3430</td>\n",
       "      <td>sx ivt</td>\n",
       "    </tr>\n",
       "    <tr>\n",
       "      <th>9</th>\n",
       "      <td>city_x</td>\n",
       "      <td>object</td>\n",
       "      <td>617</td>\n",
       "      <td>rajkot</td>\n",
       "    </tr>\n",
       "    <tr>\n",
       "      <th>10</th>\n",
       "      <td>utype</td>\n",
       "      <td>object</td>\n",
       "      <td>2</td>\n",
       "      <td>dealer</td>\n",
       "    </tr>\n",
       "    <tr>\n",
       "      <th>11</th>\n",
       "      <td>carType</td>\n",
       "      <td>object</td>\n",
       "      <td>3</td>\n",
       "      <td>partner</td>\n",
       "    </tr>\n",
       "    <tr>\n",
       "      <th>12</th>\n",
       "      <td>top_features</td>\n",
       "      <td>object</td>\n",
       "      <td>400</td>\n",
       "      <td>['power steering', 'power windows front', 'air...</td>\n",
       "    </tr>\n",
       "    <tr>\n",
       "      <th>13</th>\n",
       "      <td>comfort_features</td>\n",
       "      <td>object</td>\n",
       "      <td>2016</td>\n",
       "      <td>['power steering', 'power windows front', 'pow...</td>\n",
       "    </tr>\n",
       "    <tr>\n",
       "      <th>14</th>\n",
       "      <td>interior_features</td>\n",
       "      <td>object</td>\n",
       "      <td>527</td>\n",
       "      <td>['air conditioner', 'heater', 'adjustable stee...</td>\n",
       "    </tr>\n",
       "    <tr>\n",
       "      <th>15</th>\n",
       "      <td>exterior_features</td>\n",
       "      <td>object</td>\n",
       "      <td>1893</td>\n",
       "      <td>['adjustable head lights', 'power adjustable e...</td>\n",
       "    </tr>\n",
       "    <tr>\n",
       "      <th>16</th>\n",
       "      <td>safety_features</td>\n",
       "      <td>object</td>\n",
       "      <td>2116</td>\n",
       "      <td>['anti lock braking system', 'brake assist', '...</td>\n",
       "    </tr>\n",
       "    <tr>\n",
       "      <th>17</th>\n",
       "      <td>Color</td>\n",
       "      <td>object</td>\n",
       "      <td>748</td>\n",
       "      <td>twilight blue</td>\n",
       "    </tr>\n",
       "    <tr>\n",
       "      <th>18</th>\n",
       "      <td>Engine Type</td>\n",
       "      <td>object</td>\n",
       "      <td>567</td>\n",
       "      <td>1.0l energy</td>\n",
       "    </tr>\n",
       "    <tr>\n",
       "      <th>19</th>\n",
       "      <td>Max Power</td>\n",
       "      <td>object</td>\n",
       "      <td>1009</td>\n",
       "      <td>117.3bhp@6600rpm</td>\n",
       "    </tr>\n",
       "    <tr>\n",
       "      <th>20</th>\n",
       "      <td>Max Torque</td>\n",
       "      <td>object</td>\n",
       "      <td>773</td>\n",
       "      <td>144nm@4500rpm</td>\n",
       "    </tr>\n",
       "    <tr>\n",
       "      <th>21</th>\n",
       "      <td>Value Configuration</td>\n",
       "      <td>object</td>\n",
       "      <td>13</td>\n",
       "      <td>sohc</td>\n",
       "    </tr>\n",
       "    <tr>\n",
       "      <th>22</th>\n",
       "      <td>BoreX Stroke</td>\n",
       "      <td>object</td>\n",
       "      <td>202</td>\n",
       "      <td>nan</td>\n",
       "    </tr>\n",
       "    <tr>\n",
       "      <th>23</th>\n",
       "      <td>Turbo Charger</td>\n",
       "      <td>object</td>\n",
       "      <td>5</td>\n",
       "      <td>yes</td>\n",
       "    </tr>\n",
       "    <tr>\n",
       "      <th>24</th>\n",
       "      <td>Super Charger</td>\n",
       "      <td>object</td>\n",
       "      <td>3</td>\n",
       "      <td>no</td>\n",
       "    </tr>\n",
       "    <tr>\n",
       "      <th>25</th>\n",
       "      <td>Length</td>\n",
       "      <td>object</td>\n",
       "      <td>513</td>\n",
       "      <td>4395mm</td>\n",
       "    </tr>\n",
       "    <tr>\n",
       "      <th>26</th>\n",
       "      <td>Width</td>\n",
       "      <td>object</td>\n",
       "      <td>394</td>\n",
       "      <td>1579mm</td>\n",
       "    </tr>\n",
       "    <tr>\n",
       "      <th>27</th>\n",
       "      <td>Height</td>\n",
       "      <td>object</td>\n",
       "      <td>423</td>\n",
       "      <td>1612mm</td>\n",
       "    </tr>\n",
       "    <tr>\n",
       "      <th>28</th>\n",
       "      <td>Wheel Base</td>\n",
       "      <td>object</td>\n",
       "      <td>328</td>\n",
       "      <td>2400 mm</td>\n",
       "    </tr>\n",
       "    <tr>\n",
       "      <th>29</th>\n",
       "      <td>Front Tread</td>\n",
       "      <td>object</td>\n",
       "      <td>218</td>\n",
       "      <td>nan</td>\n",
       "    </tr>\n",
       "    <tr>\n",
       "      <th>30</th>\n",
       "      <td>Rear Tread</td>\n",
       "      <td>object</td>\n",
       "      <td>237</td>\n",
       "      <td>nan</td>\n",
       "    </tr>\n",
       "    <tr>\n",
       "      <th>31</th>\n",
       "      <td>Kerb Weight</td>\n",
       "      <td>object</td>\n",
       "      <td>763</td>\n",
       "      <td>nan</td>\n",
       "    </tr>\n",
       "    <tr>\n",
       "      <th>32</th>\n",
       "      <td>Gross Weight</td>\n",
       "      <td>object</td>\n",
       "      <td>411</td>\n",
       "      <td>1680kg</td>\n",
       "    </tr>\n",
       "    <tr>\n",
       "      <th>33</th>\n",
       "      <td>Gear Box</td>\n",
       "      <td>object</td>\n",
       "      <td>106</td>\n",
       "      <td>6 speed</td>\n",
       "    </tr>\n",
       "    <tr>\n",
       "      <th>34</th>\n",
       "      <td>Drive Type</td>\n",
       "      <td>object</td>\n",
       "      <td>21</td>\n",
       "      <td>fwd</td>\n",
       "    </tr>\n",
       "    <tr>\n",
       "      <th>35</th>\n",
       "      <td>Steering Type</td>\n",
       "      <td>object</td>\n",
       "      <td>10</td>\n",
       "      <td>manual</td>\n",
       "    </tr>\n",
       "    <tr>\n",
       "      <th>36</th>\n",
       "      <td>Turning Radius</td>\n",
       "      <td>object</td>\n",
       "      <td>223</td>\n",
       "      <td>5.4</td>\n",
       "    </tr>\n",
       "    <tr>\n",
       "      <th>37</th>\n",
       "      <td>Front Brake Type</td>\n",
       "      <td>object</td>\n",
       "      <td>33</td>\n",
       "      <td>disc</td>\n",
       "    </tr>\n",
       "    <tr>\n",
       "      <th>38</th>\n",
       "      <td>Rear Brake Type</td>\n",
       "      <td>object</td>\n",
       "      <td>35</td>\n",
       "      <td>drum</td>\n",
       "    </tr>\n",
       "    <tr>\n",
       "      <th>39</th>\n",
       "      <td>Top Speed</td>\n",
       "      <td>object</td>\n",
       "      <td>303</td>\n",
       "      <td>144km/hr</td>\n",
       "    </tr>\n",
       "    <tr>\n",
       "      <th>40</th>\n",
       "      <td>Acceleration</td>\n",
       "      <td>object</td>\n",
       "      <td>329</td>\n",
       "      <td>15.6 seconds</td>\n",
       "    </tr>\n",
       "    <tr>\n",
       "      <th>41</th>\n",
       "      <td>Tyre Type</td>\n",
       "      <td>object</td>\n",
       "      <td>33</td>\n",
       "      <td>tubeless,radial</td>\n",
       "    </tr>\n",
       "    <tr>\n",
       "      <th>42</th>\n",
       "      <td>Cargo Volumn</td>\n",
       "      <td>object</td>\n",
       "      <td>392</td>\n",
       "      <td>268</td>\n",
       "    </tr>\n",
       "    <tr>\n",
       "      <th>43</th>\n",
       "      <td>model_type_new</td>\n",
       "      <td>object</td>\n",
       "      <td>1</td>\n",
       "      <td>used</td>\n",
       "    </tr>\n",
       "    <tr>\n",
       "      <th>44</th>\n",
       "      <td>state</td>\n",
       "      <td>object</td>\n",
       "      <td>33</td>\n",
       "      <td>maharashtra</td>\n",
       "    </tr>\n",
       "    <tr>\n",
       "      <th>45</th>\n",
       "      <td>exterior_color</td>\n",
       "      <td>object</td>\n",
       "      <td>748</td>\n",
       "      <td>poly silver</td>\n",
       "    </tr>\n",
       "    <tr>\n",
       "      <th>46</th>\n",
       "      <td>owner_type</td>\n",
       "      <td>object</td>\n",
       "      <td>6</td>\n",
       "      <td>first</td>\n",
       "    </tr>\n",
       "    <tr>\n",
       "      <th>47</th>\n",
       "      <td>Fuel Suppy System</td>\n",
       "      <td>object</td>\n",
       "      <td>71</td>\n",
       "      <td>efi(electronic fuel injection)</td>\n",
       "    </tr>\n",
       "    <tr>\n",
       "      <th>48</th>\n",
       "      <td>Alloy Wheel Size</td>\n",
       "      <td>object</td>\n",
       "      <td>19</td>\n",
       "      <td>17</td>\n",
       "    </tr>\n",
       "    <tr>\n",
       "      <th>49</th>\n",
       "      <td>Ground Clearance Unladen</td>\n",
       "      <td>object</td>\n",
       "      <td>32</td>\n",
       "      <td>nan</td>\n",
       "    </tr>\n",
       "  </tbody>\n",
       "</table>\n",
       "</div>"
      ],
      "text/plain": [
       "                     Feature    Type  Unique  \\\n",
       "0                        loc  object     398   \n",
       "1                         bt  object      12   \n",
       "2                         ft  object       5   \n",
       "3                         tt  object       2   \n",
       "4                     images  object   37135   \n",
       "5                        dvn  object    4128   \n",
       "6                        oem  object      46   \n",
       "7                      model  object     382   \n",
       "8                variantName  object    3430   \n",
       "9                     city_x  object     617   \n",
       "10                     utype  object       2   \n",
       "11                   carType  object       3   \n",
       "12              top_features  object     400   \n",
       "13          comfort_features  object    2016   \n",
       "14         interior_features  object     527   \n",
       "15         exterior_features  object    1893   \n",
       "16           safety_features  object    2116   \n",
       "17                     Color  object     748   \n",
       "18               Engine Type  object     567   \n",
       "19                 Max Power  object    1009   \n",
       "20                Max Torque  object     773   \n",
       "21       Value Configuration  object      13   \n",
       "22              BoreX Stroke  object     202   \n",
       "23             Turbo Charger  object       5   \n",
       "24             Super Charger  object       3   \n",
       "25                    Length  object     513   \n",
       "26                     Width  object     394   \n",
       "27                    Height  object     423   \n",
       "28                Wheel Base  object     328   \n",
       "29               Front Tread  object     218   \n",
       "30                Rear Tread  object     237   \n",
       "31               Kerb Weight  object     763   \n",
       "32              Gross Weight  object     411   \n",
       "33                  Gear Box  object     106   \n",
       "34                Drive Type  object      21   \n",
       "35             Steering Type  object      10   \n",
       "36            Turning Radius  object     223   \n",
       "37          Front Brake Type  object      33   \n",
       "38           Rear Brake Type  object      35   \n",
       "39                 Top Speed  object     303   \n",
       "40              Acceleration  object     329   \n",
       "41                 Tyre Type  object      33   \n",
       "42              Cargo Volumn  object     392   \n",
       "43            model_type_new  object       1   \n",
       "44                     state  object      33   \n",
       "45            exterior_color  object     748   \n",
       "46                owner_type  object       6   \n",
       "47         Fuel Suppy System  object      71   \n",
       "48          Alloy Wheel Size  object      19   \n",
       "49  Ground Clearance Unladen  object      32   \n",
       "\n",
       "                                               Sample  \n",
       "0                                      bangalore city  \n",
       "1                                               sedan  \n",
       "2                                              petrol  \n",
       "3                                              manual  \n",
       "4   [{'img': 'https://images10.gaadi.com/usedcar_i...  \n",
       "5                               honda amaze s i-vtech  \n",
       "6                                              maruti  \n",
       "7                                     tata indica ev2  \n",
       "8                                              sx ivt  \n",
       "9                                              rajkot  \n",
       "10                                             dealer  \n",
       "11                                            partner  \n",
       "12  ['power steering', 'power windows front', 'air...  \n",
       "13  ['power steering', 'power windows front', 'pow...  \n",
       "14  ['air conditioner', 'heater', 'adjustable stee...  \n",
       "15  ['adjustable head lights', 'power adjustable e...  \n",
       "16  ['anti lock braking system', 'brake assist', '...  \n",
       "17                                      twilight blue  \n",
       "18                                        1.0l energy  \n",
       "19                                   117.3bhp@6600rpm  \n",
       "20                                      144nm@4500rpm  \n",
       "21                                               sohc  \n",
       "22                                                nan  \n",
       "23                                                yes  \n",
       "24                                                 no  \n",
       "25                                             4395mm  \n",
       "26                                             1579mm  \n",
       "27                                             1612mm  \n",
       "28                                            2400 mm  \n",
       "29                                                nan  \n",
       "30                                                nan  \n",
       "31                                                nan  \n",
       "32                                             1680kg  \n",
       "33                                            6 speed  \n",
       "34                                                fwd  \n",
       "35                                             manual  \n",
       "36                                                5.4  \n",
       "37                                               disc  \n",
       "38                                               drum  \n",
       "39                                           144km/hr  \n",
       "40                                       15.6 seconds  \n",
       "41                                    tubeless,radial  \n",
       "42                                                268  \n",
       "43                                               used  \n",
       "44                                        maharashtra  \n",
       "45                                        poly silver  \n",
       "46                                              first  \n",
       "47                     efi(electronic fuel injection)  \n",
       "48                                                 17  \n",
       "49                                                nan  "
      ]
     },
     "execution_count": 15,
     "metadata": {},
     "output_type": "execute_result"
    }
   ],
   "source": [
    "# Apply the changes\n",
    "temp_arr = []\n",
    "\n",
    "for col in columns_str_to_lower:\n",
    "    cars_df[col] = cars_df[col].astype(str).str.strip().str.lower()\n",
    "    \n",
    "    # Print a nice sample\n",
    "    while (True):\n",
    "        found = 0\n",
    "        vals = [v for v in cars_df[col].sample(100)]\n",
    "        for val in vals:\n",
    "            if val is not None:\n",
    "                found = 1\n",
    "                vals = val\n",
    "                break\n",
    "        \n",
    "        if found == 1:\n",
    "            temp_arr.append({ \n",
    "                \"Feature\" : col, \n",
    "                \"Type\": f'{cars_df[col].dtype}', \n",
    "                \"Unique\": cars_df[col].nunique(), \n",
    "                \"Sample\": vals\n",
    "            })\n",
    "            break\n",
    "\n",
    "pd.DataFrame(temp_arr)"
   ]
  },
  {
   "cell_type": "markdown",
   "id": "125bd318",
   "metadata": {
    "papermill": {
     "duration": 0.026295,
     "end_time": "2023-03-25T19:14:21.891867",
     "exception": false,
     "start_time": "2023-03-25T19:14:21.865572",
     "status": "completed"
    },
    "tags": []
   },
   "source": [
    "There is an additional issues here that needs to be addressed: \n",
    "Some of the columns have **more unique values** than are expected. For eg: `Turbo Charger` should either be a yes or a no or a NaN, beter are `5` unique values. The following are the columns suspected to have a higher than expected cardinality due to some quality issues: \n",
    "1. `Value Configuration`\n",
    "2. `Turbo Charger`\n",
    "3. `Gear Box`\n",
    "4. `Drive Type`\n",
    "5. `Steering Type`\n",
    "6. `Front Brake Type`\n",
    "7. `Rear Brake Type`\n",
    "8. `Tyre Type`\n"
   ]
  },
  {
   "cell_type": "code",
   "execution_count": 16,
   "id": "4021b6e8",
   "metadata": {
    "execution": {
     "iopub.execute_input": "2023-03-25T19:14:21.946797Z",
     "iopub.status.busy": "2023-03-25T19:14:21.946404Z",
     "iopub.status.idle": "2023-03-25T19:14:21.951060Z",
     "shell.execute_reply": "2023-03-25T19:14:21.950108Z"
    },
    "papermill": {
     "duration": 0.033985,
     "end_time": "2023-03-25T19:14:21.952876",
     "exception": false,
     "start_time": "2023-03-25T19:14:21.918891",
     "status": "completed"
    },
    "tags": []
   },
   "outputs": [],
   "source": [
    "# Make a list of such columns which seems to have a higher than expected cardinality\n",
    "columns_unexpected_cardinality = [\n",
    "    'Value Configuration',\n",
    "    'Turbo Charger',\n",
    "    'Gear Box',\n",
    "    'Drive Type',\n",
    "    'Steering Type',\n",
    "    'Front Brake Type',\n",
    "    'Rear Brake Type',\n",
    "    'Tyre Type',\n",
    "]"
   ]
  },
  {
   "cell_type": "markdown",
   "id": "95648d92",
   "metadata": {
    "papermill": {
     "duration": 0.026723,
     "end_time": "2023-03-25T19:14:22.006241",
     "exception": false,
     "start_time": "2023-03-25T19:14:21.979518",
     "status": "completed"
    },
    "tags": []
   },
   "source": [
    "---\n",
    "\n",
    "##### `Value Configuration`"
   ]
  },
  {
   "cell_type": "code",
   "execution_count": 17,
   "id": "46f67131",
   "metadata": {
    "execution": {
     "iopub.execute_input": "2023-03-25T19:14:22.060709Z",
     "iopub.status.busy": "2023-03-25T19:14:22.060308Z",
     "iopub.status.idle": "2023-03-25T19:14:22.070906Z",
     "shell.execute_reply": "2023-03-25T19:14:22.069713Z"
    },
    "papermill": {
     "duration": 0.04022,
     "end_time": "2023-03-25T19:14:22.072815",
     "exception": false,
     "start_time": "2023-03-25T19:14:22.032595",
     "status": "completed"
    },
    "tags": []
   },
   "outputs": [
    {
     "data": {
      "text/plain": [
       "dohc                    23502\n",
       "nan                      7831\n",
       "sohc                     6200\n",
       "undefined                 121\n",
       "idsi                       66\n",
       "dohc with vis              31\n",
       "dohc with vgt              20\n",
       "16 modules 48 cells        11\n",
       "16-valve dohc layout        9\n",
       "dohc with tis               9\n",
       "vtec                        6\n",
       "mpfi                        4\n",
       "ohv / pushrod               3\n",
       "Name: Value Configuration, dtype: int64"
      ]
     },
     "execution_count": 17,
     "metadata": {},
     "output_type": "execute_result"
    }
   ],
   "source": [
    "cars_df[columns_unexpected_cardinality[0]].value_counts()"
   ]
  },
  {
   "cell_type": "markdown",
   "id": "988720e8",
   "metadata": {
    "papermill": {
     "duration": 0.025198,
     "end_time": "2023-03-25T19:14:22.124002",
     "exception": false,
     "start_time": "2023-03-25T19:14:22.098804",
     "status": "completed"
    },
    "tags": []
   },
   "source": [
    "We have identified the following issues:\n",
    "1. As we can see, the majority of it is `dohc`. There are a couple of variants of `dohc` like `dohc vis` but they are so few that it would be practical to replace all the columns containing any variant `dohc` to simply `dohc`\n",
    "2. There are some `undefined` values which should be `NaN`\n",
    "3. `mpfi` is a fuel injection system, so replace it with `NaN`\n",
    "4. `vtec` engines can be `dohc` and `sohc` as well (`vtec` is an engine type developed by Honda in the 1960s). It would be best to replace this type by `NaN`, postpone handling it until null values handling (and there are only `6` rows, so it should be fine)"
   ]
  },
  {
   "cell_type": "code",
   "execution_count": 18,
   "id": "05bc2ed6",
   "metadata": {
    "execution": {
     "iopub.execute_input": "2023-03-25T19:14:22.176486Z",
     "iopub.status.busy": "2023-03-25T19:14:22.176080Z",
     "iopub.status.idle": "2023-03-25T19:14:22.336104Z",
     "shell.execute_reply": "2023-03-25T19:14:22.335429Z"
    },
    "papermill": {
     "duration": 0.188695,
     "end_time": "2023-03-25T19:14:22.338056",
     "exception": false,
     "start_time": "2023-03-25T19:14:22.149361",
     "status": "completed"
    },
    "tags": []
   },
   "outputs": [
    {
     "data": {
      "text/plain": [
       "dohc                   23571\n",
       "nan                     7962\n",
       "sohc                    6200\n",
       "idsi                      66\n",
       "16 modules 48 cells       11\n",
       "ohv / pushrod              3\n",
       "Name: Value Configuration, dtype: int64"
      ]
     },
     "execution_count": 18,
     "metadata": {},
     "output_type": "execute_result"
    }
   ],
   "source": [
    "# Replace all the variants of `dohc` to simply `dohc`\n",
    "cars_df['Value Configuration'] = cars_df['Value Configuration'].str.replace('dohc with vis', 'dohc')\n",
    "cars_df['Value Configuration'] = cars_df['Value Configuration'].str.replace('dohc with vgt', 'dohc')\n",
    "cars_df['Value Configuration'] = cars_df['Value Configuration'].str.replace('16-valve dohc layout', 'dohc')\n",
    "cars_df['Value Configuration'] = cars_df['Value Configuration'].str.replace('dohc with tis', 'dohc')\n",
    "\n",
    "# Replace `undefined`, `mpfi`, `vtec` with `NaN`\n",
    "cars_df['Value Configuration'] = cars_df['Value Configuration'].str.replace('undefined', 'nan')\n",
    "cars_df['Value Configuration'] = cars_df['Value Configuration'].str.replace('mpfi', 'nan')\n",
    "cars_df['Value Configuration'] = cars_df['Value Configuration'].str.replace('vtec', 'nan')\n",
    "\n",
    "cars_df['Value Configuration'].value_counts()"
   ]
  },
  {
   "cell_type": "markdown",
   "id": "589860ba",
   "metadata": {
    "papermill": {
     "duration": 0.025912,
     "end_time": "2023-03-25T19:14:22.389888",
     "exception": false,
     "start_time": "2023-03-25T19:14:22.363976",
     "status": "completed"
    },
    "tags": []
   },
   "source": [
    "---\n",
    "\n",
    "##### `Turbo Charger`"
   ]
  },
  {
   "cell_type": "code",
   "execution_count": 19,
   "id": "9b4bb2bc",
   "metadata": {
    "execution": {
     "iopub.execute_input": "2023-03-25T19:14:22.444395Z",
     "iopub.status.busy": "2023-03-25T19:14:22.443998Z",
     "iopub.status.idle": "2023-03-25T19:14:22.454378Z",
     "shell.execute_reply": "2023-03-25T19:14:22.453398Z"
    },
    "papermill": {
     "duration": 0.040395,
     "end_time": "2023-03-25T19:14:22.456578",
     "exception": false,
     "start_time": "2023-03-25T19:14:22.416183",
     "status": "completed"
    },
    "tags": []
   },
   "outputs": [
    {
     "data": {
      "text/plain": [
       "no       20247\n",
       "yes      15262\n",
       "nan       2176\n",
       "twin       125\n",
       "turbo        3\n",
       "Name: Turbo Charger, dtype: int64"
      ]
     },
     "execution_count": 19,
     "metadata": {},
     "output_type": "execute_result"
    }
   ],
   "source": [
    "cars_df[columns_unexpected_cardinality[1]].value_counts()"
   ]
  },
  {
   "cell_type": "markdown",
   "id": "26fa3306",
   "metadata": {
    "papermill": {
     "duration": 0.025485,
     "end_time": "2023-03-25T19:14:22.508469",
     "exception": false,
     "start_time": "2023-03-25T19:14:22.482984",
     "status": "completed"
    },
    "tags": []
   },
   "source": [
    "Well, cleaning this column should be quite straightforward.\n",
    "1. `twin` and `turbo` should be replaced by `yes`"
   ]
  },
  {
   "cell_type": "code",
   "execution_count": 20,
   "id": "6ae96428",
   "metadata": {
    "execution": {
     "iopub.execute_input": "2023-03-25T19:14:22.562441Z",
     "iopub.status.busy": "2023-03-25T19:14:22.562016Z",
     "iopub.status.idle": "2023-03-25T19:14:22.615629Z",
     "shell.execute_reply": "2023-03-25T19:14:22.614421Z"
    },
    "papermill": {
     "duration": 0.08331,
     "end_time": "2023-03-25T19:14:22.617676",
     "exception": false,
     "start_time": "2023-03-25T19:14:22.534366",
     "status": "completed"
    },
    "tags": []
   },
   "outputs": [
    {
     "data": {
      "text/plain": [
       "no     20247\n",
       "yes    15390\n",
       "nan     2176\n",
       "Name: Turbo Charger, dtype: int64"
      ]
     },
     "execution_count": 20,
     "metadata": {},
     "output_type": "execute_result"
    }
   ],
   "source": [
    "# Replace `twin` and `turbo` with `yes`\n",
    "cars_df['Turbo Charger'] = cars_df['Turbo Charger'].str.replace('twin', 'yes')\n",
    "cars_df['Turbo Charger'] = cars_df['Turbo Charger'].str.replace('turbo', 'yes')\n",
    "\n",
    "cars_df['Turbo Charger'].value_counts()"
   ]
  },
  {
   "cell_type": "markdown",
   "id": "57e30644",
   "metadata": {
    "papermill": {
     "duration": 0.025846,
     "end_time": "2023-03-25T19:14:22.669509",
     "exception": false,
     "start_time": "2023-03-25T19:14:22.643663",
     "status": "completed"
    },
    "tags": []
   },
   "source": [
    "--- \n",
    "\n",
    "##### `Gear Box`"
   ]
  },
  {
   "cell_type": "code",
   "execution_count": 21,
   "id": "5b5a6ce8",
   "metadata": {
    "execution": {
     "iopub.execute_input": "2023-03-25T19:14:22.724740Z",
     "iopub.status.busy": "2023-03-25T19:14:22.724352Z",
     "iopub.status.idle": "2023-03-25T19:14:22.736171Z",
     "shell.execute_reply": "2023-03-25T19:14:22.735428Z"
    },
    "papermill": {
     "duration": 0.041668,
     "end_time": "2023-03-25T19:14:22.737933",
     "exception": false,
     "start_time": "2023-03-25T19:14:22.696265",
     "status": "completed"
    },
    "tags": []
   },
   "outputs": [
    {
     "data": {
      "text/plain": [
       "5 speed                  22840\n",
       "6 speed                   5876\n",
       "5-speed                   1457\n",
       "7 speed                   1256\n",
       "6-speed                   1199\n",
       "                         ...  \n",
       "six speed manual             1\n",
       "7g-dct                       1\n",
       "amg speedshift dct 8g        1\n",
       "amg 7-speed dct              1\n",
       "ecvt                         1\n",
       "Name: Gear Box, Length: 106, dtype: int64"
      ]
     },
     "execution_count": 21,
     "metadata": {},
     "output_type": "execute_result"
    }
   ],
   "source": [
    "cars_df[columns_unexpected_cardinality[2]].value_counts()"
   ]
  },
  {
   "cell_type": "markdown",
   "id": "82bbc47e",
   "metadata": {
    "papermill": {
     "duration": 0.025795,
     "end_time": "2023-03-25T19:14:22.789982",
     "exception": false,
     "start_time": "2023-03-25T19:14:22.764187",
     "status": "completed"
    },
    "tags": []
   },
   "source": [
    "Here the cardinality is high. And as is evident, several categories can be lumped together into a single one. Let's define a mapping to clearly indeicate which data should be lumped together."
   ]
  },
  {
   "cell_type": "code",
   "execution_count": 22,
   "id": "c8ed0d3d",
   "metadata": {
    "execution": {
     "iopub.execute_input": "2023-03-25T19:14:22.844518Z",
     "iopub.status.busy": "2023-03-25T19:14:22.843348Z",
     "iopub.status.idle": "2023-03-25T19:14:22.972289Z",
     "shell.execute_reply": "2023-03-25T19:14:22.970906Z"
    },
    "papermill": {
     "duration": 0.158309,
     "end_time": "2023-03-25T19:14:22.974095",
     "exception": false,
     "start_time": "2023-03-25T19:14:22.815786",
     "status": "completed"
    },
    "tags": []
   },
   "outputs": [
    {
     "data": {
      "text/plain": [
       "5 speed            25203\n",
       "6 speed             7459\n",
       "7 speed             1842\n",
       "8 speed             1150\n",
       "4 speed              760\n",
       "cvt                  474\n",
       "nan                  471\n",
       "9 speed              399\n",
       "fully automatic       20\n",
       "1 speed               15\n",
       "direct drive          11\n",
       "10 speed               9\n",
       "Name: Gear Box, dtype: int64"
      ]
     },
     "execution_count": 22,
     "metadata": {},
     "output_type": "execute_result"
    }
   ],
   "source": [
    "gear_box_mapping = {}\n",
    "gear_box_mapping['1 speed'] = [\n",
    "\t'single speed', \n",
    "\t'single speed automatic', \n",
    "\t'single speed reduction gear', \n",
    "\t'single-speed transmission', \n",
    "]\n",
    "gear_box_mapping['4 speed'] = [\n",
    "\t'4 speed', \n",
    "\t'4-speed', \n",
    "]\n",
    "gear_box_mapping['5 speed'] = [\n",
    "\t'5', \n",
    "\t'5 - speed', \n",
    "\t'5 gears', \n",
    "\t'5 manual', \n",
    "\t'5 speed', \n",
    "\t'5 speed at+ paddle shifters', \n",
    "\t'5 speed cvt', \n",
    "\t'5 speed forward, 1 reverse', \n",
    "\t'5 speed manual', \n",
    "\t'5 speed manual transmission', \n",
    "\t'5 speed+1(r)', \n",
    "\t'5 speed,5 forward, 1 reverse', \n",
    "\t'5-speed', \n",
    "\t'5-speed`', \n",
    "\t'five speed', \n",
    "\t'five speed manual', \n",
    "\t'five speed manual transmission', \n",
    "\t'five speed manual transmission gearbox', \n",
    "]\n",
    "gear_box_mapping['6 speed'] = [\n",
    "\t'6', \n",
    "\t'6 speed', \n",
    "\t'6 speed at', \n",
    "\t'6 speed automatic', \n",
    "\t'6 speed geartronic', \n",
    "\t'6 speed imt', \n",
    "\t'6 speed ivt', \n",
    "\t'6 speed mt', \n",
    "\t'6 speed with sequential shift', \n",
    "\t'6-speed', \n",
    "\t'6-speed at', \n",
    "\t'6-speed automatic', \n",
    "\t'6-speed autoshift', \n",
    "\t'6-speed cvt', \n",
    "\t'6-speed dct', \n",
    "\t'6-speed imt', \n",
    "\t'6-speed ivt', \n",
    "\t'6-speed`', \n",
    "\t'six speed  gearbox', \n",
    "\t'six speed automatic gearbox', \n",
    "\t'six speed automatic transmission', \n",
    "\t'six speed geartronic, six speed automati', \n",
    "\t'six speed manual', \n",
    "\t'six speed manual transmission', \n",
    "\t'six speed manual with paddle shifter', \n",
    "]\n",
    "gear_box_mapping['7 speed'] = [\n",
    "\t'7 speed', \n",
    "\t'7 speed 7g-dct', \n",
    "\t'7 speed 9g-tronic automatic', \n",
    "\t'7 speed cvt', \n",
    "\t'7 speed dct', \n",
    "\t'7 speed dsg', \n",
    "\t'7 speed dual clutch transmission', \n",
    "\t'7 speed s tronic', \n",
    "\t'7-speed', \n",
    "\t'7-speed dct', \n",
    "\t'7-speed dsg', \n",
    "\t'7-speed pdk', \n",
    "\t'7-speed s tronic', \n",
    "\t'7-speed s-tronic', \n",
    "\t'7-speed steptronic', \n",
    "\t'7-speed stronic', \n",
    "\t'7g dct 7-speed dual clutch transmission', \n",
    "\t'7g-dct', \n",
    "\t'7g-tronic automatic transmission',\n",
    "\t'amg 7-speed dct',\t\n",
    "\t'mercedes benz 7 speed automatic',\n",
    "]\n",
    "gear_box_mapping['8 speed'] = [\n",
    "\t'8', \n",
    "\t'8 speed', \n",
    "\t'8 speed cvt', \n",
    "\t'8 speed multitronic', \n",
    "\t'8 speed sport', \n",
    "\t'8 speed tip tronic s', \n",
    "\t'8 speed tiptronic', \n",
    "\t'8-speed', \n",
    "\t'8-speed automatic', \n",
    "\t'8-speed automatic transmission', \n",
    "\t'8-speed dct', \n",
    "\t'8-speed steptronic', \n",
    "\t'8-speed steptronic sport automatic transmission', \n",
    "\t'8-speed tiptronic', \n",
    "\t'8speed',\n",
    "\t'amg speedshift dct 8g', \n",
    "]\n",
    "gear_box_mapping['9 speed'] = [\n",
    "\t'9 -speed', \n",
    "\t'9 speed', \n",
    "\t'9 speed tronic', \n",
    "\t'9-speed', \n",
    "\t'9-speed automatic', \n",
    "\t'9g tronic', \n",
    "\t'9g-tronic', \n",
    "\t'9g-tronic automatic', \n",
    "\t'amg speedshift 9g tct automatic',\n",
    "]\n",
    "gear_box_mapping['10 speed'] = [\n",
    "\t'10 speed', \n",
    "]\n",
    "gear_box_mapping['cvt'] = [\n",
    "'cvt', \n",
    "'e-cvt', \n",
    "'ecvt', \n",
    "]\n",
    "gear_box_mapping['direct drive'] = [\n",
    "'direct drive', \n",
    "]\n",
    "gear_box_mapping['fully automatic'] = [\n",
    "\t'automatic transmission', \n",
    "\t'fully automatic',\n",
    "]\n",
    "gear_box_mapping['nan'] = [\n",
    "'nan',\n",
    "'ags', \n",
    "'imt', \n",
    "'ivt', \n",
    "]\n",
    "\n",
    "mapping_dict = {v: k for k, lst in gear_box_mapping.items() for v in lst}\n",
    "cars_df['Gear Box'] = cars_df['Gear Box'].replace(mapping_dict)\n",
    "\n",
    "cars_df[columns_unexpected_cardinality[2]].value_counts()"
   ]
  },
  {
   "cell_type": "markdown",
   "id": "75df7aee",
   "metadata": {
    "papermill": {
     "duration": 0.026289,
     "end_time": "2023-03-25T19:14:23.029030",
     "exception": false,
     "start_time": "2023-03-25T19:14:23.002741",
     "status": "completed"
    },
    "tags": []
   },
   "source": [
    "--- \n",
    "\n",
    "##### `Drive Type`"
   ]
  },
  {
   "cell_type": "code",
   "execution_count": 23,
   "id": "71e6355f",
   "metadata": {
    "execution": {
     "iopub.execute_input": "2023-03-25T19:14:23.085672Z",
     "iopub.status.busy": "2023-03-25T19:14:23.084954Z",
     "iopub.status.idle": "2023-03-25T19:14:23.096605Z",
     "shell.execute_reply": "2023-03-25T19:14:23.095870Z"
    },
    "papermill": {
     "duration": 0.043212,
     "end_time": "2023-03-25T19:14:23.098513",
     "exception": false,
     "start_time": "2023-03-25T19:14:23.055301",
     "status": "completed"
    },
    "tags": []
   },
   "outputs": [
    {
     "data": {
      "text/plain": [
       "fwd                                         27456\n",
       "nan                                          4496\n",
       "rwd                                          2248\n",
       "awd                                          1082\n",
       "2wd                                           648\n",
       "4wd                                           570\n",
       "2 wd                                          369\n",
       "4x2                                           297\n",
       "4x4                                           229\n",
       "front wheel drive                             176\n",
       "two wheel drive                                98\n",
       "all wheel drive                                32\n",
       "rear wheel drive with esp                      29\n",
       "two whhel drive                                26\n",
       "permanent all-wheel drive quattro              21\n",
       "rwd(with mtt)                                  14\n",
       "rear-wheel drive with esp                       7\n",
       "4 wd                                            7\n",
       "all-wheel drive with electronic traction        5\n",
       "four whell drive                                2\n",
       "3                                               1\n",
       "Name: Drive Type, dtype: int64"
      ]
     },
     "execution_count": 23,
     "metadata": {},
     "output_type": "execute_result"
    }
   ],
   "source": [
    "cars_df[columns_unexpected_cardinality[3]].value_counts()"
   ]
  },
  {
   "cell_type": "markdown",
   "id": "71a2fb5f",
   "metadata": {
    "papermill": {
     "duration": 0.030442,
     "end_time": "2023-03-25T19:14:23.156135",
     "exception": false,
     "start_time": "2023-03-25T19:14:23.125693",
     "status": "completed"
    },
    "tags": []
   },
   "source": [
    "We will once again take the same approach and define a mapping since many categories are redundant here."
   ]
  },
  {
   "cell_type": "code",
   "execution_count": 24,
   "id": "6ef8aa02",
   "metadata": {
    "execution": {
     "iopub.execute_input": "2023-03-25T19:14:23.212125Z",
     "iopub.status.busy": "2023-03-25T19:14:23.211516Z",
     "iopub.status.idle": "2023-03-25T19:14:23.244626Z",
     "shell.execute_reply": "2023-03-25T19:14:23.243707Z"
    },
    "papermill": {
     "duration": 0.063487,
     "end_time": "2023-03-25T19:14:23.246515",
     "exception": false,
     "start_time": "2023-03-25T19:14:23.183028",
     "status": "completed"
    },
    "tags": []
   },
   "outputs": [
    {
     "data": {
      "text/plain": [
       "fwd    27632\n",
       "nan     4497\n",
       "rwd     2298\n",
       "2wd     1141\n",
       "awd     1140\n",
       "4wd      808\n",
       "4x2      297\n",
       "Name: Drive Type, dtype: int64"
      ]
     },
     "execution_count": 24,
     "metadata": {},
     "output_type": "execute_result"
    }
   ],
   "source": [
    "drive_type_mapping = {}\n",
    "drive_type_mapping['fwd'] = ['fwd', 'front wheel drive']\n",
    "drive_type_mapping['2wd'] = ['2wd', 'two wheel drive', '2 wd', 'two whhel drive']\n",
    "drive_type_mapping['rwd'] = ['rwd', 'rear wheel drive with esp', 'rear-wheel drive with esp', 'rwd(with mtt)']\n",
    "drive_type_mapping['awd'] = ['awd', 'all wheel drive', 'all-wheel drive with electronic traction', 'permanent all-wheel drive quattro']\n",
    "drive_type_mapping['4wd'] = ['4wd', '4 wd', '4x4', 'four whell drive']\n",
    "drive_type_mapping['nan'] = ['nan', '3']\n",
    "\n",
    "mapping_dict = {v: k for k, lst in drive_type_mapping.items() for v in lst}\n",
    "cars_df['Drive Type'] = cars_df['Drive Type'].replace(mapping_dict)\n",
    "\n",
    "cars_df[columns_unexpected_cardinality[3]].value_counts()"
   ]
  },
  {
   "cell_type": "markdown",
   "id": "8c24a66d",
   "metadata": {
    "papermill": {
     "duration": 0.026506,
     "end_time": "2023-03-25T19:14:23.300901",
     "exception": false,
     "start_time": "2023-03-25T19:14:23.274395",
     "status": "completed"
    },
    "tags": []
   },
   "source": [
    "---\n",
    "\n",
    "##### `Steering Type`"
   ]
  },
  {
   "cell_type": "code",
   "execution_count": 25,
   "id": "21293a4d",
   "metadata": {
    "execution": {
     "iopub.execute_input": "2023-03-25T19:14:23.355587Z",
     "iopub.status.busy": "2023-03-25T19:14:23.354956Z",
     "iopub.status.idle": "2023-03-25T19:14:23.366714Z",
     "shell.execute_reply": "2023-03-25T19:14:23.365566Z"
    },
    "papermill": {
     "duration": 0.041612,
     "end_time": "2023-03-25T19:14:23.368803",
     "exception": false,
     "start_time": "2023-03-25T19:14:23.327191",
     "status": "completed"
    },
    "tags": []
   },
   "outputs": [
    {
     "data": {
      "text/plain": [
       "power         31920\n",
       "electric       3895\n",
       "nan             808\n",
       "manual          652\n",
       "electronic      344\n",
       "electrical      138\n",
       "epas             49\n",
       "hydraulic         5\n",
       "mt                1\n",
       "motor             1\n",
       "Name: Steering Type, dtype: int64"
      ]
     },
     "execution_count": 25,
     "metadata": {},
     "output_type": "execute_result"
    }
   ],
   "source": [
    "# Steering Type\n",
    "cars_df[columns_unexpected_cardinality[4]].value_counts()"
   ]
  },
  {
   "cell_type": "markdown",
   "id": "57e9053b",
   "metadata": {
    "papermill": {
     "duration": 0.026583,
     "end_time": "2023-03-25T19:14:23.422544",
     "exception": false,
     "start_time": "2023-03-25T19:14:23.395961",
     "status": "completed"
    },
    "tags": []
   },
   "source": [
    "There are 2 kinds of steering types (broadly) - \n",
    "1. Power (electric)\n",
    "2. Manual (hydraulic, etc.)"
   ]
  },
  {
   "cell_type": "code",
   "execution_count": 26,
   "id": "ab479bf3",
   "metadata": {
    "execution": {
     "iopub.execute_input": "2023-03-25T19:14:23.480455Z",
     "iopub.status.busy": "2023-03-25T19:14:23.479478Z",
     "iopub.status.idle": "2023-03-25T19:14:23.656414Z",
     "shell.execute_reply": "2023-03-25T19:14:23.655433Z"
    },
    "papermill": {
     "duration": 0.209109,
     "end_time": "2023-03-25T19:14:23.658411",
     "exception": false,
     "start_time": "2023-03-25T19:14:23.449302",
     "status": "completed"
    },
    "tags": []
   },
   "outputs": [
    {
     "data": {
      "text/plain": [
       "power     36348\n",
       "nan         808\n",
       "manual      657\n",
       "Name: Steering Type, dtype: int64"
      ]
     },
     "execution_count": 26,
     "metadata": {},
     "output_type": "execute_result"
    }
   ],
   "source": [
    "cars_df['Steering Type'] = cars_df['Steering Type'].str.replace('electrical', 'power')\n",
    "cars_df['Steering Type'] = cars_df['Steering Type'].str.replace('electric', 'power')\n",
    "cars_df['Steering Type'] = cars_df['Steering Type'].str.replace('electronic', 'power')\n",
    "cars_df['Steering Type'] = cars_df['Steering Type'].str.replace('epas', 'power')\n",
    "cars_df['Steering Type'] = cars_df['Steering Type'].str.replace('mt', 'power')\n",
    "cars_df['Steering Type'] = cars_df['Steering Type'].str.replace('motor', 'power')\n",
    "cars_df['Steering Type'] = cars_df['Steering Type'].str.replace('hydraulic', 'manual')\n",
    "cars_df['Steering Type'] = cars_df['Steering Type'].str.replace('hydraulic', 'manual')\n",
    "\n",
    "cars_df[columns_unexpected_cardinality[4]].value_counts()"
   ]
  },
  {
   "cell_type": "markdown",
   "id": "73e645f5",
   "metadata": {
    "papermill": {
     "duration": 0.026566,
     "end_time": "2023-03-25T19:14:23.712143",
     "exception": false,
     "start_time": "2023-03-25T19:14:23.685577",
     "status": "completed"
    },
    "tags": []
   },
   "source": [
    "---\n",
    "\n",
    "##### `Front Brake Type` and `Rear Brake Type`"
   ]
  },
  {
   "cell_type": "code",
   "execution_count": 27,
   "id": "7a3c8dbd",
   "metadata": {
    "execution": {
     "iopub.execute_input": "2023-03-25T19:14:23.769312Z",
     "iopub.status.busy": "2023-03-25T19:14:23.767745Z",
     "iopub.status.idle": "2023-03-25T19:14:23.779816Z",
     "shell.execute_reply": "2023-03-25T19:14:23.778855Z"
    },
    "papermill": {
     "duration": 0.042991,
     "end_time": "2023-03-25T19:14:23.782570",
     "exception": false,
     "start_time": "2023-03-25T19:14:23.739579",
     "status": "completed"
    },
    "tags": []
   },
   "outputs": [
    {
     "data": {
      "text/plain": [
       "disc                                        22642\n",
       "ventilated disc                             13178\n",
       "ventilated discs                              400\n",
       "solid disc                                    398\n",
       "nan                                           327\n",
       "disc & caliper type                           296\n",
       "disk                                          205\n",
       "ventilated disk                                78\n",
       "drum                                           67\n",
       "multilateral disc                              42\n",
       "vantilated disc                                39\n",
       "disc, 236 mm                                   22\n",
       "ventlated disc                                 17\n",
       "vacuum assisted hydraulic dual circuit w       12\n",
       "ventillated disc                               11\n",
       "disc & drum                                    10\n",
       "disc,internally ventilated                      9\n",
       "electric parking brake                          8\n",
       "264mm ventilated discs                          8\n",
       "caliper ventilated disc                         6\n",
       "ventillated discs                               6\n",
       "disc brakes                                     5\n",
       "260mm discs                                     4\n",
       "discs                                           4\n",
       "abs                                             4\n",
       "tandem master cylinder with servo assist        3\n",
       "twin piston sliding fist caliper                2\n",
       "ventilated disc with twin pot caliper           2\n",
       "disc brakes with inner cooling                  2\n",
       "six piston claipers                             2\n",
       "booster assisted ventilated disc                2\n",
       "carbon ceramic brakes                           1\n",
       "ventilated & grooved steel discs                1\n",
       "Name: Front Brake Type, dtype: int64"
      ]
     },
     "execution_count": 27,
     "metadata": {},
     "output_type": "execute_result"
    }
   ],
   "source": [
    "cars_df[columns_unexpected_cardinality[5]].value_counts()"
   ]
  },
  {
   "cell_type": "code",
   "execution_count": 28,
   "id": "7270c294",
   "metadata": {
    "execution": {
     "iopub.execute_input": "2023-03-25T19:14:23.840686Z",
     "iopub.status.busy": "2023-03-25T19:14:23.840044Z",
     "iopub.status.idle": "2023-03-25T19:14:23.850558Z",
     "shell.execute_reply": "2023-03-25T19:14:23.849641Z"
    },
    "papermill": {
     "duration": 0.042583,
     "end_time": "2023-03-25T19:14:23.852483",
     "exception": false,
     "start_time": "2023-03-25T19:14:23.809900",
     "status": "completed"
    },
    "tags": []
   },
   "outputs": [
    {
     "data": {
      "text/plain": [
       "drum                                        29260\n",
       "disc                                         5272\n",
       "ventilated disc                               757\n",
       "solid disc                                    612\n",
       "nan                                           326\n",
       "self-adjusting drum                           322\n",
       "discs                                         301\n",
       "disc & caliper type                           296\n",
       "ventilated discs                              178\n",
       "leading-trailing drum                         134\n",
       "leading & trailing drum                        75\n",
       "ventilated drum                                46\n",
       "drums                                          40\n",
       "self adjusting drum                            33\n",
       "disc & drum                                    32\n",
       "self adjusting drums                           31\n",
       "drums 180 mm                                   22\n",
       "drum in discs                                  17\n",
       "vacuum assisted hydraulic dual circuit w       12\n",
       "262mm disc & drum combination                   8\n",
       "electric parking brake                          8\n",
       "ventialte disc                                  6\n",
       "203mm drums                                     4\n",
       "drum in disc                                    4\n",
       "228.6 mm dia, drums on rear wheels              3\n",
       "single piston sliding fist                      2\n",
       "disc brakes                                     2\n",
       "four piston calipers                            2\n",
       "booster assisted drum                           2\n",
       "ventilated drum in discs                        1\n",
       "carbon ceramic brakes.                          1\n",
       "ventilated & grooved steel discs                1\n",
       "ventialted disc                                 1\n",
       "drum brakes                                     1\n",
       "drum`                                           1\n",
       "Name: Rear Brake Type, dtype: int64"
      ]
     },
     "execution_count": 28,
     "metadata": {},
     "output_type": "execute_result"
    }
   ],
   "source": [
    "cars_df[columns_unexpected_cardinality[6]].value_counts()"
   ]
  },
  {
   "cell_type": "code",
   "execution_count": 29,
   "id": "052a5e91",
   "metadata": {
    "execution": {
     "iopub.execute_input": "2023-03-25T19:14:23.907973Z",
     "iopub.status.busy": "2023-03-25T19:14:23.907468Z",
     "iopub.status.idle": "2023-03-25T19:14:23.914888Z",
     "shell.execute_reply": "2023-03-25T19:14:23.914228Z"
    },
    "papermill": {
     "duration": 0.037635,
     "end_time": "2023-03-25T19:14:23.916883",
     "exception": false,
     "start_time": "2023-03-25T19:14:23.879248",
     "status": "completed"
    },
    "tags": []
   },
   "outputs": [],
   "source": [
    "brake_type_mapping = {}\n",
    "brake_type_mapping['disc'] = [\n",
    "\t'disc',\n",
    "\t'260mm discs',\n",
    "\t'disc brakes',\n",
    "\t'disc, 236 mm',\n",
    "\t'discs',\n",
    "\t'disk',\n",
    "\t'multilateral disc',\n",
    "\t'solid disc',\n",
    "\t'electric parking brake',\n",
    "\t'abs',\n",
    "]\n",
    "brake_type_mapping['ventilated disc'] = [\n",
    "\t'264mm ventilated discs',\n",
    "\t'booster assisted ventilated disc',\n",
    "\t'caliper ventilated disc',\n",
    "\t'disc brakes with inner cooling',\n",
    "\t'disc,internally ventilated',\n",
    "\t'vantilated disc',\n",
    "\t'ventilated & grooved steel discs',\n",
    "\t'ventilated disc',\n",
    "\t'ventilated disc with twin pot caliper',\n",
    "\t'ventilated discs',\n",
    "\t'ventilated disk',\n",
    "\t'ventillated disc',\n",
    "\t'ventillated discs',\n",
    "\t'ventlated disc',\n",
    "\t'ventilated drum in discs',\n",
    "\t'ventialte disc',\n",
    "\t'ventialted disc',\n",
    "]\n",
    "brake_type_mapping['carbon ceramic'] = [\n",
    "\t'carbon ceramic brakes',\n",
    "\t'carbon ceramic brakes.',\n",
    "]\n",
    "brake_type_mapping['disc & drum'] = [\n",
    "\t'disc & drum',\n",
    "\t'228.6 mm dia, drums on rear wheels',\n",
    "\t'262mm disc & drum combination',\n",
    "\t'drum in disc',\n",
    "\t'drum in discs',\n",
    "]\n",
    "brake_type_mapping['drum'] = [\n",
    "\t'drum',\n",
    "\t'203mm drums',\n",
    "\t'drum`',\n",
    "\t'drums',\n",
    "\t'drums 180 mm',\n",
    "\t'booster assisted drum',\n",
    "\t'drum brakes',\n",
    "\t'leading & trailing drum',\n",
    "\t'leading-trailing drum',\n",
    "\t'self adjusting drum',\n",
    "\t'self adjusting drums',\n",
    "\t'self-adjusting drum',\n",
    "\t'single piston sliding fist',\n",
    "\t'ventilated drum',\n",
    "\t'tandem master cylinder with servo assist',\n",
    "\n",
    "]\n",
    "brake_type_mapping['caliper'] = [\n",
    "\t'six piston claipers',\n",
    "\t'twin piston sliding fist caliper',\n",
    "\t'vacuum assisted hydraulic dual circuit w',\n",
    "\t'four piston calipers',\n",
    "\t'disc & caliper type',\n",
    "]"
   ]
  },
  {
   "cell_type": "code",
   "execution_count": 30,
   "id": "af103db5",
   "metadata": {
    "execution": {
     "iopub.execute_input": "2023-03-25T19:14:23.972397Z",
     "iopub.status.busy": "2023-03-25T19:14:23.971819Z",
     "iopub.status.idle": "2023-03-25T19:14:24.075898Z",
     "shell.execute_reply": "2023-03-25T19:14:24.074566Z"
    },
    "papermill": {
     "duration": 0.134498,
     "end_time": "2023-03-25T19:14:24.078296",
     "exception": false,
     "start_time": "2023-03-25T19:14:23.943798",
     "status": "completed"
    },
    "tags": []
   },
   "outputs": [],
   "source": [
    "mapping_dict = {v: k for k, lst in brake_type_mapping.items() for v in lst}\n",
    "cars_df['Front Brake Type'] = cars_df['Front Brake Type'].replace(mapping_dict)\n",
    "cars_df['Rear Brake Type'] = cars_df['Rear Brake Type'].replace(mapping_dict)"
   ]
  },
  {
   "cell_type": "code",
   "execution_count": 31,
   "id": "85294b85",
   "metadata": {
    "execution": {
     "iopub.execute_input": "2023-03-25T19:14:24.134451Z",
     "iopub.status.busy": "2023-03-25T19:14:24.133979Z",
     "iopub.status.idle": "2023-03-25T19:14:24.144114Z",
     "shell.execute_reply": "2023-03-25T19:14:24.142723Z"
    },
    "papermill": {
     "duration": 0.040762,
     "end_time": "2023-03-25T19:14:24.146192",
     "exception": false,
     "start_time": "2023-03-25T19:14:24.105430",
     "status": "completed"
    },
    "tags": []
   },
   "outputs": [
    {
     "data": {
      "text/plain": [
       "disc               23334\n",
       "ventilated disc    13759\n",
       "nan                  327\n",
       "caliper              312\n",
       "drum                  70\n",
       "disc & drum           10\n",
       "carbon ceramic         1\n",
       "Name: Front Brake Type, dtype: int64"
      ]
     },
     "execution_count": 31,
     "metadata": {},
     "output_type": "execute_result"
    }
   ],
   "source": [
    "cars_df[columns_unexpected_cardinality[5]].value_counts()"
   ]
  },
  {
   "cell_type": "code",
   "execution_count": 32,
   "id": "3d8f03d3",
   "metadata": {
    "execution": {
     "iopub.execute_input": "2023-03-25T19:14:24.201927Z",
     "iopub.status.busy": "2023-03-25T19:14:24.201560Z",
     "iopub.status.idle": "2023-03-25T19:14:24.211193Z",
     "shell.execute_reply": "2023-03-25T19:14:24.209816Z"
    },
    "papermill": {
     "duration": 0.03995,
     "end_time": "2023-03-25T19:14:24.212999",
     "exception": false,
     "start_time": "2023-03-25T19:14:24.173049",
     "status": "completed"
    },
    "tags": []
   },
   "outputs": [
    {
     "data": {
      "text/plain": [
       "drum               29973\n",
       "disc                6195\n",
       "ventilated disc      944\n",
       "nan                  326\n",
       "caliper              310\n",
       "disc & drum           64\n",
       "carbon ceramic         1\n",
       "Name: Rear Brake Type, dtype: int64"
      ]
     },
     "execution_count": 32,
     "metadata": {},
     "output_type": "execute_result"
    }
   ],
   "source": [
    "cars_df[columns_unexpected_cardinality[6]].value_counts()"
   ]
  },
  {
   "cell_type": "markdown",
   "id": "aabb9fe1",
   "metadata": {
    "papermill": {
     "duration": 0.026682,
     "end_time": "2023-03-25T19:14:24.266456",
     "exception": false,
     "start_time": "2023-03-25T19:14:24.239774",
     "status": "completed"
    },
    "tags": []
   },
   "source": [
    "---\n",
    "\n",
    "##### `Tyre Type`"
   ]
  },
  {
   "cell_type": "code",
   "execution_count": 33,
   "id": "3e49c0e6",
   "metadata": {
    "execution": {
     "iopub.execute_input": "2023-03-25T19:14:24.321755Z",
     "iopub.status.busy": "2023-03-25T19:14:24.321377Z",
     "iopub.status.idle": "2023-03-25T19:14:24.331804Z",
     "shell.execute_reply": "2023-03-25T19:14:24.330744Z"
    },
    "papermill": {
     "duration": 0.040316,
     "end_time": "2023-03-25T19:14:24.333451",
     "exception": false,
     "start_time": "2023-03-25T19:14:24.293135",
     "status": "completed"
    },
    "tags": []
   },
   "outputs": [
    {
     "data": {
      "text/plain": [
       "tubeless,radial               21770\n",
       "tubeless                       5723\n",
       "tubeless, radial               4994\n",
       "tubeless tyres                 2408\n",
       "radial                          606\n",
       "radial, tubeless                389\n",
       "tubeless radial tyres           301\n",
       "radial, tubless                 296\n",
       "nan                             257\n",
       "tubeless tyres, radial          224\n",
       "tubeless,radials                212\n",
       "radial,tubeless                 158\n",
       "tubless, radial                  92\n",
       "runflat                          69\n",
       "tubeless tyre                    50\n",
       "tubeless, runflat                48\n",
       "run-flat                         47\n",
       "runflat tyres                    41\n",
       "radial tubeless                  33\n",
       "tubeless,runflat                 31\n",
       "tubeless radial                  17\n",
       "runflat tyre                     16\n",
       "tubeless, radials                 7\n",
       "radial with tube                  4\n",
       "tubeless. runflat                 3\n",
       "tubeless radial tyrees            3\n",
       "tubeless tyres mud terrain        3\n",
       "radial tyres                      3\n",
       "tubeless.runflat                  2\n",
       "tubeless radial tyre              2\n",
       "tubeless , radial                 2\n",
       "tubeless radials                  1\n",
       "tubless radial tyrees             1\n",
       "Name: Tyre Type, dtype: int64"
      ]
     },
     "execution_count": 33,
     "metadata": {},
     "output_type": "execute_result"
    }
   ],
   "source": [
    "cars_df[columns_unexpected_cardinality[7]].value_counts()"
   ]
  },
  {
   "cell_type": "code",
   "execution_count": 34,
   "id": "1d27abd4",
   "metadata": {
    "execution": {
     "iopub.execute_input": "2023-03-25T19:14:24.389714Z",
     "iopub.status.busy": "2023-03-25T19:14:24.388461Z",
     "iopub.status.idle": "2023-03-25T19:14:24.395581Z",
     "shell.execute_reply": "2023-03-25T19:14:24.394597Z"
    },
    "papermill": {
     "duration": 0.037112,
     "end_time": "2023-03-25T19:14:24.397367",
     "exception": false,
     "start_time": "2023-03-25T19:14:24.360255",
     "status": "completed"
    },
    "tags": []
   },
   "outputs": [],
   "source": [
    "tyre_type_mapping = {}\n",
    "tyre_type_mapping['tubeless'] = [\n",
    "\t'tubeless tyres',\n",
    "\t'tubeless',\n",
    "\t'tubeless tyres mud terrain',\n",
    "\t'tubeless tyre',\n",
    "]\n",
    "tyre_type_mapping['tubeless radial'] = [\n",
    "\t'tubeless, radial',\n",
    "\t'tubeless,radial',\n",
    "\t'tubeless tyres, radial',\n",
    "\t'tubeless radial tyres',\n",
    "\t'radial, tubeless',\n",
    "\t'radial',\n",
    "\t'tubless, radial',\n",
    "\t'radial tubeless',\n",
    "\t'tubeless radial',\n",
    "\t'tubeless,radials',\n",
    "\t'tubeless radials',\n",
    "\t'radial,tubeless',\n",
    "\t'tubeless radial tyre',\n",
    "\t'radial, tubless',\n",
    "\t'tubless radial tyrees',\n",
    "\t'tubeless , radial',\n",
    "\t'tubeless, radials',\n",
    "\t'radial tyres',\n",
    "]\n",
    "tyre_type_mapping['runflat'] = [\n",
    "\t'runflat tyres',\n",
    "\t'runflat',\n",
    "\t'tubeless,runflat',\n",
    "\t'run-flat',\n",
    "\t'runflat tyre',\n",
    "\t'tubeless, runflat',\n",
    "\t'tubeless. runflat',\n",
    "\t'tubeless.runflat',\n",
    "\t'tubeless radial tyrees',\n",
    "]\n",
    "tyre_type_mapping['tube'] = [\n",
    "\t'radial with tube',\n",
    "]"
   ]
  },
  {
   "cell_type": "code",
   "execution_count": 35,
   "id": "b3ef8426",
   "metadata": {
    "execution": {
     "iopub.execute_input": "2023-03-25T19:14:24.455414Z",
     "iopub.status.busy": "2023-03-25T19:14:24.454436Z",
     "iopub.status.idle": "2023-03-25T19:14:24.512329Z",
     "shell.execute_reply": "2023-03-25T19:14:24.510747Z"
    },
    "papermill": {
     "duration": 0.090239,
     "end_time": "2023-03-25T19:14:24.516237",
     "exception": false,
     "start_time": "2023-03-25T19:14:24.425998",
     "status": "completed"
    },
    "tags": []
   },
   "outputs": [
    {
     "data": {
      "text/plain": [
       "tubeless radial    29108\n",
       "tubeless            8184\n",
       "runflat              260\n",
       "nan                  257\n",
       "tube                   4\n",
       "Name: Tyre Type, dtype: int64"
      ]
     },
     "execution_count": 35,
     "metadata": {},
     "output_type": "execute_result"
    }
   ],
   "source": [
    "mapping_dict = {v: k for k, lst in tyre_type_mapping.items() for v in lst}\n",
    "cars_df['Tyre Type'] = cars_df['Tyre Type'].replace(mapping_dict)\n",
    "\n",
    "cars_df[columns_unexpected_cardinality[7]].value_counts()"
   ]
  },
  {
   "cell_type": "markdown",
   "id": "ee72c94f",
   "metadata": {
    "papermill": {
     "duration": 0.02783,
     "end_time": "2023-03-25T19:14:24.580896",
     "exception": false,
     "start_time": "2023-03-25T19:14:24.553066",
     "status": "completed"
    },
    "tags": []
   },
   "source": [
    "---\n",
    "\n",
    "##### `Fuel Injection System`\n",
    "\n",
    "Although we expect a high cardinality from this feature, it's still worth a look if we could reduce the number of catgories by losing some of the variance.\n",
    "\n",
    "(This step is optional and can be skipped. Also the mapping that is done is approximate and to the best of my knowledge, your mapping could differ)"
   ]
  },
  {
   "cell_type": "code",
   "execution_count": 36,
   "id": "2856d1bc",
   "metadata": {
    "execution": {
     "iopub.execute_input": "2023-03-25T19:14:24.638037Z",
     "iopub.status.busy": "2023-03-25T19:14:24.637493Z",
     "iopub.status.idle": "2023-03-25T19:14:24.648287Z",
     "shell.execute_reply": "2023-03-25T19:14:24.647200Z"
    },
    "papermill": {
     "duration": 0.041642,
     "end_time": "2023-03-25T19:14:24.650834",
     "exception": false,
     "start_time": "2023-03-25T19:14:24.609192",
     "status": "completed"
    },
    "tags": []
   },
   "outputs": [
    {
     "data": {
      "text/plain": [
       "mpfi                                      13443\n",
       "crdi                                       9165\n",
       "nan                                        5502\n",
       "direct injection                           3831\n",
       "pgm-fi                                      882\n",
       "                                          ...  \n",
       "intake port(multi-point)                      1\n",
       "mfi                                           1\n",
       "distributor-type diesel fuel injection        1\n",
       "tfsi                                          1\n",
       "pgm-fi (programmed fuel inject                1\n",
       "Name: Fuel Suppy System, Length: 71, dtype: int64"
      ]
     },
     "execution_count": 36,
     "metadata": {},
     "output_type": "execute_result"
    }
   ],
   "source": [
    "cars_df['Fuel Suppy System'].value_counts()"
   ]
  },
  {
   "cell_type": "code",
   "execution_count": 37,
   "id": "062b9fe2",
   "metadata": {
    "execution": {
     "iopub.execute_input": "2023-03-25T19:14:24.708170Z",
     "iopub.status.busy": "2023-03-25T19:14:24.707786Z",
     "iopub.status.idle": "2023-03-25T19:14:24.792137Z",
     "shell.execute_reply": "2023-03-25T19:14:24.790589Z"
    },
    "papermill": {
     "duration": 0.115394,
     "end_time": "2023-03-25T19:14:24.794368",
     "exception": false,
     "start_time": "2023-03-25T19:14:24.678974",
     "status": "completed"
    },
    "tags": []
   },
   "outputs": [
    {
     "data": {
      "text/plain": [
       "Multi-Point Fuel Injection         14055\n",
       "Common Rail Injection              11822\n",
       "nan                                 5502\n",
       "Direct Injection                    3837\n",
       "Electronic Fuel Injection           1593\n",
       "Gasoline Direct Injection            653\n",
       "Gasoline Port Injection              100\n",
       "Diesel Direct Injection               99\n",
       "Turbo Intercooled Diesel              89\n",
       "Indirect Injection                    21\n",
       "Variable Valve Timing Injection       15\n",
       "Three-Phase AC Induction Motors       11\n",
       "Distributor-Type Fuel Injection        8\n",
       "Electric                               7\n",
       "Intake Port Injection                  1\n",
       "Name: Fuel Suppy System, dtype: int64"
      ]
     },
     "execution_count": 37,
     "metadata": {},
     "output_type": "execute_result"
    }
   ],
   "source": [
    "fuel_injection_mapping = {\n",
    "    \"Gasoline Port Injection\": [\n",
    "    \t\"intelligent-gas port injection\", \n",
    "    \t\"i-gpi\",\n",
    "    \t\"dohc\",\n",
    "    \t\"pfi\"\n",
    "\t],\n",
    "    \"Multi-Point Fuel Injection\": [\n",
    "    \t\"mpfi\", \n",
    "    \t\"multi-point injection\", \n",
    "    \t\"mpfi+lpg\", \n",
    "    \t\"mpfi+cng\", \n",
    "    \t\"multipoint injection\", \n",
    "    \t\"smpi\", \n",
    "    \t\"mpi\",\n",
    "    \t\"multi point fuel injection\",\n",
    "    \t\"dpfi\",\n",
    "    \t\"mfi\",\n",
    "    \t\"multi point injection\",\n",
    "    \t\"msds\",\n",
    "    \t\"cng\"\n",
    "    ],\n",
    "    \"Electronic Fuel Injection\": [\n",
    "\t    \"efi(electronic fuel injection)\", \n",
    "\t    \"efi\", \n",
    "\t    \"efi (electronic fuel injection)\", \n",
    "\t    \"efic\", \n",
    "\t    \"electronic fuel injection\", \n",
    "\t    \"electronically controlled injection\", \n",
    "\t    \"electronic injection system\", \n",
    "\t    \"sefi\",\n",
    "\t    \"egis\",\n",
    "\t    \"efi (electronic fuel injection\",\n",
    "\t    \"efi\",\n",
    "        \"efi -electronic fuel injection\",\n",
    "    ],\n",
    "    \"Direct Injection\": [\n",
    "    \t\"direct injection\", \n",
    "    \t\"direct injectio\", \n",
    "    \t\"direct fuel injection\",\n",
    "    \t\"direct engine\",\n",
    "    ],\n",
    "    \"Common Rail Injection\": [\n",
    "    \t\"crdi\", \n",
    "    \t\"common rail\", \n",
    "    \t\"common rail injection\", \n",
    "    \t\"common rail direct injection\", \n",
    "    \t\"common rail direct injection (dci)\", \n",
    "    \t\"common-rail type\", \n",
    "    \t\"advanced common rail\", \n",
    "    \t\"common rail system\", \n",
    "    \t\"common rail diesel\", \n",
    "    \t\"pgm-fi (programmed fuel injection)\", \n",
    "    \t\"pgm-fi (programmed fuel inje\", \n",
    "    \t\"pgm - fi\", \n",
    "    \t\"pgm-fi\", \n",
    "    \t\"pgm-fi (programmed fuel inject\",\n",
    "    \t\"direct injection common rail\",\n",
    "    \t\"cdi\"\n",
    "    ],\n",
    "    \"Distributor-Type Fuel Injection\": [\n",
    "    \t\"dedst\", \n",
    "    \t\"distribution type fuel injection\", \n",
    "    \t\"distributor-type diesel fuel injection\",\n",
    "    ],\n",
    "    \"Indirect Injection\": [\n",
    "    \t\"indirect injection\",\n",
    "    \t\"idi\"\n",
    "    ],\n",
    "    \"Gasoline Direct Injection\": [\n",
    "    \t\"gdi\", \n",
    "    \t\"gasoline direct injection\",\n",
    "    \t\"tfsi\",\n",
    "    \t\"tsi\",\n",
    "    \t\"tgdi\"\n",
    "    ],\n",
    "    \"Turbo Intercooled Diesel\": [\n",
    "    \t\"tcdi\", \n",
    "    \t\"turbo intercooled diesel\",\n",
    "    \t\"tdci\"\n",
    "    ],\n",
    "    \"Intake Port Injection\": [\n",
    "    \t\"intake port(multi-point)\"\n",
    "    ],\n",
    "    \"Diesel Direct Injection\": [\n",
    "    \t\"ddi\", \n",
    "    \t\"ddis\"\n",
    "    ],\n",
    "    \"Variable Valve Timing Injection\": [\n",
    "    \t\"dual vvt-i\", \n",
    "    \t\"vvt-ie\", \n",
    "    \t\"ti-vct\"\n",
    "    ],\n",
    "    \"Three-Phase AC Induction Motors\": [\n",
    "    \t\"3 phase ac induction motors\"\n",
    "    ],\n",
    "    \"Electric\": [\n",
    "    \t\"electric\", \n",
    "    \t\"isg\"\n",
    "    ],\n",
    "}\n",
    "\n",
    "mapping_dict = {v: k for k, lst in fuel_injection_mapping.items() for v in lst}\n",
    "cars_df['Fuel Suppy System'] = cars_df['Fuel Suppy System'].replace(mapping_dict)\n",
    "\n",
    "cars_df['Fuel Suppy System'].value_counts()"
   ]
  },
  {
   "cell_type": "markdown",
   "id": "bb3bd6bb",
   "metadata": {
    "papermill": {
     "duration": 0.026951,
     "end_time": "2023-03-25T19:14:24.848796",
     "exception": false,
     "start_time": "2023-03-25T19:14:24.821845",
     "status": "completed"
    },
    "tags": []
   },
   "source": [
    "##### With this column, all of the features suspected of high cardinality are handled. We can move on to the other things that were pointed out earlier in the code."
   ]
  },
  {
   "cell_type": "markdown",
   "id": "f3052ce7",
   "metadata": {
    "papermill": {
     "duration": 0.027353,
     "end_time": "2023-03-25T19:14:24.903333",
     "exception": false,
     "start_time": "2023-03-25T19:14:24.875980",
     "status": "completed"
    },
    "tags": []
   },
   "source": [
    "---"
   ]
  },
  {
   "cell_type": "markdown",
   "id": "c071c95f",
   "metadata": {
    "papermill": {
     "duration": 0.027256,
     "end_time": "2023-03-25T19:14:24.958248",
     "exception": false,
     "start_time": "2023-03-25T19:14:24.930992",
     "status": "completed"
    },
    "tags": []
   },
   "source": [
    "#### Converting features to numerical (and/or boolean)"
   ]
  },
  {
   "cell_type": "markdown",
   "id": "8c1614a1",
   "metadata": {
    "papermill": {
     "duration": 0.027304,
     "end_time": "2023-03-25T19:14:25.012868",
     "exception": false,
     "start_time": "2023-03-25T19:14:24.985564",
     "status": "completed"
    },
    "tags": []
   },
   "source": [
    "The features we wish to convert are the following:\n",
    "1. `pu` to float\n",
    "2. `Max Power` to 2 separate columns: `Max Power Delivered` and `Max Power At`\n",
    "3. ~~`No of Cylinder` to int (from float)~~\n",
    "4. ~~`Values per Cylinder` to int (from float)~~\n",
    "5. `BoreX Stroke` to 2 separate columns: `Bore` and `Stroke`\n",
    "6. `Turbo Charger` to boolean\n",
    "7. `Super Charger` to boolean\n",
    "8. `Length` to int \n",
    "9. `Width` to int\n",
    "10. `Height` to int\n",
    "11. `Wheel Base` to int\n",
    "12. `Front Tread` to int\n",
    "13. `Rear Tread` to int\n",
    "14. `Kerb Weight` to int\n",
    "15. `Gross Weight` to int\n",
    "16. ~~`Seating Capacity` to int (from float)~~\n",
    "17. `Turning Radius` to float\n",
    "18. `Top Speed` to int\n",
    "19. `Acceleration` to float\n",
    "20. ~~`No Door Numbers` to int (from float)~~\n",
    "21. `Cargo Volumn` to int\n",
    "22. `Compression Ratio` to float\n",
    "23. `Alloy Wheel Size` to float\n",
    "24. `Ground Clearance Unladen` to int"
   ]
  },
  {
   "cell_type": "code",
   "execution_count": 38,
   "id": "69f65d9b",
   "metadata": {
    "execution": {
     "iopub.execute_input": "2023-03-25T19:14:25.070554Z",
     "iopub.status.busy": "2023-03-25T19:14:25.070235Z",
     "iopub.status.idle": "2023-03-25T19:14:25.109658Z",
     "shell.execute_reply": "2023-03-25T19:14:25.108734Z"
    },
    "papermill": {
     "duration": 0.070953,
     "end_time": "2023-03-25T19:14:25.111847",
     "exception": false,
     "start_time": "2023-03-25T19:14:25.040894",
     "status": "completed"
    },
    "tags": []
   },
   "outputs": [
    {
     "data": {
      "text/html": [
       "<div>\n",
       "<style scoped>\n",
       "    .dataframe tbody tr th:only-of-type {\n",
       "        vertical-align: middle;\n",
       "    }\n",
       "\n",
       "    .dataframe tbody tr th {\n",
       "        vertical-align: top;\n",
       "    }\n",
       "\n",
       "    .dataframe thead th {\n",
       "        text-align: right;\n",
       "    }\n",
       "</style>\n",
       "<table border=\"1\" class=\"dataframe\">\n",
       "  <thead>\n",
       "    <tr style=\"text-align: right;\">\n",
       "      <th></th>\n",
       "      <th>loc</th>\n",
       "      <th>myear</th>\n",
       "      <th>bt</th>\n",
       "      <th>tt</th>\n",
       "      <th>ft</th>\n",
       "      <th>km</th>\n",
       "      <th>ip</th>\n",
       "      <th>images</th>\n",
       "      <th>imgCount</th>\n",
       "      <th>threesixty</th>\n",
       "      <th>...</th>\n",
       "      <th>No Door Numbers</th>\n",
       "      <th>Cargo Volumn</th>\n",
       "      <th>model_type_new</th>\n",
       "      <th>state</th>\n",
       "      <th>exterior_color</th>\n",
       "      <th>owner_type</th>\n",
       "      <th>Fuel Suppy System</th>\n",
       "      <th>Compression Ratio</th>\n",
       "      <th>Alloy Wheel Size</th>\n",
       "      <th>Ground Clearance Unladen</th>\n",
       "    </tr>\n",
       "    <tr>\n",
       "      <th>usedCarSkuId</th>\n",
       "      <th></th>\n",
       "      <th></th>\n",
       "      <th></th>\n",
       "      <th></th>\n",
       "      <th></th>\n",
       "      <th></th>\n",
       "      <th></th>\n",
       "      <th></th>\n",
       "      <th></th>\n",
       "      <th></th>\n",
       "      <th></th>\n",
       "      <th></th>\n",
       "      <th></th>\n",
       "      <th></th>\n",
       "      <th></th>\n",
       "      <th></th>\n",
       "      <th></th>\n",
       "      <th></th>\n",
       "      <th></th>\n",
       "      <th></th>\n",
       "      <th></th>\n",
       "    </tr>\n",
       "  </thead>\n",
       "  <tbody>\n",
       "    <tr>\n",
       "      <th>7111bf25-97af-47f9-867b-40879190d800</th>\n",
       "      <td>gomti nagar</td>\n",
       "      <td>2016</td>\n",
       "      <td>hatchback</td>\n",
       "      <td>manual</td>\n",
       "      <td>cng</td>\n",
       "      <td>69,162</td>\n",
       "      <td>0</td>\n",
       "      <td>[{'img': 'https://images10.gaadi.com/usedcar_i...</td>\n",
       "      <td>15</td>\n",
       "      <td>False</td>\n",
       "      <td>...</td>\n",
       "      <td>5.000</td>\n",
       "      <td>180-liters</td>\n",
       "      <td>used</td>\n",
       "      <td>uttar pradesh</td>\n",
       "      <td>silver</td>\n",
       "      <td>first</td>\n",
       "      <td>nan</td>\n",
       "      <td>NaN</td>\n",
       "      <td>nan</td>\n",
       "      <td>nan</td>\n",
       "    </tr>\n",
       "    <tr>\n",
       "      <th>c309efc1-efaf-4f82-81ad-dcb38eb36665</th>\n",
       "      <td>borivali west</td>\n",
       "      <td>2015</td>\n",
       "      <td>hatchback</td>\n",
       "      <td>manual</td>\n",
       "      <td>cng</td>\n",
       "      <td>45,864</td>\n",
       "      <td>0</td>\n",
       "      <td>[{'img': 'https://images10.gaadi.com/usedcar_i...</td>\n",
       "      <td>15</td>\n",
       "      <td>False</td>\n",
       "      <td>...</td>\n",
       "      <td>5.000</td>\n",
       "      <td>235-litres</td>\n",
       "      <td>used</td>\n",
       "      <td>maharashtra</td>\n",
       "      <td>grey</td>\n",
       "      <td>first</td>\n",
       "      <td>Gasoline Port Injection</td>\n",
       "      <td>11.0:1</td>\n",
       "      <td>nan</td>\n",
       "      <td>nan</td>\n",
       "    </tr>\n",
       "    <tr>\n",
       "      <th>7609f710-0c97-4f00-9a47-9b9284b62d3a</th>\n",
       "      <td>jasola</td>\n",
       "      <td>2015</td>\n",
       "      <td>sedan</td>\n",
       "      <td>manual</td>\n",
       "      <td>cng</td>\n",
       "      <td>81,506</td>\n",
       "      <td>0</td>\n",
       "      <td>[{'img': 'https://images10.gaadi.com/usedcar_i...</td>\n",
       "      <td>15</td>\n",
       "      <td>False</td>\n",
       "      <td>...</td>\n",
       "      <td>4.000</td>\n",
       "      <td>400-litres</td>\n",
       "      <td>used</td>\n",
       "      <td>delhi</td>\n",
       "      <td>silver</td>\n",
       "      <td>second</td>\n",
       "      <td>nan</td>\n",
       "      <td>NaN</td>\n",
       "      <td>nan</td>\n",
       "      <td>nan</td>\n",
       "    </tr>\n",
       "    <tr>\n",
       "      <th>278b76e3-5539-4a5e-ae3e-353a2e3b6d7d</th>\n",
       "      <td>jasola</td>\n",
       "      <td>2013</td>\n",
       "      <td>hatchback</td>\n",
       "      <td>manual</td>\n",
       "      <td>cng</td>\n",
       "      <td>1,15,893</td>\n",
       "      <td>0</td>\n",
       "      <td>[{'img': ''}]</td>\n",
       "      <td>0</td>\n",
       "      <td>False</td>\n",
       "      <td>...</td>\n",
       "      <td>4.000</td>\n",
       "      <td>nan</td>\n",
       "      <td>used</td>\n",
       "      <td>delhi</td>\n",
       "      <td>silver</td>\n",
       "      <td>second</td>\n",
       "      <td>Multi-Point Fuel Injection</td>\n",
       "      <td>NaN</td>\n",
       "      <td>13</td>\n",
       "      <td>nan</td>\n",
       "    </tr>\n",
       "    <tr>\n",
       "      <th>b1eab99b-a606-48dd-a75b-57feb8a9ad92</th>\n",
       "      <td>mumbai g.p.o.</td>\n",
       "      <td>2022</td>\n",
       "      <td>muv</td>\n",
       "      <td>manual</td>\n",
       "      <td>cng</td>\n",
       "      <td>18,900</td>\n",
       "      <td>0</td>\n",
       "      <td>[{'img': 'https://images10.gaadi.com/usedcar_i...</td>\n",
       "      <td>6</td>\n",
       "      <td>False</td>\n",
       "      <td>...</td>\n",
       "      <td>5.000</td>\n",
       "      <td>nan</td>\n",
       "      <td>used</td>\n",
       "      <td>maharashtra</td>\n",
       "      <td>white</td>\n",
       "      <td>first</td>\n",
       "      <td>nan</td>\n",
       "      <td>12.0+-.03</td>\n",
       "      <td>nan</td>\n",
       "      <td>nan</td>\n",
       "    </tr>\n",
       "  </tbody>\n",
       "</table>\n",
       "<p>5 rows × 62 columns</p>\n",
       "</div>"
      ],
      "text/plain": [
       "                                                loc  myear         bt      tt  \\\n",
       "usedCarSkuId                                                                    \n",
       "7111bf25-97af-47f9-867b-40879190d800    gomti nagar   2016  hatchback  manual   \n",
       "c309efc1-efaf-4f82-81ad-dcb38eb36665  borivali west   2015  hatchback  manual   \n",
       "7609f710-0c97-4f00-9a47-9b9284b62d3a         jasola   2015      sedan  manual   \n",
       "278b76e3-5539-4a5e-ae3e-353a2e3b6d7d         jasola   2013  hatchback  manual   \n",
       "b1eab99b-a606-48dd-a75b-57feb8a9ad92  mumbai g.p.o.   2022        muv  manual   \n",
       "\n",
       "                                       ft        km  ip  \\\n",
       "usedCarSkuId                                              \n",
       "7111bf25-97af-47f9-867b-40879190d800  cng    69,162   0   \n",
       "c309efc1-efaf-4f82-81ad-dcb38eb36665  cng    45,864   0   \n",
       "7609f710-0c97-4f00-9a47-9b9284b62d3a  cng    81,506   0   \n",
       "278b76e3-5539-4a5e-ae3e-353a2e3b6d7d  cng  1,15,893   0   \n",
       "b1eab99b-a606-48dd-a75b-57feb8a9ad92  cng    18,900   0   \n",
       "\n",
       "                                                                                 images  \\\n",
       "usedCarSkuId                                                                              \n",
       "7111bf25-97af-47f9-867b-40879190d800  [{'img': 'https://images10.gaadi.com/usedcar_i...   \n",
       "c309efc1-efaf-4f82-81ad-dcb38eb36665  [{'img': 'https://images10.gaadi.com/usedcar_i...   \n",
       "7609f710-0c97-4f00-9a47-9b9284b62d3a  [{'img': 'https://images10.gaadi.com/usedcar_i...   \n",
       "278b76e3-5539-4a5e-ae3e-353a2e3b6d7d                                      [{'img': ''}]   \n",
       "b1eab99b-a606-48dd-a75b-57feb8a9ad92  [{'img': 'https://images10.gaadi.com/usedcar_i...   \n",
       "\n",
       "                                      imgCount  threesixty  ...  \\\n",
       "usedCarSkuId                                                ...   \n",
       "7111bf25-97af-47f9-867b-40879190d800        15       False  ...   \n",
       "c309efc1-efaf-4f82-81ad-dcb38eb36665        15       False  ...   \n",
       "7609f710-0c97-4f00-9a47-9b9284b62d3a        15       False  ...   \n",
       "278b76e3-5539-4a5e-ae3e-353a2e3b6d7d         0       False  ...   \n",
       "b1eab99b-a606-48dd-a75b-57feb8a9ad92         6       False  ...   \n",
       "\n",
       "                                     No Door Numbers Cargo Volumn  \\\n",
       "usedCarSkuId                                                        \n",
       "7111bf25-97af-47f9-867b-40879190d800           5.000   180-liters   \n",
       "c309efc1-efaf-4f82-81ad-dcb38eb36665           5.000   235-litres   \n",
       "7609f710-0c97-4f00-9a47-9b9284b62d3a           4.000   400-litres   \n",
       "278b76e3-5539-4a5e-ae3e-353a2e3b6d7d           4.000          nan   \n",
       "b1eab99b-a606-48dd-a75b-57feb8a9ad92           5.000          nan   \n",
       "\n",
       "                                     model_type_new          state  \\\n",
       "usedCarSkuId                                                         \n",
       "7111bf25-97af-47f9-867b-40879190d800           used  uttar pradesh   \n",
       "c309efc1-efaf-4f82-81ad-dcb38eb36665           used    maharashtra   \n",
       "7609f710-0c97-4f00-9a47-9b9284b62d3a           used          delhi   \n",
       "278b76e3-5539-4a5e-ae3e-353a2e3b6d7d           used          delhi   \n",
       "b1eab99b-a606-48dd-a75b-57feb8a9ad92           used    maharashtra   \n",
       "\n",
       "                                     exterior_color owner_type  \\\n",
       "usedCarSkuId                                                     \n",
       "7111bf25-97af-47f9-867b-40879190d800         silver      first   \n",
       "c309efc1-efaf-4f82-81ad-dcb38eb36665           grey      first   \n",
       "7609f710-0c97-4f00-9a47-9b9284b62d3a         silver     second   \n",
       "278b76e3-5539-4a5e-ae3e-353a2e3b6d7d         silver     second   \n",
       "b1eab99b-a606-48dd-a75b-57feb8a9ad92          white      first   \n",
       "\n",
       "                                               Fuel Suppy System  \\\n",
       "usedCarSkuId                                                       \n",
       "7111bf25-97af-47f9-867b-40879190d800                         nan   \n",
       "c309efc1-efaf-4f82-81ad-dcb38eb36665     Gasoline Port Injection   \n",
       "7609f710-0c97-4f00-9a47-9b9284b62d3a                         nan   \n",
       "278b76e3-5539-4a5e-ae3e-353a2e3b6d7d  Multi-Point Fuel Injection   \n",
       "b1eab99b-a606-48dd-a75b-57feb8a9ad92                         nan   \n",
       "\n",
       "                                     Compression Ratio Alloy Wheel Size  \\\n",
       "usedCarSkuId                                                              \n",
       "7111bf25-97af-47f9-867b-40879190d800               NaN              nan   \n",
       "c309efc1-efaf-4f82-81ad-dcb38eb36665            11.0:1              nan   \n",
       "7609f710-0c97-4f00-9a47-9b9284b62d3a               NaN              nan   \n",
       "278b76e3-5539-4a5e-ae3e-353a2e3b6d7d               NaN               13   \n",
       "b1eab99b-a606-48dd-a75b-57feb8a9ad92         12.0+-.03              nan   \n",
       "\n",
       "                                     Ground Clearance Unladen  \n",
       "usedCarSkuId                                                   \n",
       "7111bf25-97af-47f9-867b-40879190d800                      nan  \n",
       "c309efc1-efaf-4f82-81ad-dcb38eb36665                      nan  \n",
       "7609f710-0c97-4f00-9a47-9b9284b62d3a                      nan  \n",
       "278b76e3-5539-4a5e-ae3e-353a2e3b6d7d                      nan  \n",
       "b1eab99b-a606-48dd-a75b-57feb8a9ad92                      nan  \n",
       "\n",
       "[5 rows x 62 columns]"
      ]
     },
     "execution_count": 38,
     "metadata": {},
     "output_type": "execute_result"
    }
   ],
   "source": [
    "# Make a copy of the data, cars_df will now serve as a checkpoint\n",
    "cars_df2 = cars_df.copy()\n",
    "\n",
    "# Sanity check\n",
    "cars_df2.head()"
   ]
  },
  {
   "cell_type": "code",
   "execution_count": 39,
   "id": "14c14515",
   "metadata": {
    "execution": {
     "iopub.execute_input": "2023-03-25T19:14:25.172218Z",
     "iopub.status.busy": "2023-03-25T19:14:25.171817Z",
     "iopub.status.idle": "2023-03-25T19:14:25.179090Z",
     "shell.execute_reply": "2023-03-25T19:14:25.178198Z"
    },
    "papermill": {
     "duration": 0.038555,
     "end_time": "2023-03-25T19:14:25.180867",
     "exception": false,
     "start_time": "2023-03-25T19:14:25.142312",
     "status": "completed"
    },
    "tags": []
   },
   "outputs": [],
   "source": [
    "# A utility function to get a number from a string\n",
    "def converst_to_number(x, conv: str = 'float'):\n",
    "    x = str(x)\n",
    "    new_str = ''\n",
    "    is_dec = True\n",
    "    for a in x:\n",
    "        if 48 <= ord(a) <= 57:\n",
    "            new_str += a\n",
    "            continue\n",
    "        elif a == ',' or a == '_':\n",
    "            continue\n",
    "        elif a == '.' and is_dec:\n",
    "            new_str += a\n",
    "            is_dec = False\n",
    "        else:\n",
    "            break\n",
    "    \n",
    "    if new_str == '':\n",
    "        return None\n",
    "    \n",
    "    if conv == 'int':\n",
    "        return int(new_str)\n",
    "    \n",
    "    return float(new_str)\n",
    "\n",
    "def get_begin_number(x):\n",
    "    return converst_to_number(x, 'int')\n",
    "\n",
    "def get_begin_float(x):\n",
    "    return converst_to_number(x, 'float')\n",
    "\n",
    "# def get_begin_number(x):\n",
    "#     x = str(x)\n",
    "#     reg_match = re.search(r'\\d+', x)\n",
    "#     if reg_match is None:\n",
    "#         return None\n",
    "#     return int(reg_match.group())\n",
    "\n",
    "# def get_begin_float(x):\n",
    "#     x = str(x)\n",
    "#     reg_match = re.search(r'\\d+\\.?\\d+', x)\n",
    "#     if reg_match is None:\n",
    "#         return None\n",
    "#     return float(reg_match.group())"
   ]
  },
  {
   "cell_type": "markdown",
   "id": "0ce1321e",
   "metadata": {
    "papermill": {
     "duration": 0.027902,
     "end_time": "2023-03-25T19:14:25.236798",
     "exception": false,
     "start_time": "2023-03-25T19:14:25.208896",
     "status": "completed"
    },
    "tags": []
   },
   "source": [
    "---\n",
    "\n",
    "#### `pu`\n",
    "\n",
    "This is our target column (the price of our used cars). This should be a float or int."
   ]
  },
  {
   "cell_type": "code",
   "execution_count": 40,
   "id": "88cc0c83",
   "metadata": {
    "execution": {
     "iopub.execute_input": "2023-03-25T19:14:25.296962Z",
     "iopub.status.busy": "2023-03-25T19:14:25.296584Z",
     "iopub.status.idle": "2023-03-25T19:14:25.305228Z",
     "shell.execute_reply": "2023-03-25T19:14:25.304319Z"
    },
    "papermill": {
     "duration": 0.040599,
     "end_time": "2023-03-25T19:14:25.307308",
     "exception": false,
     "start_time": "2023-03-25T19:14:25.266709",
     "status": "completed"
    },
    "tags": []
   },
   "outputs": [
    {
     "data": {
      "text/plain": [
       "usedCarSkuId\n",
       "b50e8500-56d4-4de7-945b-644f7ea5d074    4,50,000\n",
       "2b032154-7d27-4981-a0d9-93d17cf2d351    7,44,000\n",
       "75457405-852c-4bc9-a085-84d02e97f933    2,75,000\n",
       "9513e70e-e45c-44f8-ae22-6389c894f104    2,19,925\n",
       "a86fb138-510f-4d2c-914d-b85dd4da3892    4,77,000\n",
       "Name: pu, dtype: object"
      ]
     },
     "execution_count": 40,
     "metadata": {},
     "output_type": "execute_result"
    }
   ],
   "source": [
    "cars_df2['pu'].sample(5)"
   ]
  },
  {
   "cell_type": "code",
   "execution_count": 41,
   "id": "1dfc94b9",
   "metadata": {
    "execution": {
     "iopub.execute_input": "2023-03-25T19:14:25.364951Z",
     "iopub.status.busy": "2023-03-25T19:14:25.364563Z",
     "iopub.status.idle": "2023-03-25T19:14:25.412004Z",
     "shell.execute_reply": "2023-03-25T19:14:25.411126Z"
    },
    "papermill": {
     "duration": 0.078922,
     "end_time": "2023-03-25T19:14:25.414465",
     "exception": false,
     "start_time": "2023-03-25T19:14:25.335543",
     "status": "completed"
    },
    "tags": []
   },
   "outputs": [
    {
     "data": {
      "text/plain": [
       "usedCarSkuId\n",
       "9a1111ab-f0e6-42e9-bee7-514eef20ebc3   794918.000\n",
       "aeba3023-8877-436e-b013-74f781ee809d   310000.000\n",
       "da5ff6db-c529-4ab3-9732-55bdd7e9e849   260000.000\n",
       "d442028a-de1d-4d60-a7ed-6387f81332de   980000.000\n",
       "3d39a8d6-bb38-41c2-9290-4bc95fb81100   414000.000\n",
       "Name: pu, dtype: float64"
      ]
     },
     "execution_count": 41,
     "metadata": {},
     "output_type": "execute_result"
    }
   ],
   "source": [
    "# We simply need to replace the ',' to with '' and convert\n",
    "cars_df2['pu'] = cars_df2['pu'].str.replace(',', '').astype(float)\n",
    "\n",
    "cars_df2['pu'].sample(5)"
   ]
  },
  {
   "cell_type": "markdown",
   "id": "b4953951",
   "metadata": {
    "papermill": {
     "duration": 0.027873,
     "end_time": "2023-03-25T19:14:25.470881",
     "exception": false,
     "start_time": "2023-03-25T19:14:25.443008",
     "status": "completed"
    },
    "tags": []
   },
   "source": [
    "---\n",
    "\n",
    "#### `Max Power` and `Max Torque`\n",
    "\n",
    "We will be separating this column into 2 columns: `Max Power Delivered` and `Max Power At` (containing the rpm at which the max power is reach)\n",
    "Same with `Max Torque`"
   ]
  },
  {
   "cell_type": "code",
   "execution_count": 42,
   "id": "79e67132",
   "metadata": {
    "execution": {
     "iopub.execute_input": "2023-03-25T19:14:25.528346Z",
     "iopub.status.busy": "2023-03-25T19:14:25.527805Z",
     "iopub.status.idle": "2023-03-25T19:14:25.539882Z",
     "shell.execute_reply": "2023-03-25T19:14:25.538784Z"
    },
    "papermill": {
     "duration": 0.042963,
     "end_time": "2023-03-25T19:14:25.541755",
     "exception": false,
     "start_time": "2023-03-25T19:14:25.498792",
     "status": "completed"
    },
    "tags": []
   },
   "outputs": [
    {
     "data": {
      "text/html": [
       "<div>\n",
       "<style scoped>\n",
       "    .dataframe tbody tr th:only-of-type {\n",
       "        vertical-align: middle;\n",
       "    }\n",
       "\n",
       "    .dataframe tbody tr th {\n",
       "        vertical-align: top;\n",
       "    }\n",
       "\n",
       "    .dataframe thead th {\n",
       "        text-align: right;\n",
       "    }\n",
       "</style>\n",
       "<table border=\"1\" class=\"dataframe\">\n",
       "  <thead>\n",
       "    <tr style=\"text-align: right;\">\n",
       "      <th></th>\n",
       "      <th>Max Power</th>\n",
       "      <th>Max Torque</th>\n",
       "    </tr>\n",
       "    <tr>\n",
       "      <th>usedCarSkuId</th>\n",
       "      <th></th>\n",
       "      <th></th>\n",
       "    </tr>\n",
       "  </thead>\n",
       "  <tbody>\n",
       "    <tr>\n",
       "      <th>e2538573-6be1-4b46-96a2-051f7a6e207d</th>\n",
       "      <td>81.86bhp@6000rpm</td>\n",
       "      <td>113.75nm@4000rpm</td>\n",
       "    </tr>\n",
       "    <tr>\n",
       "      <th>1777c2d3-ff3f-4519-a2a5-ef0c91282f26</th>\n",
       "      <td>88.73bhp@4000rpm</td>\n",
       "      <td>219.7nm@1500-2750rpm</td>\n",
       "    </tr>\n",
       "    <tr>\n",
       "      <th>36dc9f17-3eae-44a8-83f7-c627d3410c93</th>\n",
       "      <td>152.87bhp@3750rpm</td>\n",
       "      <td>360nm@1750-2800rpm</td>\n",
       "    </tr>\n",
       "    <tr>\n",
       "      <th>fb02f7a1-06ed-4d8d-89ed-4ef658251a90</th>\n",
       "      <td>53.3bhp@5678rpm</td>\n",
       "      <td>72nm@4386rpm</td>\n",
       "    </tr>\n",
       "    <tr>\n",
       "      <th>4b3c8894-6e6a-4872-8385-4d6a7c07bc72</th>\n",
       "      <td>67.04bhp@6000rpm</td>\n",
       "      <td>90nm@3500rpm</td>\n",
       "    </tr>\n",
       "  </tbody>\n",
       "</table>\n",
       "</div>"
      ],
      "text/plain": [
       "                                              Max Power            Max Torque\n",
       "usedCarSkuId                                                                 \n",
       "e2538573-6be1-4b46-96a2-051f7a6e207d   81.86bhp@6000rpm      113.75nm@4000rpm\n",
       "1777c2d3-ff3f-4519-a2a5-ef0c91282f26   88.73bhp@4000rpm  219.7nm@1500-2750rpm\n",
       "36dc9f17-3eae-44a8-83f7-c627d3410c93  152.87bhp@3750rpm    360nm@1750-2800rpm\n",
       "fb02f7a1-06ed-4d8d-89ed-4ef658251a90    53.3bhp@5678rpm          72nm@4386rpm\n",
       "4b3c8894-6e6a-4872-8385-4d6a7c07bc72   67.04bhp@6000rpm          90nm@3500rpm"
      ]
     },
     "execution_count": 42,
     "metadata": {},
     "output_type": "execute_result"
    }
   ],
   "source": [
    "cars_df2[['Max Power', 'Max Torque']].sample(5)"
   ]
  },
  {
   "cell_type": "code",
   "execution_count": 43,
   "id": "63680465",
   "metadata": {
    "execution": {
     "iopub.execute_input": "2023-03-25T19:14:25.601984Z",
     "iopub.status.busy": "2023-03-25T19:14:25.601109Z",
     "iopub.status.idle": "2023-03-25T19:14:26.178795Z",
     "shell.execute_reply": "2023-03-25T19:14:26.177317Z"
    },
    "papermill": {
     "duration": 0.611294,
     "end_time": "2023-03-25T19:14:26.181553",
     "exception": false,
     "start_time": "2023-03-25T19:14:25.570259",
     "status": "completed"
    },
    "tags": []
   },
   "outputs": [],
   "source": [
    "c = cars_df2.copy()\n",
    "cars_df2['Max Power Delivered'] = cars_df2['Max Power'].str.split('@').str[0].apply(get_begin_float).astype(float)\n",
    "cars_df2['Max Power At'] = cars_df2['Max Power'].str.split('@').str[1].apply(get_begin_float).astype(float)\n",
    "\n",
    "\n",
    "def get_rpm_average(x):\n",
    "    x = str(x)\n",
    "    if '-' in x:\n",
    "        p1 = get_begin_float(x.split('-')[0])\n",
    "        p2 = get_begin_float(x.split('-')[1])\n",
    "        if p1 is None:\n",
    "            return p2\n",
    "        if p2 is None:\n",
    "            return p1\n",
    "        \n",
    "        return (p1 + p2)/2\n",
    "    else:\n",
    "        return get_begin_float(x)\n",
    "\n",
    "cars_df2['Max Torque Delivered'] = cars_df2['Max Torque'].str.split('@').str[0].apply(get_begin_float).astype(float)\n",
    "cars_df2['Max Torque At'] = cars_df2['Max Torque'].str.split('@').str[1].apply(get_rpm_average).astype(float)"
   ]
  },
  {
   "cell_type": "code",
   "execution_count": 44,
   "id": "20e147f1",
   "metadata": {
    "execution": {
     "iopub.execute_input": "2023-03-25T19:14:26.239968Z",
     "iopub.status.busy": "2023-03-25T19:14:26.239594Z",
     "iopub.status.idle": "2023-03-25T19:14:26.253847Z",
     "shell.execute_reply": "2023-03-25T19:14:26.252798Z"
    },
    "papermill": {
     "duration": 0.045636,
     "end_time": "2023-03-25T19:14:26.255730",
     "exception": false,
     "start_time": "2023-03-25T19:14:26.210094",
     "status": "completed"
    },
    "tags": []
   },
   "outputs": [
    {
     "data": {
      "text/html": [
       "<div>\n",
       "<style scoped>\n",
       "    .dataframe tbody tr th:only-of-type {\n",
       "        vertical-align: middle;\n",
       "    }\n",
       "\n",
       "    .dataframe tbody tr th {\n",
       "        vertical-align: top;\n",
       "    }\n",
       "\n",
       "    .dataframe thead th {\n",
       "        text-align: right;\n",
       "    }\n",
       "</style>\n",
       "<table border=\"1\" class=\"dataframe\">\n",
       "  <thead>\n",
       "    <tr style=\"text-align: right;\">\n",
       "      <th></th>\n",
       "      <th>Max Power Delivered</th>\n",
       "      <th>Max Power At</th>\n",
       "      <th>Max Torque Delivered</th>\n",
       "      <th>Max Torque At</th>\n",
       "    </tr>\n",
       "    <tr>\n",
       "      <th>usedCarSkuId</th>\n",
       "      <th></th>\n",
       "      <th></th>\n",
       "      <th></th>\n",
       "      <th></th>\n",
       "    </tr>\n",
       "  </thead>\n",
       "  <tbody>\n",
       "    <tr>\n",
       "      <th>b8a30c7c-814b-4ea3-a8cd-9aa738673fe5</th>\n",
       "      <td>68.050</td>\n",
       "      <td>5500.000</td>\n",
       "      <td>99.040</td>\n",
       "      <td>4500.000</td>\n",
       "    </tr>\n",
       "    <tr>\n",
       "      <th>4866b787-6699-4e7f-b53f-4f7b7e2a30c2</th>\n",
       "      <td>138.100</td>\n",
       "      <td>3750.000</td>\n",
       "      <td>350.000</td>\n",
       "      <td>2125.000</td>\n",
       "    </tr>\n",
       "    <tr>\n",
       "      <th>24354a62-02dd-4623-9812-1747893ece02</th>\n",
       "      <td>97.700</td>\n",
       "      <td>6000.000</td>\n",
       "      <td>134.000</td>\n",
       "      <td>4000.000</td>\n",
       "    </tr>\n",
       "    <tr>\n",
       "      <th>075009cb-914d-4841-9e0d-922031298a87</th>\n",
       "      <td>167.670</td>\n",
       "      <td>3750.000</td>\n",
       "      <td>350.000</td>\n",
       "      <td>2125.000</td>\n",
       "    </tr>\n",
       "    <tr>\n",
       "      <th>c49a90dc-7abf-46f5-aea5-edb46f587f38</th>\n",
       "      <td>126.200</td>\n",
       "      <td>4000.000</td>\n",
       "      <td>259.900</td>\n",
       "      <td>2325.000</td>\n",
       "    </tr>\n",
       "  </tbody>\n",
       "</table>\n",
       "</div>"
      ],
      "text/plain": [
       "                                      Max Power Delivered  Max Power At  \\\n",
       "usedCarSkuId                                                              \n",
       "b8a30c7c-814b-4ea3-a8cd-9aa738673fe5               68.050      5500.000   \n",
       "4866b787-6699-4e7f-b53f-4f7b7e2a30c2              138.100      3750.000   \n",
       "24354a62-02dd-4623-9812-1747893ece02               97.700      6000.000   \n",
       "075009cb-914d-4841-9e0d-922031298a87              167.670      3750.000   \n",
       "c49a90dc-7abf-46f5-aea5-edb46f587f38              126.200      4000.000   \n",
       "\n",
       "                                      Max Torque Delivered  Max Torque At  \n",
       "usedCarSkuId                                                               \n",
       "b8a30c7c-814b-4ea3-a8cd-9aa738673fe5                99.040       4500.000  \n",
       "4866b787-6699-4e7f-b53f-4f7b7e2a30c2               350.000       2125.000  \n",
       "24354a62-02dd-4623-9812-1747893ece02               134.000       4000.000  \n",
       "075009cb-914d-4841-9e0d-922031298a87               350.000       2125.000  \n",
       "c49a90dc-7abf-46f5-aea5-edb46f587f38               259.900       2325.000  "
      ]
     },
     "execution_count": 44,
     "metadata": {},
     "output_type": "execute_result"
    }
   ],
   "source": [
    "cars_df2[['Max Power Delivered', 'Max Power At', 'Max Torque Delivered', 'Max Torque At']].sample(5)"
   ]
  },
  {
   "cell_type": "markdown",
   "id": "fab5d7f3",
   "metadata": {
    "papermill": {
     "duration": 0.028914,
     "end_time": "2023-03-25T19:14:26.314947",
     "exception": false,
     "start_time": "2023-03-25T19:14:26.286033",
     "status": "completed"
    },
    "tags": []
   },
   "source": [
    "Now we can safely drop `Max Power` from our dataframe"
   ]
  },
  {
   "cell_type": "code",
   "execution_count": 45,
   "id": "65c50c67",
   "metadata": {
    "execution": {
     "iopub.execute_input": "2023-03-25T19:14:26.374603Z",
     "iopub.status.busy": "2023-03-25T19:14:26.373401Z",
     "iopub.status.idle": "2023-03-25T19:14:26.450050Z",
     "shell.execute_reply": "2023-03-25T19:14:26.448818Z"
    },
    "papermill": {
     "duration": 0.108587,
     "end_time": "2023-03-25T19:14:26.452288",
     "exception": false,
     "start_time": "2023-03-25T19:14:26.343701",
     "status": "completed"
    },
    "tags": []
   },
   "outputs": [
    {
     "data": {
      "text/html": [
       "<div>\n",
       "<style scoped>\n",
       "    .dataframe tbody tr th:only-of-type {\n",
       "        vertical-align: middle;\n",
       "    }\n",
       "\n",
       "    .dataframe tbody tr th {\n",
       "        vertical-align: top;\n",
       "    }\n",
       "\n",
       "    .dataframe thead th {\n",
       "        text-align: right;\n",
       "    }\n",
       "</style>\n",
       "<table border=\"1\" class=\"dataframe\">\n",
       "  <thead>\n",
       "    <tr style=\"text-align: right;\">\n",
       "      <th></th>\n",
       "      <th>loc</th>\n",
       "      <th>myear</th>\n",
       "      <th>bt</th>\n",
       "      <th>tt</th>\n",
       "      <th>ft</th>\n",
       "      <th>km</th>\n",
       "      <th>ip</th>\n",
       "      <th>images</th>\n",
       "      <th>imgCount</th>\n",
       "      <th>threesixty</th>\n",
       "      <th>...</th>\n",
       "      <th>exterior_color</th>\n",
       "      <th>owner_type</th>\n",
       "      <th>Fuel Suppy System</th>\n",
       "      <th>Compression Ratio</th>\n",
       "      <th>Alloy Wheel Size</th>\n",
       "      <th>Ground Clearance Unladen</th>\n",
       "      <th>Max Power Delivered</th>\n",
       "      <th>Max Power At</th>\n",
       "      <th>Max Torque Delivered</th>\n",
       "      <th>Max Torque At</th>\n",
       "    </tr>\n",
       "    <tr>\n",
       "      <th>usedCarSkuId</th>\n",
       "      <th></th>\n",
       "      <th></th>\n",
       "      <th></th>\n",
       "      <th></th>\n",
       "      <th></th>\n",
       "      <th></th>\n",
       "      <th></th>\n",
       "      <th></th>\n",
       "      <th></th>\n",
       "      <th></th>\n",
       "      <th></th>\n",
       "      <th></th>\n",
       "      <th></th>\n",
       "      <th></th>\n",
       "      <th></th>\n",
       "      <th></th>\n",
       "      <th></th>\n",
       "      <th></th>\n",
       "      <th></th>\n",
       "      <th></th>\n",
       "      <th></th>\n",
       "    </tr>\n",
       "  </thead>\n",
       "  <tbody>\n",
       "    <tr>\n",
       "      <th>7111bf25-97af-47f9-867b-40879190d800</th>\n",
       "      <td>gomti nagar</td>\n",
       "      <td>2016</td>\n",
       "      <td>hatchback</td>\n",
       "      <td>manual</td>\n",
       "      <td>cng</td>\n",
       "      <td>69,162</td>\n",
       "      <td>0</td>\n",
       "      <td>[{'img': 'https://images10.gaadi.com/usedcar_i...</td>\n",
       "      <td>15</td>\n",
       "      <td>False</td>\n",
       "      <td>...</td>\n",
       "      <td>silver</td>\n",
       "      <td>first</td>\n",
       "      <td>nan</td>\n",
       "      <td>NaN</td>\n",
       "      <td>nan</td>\n",
       "      <td>nan</td>\n",
       "      <td>58.160</td>\n",
       "      <td>6200.000</td>\n",
       "      <td>77.000</td>\n",
       "      <td>3500.000</td>\n",
       "    </tr>\n",
       "    <tr>\n",
       "      <th>c309efc1-efaf-4f82-81ad-dcb38eb36665</th>\n",
       "      <td>borivali west</td>\n",
       "      <td>2015</td>\n",
       "      <td>hatchback</td>\n",
       "      <td>manual</td>\n",
       "      <td>cng</td>\n",
       "      <td>45,864</td>\n",
       "      <td>0</td>\n",
       "      <td>[{'img': 'https://images10.gaadi.com/usedcar_i...</td>\n",
       "      <td>15</td>\n",
       "      <td>False</td>\n",
       "      <td>...</td>\n",
       "      <td>grey</td>\n",
       "      <td>first</td>\n",
       "      <td>Gasoline Port Injection</td>\n",
       "      <td>11.0:1</td>\n",
       "      <td>nan</td>\n",
       "      <td>nan</td>\n",
       "      <td>58.200</td>\n",
       "      <td>6000.000</td>\n",
       "      <td>78.000</td>\n",
       "      <td>3500.000</td>\n",
       "    </tr>\n",
       "    <tr>\n",
       "      <th>7609f710-0c97-4f00-9a47-9b9284b62d3a</th>\n",
       "      <td>jasola</td>\n",
       "      <td>2015</td>\n",
       "      <td>sedan</td>\n",
       "      <td>manual</td>\n",
       "      <td>cng</td>\n",
       "      <td>81,506</td>\n",
       "      <td>0</td>\n",
       "      <td>[{'img': 'https://images10.gaadi.com/usedcar_i...</td>\n",
       "      <td>15</td>\n",
       "      <td>False</td>\n",
       "      <td>...</td>\n",
       "      <td>silver</td>\n",
       "      <td>second</td>\n",
       "      <td>nan</td>\n",
       "      <td>NaN</td>\n",
       "      <td>nan</td>\n",
       "      <td>nan</td>\n",
       "      <td>86.700</td>\n",
       "      <td>6000.000</td>\n",
       "      <td>109.000</td>\n",
       "      <td>4500.000</td>\n",
       "    </tr>\n",
       "    <tr>\n",
       "      <th>278b76e3-5539-4a5e-ae3e-353a2e3b6d7d</th>\n",
       "      <td>jasola</td>\n",
       "      <td>2013</td>\n",
       "      <td>hatchback</td>\n",
       "      <td>manual</td>\n",
       "      <td>cng</td>\n",
       "      <td>1,15,893</td>\n",
       "      <td>0</td>\n",
       "      <td>[{'img': ''}]</td>\n",
       "      <td>0</td>\n",
       "      <td>False</td>\n",
       "      <td>...</td>\n",
       "      <td>silver</td>\n",
       "      <td>second</td>\n",
       "      <td>Multi-Point Fuel Injection</td>\n",
       "      <td>NaN</td>\n",
       "      <td>13</td>\n",
       "      <td>nan</td>\n",
       "      <td>58.200</td>\n",
       "      <td>6200.000</td>\n",
       "      <td>77.000</td>\n",
       "      <td>3500.000</td>\n",
       "    </tr>\n",
       "    <tr>\n",
       "      <th>b1eab99b-a606-48dd-a75b-57feb8a9ad92</th>\n",
       "      <td>mumbai g.p.o.</td>\n",
       "      <td>2022</td>\n",
       "      <td>muv</td>\n",
       "      <td>manual</td>\n",
       "      <td>cng</td>\n",
       "      <td>18,900</td>\n",
       "      <td>0</td>\n",
       "      <td>[{'img': 'https://images10.gaadi.com/usedcar_i...</td>\n",
       "      <td>6</td>\n",
       "      <td>False</td>\n",
       "      <td>...</td>\n",
       "      <td>white</td>\n",
       "      <td>first</td>\n",
       "      <td>nan</td>\n",
       "      <td>12.0+-.03</td>\n",
       "      <td>nan</td>\n",
       "      <td>nan</td>\n",
       "      <td>86.630</td>\n",
       "      <td>5500.000</td>\n",
       "      <td>121.500</td>\n",
       "      <td>4200.000</td>\n",
       "    </tr>\n",
       "  </tbody>\n",
       "</table>\n",
       "<p>5 rows × 64 columns</p>\n",
       "</div>"
      ],
      "text/plain": [
       "                                                loc  myear         bt      tt  \\\n",
       "usedCarSkuId                                                                    \n",
       "7111bf25-97af-47f9-867b-40879190d800    gomti nagar   2016  hatchback  manual   \n",
       "c309efc1-efaf-4f82-81ad-dcb38eb36665  borivali west   2015  hatchback  manual   \n",
       "7609f710-0c97-4f00-9a47-9b9284b62d3a         jasola   2015      sedan  manual   \n",
       "278b76e3-5539-4a5e-ae3e-353a2e3b6d7d         jasola   2013  hatchback  manual   \n",
       "b1eab99b-a606-48dd-a75b-57feb8a9ad92  mumbai g.p.o.   2022        muv  manual   \n",
       "\n",
       "                                       ft        km  ip  \\\n",
       "usedCarSkuId                                              \n",
       "7111bf25-97af-47f9-867b-40879190d800  cng    69,162   0   \n",
       "c309efc1-efaf-4f82-81ad-dcb38eb36665  cng    45,864   0   \n",
       "7609f710-0c97-4f00-9a47-9b9284b62d3a  cng    81,506   0   \n",
       "278b76e3-5539-4a5e-ae3e-353a2e3b6d7d  cng  1,15,893   0   \n",
       "b1eab99b-a606-48dd-a75b-57feb8a9ad92  cng    18,900   0   \n",
       "\n",
       "                                                                                 images  \\\n",
       "usedCarSkuId                                                                              \n",
       "7111bf25-97af-47f9-867b-40879190d800  [{'img': 'https://images10.gaadi.com/usedcar_i...   \n",
       "c309efc1-efaf-4f82-81ad-dcb38eb36665  [{'img': 'https://images10.gaadi.com/usedcar_i...   \n",
       "7609f710-0c97-4f00-9a47-9b9284b62d3a  [{'img': 'https://images10.gaadi.com/usedcar_i...   \n",
       "278b76e3-5539-4a5e-ae3e-353a2e3b6d7d                                      [{'img': ''}]   \n",
       "b1eab99b-a606-48dd-a75b-57feb8a9ad92  [{'img': 'https://images10.gaadi.com/usedcar_i...   \n",
       "\n",
       "                                      imgCount  threesixty  ...  \\\n",
       "usedCarSkuId                                                ...   \n",
       "7111bf25-97af-47f9-867b-40879190d800        15       False  ...   \n",
       "c309efc1-efaf-4f82-81ad-dcb38eb36665        15       False  ...   \n",
       "7609f710-0c97-4f00-9a47-9b9284b62d3a        15       False  ...   \n",
       "278b76e3-5539-4a5e-ae3e-353a2e3b6d7d         0       False  ...   \n",
       "b1eab99b-a606-48dd-a75b-57feb8a9ad92         6       False  ...   \n",
       "\n",
       "                                     exterior_color owner_type  \\\n",
       "usedCarSkuId                                                     \n",
       "7111bf25-97af-47f9-867b-40879190d800         silver      first   \n",
       "c309efc1-efaf-4f82-81ad-dcb38eb36665           grey      first   \n",
       "7609f710-0c97-4f00-9a47-9b9284b62d3a         silver     second   \n",
       "278b76e3-5539-4a5e-ae3e-353a2e3b6d7d         silver     second   \n",
       "b1eab99b-a606-48dd-a75b-57feb8a9ad92          white      first   \n",
       "\n",
       "                                               Fuel Suppy System  \\\n",
       "usedCarSkuId                                                       \n",
       "7111bf25-97af-47f9-867b-40879190d800                         nan   \n",
       "c309efc1-efaf-4f82-81ad-dcb38eb36665     Gasoline Port Injection   \n",
       "7609f710-0c97-4f00-9a47-9b9284b62d3a                         nan   \n",
       "278b76e3-5539-4a5e-ae3e-353a2e3b6d7d  Multi-Point Fuel Injection   \n",
       "b1eab99b-a606-48dd-a75b-57feb8a9ad92                         nan   \n",
       "\n",
       "                                     Compression Ratio Alloy Wheel Size  \\\n",
       "usedCarSkuId                                                              \n",
       "7111bf25-97af-47f9-867b-40879190d800               NaN              nan   \n",
       "c309efc1-efaf-4f82-81ad-dcb38eb36665            11.0:1              nan   \n",
       "7609f710-0c97-4f00-9a47-9b9284b62d3a               NaN              nan   \n",
       "278b76e3-5539-4a5e-ae3e-353a2e3b6d7d               NaN               13   \n",
       "b1eab99b-a606-48dd-a75b-57feb8a9ad92         12.0+-.03              nan   \n",
       "\n",
       "                                      Ground Clearance Unladen  \\\n",
       "usedCarSkuId                                                     \n",
       "7111bf25-97af-47f9-867b-40879190d800                       nan   \n",
       "c309efc1-efaf-4f82-81ad-dcb38eb36665                       nan   \n",
       "7609f710-0c97-4f00-9a47-9b9284b62d3a                       nan   \n",
       "278b76e3-5539-4a5e-ae3e-353a2e3b6d7d                       nan   \n",
       "b1eab99b-a606-48dd-a75b-57feb8a9ad92                       nan   \n",
       "\n",
       "                                      Max Power Delivered Max Power At  \\\n",
       "usedCarSkuId                                                             \n",
       "7111bf25-97af-47f9-867b-40879190d800               58.160     6200.000   \n",
       "c309efc1-efaf-4f82-81ad-dcb38eb36665               58.200     6000.000   \n",
       "7609f710-0c97-4f00-9a47-9b9284b62d3a               86.700     6000.000   \n",
       "278b76e3-5539-4a5e-ae3e-353a2e3b6d7d               58.200     6200.000   \n",
       "b1eab99b-a606-48dd-a75b-57feb8a9ad92               86.630     5500.000   \n",
       "\n",
       "                                     Max Torque Delivered Max Torque At  \n",
       "usedCarSkuId                                                             \n",
       "7111bf25-97af-47f9-867b-40879190d800               77.000      3500.000  \n",
       "c309efc1-efaf-4f82-81ad-dcb38eb36665               78.000      3500.000  \n",
       "7609f710-0c97-4f00-9a47-9b9284b62d3a              109.000      4500.000  \n",
       "278b76e3-5539-4a5e-ae3e-353a2e3b6d7d               77.000      3500.000  \n",
       "b1eab99b-a606-48dd-a75b-57feb8a9ad92              121.500      4200.000  \n",
       "\n",
       "[5 rows x 64 columns]"
      ]
     },
     "execution_count": 45,
     "metadata": {},
     "output_type": "execute_result"
    }
   ],
   "source": [
    "cars_df2.drop(columns=['Max Power'], inplace=True, axis=1)\n",
    "cars_df2.drop(columns=['Max Torque'], inplace=True, axis=1)\n",
    "cars_df2.head()"
   ]
  },
  {
   "cell_type": "markdown",
   "id": "2ffc0f40",
   "metadata": {
    "papermill": {
     "duration": 0.028688,
     "end_time": "2023-03-25T19:14:26.510823",
     "exception": false,
     "start_time": "2023-03-25T19:14:26.482135",
     "status": "completed"
    },
    "tags": []
   },
   "source": [
    "---\n",
    "\n",
    "#### `BoreX Stroke`\n",
    "\n",
    "We will make 2 new columns `Bore` and `Stroke` and remove the original column.\n"
   ]
  },
  {
   "cell_type": "code",
   "execution_count": 46,
   "id": "967c0e7b",
   "metadata": {
    "execution": {
     "iopub.execute_input": "2023-03-25T19:14:26.570176Z",
     "iopub.status.busy": "2023-03-25T19:14:26.569802Z",
     "iopub.status.idle": "2023-03-25T19:14:26.579313Z",
     "shell.execute_reply": "2023-03-25T19:14:26.578177Z"
    },
    "papermill": {
     "duration": 0.042027,
     "end_time": "2023-03-25T19:14:26.581449",
     "exception": false,
     "start_time": "2023-03-25T19:14:26.539422",
     "status": "completed"
    },
    "tags": []
   },
   "outputs": [
    {
     "data": {
      "text/plain": [
       "usedCarSkuId\n",
       "21420de7-aa72-4d29-ad50-8e9c1b45f0ea    81.0 x 95.5 mm\n",
       "48b8fb2d-5b12-423c-92ab-eb9e71a2ebb4               nan\n",
       "0117c37c-4b96-4fa3-98d1-b46b95d5eeca               nan\n",
       "ac56a9f6-6753-41b1-96f2-4a1c1c64f4f6               nan\n",
       "797a131d-afb6-4b62-9f8d-00c545407b52        69 x 72 mm\n",
       "c8e2a9fb-a94e-4c8f-b736-04fc6f36fb54               nan\n",
       "3bcaa929-3183-4a55-9807-beb5729d5969               nan\n",
       "ecf7289b-a043-4694-b0d7-d79306f4db2b               nan\n",
       "7f75de4f-d09a-45ea-aecc-fe56754c2b58               nan\n",
       "ced49412-dcea-492a-9529-656370db83a1               nan\n",
       "Name: BoreX Stroke, dtype: object"
      ]
     },
     "execution_count": 46,
     "metadata": {},
     "output_type": "execute_result"
    }
   ],
   "source": [
    "cars_df2['BoreX Stroke'].sample(10)"
   ]
  },
  {
   "cell_type": "code",
   "execution_count": 47,
   "id": "fbb1f88c",
   "metadata": {
    "execution": {
     "iopub.execute_input": "2023-03-25T19:14:26.641534Z",
     "iopub.status.busy": "2023-03-25T19:14:26.641212Z",
     "iopub.status.idle": "2023-03-25T19:14:26.908006Z",
     "shell.execute_reply": "2023-03-25T19:14:26.906912Z"
    },
    "papermill": {
     "duration": 0.299708,
     "end_time": "2023-03-25T19:14:26.910479",
     "exception": false,
     "start_time": "2023-03-25T19:14:26.610771",
     "status": "completed"
    },
    "tags": []
   },
   "outputs": [],
   "source": [
    "cars_df2['Bore'] = cars_df2['BoreX Stroke'].str.split('x').str[0].apply(get_begin_float).astype(float)\n",
    "cars_df2['Stroke'] = cars_df2['BoreX Stroke'].str.split('x').str[1].apply(get_begin_float).astype(float)"
   ]
  },
  {
   "cell_type": "code",
   "execution_count": 48,
   "id": "2a04af02",
   "metadata": {
    "execution": {
     "iopub.execute_input": "2023-03-25T19:14:26.973243Z",
     "iopub.status.busy": "2023-03-25T19:14:26.972310Z",
     "iopub.status.idle": "2023-03-25T19:14:26.986037Z",
     "shell.execute_reply": "2023-03-25T19:14:26.985078Z"
    },
    "papermill": {
     "duration": 0.0479,
     "end_time": "2023-03-25T19:14:26.987913",
     "exception": false,
     "start_time": "2023-03-25T19:14:26.940013",
     "status": "completed"
    },
    "tags": []
   },
   "outputs": [
    {
     "data": {
      "text/html": [
       "<div>\n",
       "<style scoped>\n",
       "    .dataframe tbody tr th:only-of-type {\n",
       "        vertical-align: middle;\n",
       "    }\n",
       "\n",
       "    .dataframe tbody tr th {\n",
       "        vertical-align: top;\n",
       "    }\n",
       "\n",
       "    .dataframe thead th {\n",
       "        text-align: right;\n",
       "    }\n",
       "</style>\n",
       "<table border=\"1\" class=\"dataframe\">\n",
       "  <thead>\n",
       "    <tr style=\"text-align: right;\">\n",
       "      <th></th>\n",
       "      <th>Bore</th>\n",
       "      <th>Stroke</th>\n",
       "    </tr>\n",
       "    <tr>\n",
       "      <th>usedCarSkuId</th>\n",
       "      <th></th>\n",
       "      <th></th>\n",
       "    </tr>\n",
       "  </thead>\n",
       "  <tbody>\n",
       "    <tr>\n",
       "      <th>f829f46f-eecc-4b24-ab5e-a3a90aec09ee</th>\n",
       "      <td>NaN</td>\n",
       "      <td>NaN</td>\n",
       "    </tr>\n",
       "    <tr>\n",
       "      <th>de2f6208-430e-4c75-92e8-7e07bf00ddf9</th>\n",
       "      <td>71.000</td>\n",
       "      <td>NaN</td>\n",
       "    </tr>\n",
       "    <tr>\n",
       "      <th>0a070224-8a97-4ffa-9623-dadf8162810c</th>\n",
       "      <td>NaN</td>\n",
       "      <td>NaN</td>\n",
       "    </tr>\n",
       "    <tr>\n",
       "      <th>2f28a462-1982-4169-9b94-8e13c5d96a0b</th>\n",
       "      <td>NaN</td>\n",
       "      <td>NaN</td>\n",
       "    </tr>\n",
       "    <tr>\n",
       "      <th>ab752e9c-14e6-4274-8528-e88900138142</th>\n",
       "      <td>NaN</td>\n",
       "      <td>NaN</td>\n",
       "    </tr>\n",
       "    <tr>\n",
       "      <th>21fdcf5e-89e9-4818-8584-bd440fb8f8d9</th>\n",
       "      <td>NaN</td>\n",
       "      <td>NaN</td>\n",
       "    </tr>\n",
       "    <tr>\n",
       "      <th>46746cb1-089c-458b-b09f-ce79aa6fd0b5</th>\n",
       "      <td>69.600</td>\n",
       "      <td>NaN</td>\n",
       "    </tr>\n",
       "    <tr>\n",
       "      <th>d4afa5a4-f424-4115-a120-cdf31a02f5c7</th>\n",
       "      <td>NaN</td>\n",
       "      <td>NaN</td>\n",
       "    </tr>\n",
       "    <tr>\n",
       "      <th>be54c57b-9687-4db9-87ff-652ca6d9c962</th>\n",
       "      <td>NaN</td>\n",
       "      <td>NaN</td>\n",
       "    </tr>\n",
       "    <tr>\n",
       "      <th>d51f3f5a-9e2f-4fd6-bd06-38e9437ef84f</th>\n",
       "      <td>76.000</td>\n",
       "      <td>82.500</td>\n",
       "    </tr>\n",
       "  </tbody>\n",
       "</table>\n",
       "</div>"
      ],
      "text/plain": [
       "                                       Bore  Stroke\n",
       "usedCarSkuId                                       \n",
       "f829f46f-eecc-4b24-ab5e-a3a90aec09ee    NaN     NaN\n",
       "de2f6208-430e-4c75-92e8-7e07bf00ddf9 71.000     NaN\n",
       "0a070224-8a97-4ffa-9623-dadf8162810c    NaN     NaN\n",
       "2f28a462-1982-4169-9b94-8e13c5d96a0b    NaN     NaN\n",
       "ab752e9c-14e6-4274-8528-e88900138142    NaN     NaN\n",
       "21fdcf5e-89e9-4818-8584-bd440fb8f8d9    NaN     NaN\n",
       "46746cb1-089c-458b-b09f-ce79aa6fd0b5 69.600     NaN\n",
       "d4afa5a4-f424-4115-a120-cdf31a02f5c7    NaN     NaN\n",
       "be54c57b-9687-4db9-87ff-652ca6d9c962    NaN     NaN\n",
       "d51f3f5a-9e2f-4fd6-bd06-38e9437ef84f 76.000  82.500"
      ]
     },
     "execution_count": 48,
     "metadata": {},
     "output_type": "execute_result"
    }
   ],
   "source": [
    "cars_df2[['Bore', 'Stroke']].sample(10)"
   ]
  },
  {
   "cell_type": "code",
   "execution_count": 49,
   "id": "086eaec6",
   "metadata": {
    "execution": {
     "iopub.execute_input": "2023-03-25T19:14:27.049414Z",
     "iopub.status.busy": "2023-03-25T19:14:27.048783Z",
     "iopub.status.idle": "2023-03-25T19:14:27.089662Z",
     "shell.execute_reply": "2023-03-25T19:14:27.088239Z"
    },
    "papermill": {
     "duration": 0.074516,
     "end_time": "2023-03-25T19:14:27.092083",
     "exception": false,
     "start_time": "2023-03-25T19:14:27.017567",
     "status": "completed"
    },
    "tags": []
   },
   "outputs": [
    {
     "data": {
      "text/html": [
       "<div>\n",
       "<style scoped>\n",
       "    .dataframe tbody tr th:only-of-type {\n",
       "        vertical-align: middle;\n",
       "    }\n",
       "\n",
       "    .dataframe tbody tr th {\n",
       "        vertical-align: top;\n",
       "    }\n",
       "\n",
       "    .dataframe thead th {\n",
       "        text-align: right;\n",
       "    }\n",
       "</style>\n",
       "<table border=\"1\" class=\"dataframe\">\n",
       "  <thead>\n",
       "    <tr style=\"text-align: right;\">\n",
       "      <th></th>\n",
       "      <th>loc</th>\n",
       "      <th>myear</th>\n",
       "      <th>bt</th>\n",
       "      <th>tt</th>\n",
       "      <th>ft</th>\n",
       "      <th>km</th>\n",
       "      <th>ip</th>\n",
       "      <th>images</th>\n",
       "      <th>imgCount</th>\n",
       "      <th>threesixty</th>\n",
       "      <th>...</th>\n",
       "      <th>Fuel Suppy System</th>\n",
       "      <th>Compression Ratio</th>\n",
       "      <th>Alloy Wheel Size</th>\n",
       "      <th>Ground Clearance Unladen</th>\n",
       "      <th>Max Power Delivered</th>\n",
       "      <th>Max Power At</th>\n",
       "      <th>Max Torque Delivered</th>\n",
       "      <th>Max Torque At</th>\n",
       "      <th>Bore</th>\n",
       "      <th>Stroke</th>\n",
       "    </tr>\n",
       "    <tr>\n",
       "      <th>usedCarSkuId</th>\n",
       "      <th></th>\n",
       "      <th></th>\n",
       "      <th></th>\n",
       "      <th></th>\n",
       "      <th></th>\n",
       "      <th></th>\n",
       "      <th></th>\n",
       "      <th></th>\n",
       "      <th></th>\n",
       "      <th></th>\n",
       "      <th></th>\n",
       "      <th></th>\n",
       "      <th></th>\n",
       "      <th></th>\n",
       "      <th></th>\n",
       "      <th></th>\n",
       "      <th></th>\n",
       "      <th></th>\n",
       "      <th></th>\n",
       "      <th></th>\n",
       "      <th></th>\n",
       "    </tr>\n",
       "  </thead>\n",
       "  <tbody>\n",
       "    <tr>\n",
       "      <th>7111bf25-97af-47f9-867b-40879190d800</th>\n",
       "      <td>gomti nagar</td>\n",
       "      <td>2016</td>\n",
       "      <td>hatchback</td>\n",
       "      <td>manual</td>\n",
       "      <td>cng</td>\n",
       "      <td>69,162</td>\n",
       "      <td>0</td>\n",
       "      <td>[{'img': 'https://images10.gaadi.com/usedcar_i...</td>\n",
       "      <td>15</td>\n",
       "      <td>False</td>\n",
       "      <td>...</td>\n",
       "      <td>nan</td>\n",
       "      <td>NaN</td>\n",
       "      <td>nan</td>\n",
       "      <td>nan</td>\n",
       "      <td>58.160</td>\n",
       "      <td>6200.000</td>\n",
       "      <td>77.000</td>\n",
       "      <td>3500.000</td>\n",
       "      <td>69.000</td>\n",
       "      <td>NaN</td>\n",
       "    </tr>\n",
       "    <tr>\n",
       "      <th>c309efc1-efaf-4f82-81ad-dcb38eb36665</th>\n",
       "      <td>borivali west</td>\n",
       "      <td>2015</td>\n",
       "      <td>hatchback</td>\n",
       "      <td>manual</td>\n",
       "      <td>cng</td>\n",
       "      <td>45,864</td>\n",
       "      <td>0</td>\n",
       "      <td>[{'img': 'https://images10.gaadi.com/usedcar_i...</td>\n",
       "      <td>15</td>\n",
       "      <td>False</td>\n",
       "      <td>...</td>\n",
       "      <td>Gasoline Port Injection</td>\n",
       "      <td>11.0:1</td>\n",
       "      <td>nan</td>\n",
       "      <td>nan</td>\n",
       "      <td>58.200</td>\n",
       "      <td>6000.000</td>\n",
       "      <td>78.000</td>\n",
       "      <td>3500.000</td>\n",
       "      <td>73.000</td>\n",
       "      <td>NaN</td>\n",
       "    </tr>\n",
       "    <tr>\n",
       "      <th>7609f710-0c97-4f00-9a47-9b9284b62d3a</th>\n",
       "      <td>jasola</td>\n",
       "      <td>2015</td>\n",
       "      <td>sedan</td>\n",
       "      <td>manual</td>\n",
       "      <td>cng</td>\n",
       "      <td>81,506</td>\n",
       "      <td>0</td>\n",
       "      <td>[{'img': 'https://images10.gaadi.com/usedcar_i...</td>\n",
       "      <td>15</td>\n",
       "      <td>False</td>\n",
       "      <td>...</td>\n",
       "      <td>nan</td>\n",
       "      <td>NaN</td>\n",
       "      <td>nan</td>\n",
       "      <td>nan</td>\n",
       "      <td>86.700</td>\n",
       "      <td>6000.000</td>\n",
       "      <td>109.000</td>\n",
       "      <td>4500.000</td>\n",
       "      <td>NaN</td>\n",
       "      <td>NaN</td>\n",
       "    </tr>\n",
       "    <tr>\n",
       "      <th>278b76e3-5539-4a5e-ae3e-353a2e3b6d7d</th>\n",
       "      <td>jasola</td>\n",
       "      <td>2013</td>\n",
       "      <td>hatchback</td>\n",
       "      <td>manual</td>\n",
       "      <td>cng</td>\n",
       "      <td>1,15,893</td>\n",
       "      <td>0</td>\n",
       "      <td>[{'img': ''}]</td>\n",
       "      <td>0</td>\n",
       "      <td>False</td>\n",
       "      <td>...</td>\n",
       "      <td>Multi-Point Fuel Injection</td>\n",
       "      <td>NaN</td>\n",
       "      <td>13</td>\n",
       "      <td>nan</td>\n",
       "      <td>58.200</td>\n",
       "      <td>6200.000</td>\n",
       "      <td>77.000</td>\n",
       "      <td>3500.000</td>\n",
       "      <td>NaN</td>\n",
       "      <td>NaN</td>\n",
       "    </tr>\n",
       "    <tr>\n",
       "      <th>b1eab99b-a606-48dd-a75b-57feb8a9ad92</th>\n",
       "      <td>mumbai g.p.o.</td>\n",
       "      <td>2022</td>\n",
       "      <td>muv</td>\n",
       "      <td>manual</td>\n",
       "      <td>cng</td>\n",
       "      <td>18,900</td>\n",
       "      <td>0</td>\n",
       "      <td>[{'img': 'https://images10.gaadi.com/usedcar_i...</td>\n",
       "      <td>6</td>\n",
       "      <td>False</td>\n",
       "      <td>...</td>\n",
       "      <td>nan</td>\n",
       "      <td>12.0+-.03</td>\n",
       "      <td>nan</td>\n",
       "      <td>nan</td>\n",
       "      <td>86.630</td>\n",
       "      <td>5500.000</td>\n",
       "      <td>121.500</td>\n",
       "      <td>4200.000</td>\n",
       "      <td>NaN</td>\n",
       "      <td>NaN</td>\n",
       "    </tr>\n",
       "  </tbody>\n",
       "</table>\n",
       "<p>5 rows × 65 columns</p>\n",
       "</div>"
      ],
      "text/plain": [
       "                                                loc  myear         bt      tt  \\\n",
       "usedCarSkuId                                                                    \n",
       "7111bf25-97af-47f9-867b-40879190d800    gomti nagar   2016  hatchback  manual   \n",
       "c309efc1-efaf-4f82-81ad-dcb38eb36665  borivali west   2015  hatchback  manual   \n",
       "7609f710-0c97-4f00-9a47-9b9284b62d3a         jasola   2015      sedan  manual   \n",
       "278b76e3-5539-4a5e-ae3e-353a2e3b6d7d         jasola   2013  hatchback  manual   \n",
       "b1eab99b-a606-48dd-a75b-57feb8a9ad92  mumbai g.p.o.   2022        muv  manual   \n",
       "\n",
       "                                       ft        km  ip  \\\n",
       "usedCarSkuId                                              \n",
       "7111bf25-97af-47f9-867b-40879190d800  cng    69,162   0   \n",
       "c309efc1-efaf-4f82-81ad-dcb38eb36665  cng    45,864   0   \n",
       "7609f710-0c97-4f00-9a47-9b9284b62d3a  cng    81,506   0   \n",
       "278b76e3-5539-4a5e-ae3e-353a2e3b6d7d  cng  1,15,893   0   \n",
       "b1eab99b-a606-48dd-a75b-57feb8a9ad92  cng    18,900   0   \n",
       "\n",
       "                                                                                 images  \\\n",
       "usedCarSkuId                                                                              \n",
       "7111bf25-97af-47f9-867b-40879190d800  [{'img': 'https://images10.gaadi.com/usedcar_i...   \n",
       "c309efc1-efaf-4f82-81ad-dcb38eb36665  [{'img': 'https://images10.gaadi.com/usedcar_i...   \n",
       "7609f710-0c97-4f00-9a47-9b9284b62d3a  [{'img': 'https://images10.gaadi.com/usedcar_i...   \n",
       "278b76e3-5539-4a5e-ae3e-353a2e3b6d7d                                      [{'img': ''}]   \n",
       "b1eab99b-a606-48dd-a75b-57feb8a9ad92  [{'img': 'https://images10.gaadi.com/usedcar_i...   \n",
       "\n",
       "                                      imgCount  threesixty  ...  \\\n",
       "usedCarSkuId                                                ...   \n",
       "7111bf25-97af-47f9-867b-40879190d800        15       False  ...   \n",
       "c309efc1-efaf-4f82-81ad-dcb38eb36665        15       False  ...   \n",
       "7609f710-0c97-4f00-9a47-9b9284b62d3a        15       False  ...   \n",
       "278b76e3-5539-4a5e-ae3e-353a2e3b6d7d         0       False  ...   \n",
       "b1eab99b-a606-48dd-a75b-57feb8a9ad92         6       False  ...   \n",
       "\n",
       "                                               Fuel Suppy System  \\\n",
       "usedCarSkuId                                                       \n",
       "7111bf25-97af-47f9-867b-40879190d800                         nan   \n",
       "c309efc1-efaf-4f82-81ad-dcb38eb36665     Gasoline Port Injection   \n",
       "7609f710-0c97-4f00-9a47-9b9284b62d3a                         nan   \n",
       "278b76e3-5539-4a5e-ae3e-353a2e3b6d7d  Multi-Point Fuel Injection   \n",
       "b1eab99b-a606-48dd-a75b-57feb8a9ad92                         nan   \n",
       "\n",
       "                                     Compression Ratio Alloy Wheel Size  \\\n",
       "usedCarSkuId                                                              \n",
       "7111bf25-97af-47f9-867b-40879190d800               NaN              nan   \n",
       "c309efc1-efaf-4f82-81ad-dcb38eb36665            11.0:1              nan   \n",
       "7609f710-0c97-4f00-9a47-9b9284b62d3a               NaN              nan   \n",
       "278b76e3-5539-4a5e-ae3e-353a2e3b6d7d               NaN               13   \n",
       "b1eab99b-a606-48dd-a75b-57feb8a9ad92         12.0+-.03              nan   \n",
       "\n",
       "                                     Ground Clearance Unladen  \\\n",
       "usedCarSkuId                                                    \n",
       "7111bf25-97af-47f9-867b-40879190d800                      nan   \n",
       "c309efc1-efaf-4f82-81ad-dcb38eb36665                      nan   \n",
       "7609f710-0c97-4f00-9a47-9b9284b62d3a                      nan   \n",
       "278b76e3-5539-4a5e-ae3e-353a2e3b6d7d                      nan   \n",
       "b1eab99b-a606-48dd-a75b-57feb8a9ad92                      nan   \n",
       "\n",
       "                                     Max Power Delivered  Max Power At  \\\n",
       "usedCarSkuId                                                             \n",
       "7111bf25-97af-47f9-867b-40879190d800              58.160      6200.000   \n",
       "c309efc1-efaf-4f82-81ad-dcb38eb36665              58.200      6000.000   \n",
       "7609f710-0c97-4f00-9a47-9b9284b62d3a              86.700      6000.000   \n",
       "278b76e3-5539-4a5e-ae3e-353a2e3b6d7d              58.200      6200.000   \n",
       "b1eab99b-a606-48dd-a75b-57feb8a9ad92              86.630      5500.000   \n",
       "\n",
       "                                      Max Torque Delivered Max Torque At  \\\n",
       "usedCarSkuId                                                               \n",
       "7111bf25-97af-47f9-867b-40879190d800                77.000      3500.000   \n",
       "c309efc1-efaf-4f82-81ad-dcb38eb36665                78.000      3500.000   \n",
       "7609f710-0c97-4f00-9a47-9b9284b62d3a               109.000      4500.000   \n",
       "278b76e3-5539-4a5e-ae3e-353a2e3b6d7d                77.000      3500.000   \n",
       "b1eab99b-a606-48dd-a75b-57feb8a9ad92               121.500      4200.000   \n",
       "\n",
       "                                       Bore Stroke  \n",
       "usedCarSkuId                                        \n",
       "7111bf25-97af-47f9-867b-40879190d800 69.000    NaN  \n",
       "c309efc1-efaf-4f82-81ad-dcb38eb36665 73.000    NaN  \n",
       "7609f710-0c97-4f00-9a47-9b9284b62d3a    NaN    NaN  \n",
       "278b76e3-5539-4a5e-ae3e-353a2e3b6d7d    NaN    NaN  \n",
       "b1eab99b-a606-48dd-a75b-57feb8a9ad92    NaN    NaN  \n",
       "\n",
       "[5 rows x 65 columns]"
      ]
     },
     "execution_count": 49,
     "metadata": {},
     "output_type": "execute_result"
    }
   ],
   "source": [
    "cars_df2.drop(columns=['BoreX Stroke'], inplace=True, axis=1)\n",
    "cars_df2.head()"
   ]
  },
  {
   "cell_type": "markdown",
   "id": "6f340cdd",
   "metadata": {
    "papermill": {
     "duration": 0.030091,
     "end_time": "2023-03-25T19:14:27.152706",
     "exception": false,
     "start_time": "2023-03-25T19:14:27.122615",
     "status": "completed"
    },
    "tags": []
   },
   "source": [
    "---\n",
    "\n",
    "#### `Turbo Charger` and `Super Charger`\n",
    "\n",
    "Convert them to boolean"
   ]
  },
  {
   "cell_type": "code",
   "execution_count": 50,
   "id": "25148a2a",
   "metadata": {
    "execution": {
     "iopub.execute_input": "2023-03-25T19:14:27.215104Z",
     "iopub.status.busy": "2023-03-25T19:14:27.214593Z",
     "iopub.status.idle": "2023-03-25T19:14:27.226720Z",
     "shell.execute_reply": "2023-03-25T19:14:27.225747Z"
    },
    "papermill": {
     "duration": 0.046498,
     "end_time": "2023-03-25T19:14:27.229201",
     "exception": false,
     "start_time": "2023-03-25T19:14:27.182703",
     "status": "completed"
    },
    "tags": []
   },
   "outputs": [
    {
     "data": {
      "text/html": [
       "<div>\n",
       "<style scoped>\n",
       "    .dataframe tbody tr th:only-of-type {\n",
       "        vertical-align: middle;\n",
       "    }\n",
       "\n",
       "    .dataframe tbody tr th {\n",
       "        vertical-align: top;\n",
       "    }\n",
       "\n",
       "    .dataframe thead th {\n",
       "        text-align: right;\n",
       "    }\n",
       "</style>\n",
       "<table border=\"1\" class=\"dataframe\">\n",
       "  <thead>\n",
       "    <tr style=\"text-align: right;\">\n",
       "      <th></th>\n",
       "      <th>Turbo Charger</th>\n",
       "      <th>Super Charger</th>\n",
       "    </tr>\n",
       "    <tr>\n",
       "      <th>usedCarSkuId</th>\n",
       "      <th></th>\n",
       "      <th></th>\n",
       "    </tr>\n",
       "  </thead>\n",
       "  <tbody>\n",
       "    <tr>\n",
       "      <th>caadf193-3213-4937-96f7-6f0c2c236af5</th>\n",
       "      <td>yes</td>\n",
       "      <td>no</td>\n",
       "    </tr>\n",
       "    <tr>\n",
       "      <th>fca1f01b-2b69-490d-8784-a169aed337eb</th>\n",
       "      <td>yes</td>\n",
       "      <td>no</td>\n",
       "    </tr>\n",
       "    <tr>\n",
       "      <th>04571ec1-032d-4710-ad57-9ea9688b4030</th>\n",
       "      <td>no</td>\n",
       "      <td>no</td>\n",
       "    </tr>\n",
       "    <tr>\n",
       "      <th>d42f2ee6-4c69-4a49-ae48-d434bdfb4b58</th>\n",
       "      <td>yes</td>\n",
       "      <td>no</td>\n",
       "    </tr>\n",
       "    <tr>\n",
       "      <th>d3334072-f3db-474c-8f7c-278e29a696ee</th>\n",
       "      <td>no</td>\n",
       "      <td>no</td>\n",
       "    </tr>\n",
       "  </tbody>\n",
       "</table>\n",
       "</div>"
      ],
      "text/plain": [
       "                                     Turbo Charger Super Charger\n",
       "usedCarSkuId                                                    \n",
       "caadf193-3213-4937-96f7-6f0c2c236af5           yes            no\n",
       "fca1f01b-2b69-490d-8784-a169aed337eb           yes            no\n",
       "04571ec1-032d-4710-ad57-9ea9688b4030            no            no\n",
       "d42f2ee6-4c69-4a49-ae48-d434bdfb4b58           yes            no\n",
       "d3334072-f3db-474c-8f7c-278e29a696ee            no            no"
      ]
     },
     "execution_count": 50,
     "metadata": {},
     "output_type": "execute_result"
    }
   ],
   "source": [
    "cars_df2[['Turbo Charger', 'Super Charger']].sample(5)"
   ]
  },
  {
   "cell_type": "code",
   "execution_count": 51,
   "id": "832fc581",
   "metadata": {
    "execution": {
     "iopub.execute_input": "2023-03-25T19:14:27.292484Z",
     "iopub.status.busy": "2023-03-25T19:14:27.291776Z",
     "iopub.status.idle": "2023-03-25T19:14:27.342207Z",
     "shell.execute_reply": "2023-03-25T19:14:27.340776Z"
    },
    "papermill": {
     "duration": 0.0852,
     "end_time": "2023-03-25T19:14:27.344892",
     "exception": false,
     "start_time": "2023-03-25T19:14:27.259692",
     "status": "completed"
    },
    "tags": []
   },
   "outputs": [],
   "source": [
    "cars_df2['Turbo Charger'] = cars_df2['Turbo Charger'].replace('yes', True)\n",
    "cars_df2['Turbo Charger'] = cars_df2['Turbo Charger'].replace('no', False).astype(bool)\n",
    "\n",
    "cars_df2['Super Charger'] = cars_df2['Turbo Charger'].replace('yes', True)\n",
    "cars_df2['Super Charger'] = cars_df2['Turbo Charger'].replace('no', False).astype(bool)"
   ]
  },
  {
   "cell_type": "code",
   "execution_count": 52,
   "id": "1649d5e1",
   "metadata": {
    "execution": {
     "iopub.execute_input": "2023-03-25T19:14:27.406506Z",
     "iopub.status.busy": "2023-03-25T19:14:27.406092Z",
     "iopub.status.idle": "2023-03-25T19:14:27.419871Z",
     "shell.execute_reply": "2023-03-25T19:14:27.418674Z"
    },
    "papermill": {
     "duration": 0.047716,
     "end_time": "2023-03-25T19:14:27.423238",
     "exception": false,
     "start_time": "2023-03-25T19:14:27.375522",
     "status": "completed"
    },
    "tags": []
   },
   "outputs": [
    {
     "data": {
      "text/html": [
       "<div>\n",
       "<style scoped>\n",
       "    .dataframe tbody tr th:only-of-type {\n",
       "        vertical-align: middle;\n",
       "    }\n",
       "\n",
       "    .dataframe tbody tr th {\n",
       "        vertical-align: top;\n",
       "    }\n",
       "\n",
       "    .dataframe thead th {\n",
       "        text-align: right;\n",
       "    }\n",
       "</style>\n",
       "<table border=\"1\" class=\"dataframe\">\n",
       "  <thead>\n",
       "    <tr style=\"text-align: right;\">\n",
       "      <th></th>\n",
       "      <th>Turbo Charger</th>\n",
       "      <th>Super Charger</th>\n",
       "    </tr>\n",
       "    <tr>\n",
       "      <th>usedCarSkuId</th>\n",
       "      <th></th>\n",
       "      <th></th>\n",
       "    </tr>\n",
       "  </thead>\n",
       "  <tbody>\n",
       "    <tr>\n",
       "      <th>8e7a0383-faad-44d4-a122-a6f1b5c69548</th>\n",
       "      <td>False</td>\n",
       "      <td>False</td>\n",
       "    </tr>\n",
       "    <tr>\n",
       "      <th>12d86f47-0316-4af2-81a0-e76f28493d01</th>\n",
       "      <td>False</td>\n",
       "      <td>False</td>\n",
       "    </tr>\n",
       "    <tr>\n",
       "      <th>7a20de83-bd01-4827-8103-80d4e72b13f6</th>\n",
       "      <td>False</td>\n",
       "      <td>False</td>\n",
       "    </tr>\n",
       "    <tr>\n",
       "      <th>516a27bd-1bc2-4d00-ace6-1a47f2288469</th>\n",
       "      <td>True</td>\n",
       "      <td>True</td>\n",
       "    </tr>\n",
       "    <tr>\n",
       "      <th>063ae741-f5e0-4fa5-b616-078ed86b0cbb</th>\n",
       "      <td>False</td>\n",
       "      <td>False</td>\n",
       "    </tr>\n",
       "  </tbody>\n",
       "</table>\n",
       "</div>"
      ],
      "text/plain": [
       "                                      Turbo Charger  Super Charger\n",
       "usedCarSkuId                                                      \n",
       "8e7a0383-faad-44d4-a122-a6f1b5c69548          False          False\n",
       "12d86f47-0316-4af2-81a0-e76f28493d01          False          False\n",
       "7a20de83-bd01-4827-8103-80d4e72b13f6          False          False\n",
       "516a27bd-1bc2-4d00-ace6-1a47f2288469           True           True\n",
       "063ae741-f5e0-4fa5-b616-078ed86b0cbb          False          False"
      ]
     },
     "execution_count": 52,
     "metadata": {},
     "output_type": "execute_result"
    }
   ],
   "source": [
    "cars_df2[['Turbo Charger', 'Super Charger']].sample(5)"
   ]
  },
  {
   "cell_type": "markdown",
   "id": "d60fa5de",
   "metadata": {
    "papermill": {
     "duration": 0.035518,
     "end_time": "2023-03-25T19:14:27.497139",
     "exception": false,
     "start_time": "2023-03-25T19:14:27.461621",
     "status": "completed"
    },
    "tags": []
   },
   "source": [
    "---\n",
    "\n",
    "#### `Length`, `Width`, `Height`, `Wheel Base`\n",
    "\n",
    "Convert these columns to int"
   ]
  },
  {
   "cell_type": "code",
   "execution_count": 53,
   "id": "091b308a",
   "metadata": {
    "execution": {
     "iopub.execute_input": "2023-03-25T19:14:27.559860Z",
     "iopub.status.busy": "2023-03-25T19:14:27.559429Z",
     "iopub.status.idle": "2023-03-25T19:14:27.575840Z",
     "shell.execute_reply": "2023-03-25T19:14:27.574727Z"
    },
    "papermill": {
     "duration": 0.05111,
     "end_time": "2023-03-25T19:14:27.578593",
     "exception": false,
     "start_time": "2023-03-25T19:14:27.527483",
     "status": "completed"
    },
    "tags": []
   },
   "outputs": [
    {
     "data": {
      "text/html": [
       "<div>\n",
       "<style scoped>\n",
       "    .dataframe tbody tr th:only-of-type {\n",
       "        vertical-align: middle;\n",
       "    }\n",
       "\n",
       "    .dataframe tbody tr th {\n",
       "        vertical-align: top;\n",
       "    }\n",
       "\n",
       "    .dataframe thead th {\n",
       "        text-align: right;\n",
       "    }\n",
       "</style>\n",
       "<table border=\"1\" class=\"dataframe\">\n",
       "  <thead>\n",
       "    <tr style=\"text-align: right;\">\n",
       "      <th></th>\n",
       "      <th>Length</th>\n",
       "      <th>Width</th>\n",
       "      <th>Height</th>\n",
       "      <th>Wheel Base</th>\n",
       "    </tr>\n",
       "    <tr>\n",
       "      <th>usedCarSkuId</th>\n",
       "      <th></th>\n",
       "      <th></th>\n",
       "      <th></th>\n",
       "      <th></th>\n",
       "    </tr>\n",
       "  </thead>\n",
       "  <tbody>\n",
       "    <tr>\n",
       "      <th>e24ec803-7f13-497a-9a4b-34036113ade6</th>\n",
       "      <td>4440mm</td>\n",
       "      <td>1695mm</td>\n",
       "      <td>1485mm</td>\n",
       "      <td>2550mm</td>\n",
       "    </tr>\n",
       "    <tr>\n",
       "      <th>ccb40843-c348-48da-bf0e-704da58db55d</th>\n",
       "      <td>3840mm</td>\n",
       "      <td>1735mm</td>\n",
       "      <td>1530mm</td>\n",
       "      <td>2450mm</td>\n",
       "    </tr>\n",
       "    <tr>\n",
       "      <th>cd4ce72b-7edf-4df9-98f6-9062a16397f9</th>\n",
       "      <td>3765mm</td>\n",
       "      <td>1660mm</td>\n",
       "      <td>1520mm</td>\n",
       "      <td>2425mm</td>\n",
       "    </tr>\n",
       "    <tr>\n",
       "      <th>933b335d-ffa5-49d5-a6a0-d83465de8d99</th>\n",
       "      <td>4507 mm</td>\n",
       "      <td>1731 mm</td>\n",
       "      <td>1455 mm</td>\n",
       "      <td>2512 mm</td>\n",
       "    </tr>\n",
       "    <tr>\n",
       "      <th>ce75d9d4-8965-4cc8-b9f3-abc7a5fd6f7c</th>\n",
       "      <td>4315mm</td>\n",
       "      <td>1800mm</td>\n",
       "      <td>1645mm</td>\n",
       "      <td>2610mm</td>\n",
       "    </tr>\n",
       "    <tr>\n",
       "      <th>b12fd039-1ee3-41ee-a9fc-c658e1e38dfb</th>\n",
       "      <td>4440mm</td>\n",
       "      <td>1695mm</td>\n",
       "      <td>1495mm</td>\n",
       "      <td>2600mm</td>\n",
       "    </tr>\n",
       "    <tr>\n",
       "      <th>09074205-31d4-41e2-87f2-30e588c05b17</th>\n",
       "      <td>3585mm</td>\n",
       "      <td>1595mm</td>\n",
       "      <td>1550mm</td>\n",
       "      <td>2380mm</td>\n",
       "    </tr>\n",
       "    <tr>\n",
       "      <th>27636220-1d32-4794-98e6-823d02895977</th>\n",
       "      <td>4388mm</td>\n",
       "      <td>1831mm</td>\n",
       "      <td>1608mm</td>\n",
       "      <td>2603mm</td>\n",
       "    </tr>\n",
       "    <tr>\n",
       "      <th>a454a927-fd41-4404-afcb-a98faf66a196</th>\n",
       "      <td>3695mm</td>\n",
       "      <td>1600mm</td>\n",
       "      <td>1560mm</td>\n",
       "      <td>2425mm</td>\n",
       "    </tr>\n",
       "    <tr>\n",
       "      <th>b06efdd0-9968-4be2-a301-db6295345d87</th>\n",
       "      <td>4585 mm</td>\n",
       "      <td>1866 mm</td>\n",
       "      <td>1774 mm</td>\n",
       "      <td>2760 mm</td>\n",
       "    </tr>\n",
       "  </tbody>\n",
       "</table>\n",
       "</div>"
      ],
      "text/plain": [
       "                                       Length    Width   Height Wheel Base\n",
       "usedCarSkuId                                                              \n",
       "e24ec803-7f13-497a-9a4b-34036113ade6   4440mm   1695mm   1485mm     2550mm\n",
       "ccb40843-c348-48da-bf0e-704da58db55d   3840mm   1735mm   1530mm     2450mm\n",
       "cd4ce72b-7edf-4df9-98f6-9062a16397f9   3765mm   1660mm   1520mm     2425mm\n",
       "933b335d-ffa5-49d5-a6a0-d83465de8d99  4507 mm  1731 mm  1455 mm    2512 mm\n",
       "ce75d9d4-8965-4cc8-b9f3-abc7a5fd6f7c   4315mm   1800mm   1645mm     2610mm\n",
       "b12fd039-1ee3-41ee-a9fc-c658e1e38dfb   4440mm   1695mm   1495mm     2600mm\n",
       "09074205-31d4-41e2-87f2-30e588c05b17   3585mm   1595mm   1550mm     2380mm\n",
       "27636220-1d32-4794-98e6-823d02895977   4388mm   1831mm   1608mm     2603mm\n",
       "a454a927-fd41-4404-afcb-a98faf66a196   3695mm   1600mm   1560mm     2425mm\n",
       "b06efdd0-9968-4be2-a301-db6295345d87  4585 mm  1866 mm  1774 mm    2760 mm"
      ]
     },
     "execution_count": 53,
     "metadata": {},
     "output_type": "execute_result"
    }
   ],
   "source": [
    "cars_df2[['Length', 'Width', 'Height', 'Wheel Base']].sample(10)"
   ]
  },
  {
   "cell_type": "code",
   "execution_count": 54,
   "id": "efa58c2c",
   "metadata": {
    "execution": {
     "iopub.execute_input": "2023-03-25T19:14:27.700893Z",
     "iopub.status.busy": "2023-03-25T19:14:27.700551Z",
     "iopub.status.idle": "2023-03-25T19:14:28.030356Z",
     "shell.execute_reply": "2023-03-25T19:14:28.029197Z"
    },
    "papermill": {
     "duration": 0.423272,
     "end_time": "2023-03-25T19:14:28.032971",
     "exception": false,
     "start_time": "2023-03-25T19:14:27.609699",
     "status": "completed"
    },
    "tags": []
   },
   "outputs": [],
   "source": [
    "for col in ['Length', 'Width', 'Height', 'Wheel Base']:\n",
    "    cars_df2[col] = cars_df2[col].apply(get_begin_number).astype(float)"
   ]
  },
  {
   "cell_type": "code",
   "execution_count": 55,
   "id": "93d9ddca",
   "metadata": {
    "execution": {
     "iopub.execute_input": "2023-03-25T19:14:28.097391Z",
     "iopub.status.busy": "2023-03-25T19:14:28.096417Z",
     "iopub.status.idle": "2023-03-25T19:14:28.110007Z",
     "shell.execute_reply": "2023-03-25T19:14:28.108969Z"
    },
    "papermill": {
     "duration": 0.048795,
     "end_time": "2023-03-25T19:14:28.112484",
     "exception": false,
     "start_time": "2023-03-25T19:14:28.063689",
     "status": "completed"
    },
    "tags": []
   },
   "outputs": [
    {
     "data": {
      "text/html": [
       "<div>\n",
       "<style scoped>\n",
       "    .dataframe tbody tr th:only-of-type {\n",
       "        vertical-align: middle;\n",
       "    }\n",
       "\n",
       "    .dataframe tbody tr th {\n",
       "        vertical-align: top;\n",
       "    }\n",
       "\n",
       "    .dataframe thead th {\n",
       "        text-align: right;\n",
       "    }\n",
       "</style>\n",
       "<table border=\"1\" class=\"dataframe\">\n",
       "  <thead>\n",
       "    <tr style=\"text-align: right;\">\n",
       "      <th></th>\n",
       "      <th>Length</th>\n",
       "      <th>Width</th>\n",
       "      <th>Height</th>\n",
       "      <th>Wheel Base</th>\n",
       "    </tr>\n",
       "    <tr>\n",
       "      <th>usedCarSkuId</th>\n",
       "      <th></th>\n",
       "      <th></th>\n",
       "      <th></th>\n",
       "      <th></th>\n",
       "    </tr>\n",
       "  </thead>\n",
       "  <tbody>\n",
       "    <tr>\n",
       "      <th>a982e5a6-548e-447f-9f87-9e4f4f8965c3</th>\n",
       "      <td>4440.000</td>\n",
       "      <td>1695.000</td>\n",
       "      <td>1485.000</td>\n",
       "      <td>2550.000</td>\n",
       "    </tr>\n",
       "    <tr>\n",
       "      <th>9e64f708-7845-4653-be89-e5ba5bf519bb</th>\n",
       "      <td>4591.000</td>\n",
       "      <td>1770.000</td>\n",
       "      <td>1447.000</td>\n",
       "      <td>2760.000</td>\n",
       "    </tr>\n",
       "    <tr>\n",
       "      <th>2c99b549-efe0-4c04-b4eb-fe917ef26928</th>\n",
       "      <td>3995.000</td>\n",
       "      <td>1706.000</td>\n",
       "      <td>1570.000</td>\n",
       "      <td>2470.000</td>\n",
       "    </tr>\n",
       "    <tr>\n",
       "      <th>2f9203f2-3d19-4e7c-8e68-3c3d950f61f2</th>\n",
       "      <td>4591.000</td>\n",
       "      <td>1770.000</td>\n",
       "      <td>1447.000</td>\n",
       "      <td>2760.000</td>\n",
       "    </tr>\n",
       "    <tr>\n",
       "      <th>eeb2f23e-851c-4e14-aee4-4ddcad9e8dae</th>\n",
       "      <td>3995.000</td>\n",
       "      <td>1695.000</td>\n",
       "      <td>1555.000</td>\n",
       "      <td>2430.000</td>\n",
       "    </tr>\n",
       "  </tbody>\n",
       "</table>\n",
       "</div>"
      ],
      "text/plain": [
       "                                       Length    Width   Height  Wheel Base\n",
       "usedCarSkuId                                                               \n",
       "a982e5a6-548e-447f-9f87-9e4f4f8965c3 4440.000 1695.000 1485.000    2550.000\n",
       "9e64f708-7845-4653-be89-e5ba5bf519bb 4591.000 1770.000 1447.000    2760.000\n",
       "2c99b549-efe0-4c04-b4eb-fe917ef26928 3995.000 1706.000 1570.000    2470.000\n",
       "2f9203f2-3d19-4e7c-8e68-3c3d950f61f2 4591.000 1770.000 1447.000    2760.000\n",
       "eeb2f23e-851c-4e14-aee4-4ddcad9e8dae 3995.000 1695.000 1555.000    2430.000"
      ]
     },
     "execution_count": 55,
     "metadata": {},
     "output_type": "execute_result"
    }
   ],
   "source": [
    "cars_df2[['Length', 'Width', 'Height', 'Wheel Base']].sample(5)"
   ]
  },
  {
   "cell_type": "markdown",
   "id": "1395f669",
   "metadata": {
    "papermill": {
     "duration": 0.031007,
     "end_time": "2023-03-25T19:14:28.175784",
     "exception": false,
     "start_time": "2023-03-25T19:14:28.144777",
     "status": "completed"
    },
    "tags": []
   },
   "source": [
    "---\n",
    "\n",
    "#### `Front Tread` and `Rear Tread`"
   ]
  },
  {
   "cell_type": "code",
   "execution_count": 56,
   "id": "cc11fe63",
   "metadata": {
    "execution": {
     "iopub.execute_input": "2023-03-25T19:14:28.239659Z",
     "iopub.status.busy": "2023-03-25T19:14:28.239276Z",
     "iopub.status.idle": "2023-03-25T19:14:28.253844Z",
     "shell.execute_reply": "2023-03-25T19:14:28.253064Z"
    },
    "papermill": {
     "duration": 0.049429,
     "end_time": "2023-03-25T19:14:28.256067",
     "exception": false,
     "start_time": "2023-03-25T19:14:28.206638",
     "status": "completed"
    },
    "tags": []
   },
   "outputs": [
    {
     "data": {
      "text/html": [
       "<div>\n",
       "<style scoped>\n",
       "    .dataframe tbody tr th:only-of-type {\n",
       "        vertical-align: middle;\n",
       "    }\n",
       "\n",
       "    .dataframe tbody tr th {\n",
       "        vertical-align: top;\n",
       "    }\n",
       "\n",
       "    .dataframe thead th {\n",
       "        text-align: right;\n",
       "    }\n",
       "</style>\n",
       "<table border=\"1\" class=\"dataframe\">\n",
       "  <thead>\n",
       "    <tr style=\"text-align: right;\">\n",
       "      <th></th>\n",
       "      <th>Front Tread</th>\n",
       "      <th>Rear Tread</th>\n",
       "    </tr>\n",
       "    <tr>\n",
       "      <th>usedCarSkuId</th>\n",
       "      <th></th>\n",
       "      <th></th>\n",
       "    </tr>\n",
       "  </thead>\n",
       "  <tbody>\n",
       "    <tr>\n",
       "      <th>776f4552-3684-4bbe-9c8d-f87db63655b0</th>\n",
       "      <td>nan</td>\n",
       "      <td>nan</td>\n",
       "    </tr>\n",
       "    <tr>\n",
       "      <th>89dc16e4-8f7e-4c54-ac86-f2b796a87d04</th>\n",
       "      <td>1520</td>\n",
       "      <td>1520</td>\n",
       "    </tr>\n",
       "    <tr>\n",
       "      <th>af3c8161-91c7-4eae-a450-8a7cd95bc5d4</th>\n",
       "      <td>1479mm</td>\n",
       "      <td>1493mm</td>\n",
       "    </tr>\n",
       "    <tr>\n",
       "      <th>8c33fbec-494a-40ec-b075-c9c95c6e26e5</th>\n",
       "      <td>1479mm</td>\n",
       "      <td>1493mm</td>\n",
       "    </tr>\n",
       "    <tr>\n",
       "      <th>3a64f7b2-98bf-47eb-afa7-50430269ed14</th>\n",
       "      <td>1490mm</td>\n",
       "      <td>1475mm</td>\n",
       "    </tr>\n",
       "    <tr>\n",
       "      <th>4e7a9b91-4532-4cde-872b-1f38e4e5b92d</th>\n",
       "      <td>1530mm</td>\n",
       "      <td>1530mm</td>\n",
       "    </tr>\n",
       "    <tr>\n",
       "      <th>0ca27c98-9af1-4ab5-980f-efe8b66d2592</th>\n",
       "      <td>1479mm</td>\n",
       "      <td>1493mm</td>\n",
       "    </tr>\n",
       "    <tr>\n",
       "      <th>1b0da9f6-2a8c-4158-9977-b73caf5af778</th>\n",
       "      <td>1435mm</td>\n",
       "      <td>1425mm</td>\n",
       "    </tr>\n",
       "    <tr>\n",
       "      <th>2f0f7677-94e0-40e6-a0ed-b3ae14b94626</th>\n",
       "      <td>1480mm</td>\n",
       "      <td>1465mm</td>\n",
       "    </tr>\n",
       "    <tr>\n",
       "      <th>ce805aa6-a5e3-43d9-abf8-16e022036bbe</th>\n",
       "      <td>nan</td>\n",
       "      <td>nan</td>\n",
       "    </tr>\n",
       "  </tbody>\n",
       "</table>\n",
       "</div>"
      ],
      "text/plain": [
       "                                     Front Tread Rear Tread\n",
       "usedCarSkuId                                               \n",
       "776f4552-3684-4bbe-9c8d-f87db63655b0         nan        nan\n",
       "89dc16e4-8f7e-4c54-ac86-f2b796a87d04        1520       1520\n",
       "af3c8161-91c7-4eae-a450-8a7cd95bc5d4      1479mm     1493mm\n",
       "8c33fbec-494a-40ec-b075-c9c95c6e26e5      1479mm     1493mm\n",
       "3a64f7b2-98bf-47eb-afa7-50430269ed14      1490mm     1475mm\n",
       "4e7a9b91-4532-4cde-872b-1f38e4e5b92d      1530mm     1530mm\n",
       "0ca27c98-9af1-4ab5-980f-efe8b66d2592      1479mm     1493mm\n",
       "1b0da9f6-2a8c-4158-9977-b73caf5af778      1435mm     1425mm\n",
       "2f0f7677-94e0-40e6-a0ed-b3ae14b94626      1480mm     1465mm\n",
       "ce805aa6-a5e3-43d9-abf8-16e022036bbe         nan        nan"
      ]
     },
     "execution_count": 56,
     "metadata": {},
     "output_type": "execute_result"
    }
   ],
   "source": [
    "cars_df2[['Front Tread', 'Rear Tread']].sample(10)"
   ]
  },
  {
   "cell_type": "code",
   "execution_count": 57,
   "id": "f6c52ed8",
   "metadata": {
    "execution": {
     "iopub.execute_input": "2023-03-25T19:14:28.323474Z",
     "iopub.status.busy": "2023-03-25T19:14:28.322109Z",
     "iopub.status.idle": "2023-03-25T19:14:28.461792Z",
     "shell.execute_reply": "2023-03-25T19:14:28.460815Z"
    },
    "papermill": {
     "duration": 0.176326,
     "end_time": "2023-03-25T19:14:28.464391",
     "exception": false,
     "start_time": "2023-03-25T19:14:28.288065",
     "status": "completed"
    },
    "tags": []
   },
   "outputs": [],
   "source": [
    "for col in ['Front Tread', 'Rear Tread']:\n",
    "    cars_df2[col] = cars_df2[col].apply(get_begin_float).astype(float)"
   ]
  },
  {
   "cell_type": "code",
   "execution_count": 58,
   "id": "b136c21e",
   "metadata": {
    "execution": {
     "iopub.execute_input": "2023-03-25T19:14:28.530118Z",
     "iopub.status.busy": "2023-03-25T19:14:28.529723Z",
     "iopub.status.idle": "2023-03-25T19:14:28.541623Z",
     "shell.execute_reply": "2023-03-25T19:14:28.540600Z"
    },
    "papermill": {
     "duration": 0.046852,
     "end_time": "2023-03-25T19:14:28.543546",
     "exception": false,
     "start_time": "2023-03-25T19:14:28.496694",
     "status": "completed"
    },
    "tags": []
   },
   "outputs": [
    {
     "data": {
      "text/html": [
       "<div>\n",
       "<style scoped>\n",
       "    .dataframe tbody tr th:only-of-type {\n",
       "        vertical-align: middle;\n",
       "    }\n",
       "\n",
       "    .dataframe tbody tr th {\n",
       "        vertical-align: top;\n",
       "    }\n",
       "\n",
       "    .dataframe thead th {\n",
       "        text-align: right;\n",
       "    }\n",
       "</style>\n",
       "<table border=\"1\" class=\"dataframe\">\n",
       "  <thead>\n",
       "    <tr style=\"text-align: right;\">\n",
       "      <th></th>\n",
       "      <th>Front Tread</th>\n",
       "      <th>Rear Tread</th>\n",
       "    </tr>\n",
       "    <tr>\n",
       "      <th>usedCarSkuId</th>\n",
       "      <th></th>\n",
       "      <th></th>\n",
       "    </tr>\n",
       "  </thead>\n",
       "  <tbody>\n",
       "    <tr>\n",
       "      <th>0ae6e684-e8f4-4d1f-a3ab-20422eca48fa</th>\n",
       "      <td>1485.000</td>\n",
       "      <td>1495.000</td>\n",
       "    </tr>\n",
       "    <tr>\n",
       "      <th>d7dfd8e8-911e-4dad-b25c-0f35d3aeaedd</th>\n",
       "      <td>1505.000</td>\n",
       "      <td>1515.000</td>\n",
       "    </tr>\n",
       "    <tr>\n",
       "      <th>8e6a5b3c-3bfe-41b0-a0aa-0da6efb7f56f</th>\n",
       "      <td>1470.000</td>\n",
       "      <td>1480.000</td>\n",
       "    </tr>\n",
       "    <tr>\n",
       "      <th>6dd56365-d15d-4d8b-9499-d4ec9862e541</th>\n",
       "      <td>NaN</td>\n",
       "      <td>NaN</td>\n",
       "    </tr>\n",
       "    <tr>\n",
       "      <th>54f1b3f8-b2e1-4f36-a4fb-e997ea8cb6c7</th>\n",
       "      <td>1530.000</td>\n",
       "      <td>1530.000</td>\n",
       "    </tr>\n",
       "  </tbody>\n",
       "</table>\n",
       "</div>"
      ],
      "text/plain": [
       "                                      Front Tread  Rear Tread\n",
       "usedCarSkuId                                                 \n",
       "0ae6e684-e8f4-4d1f-a3ab-20422eca48fa     1485.000    1495.000\n",
       "d7dfd8e8-911e-4dad-b25c-0f35d3aeaedd     1505.000    1515.000\n",
       "8e6a5b3c-3bfe-41b0-a0aa-0da6efb7f56f     1470.000    1480.000\n",
       "6dd56365-d15d-4d8b-9499-d4ec9862e541          NaN         NaN\n",
       "54f1b3f8-b2e1-4f36-a4fb-e997ea8cb6c7     1530.000    1530.000"
      ]
     },
     "execution_count": 58,
     "metadata": {},
     "output_type": "execute_result"
    }
   ],
   "source": [
    "cars_df2[['Front Tread', 'Rear Tread']].sample(5)"
   ]
  },
  {
   "cell_type": "markdown",
   "id": "3ba0820b",
   "metadata": {
    "papermill": {
     "duration": 0.031135,
     "end_time": "2023-03-25T19:14:28.607520",
     "exception": false,
     "start_time": "2023-03-25T19:14:28.576385",
     "status": "completed"
    },
    "tags": []
   },
   "source": [
    "---\n",
    "\n",
    "#### `Kerb Weight` and `Gross Weight` \n",
    "\n",
    "Convert weights to numerical features"
   ]
  },
  {
   "cell_type": "code",
   "execution_count": 59,
   "id": "fbddc62b",
   "metadata": {
    "execution": {
     "iopub.execute_input": "2023-03-25T19:14:28.671259Z",
     "iopub.status.busy": "2023-03-25T19:14:28.670880Z",
     "iopub.status.idle": "2023-03-25T19:14:28.683910Z",
     "shell.execute_reply": "2023-03-25T19:14:28.682956Z"
    },
    "papermill": {
     "duration": 0.047088,
     "end_time": "2023-03-25T19:14:28.685910",
     "exception": false,
     "start_time": "2023-03-25T19:14:28.638822",
     "status": "completed"
    },
    "tags": []
   },
   "outputs": [
    {
     "data": {
      "text/html": [
       "<div>\n",
       "<style scoped>\n",
       "    .dataframe tbody tr th:only-of-type {\n",
       "        vertical-align: middle;\n",
       "    }\n",
       "\n",
       "    .dataframe tbody tr th {\n",
       "        vertical-align: top;\n",
       "    }\n",
       "\n",
       "    .dataframe thead th {\n",
       "        text-align: right;\n",
       "    }\n",
       "</style>\n",
       "<table border=\"1\" class=\"dataframe\">\n",
       "  <thead>\n",
       "    <tr style=\"text-align: right;\">\n",
       "      <th></th>\n",
       "      <th>Kerb Weight</th>\n",
       "      <th>Gross Weight</th>\n",
       "    </tr>\n",
       "    <tr>\n",
       "      <th>usedCarSkuId</th>\n",
       "      <th></th>\n",
       "      <th></th>\n",
       "    </tr>\n",
       "  </thead>\n",
       "  <tbody>\n",
       "    <tr>\n",
       "      <th>47bef6c6-89fc-49ab-b951-95887845c517</th>\n",
       "      <td>1130kg</td>\n",
       "      <td>nan</td>\n",
       "    </tr>\n",
       "    <tr>\n",
       "      <th>0a3b8743-8cdb-434c-8672-511a8a1810e4</th>\n",
       "      <td>865-890</td>\n",
       "      <td>1340kg</td>\n",
       "    </tr>\n",
       "    <tr>\n",
       "      <th>ccfa7216-f300-47d0-8a32-6b71e685929b</th>\n",
       "      <td>1790kg</td>\n",
       "      <td>2340kg</td>\n",
       "    </tr>\n",
       "    <tr>\n",
       "      <th>4943e932-29ec-426d-8de1-5a41f349ff74</th>\n",
       "      <td>nan</td>\n",
       "      <td>nan</td>\n",
       "    </tr>\n",
       "    <tr>\n",
       "      <th>85b4a87e-0757-4f33-be86-aabe4524f75a</th>\n",
       "      <td>860-895kg</td>\n",
       "      <td>1315kg</td>\n",
       "    </tr>\n",
       "    <tr>\n",
       "      <th>a85dac1c-4a98-4ffa-92fb-aa02cc9ff703</th>\n",
       "      <td>nan</td>\n",
       "      <td>nan</td>\n",
       "    </tr>\n",
       "    <tr>\n",
       "      <th>d72c080e-3e54-4930-a407-570db2cbf453</th>\n",
       "      <td>970kg</td>\n",
       "      <td>1415kg</td>\n",
       "    </tr>\n",
       "    <tr>\n",
       "      <th>027d521e-61e4-43df-8e8c-d87e229c6666</th>\n",
       "      <td>1066kg</td>\n",
       "      <td>nan</td>\n",
       "    </tr>\n",
       "    <tr>\n",
       "      <th>aaec6cff-3f54-4ded-9fe2-919a9c3f294e</th>\n",
       "      <td>nan</td>\n",
       "      <td>2215kg</td>\n",
       "    </tr>\n",
       "    <tr>\n",
       "      <th>da4d4cf1-1a9a-4ccd-b087-d196b610ff10</th>\n",
       "      <td>nan</td>\n",
       "      <td>nan</td>\n",
       "    </tr>\n",
       "  </tbody>\n",
       "</table>\n",
       "</div>"
      ],
      "text/plain": [
       "                                     Kerb Weight Gross Weight\n",
       "usedCarSkuId                                                 \n",
       "47bef6c6-89fc-49ab-b951-95887845c517      1130kg          nan\n",
       "0a3b8743-8cdb-434c-8672-511a8a1810e4     865-890       1340kg\n",
       "ccfa7216-f300-47d0-8a32-6b71e685929b      1790kg       2340kg\n",
       "4943e932-29ec-426d-8de1-5a41f349ff74         nan          nan\n",
       "85b4a87e-0757-4f33-be86-aabe4524f75a   860-895kg       1315kg\n",
       "a85dac1c-4a98-4ffa-92fb-aa02cc9ff703         nan          nan\n",
       "d72c080e-3e54-4930-a407-570db2cbf453       970kg       1415kg\n",
       "027d521e-61e4-43df-8e8c-d87e229c6666      1066kg          nan\n",
       "aaec6cff-3f54-4ded-9fe2-919a9c3f294e         nan       2215kg\n",
       "da4d4cf1-1a9a-4ccd-b087-d196b610ff10         nan          nan"
      ]
     },
     "execution_count": 59,
     "metadata": {},
     "output_type": "execute_result"
    }
   ],
   "source": [
    "cars_df2[['Kerb Weight', 'Gross Weight']].sample(10)"
   ]
  },
  {
   "cell_type": "code",
   "execution_count": 60,
   "id": "0dd2a62d",
   "metadata": {
    "execution": {
     "iopub.execute_input": "2023-03-25T19:14:28.751601Z",
     "iopub.status.busy": "2023-03-25T19:14:28.750746Z",
     "iopub.status.idle": "2023-03-25T19:14:28.883746Z",
     "shell.execute_reply": "2023-03-25T19:14:28.882221Z"
    },
    "papermill": {
     "duration": 0.16844,
     "end_time": "2023-03-25T19:14:28.886380",
     "exception": false,
     "start_time": "2023-03-25T19:14:28.717940",
     "status": "completed"
    },
    "tags": []
   },
   "outputs": [],
   "source": [
    "for col in ['Kerb Weight', 'Gross Weight']:\n",
    "    cars_df2[col] = cars_df2[col].apply(get_begin_number).astype(float)"
   ]
  },
  {
   "cell_type": "code",
   "execution_count": 61,
   "id": "b11cc5dc",
   "metadata": {
    "execution": {
     "iopub.execute_input": "2023-03-25T19:14:28.956946Z",
     "iopub.status.busy": "2023-03-25T19:14:28.956578Z",
     "iopub.status.idle": "2023-03-25T19:14:28.968454Z",
     "shell.execute_reply": "2023-03-25T19:14:28.967547Z"
    },
    "papermill": {
     "duration": 0.049927,
     "end_time": "2023-03-25T19:14:28.970331",
     "exception": false,
     "start_time": "2023-03-25T19:14:28.920404",
     "status": "completed"
    },
    "tags": []
   },
   "outputs": [
    {
     "data": {
      "text/html": [
       "<div>\n",
       "<style scoped>\n",
       "    .dataframe tbody tr th:only-of-type {\n",
       "        vertical-align: middle;\n",
       "    }\n",
       "\n",
       "    .dataframe tbody tr th {\n",
       "        vertical-align: top;\n",
       "    }\n",
       "\n",
       "    .dataframe thead th {\n",
       "        text-align: right;\n",
       "    }\n",
       "</style>\n",
       "<table border=\"1\" class=\"dataframe\">\n",
       "  <thead>\n",
       "    <tr style=\"text-align: right;\">\n",
       "      <th></th>\n",
       "      <th>Kerb Weight</th>\n",
       "      <th>Gross Weight</th>\n",
       "    </tr>\n",
       "    <tr>\n",
       "      <th>usedCarSkuId</th>\n",
       "      <th></th>\n",
       "      <th></th>\n",
       "    </tr>\n",
       "  </thead>\n",
       "  <tbody>\n",
       "    <tr>\n",
       "      <th>aedf5af6-3a1f-424b-bd93-d62b68472f51</th>\n",
       "      <td>NaN</td>\n",
       "      <td>NaN</td>\n",
       "    </tr>\n",
       "    <tr>\n",
       "      <th>f88f68c4-18bb-43af-9ea9-8b4e45553e4c</th>\n",
       "      <td>1660.000</td>\n",
       "      <td>2185.000</td>\n",
       "    </tr>\n",
       "    <tr>\n",
       "      <th>552aa414-d454-4ae3-a0fa-77e23c103cf4</th>\n",
       "      <td>995.000</td>\n",
       "      <td>NaN</td>\n",
       "    </tr>\n",
       "    <tr>\n",
       "      <th>43ed7974-a713-48bc-a3f6-ffabff870844</th>\n",
       "      <td>NaN</td>\n",
       "      <td>NaN</td>\n",
       "    </tr>\n",
       "    <tr>\n",
       "      <th>8be615b8-3cf3-4834-a5ec-50fd34ab4b3d</th>\n",
       "      <td>1230.000</td>\n",
       "      <td>1670.000</td>\n",
       "    </tr>\n",
       "    <tr>\n",
       "      <th>69c68199-5de0-4b97-824a-177ad7dfb7a4</th>\n",
       "      <td>1240.000</td>\n",
       "      <td>NaN</td>\n",
       "    </tr>\n",
       "    <tr>\n",
       "      <th>753a611a-d7d4-4380-9bdb-29f9f922c9ec</th>\n",
       "      <td>1200.000</td>\n",
       "      <td>1680.000</td>\n",
       "    </tr>\n",
       "    <tr>\n",
       "      <th>649a3f4b-769a-4b5e-a520-a01668530658</th>\n",
       "      <td>1600.000</td>\n",
       "      <td>2160.000</td>\n",
       "    </tr>\n",
       "    <tr>\n",
       "      <th>9f9362dd-bffa-4744-92c0-00d2e5eb3f3b</th>\n",
       "      <td>NaN</td>\n",
       "      <td>NaN</td>\n",
       "    </tr>\n",
       "    <tr>\n",
       "      <th>4d9d2d51-c343-42f9-a8f8-b7a8fbd77178</th>\n",
       "      <td>960.000</td>\n",
       "      <td>1405.000</td>\n",
       "    </tr>\n",
       "  </tbody>\n",
       "</table>\n",
       "</div>"
      ],
      "text/plain": [
       "                                      Kerb Weight  Gross Weight\n",
       "usedCarSkuId                                                   \n",
       "aedf5af6-3a1f-424b-bd93-d62b68472f51          NaN           NaN\n",
       "f88f68c4-18bb-43af-9ea9-8b4e45553e4c     1660.000      2185.000\n",
       "552aa414-d454-4ae3-a0fa-77e23c103cf4      995.000           NaN\n",
       "43ed7974-a713-48bc-a3f6-ffabff870844          NaN           NaN\n",
       "8be615b8-3cf3-4834-a5ec-50fd34ab4b3d     1230.000      1670.000\n",
       "69c68199-5de0-4b97-824a-177ad7dfb7a4     1240.000           NaN\n",
       "753a611a-d7d4-4380-9bdb-29f9f922c9ec     1200.000      1680.000\n",
       "649a3f4b-769a-4b5e-a520-a01668530658     1600.000      2160.000\n",
       "9f9362dd-bffa-4744-92c0-00d2e5eb3f3b          NaN           NaN\n",
       "4d9d2d51-c343-42f9-a8f8-b7a8fbd77178      960.000      1405.000"
      ]
     },
     "execution_count": 61,
     "metadata": {},
     "output_type": "execute_result"
    }
   ],
   "source": [
    "cars_df2[['Kerb Weight', 'Gross Weight']].sample(10)"
   ]
  },
  {
   "cell_type": "markdown",
   "id": "92ee78f1",
   "metadata": {
    "papermill": {
     "duration": 0.031879,
     "end_time": "2023-03-25T19:14:29.041531",
     "exception": false,
     "start_time": "2023-03-25T19:14:29.009652",
     "status": "completed"
    },
    "tags": []
   },
   "source": [
    "---\n",
    "\n",
    "#### `Turning Radius`,"
   ]
  },
  {
   "cell_type": "code",
   "execution_count": 62,
   "id": "964bbf79",
   "metadata": {
    "execution": {
     "iopub.execute_input": "2023-03-25T19:14:29.109255Z",
     "iopub.status.busy": "2023-03-25T19:14:29.108909Z",
     "iopub.status.idle": "2023-03-25T19:14:29.116135Z",
     "shell.execute_reply": "2023-03-25T19:14:29.115469Z"
    },
    "papermill": {
     "duration": 0.04472,
     "end_time": "2023-03-25T19:14:29.118391",
     "exception": false,
     "start_time": "2023-03-25T19:14:29.073671",
     "status": "completed"
    },
    "tags": []
   },
   "outputs": [
    {
     "data": {
      "text/plain": [
       "usedCarSkuId\n",
       "32f6517d-535e-4651-b4d1-f52ff410ce5a     5.4 meters\n",
       "ff6cfa75-2736-4414-9f01-26ea39a33d7b            nan\n",
       "bf98806e-4756-4f72-8e76-f461d3480244    5.75 metres\n",
       "321e31cb-3922-4eea-b3a0-3e2c5dc3570c     5.2 metres\n",
       "1ed1d3b6-a2d8-4426-b3ed-f58f7d3b4a40    5.75 metres\n",
       "4e291b79-3b37-494d-b151-c5e9df7da8e6     4.6 metres\n",
       "1750c2ca-5db6-432a-b75e-16cd6b1bd399     4.6 metres\n",
       "3b3f8e22-7e37-4b0e-89d1-4c0743494df0            4.9\n",
       "0e8d3cdd-1357-4b6a-8cf3-821af53b20b6     4.6 metres\n",
       "5f4273dd-0625-43b3-851f-6ea895cf6b7e     5.2 metres\n",
       "Name: Turning Radius, dtype: object"
      ]
     },
     "execution_count": 62,
     "metadata": {},
     "output_type": "execute_result"
    }
   ],
   "source": [
    "cars_df2['Turning Radius'].sample(10)"
   ]
  },
  {
   "cell_type": "code",
   "execution_count": 63,
   "id": "c2ae1d60",
   "metadata": {
    "execution": {
     "iopub.execute_input": "2023-03-25T19:14:29.185740Z",
     "iopub.status.busy": "2023-03-25T19:14:29.185378Z",
     "iopub.status.idle": "2023-03-25T19:14:29.260166Z",
     "shell.execute_reply": "2023-03-25T19:14:29.258707Z"
    },
    "papermill": {
     "duration": 0.11183,
     "end_time": "2023-03-25T19:14:29.262865",
     "exception": false,
     "start_time": "2023-03-25T19:14:29.151035",
     "status": "completed"
    },
    "tags": []
   },
   "outputs": [],
   "source": [
    "cars_df2['Turning Radius'] = cars_df2['Turning Radius'].apply(get_begin_float).astype(float)"
   ]
  },
  {
   "cell_type": "code",
   "execution_count": 64,
   "id": "d6ca524b",
   "metadata": {
    "execution": {
     "iopub.execute_input": "2023-03-25T19:14:29.330641Z",
     "iopub.status.busy": "2023-03-25T19:14:29.330273Z",
     "iopub.status.idle": "2023-03-25T19:14:29.338286Z",
     "shell.execute_reply": "2023-03-25T19:14:29.337416Z"
    },
    "papermill": {
     "duration": 0.043645,
     "end_time": "2023-03-25T19:14:29.340097",
     "exception": false,
     "start_time": "2023-03-25T19:14:29.296452",
     "status": "completed"
    },
    "tags": []
   },
   "outputs": [
    {
     "data": {
      "text/plain": [
       "usedCarSkuId\n",
       "6e6487c4-f778-4354-90d7-60ebd7f02ea1   5.300\n",
       "18326e34-7d77-465c-95d1-dbd63ba8d4c7   5.300\n",
       "47bdf5e6-08c9-4772-9bb2-4bf29902bb52   6.000\n",
       "8ab578b5-2b5b-4751-a844-1e84a32b64c1   4.600\n",
       "32fd645c-d49e-4c4d-ba5b-65e042555c4f   5.300\n",
       "Name: Turning Radius, dtype: float64"
      ]
     },
     "execution_count": 64,
     "metadata": {},
     "output_type": "execute_result"
    }
   ],
   "source": [
    "cars_df2['Turning Radius'].sample(5)"
   ]
  },
  {
   "cell_type": "markdown",
   "id": "bc560ae7",
   "metadata": {
    "papermill": {
     "duration": 0.031229,
     "end_time": "2023-03-25T19:14:29.402961",
     "exception": false,
     "start_time": "2023-03-25T19:14:29.371732",
     "status": "completed"
    },
    "tags": []
   },
   "source": [
    "---\n",
    "\n",
    "#### `Top Speed` and `Acceleration`"
   ]
  },
  {
   "cell_type": "code",
   "execution_count": 65,
   "id": "58224fb3",
   "metadata": {
    "execution": {
     "iopub.execute_input": "2023-03-25T19:14:29.469238Z",
     "iopub.status.busy": "2023-03-25T19:14:29.468890Z",
     "iopub.status.idle": "2023-03-25T19:14:29.483637Z",
     "shell.execute_reply": "2023-03-25T19:14:29.482689Z"
    },
    "papermill": {
     "duration": 0.051174,
     "end_time": "2023-03-25T19:14:29.485529",
     "exception": false,
     "start_time": "2023-03-25T19:14:29.434355",
     "status": "completed"
    },
    "tags": []
   },
   "outputs": [
    {
     "data": {
      "text/html": [
       "<div>\n",
       "<style scoped>\n",
       "    .dataframe tbody tr th:only-of-type {\n",
       "        vertical-align: middle;\n",
       "    }\n",
       "\n",
       "    .dataframe tbody tr th {\n",
       "        vertical-align: top;\n",
       "    }\n",
       "\n",
       "    .dataframe thead th {\n",
       "        text-align: right;\n",
       "    }\n",
       "</style>\n",
       "<table border=\"1\" class=\"dataframe\">\n",
       "  <thead>\n",
       "    <tr style=\"text-align: right;\">\n",
       "      <th></th>\n",
       "      <th>Top Speed</th>\n",
       "      <th>Acceleration</th>\n",
       "    </tr>\n",
       "    <tr>\n",
       "      <th>usedCarSkuId</th>\n",
       "      <th></th>\n",
       "      <th></th>\n",
       "    </tr>\n",
       "  </thead>\n",
       "  <tbody>\n",
       "    <tr>\n",
       "      <th>ab290c5b-0be3-4337-8e21-e0eac1557b45</th>\n",
       "      <td>nan</td>\n",
       "      <td>nan</td>\n",
       "    </tr>\n",
       "    <tr>\n",
       "      <th>1771a4a6-e29a-4a36-9ce2-07b164f3a84f</th>\n",
       "      <td>172 kmph</td>\n",
       "      <td>12.36 seconds</td>\n",
       "    </tr>\n",
       "    <tr>\n",
       "      <th>b985b788-ad53-4cc8-b3ee-02451c6f898e</th>\n",
       "      <td>165 kmph</td>\n",
       "      <td>13.6 seconds</td>\n",
       "    </tr>\n",
       "    <tr>\n",
       "      <th>3b3b9ba1-064a-4fae-8f3b-421c761dec89</th>\n",
       "      <td>156 kmph</td>\n",
       "      <td>15 seconds</td>\n",
       "    </tr>\n",
       "    <tr>\n",
       "      <th>283126b4-f9f8-4e0c-a509-fcbe07e79738</th>\n",
       "      <td>171.92 kmph</td>\n",
       "      <td>11.41 seconds</td>\n",
       "    </tr>\n",
       "    <tr>\n",
       "      <th>3c75f20c-4a01-4257-9d20-befd571ab9bd</th>\n",
       "      <td>227</td>\n",
       "      <td>8.2</td>\n",
       "    </tr>\n",
       "    <tr>\n",
       "      <th>9a67dde0-378d-412b-9f06-914a97e13048</th>\n",
       "      <td>190 kmph</td>\n",
       "      <td>10.62 seconds</td>\n",
       "    </tr>\n",
       "    <tr>\n",
       "      <th>a254360b-dade-466c-abb5-b2f9ea8f91d8</th>\n",
       "      <td>158 kmph</td>\n",
       "      <td>14.2 seconds</td>\n",
       "    </tr>\n",
       "    <tr>\n",
       "      <th>494d21c6-a2de-4c11-aa4a-57ca9428c4b0</th>\n",
       "      <td>nan</td>\n",
       "      <td>nan</td>\n",
       "    </tr>\n",
       "    <tr>\n",
       "      <th>ca99c5b1-dd0c-41d2-92fa-4168370c5140</th>\n",
       "      <td>165 kmph</td>\n",
       "      <td>14.3 seconds</td>\n",
       "    </tr>\n",
       "  </tbody>\n",
       "</table>\n",
       "</div>"
      ],
      "text/plain": [
       "                                        Top Speed   Acceleration\n",
       "usedCarSkuId                                                    \n",
       "ab290c5b-0be3-4337-8e21-e0eac1557b45          nan            nan\n",
       "1771a4a6-e29a-4a36-9ce2-07b164f3a84f     172 kmph  12.36 seconds\n",
       "b985b788-ad53-4cc8-b3ee-02451c6f898e     165 kmph   13.6 seconds\n",
       "3b3b9ba1-064a-4fae-8f3b-421c761dec89     156 kmph     15 seconds\n",
       "283126b4-f9f8-4e0c-a509-fcbe07e79738  171.92 kmph  11.41 seconds\n",
       "3c75f20c-4a01-4257-9d20-befd571ab9bd          227            8.2\n",
       "9a67dde0-378d-412b-9f06-914a97e13048     190 kmph  10.62 seconds\n",
       "a254360b-dade-466c-abb5-b2f9ea8f91d8     158 kmph   14.2 seconds\n",
       "494d21c6-a2de-4c11-aa4a-57ca9428c4b0          nan            nan\n",
       "ca99c5b1-dd0c-41d2-92fa-4168370c5140     165 kmph   14.3 seconds"
      ]
     },
     "execution_count": 65,
     "metadata": {},
     "output_type": "execute_result"
    }
   ],
   "source": [
    "cars_df2[['Top Speed', 'Acceleration']].sample(10)"
   ]
  },
  {
   "cell_type": "code",
   "execution_count": 66,
   "id": "67974654",
   "metadata": {
    "execution": {
     "iopub.execute_input": "2023-03-25T19:14:29.551771Z",
     "iopub.status.busy": "2023-03-25T19:14:29.551426Z",
     "iopub.status.idle": "2023-03-25T19:14:29.681985Z",
     "shell.execute_reply": "2023-03-25T19:14:29.680868Z"
    },
    "papermill": {
     "duration": 0.166983,
     "end_time": "2023-03-25T19:14:29.684648",
     "exception": false,
     "start_time": "2023-03-25T19:14:29.517665",
     "status": "completed"
    },
    "tags": []
   },
   "outputs": [],
   "source": [
    "cars_df2['Top Speed'] = cars_df2['Top Speed'].apply(get_begin_float).astype(float)\n",
    "cars_df2['Acceleration'] = cars_df2['Acceleration'].apply(get_begin_float).astype(float)"
   ]
  },
  {
   "cell_type": "code",
   "execution_count": 67,
   "id": "b347f2bd",
   "metadata": {
    "execution": {
     "iopub.execute_input": "2023-03-25T19:14:29.770731Z",
     "iopub.status.busy": "2023-03-25T19:14:29.770099Z",
     "iopub.status.idle": "2023-03-25T19:14:29.790283Z",
     "shell.execute_reply": "2023-03-25T19:14:29.789126Z"
    },
    "papermill": {
     "duration": 0.075602,
     "end_time": "2023-03-25T19:14:29.793567",
     "exception": false,
     "start_time": "2023-03-25T19:14:29.717965",
     "status": "completed"
    },
    "tags": []
   },
   "outputs": [
    {
     "data": {
      "text/html": [
       "<div>\n",
       "<style scoped>\n",
       "    .dataframe tbody tr th:only-of-type {\n",
       "        vertical-align: middle;\n",
       "    }\n",
       "\n",
       "    .dataframe tbody tr th {\n",
       "        vertical-align: top;\n",
       "    }\n",
       "\n",
       "    .dataframe thead th {\n",
       "        text-align: right;\n",
       "    }\n",
       "</style>\n",
       "<table border=\"1\" class=\"dataframe\">\n",
       "  <thead>\n",
       "    <tr style=\"text-align: right;\">\n",
       "      <th></th>\n",
       "      <th>Top Speed</th>\n",
       "      <th>Acceleration</th>\n",
       "    </tr>\n",
       "    <tr>\n",
       "      <th>usedCarSkuId</th>\n",
       "      <th></th>\n",
       "      <th></th>\n",
       "    </tr>\n",
       "  </thead>\n",
       "  <tbody>\n",
       "    <tr>\n",
       "      <th>01ff7411-65cf-4ce4-b2d8-f3a38e0bcf74</th>\n",
       "      <td>NaN</td>\n",
       "      <td>NaN</td>\n",
       "    </tr>\n",
       "    <tr>\n",
       "      <th>15ac20cd-0f5e-4c4b-a028-86513746c60f</th>\n",
       "      <td>161.000</td>\n",
       "      <td>14.800</td>\n",
       "    </tr>\n",
       "    <tr>\n",
       "      <th>7096bbbd-e032-4cf2-acd0-1a52f14b79d8</th>\n",
       "      <td>126.000</td>\n",
       "      <td>20.000</td>\n",
       "    </tr>\n",
       "    <tr>\n",
       "      <th>c095cf39-336e-44e1-a895-6c6b64d5f3d3</th>\n",
       "      <td>NaN</td>\n",
       "      <td>11.310</td>\n",
       "    </tr>\n",
       "    <tr>\n",
       "      <th>2cede171-018b-45ea-96a8-84938df505f3</th>\n",
       "      <td>NaN</td>\n",
       "      <td>9.900</td>\n",
       "    </tr>\n",
       "    <tr>\n",
       "      <th>ba543743-7686-445c-a048-1c58ff3e1439</th>\n",
       "      <td>NaN</td>\n",
       "      <td>NaN</td>\n",
       "    </tr>\n",
       "    <tr>\n",
       "      <th>0ad967ff-59e7-4d22-9c29-cc8c0e3ec81c</th>\n",
       "      <td>165.000</td>\n",
       "      <td>13.200</td>\n",
       "    </tr>\n",
       "    <tr>\n",
       "      <th>9b9e574e-394c-4aea-b0ef-42f03fa58b11</th>\n",
       "      <td>NaN</td>\n",
       "      <td>NaN</td>\n",
       "    </tr>\n",
       "    <tr>\n",
       "      <th>875e3d05-1343-43e3-84d3-0d7a8a88ca06</th>\n",
       "      <td>190.000</td>\n",
       "      <td>10.000</td>\n",
       "    </tr>\n",
       "    <tr>\n",
       "      <th>5b87cf94-05c0-4357-94cd-4878a5a8da31</th>\n",
       "      <td>172.000</td>\n",
       "      <td>12.360</td>\n",
       "    </tr>\n",
       "  </tbody>\n",
       "</table>\n",
       "</div>"
      ],
      "text/plain": [
       "                                      Top Speed  Acceleration\n",
       "usedCarSkuId                                                 \n",
       "01ff7411-65cf-4ce4-b2d8-f3a38e0bcf74        NaN           NaN\n",
       "15ac20cd-0f5e-4c4b-a028-86513746c60f    161.000        14.800\n",
       "7096bbbd-e032-4cf2-acd0-1a52f14b79d8    126.000        20.000\n",
       "c095cf39-336e-44e1-a895-6c6b64d5f3d3        NaN        11.310\n",
       "2cede171-018b-45ea-96a8-84938df505f3        NaN         9.900\n",
       "ba543743-7686-445c-a048-1c58ff3e1439        NaN           NaN\n",
       "0ad967ff-59e7-4d22-9c29-cc8c0e3ec81c    165.000        13.200\n",
       "9b9e574e-394c-4aea-b0ef-42f03fa58b11        NaN           NaN\n",
       "875e3d05-1343-43e3-84d3-0d7a8a88ca06    190.000        10.000\n",
       "5b87cf94-05c0-4357-94cd-4878a5a8da31    172.000        12.360"
      ]
     },
     "execution_count": 67,
     "metadata": {},
     "output_type": "execute_result"
    }
   ],
   "source": [
    "cars_df2[['Top Speed', 'Acceleration']].sample(10)"
   ]
  },
  {
   "cell_type": "markdown",
   "id": "b8cf6bcb",
   "metadata": {
    "papermill": {
     "duration": 0.031936,
     "end_time": "2023-03-25T19:14:29.859656",
     "exception": false,
     "start_time": "2023-03-25T19:14:29.827720",
     "status": "completed"
    },
    "tags": []
   },
   "source": [
    "---\n",
    "\n",
    "#### `Cargo Volumn` and `Ground Clearance Unladen`\n",
    "\n",
    "Convert these columns to int"
   ]
  },
  {
   "cell_type": "code",
   "execution_count": 68,
   "id": "a614d5fe",
   "metadata": {
    "execution": {
     "iopub.execute_input": "2023-03-25T19:14:29.926286Z",
     "iopub.status.busy": "2023-03-25T19:14:29.925877Z",
     "iopub.status.idle": "2023-03-25T19:14:29.941738Z",
     "shell.execute_reply": "2023-03-25T19:14:29.940530Z"
    },
    "papermill": {
     "duration": 0.052812,
     "end_time": "2023-03-25T19:14:29.944546",
     "exception": false,
     "start_time": "2023-03-25T19:14:29.891734",
     "status": "completed"
    },
    "tags": []
   },
   "outputs": [
    {
     "data": {
      "text/html": [
       "<div>\n",
       "<style scoped>\n",
       "    .dataframe tbody tr th:only-of-type {\n",
       "        vertical-align: middle;\n",
       "    }\n",
       "\n",
       "    .dataframe tbody tr th {\n",
       "        vertical-align: top;\n",
       "    }\n",
       "\n",
       "    .dataframe thead th {\n",
       "        text-align: right;\n",
       "    }\n",
       "</style>\n",
       "<table border=\"1\" class=\"dataframe\">\n",
       "  <thead>\n",
       "    <tr style=\"text-align: right;\">\n",
       "      <th></th>\n",
       "      <th>Cargo Volumn</th>\n",
       "      <th>Ground Clearance Unladen</th>\n",
       "    </tr>\n",
       "    <tr>\n",
       "      <th>usedCarSkuId</th>\n",
       "      <th></th>\n",
       "      <th></th>\n",
       "    </tr>\n",
       "  </thead>\n",
       "  <tbody>\n",
       "    <tr>\n",
       "      <th>3ef93e64-8c21-4c1e-84c4-dda19b8df1da</th>\n",
       "      <td>nan</td>\n",
       "      <td>nan</td>\n",
       "    </tr>\n",
       "    <tr>\n",
       "      <th>8ce1df8f-b194-482f-a7b9-bc92599c8ecd</th>\n",
       "      <td>nan</td>\n",
       "      <td>nan</td>\n",
       "    </tr>\n",
       "    <tr>\n",
       "      <th>a95c10f1-8eb6-4e3b-ae1f-9cf853ac0822</th>\n",
       "      <td>494</td>\n",
       "      <td>nan</td>\n",
       "    </tr>\n",
       "    <tr>\n",
       "      <th>e26f6ad0-d47a-4a16-ad00-f7bddc2962df</th>\n",
       "      <td>259 litres</td>\n",
       "      <td>nan</td>\n",
       "    </tr>\n",
       "    <tr>\n",
       "      <th>d5545e6b-5a6d-434e-a51c-3fa1ad6b168c</th>\n",
       "      <td>242-litres</td>\n",
       "      <td>nan</td>\n",
       "    </tr>\n",
       "    <tr>\n",
       "      <th>02c6b229-014f-4ecd-9bbf-e7027424271e</th>\n",
       "      <td>475-litres</td>\n",
       "      <td>nan</td>\n",
       "    </tr>\n",
       "    <tr>\n",
       "      <th>fc254729-4505-467e-aa17-ea8080fc911b</th>\n",
       "      <td>320 liters</td>\n",
       "      <td>nan</td>\n",
       "    </tr>\n",
       "    <tr>\n",
       "      <th>224ad1ed-141c-4d8f-aedd-b061b712293c</th>\n",
       "      <td>400-litres</td>\n",
       "      <td>nan</td>\n",
       "    </tr>\n",
       "    <tr>\n",
       "      <th>91fcdfb4-88d5-4893-b53f-e0ad5f4abeca</th>\n",
       "      <td>425</td>\n",
       "      <td>nan</td>\n",
       "    </tr>\n",
       "    <tr>\n",
       "      <th>879e371e-9fb8-4758-ae25-c161842eba54</th>\n",
       "      <td>177-litres</td>\n",
       "      <td>nan</td>\n",
       "    </tr>\n",
       "  </tbody>\n",
       "</table>\n",
       "</div>"
      ],
      "text/plain": [
       "                                     Cargo Volumn Ground Clearance Unladen\n",
       "usedCarSkuId                                                              \n",
       "3ef93e64-8c21-4c1e-84c4-dda19b8df1da          nan                      nan\n",
       "8ce1df8f-b194-482f-a7b9-bc92599c8ecd          nan                      nan\n",
       "a95c10f1-8eb6-4e3b-ae1f-9cf853ac0822          494                      nan\n",
       "e26f6ad0-d47a-4a16-ad00-f7bddc2962df   259 litres                      nan\n",
       "d5545e6b-5a6d-434e-a51c-3fa1ad6b168c   242-litres                      nan\n",
       "02c6b229-014f-4ecd-9bbf-e7027424271e   475-litres                      nan\n",
       "fc254729-4505-467e-aa17-ea8080fc911b   320 liters                      nan\n",
       "224ad1ed-141c-4d8f-aedd-b061b712293c   400-litres                      nan\n",
       "91fcdfb4-88d5-4893-b53f-e0ad5f4abeca          425                      nan\n",
       "879e371e-9fb8-4758-ae25-c161842eba54   177-litres                      nan"
      ]
     },
     "execution_count": 68,
     "metadata": {},
     "output_type": "execute_result"
    }
   ],
   "source": [
    "cars_df2[['Cargo Volumn', 'Ground Clearance Unladen']].sample(10)"
   ]
  },
  {
   "cell_type": "code",
   "execution_count": 69,
   "id": "1801ea7d",
   "metadata": {
    "execution": {
     "iopub.execute_input": "2023-03-25T19:14:30.014111Z",
     "iopub.status.busy": "2023-03-25T19:14:30.013724Z",
     "iopub.status.idle": "2023-03-25T19:14:30.131704Z",
     "shell.execute_reply": "2023-03-25T19:14:30.130108Z"
    },
    "papermill": {
     "duration": 0.156045,
     "end_time": "2023-03-25T19:14:30.134543",
     "exception": false,
     "start_time": "2023-03-25T19:14:29.978498",
     "status": "completed"
    },
    "tags": []
   },
   "outputs": [],
   "source": [
    "for col in ['Cargo Volumn', 'Ground Clearance Unladen']:\n",
    "    cars_df2[col] = cars_df2[col].apply(get_begin_number).astype(float)"
   ]
  },
  {
   "cell_type": "code",
   "execution_count": 70,
   "id": "d6ca3d71",
   "metadata": {
    "execution": {
     "iopub.execute_input": "2023-03-25T19:14:30.203943Z",
     "iopub.status.busy": "2023-03-25T19:14:30.203574Z",
     "iopub.status.idle": "2023-03-25T19:14:30.216282Z",
     "shell.execute_reply": "2023-03-25T19:14:30.215093Z"
    },
    "papermill": {
     "duration": 0.049968,
     "end_time": "2023-03-25T19:14:30.218750",
     "exception": false,
     "start_time": "2023-03-25T19:14:30.168782",
     "status": "completed"
    },
    "tags": []
   },
   "outputs": [
    {
     "data": {
      "text/html": [
       "<div>\n",
       "<style scoped>\n",
       "    .dataframe tbody tr th:only-of-type {\n",
       "        vertical-align: middle;\n",
       "    }\n",
       "\n",
       "    .dataframe tbody tr th {\n",
       "        vertical-align: top;\n",
       "    }\n",
       "\n",
       "    .dataframe thead th {\n",
       "        text-align: right;\n",
       "    }\n",
       "</style>\n",
       "<table border=\"1\" class=\"dataframe\">\n",
       "  <thead>\n",
       "    <tr style=\"text-align: right;\">\n",
       "      <th></th>\n",
       "      <th>Cargo Volumn</th>\n",
       "      <th>Ground Clearance Unladen</th>\n",
       "    </tr>\n",
       "    <tr>\n",
       "      <th>usedCarSkuId</th>\n",
       "      <th></th>\n",
       "      <th></th>\n",
       "    </tr>\n",
       "  </thead>\n",
       "  <tbody>\n",
       "    <tr>\n",
       "      <th>f34835f5-823f-44ad-b07c-2f976eea270f</th>\n",
       "      <td>494.000</td>\n",
       "      <td>NaN</td>\n",
       "    </tr>\n",
       "    <tr>\n",
       "      <th>841154d9-b8d9-4469-a208-7062dfa56019</th>\n",
       "      <td>433.000</td>\n",
       "      <td>NaN</td>\n",
       "    </tr>\n",
       "    <tr>\n",
       "      <th>4bf31c29-85b3-4e38-b291-460f441be50e</th>\n",
       "      <td>NaN</td>\n",
       "      <td>NaN</td>\n",
       "    </tr>\n",
       "    <tr>\n",
       "      <th>2c99b549-efe0-4c04-b4eb-fe917ef26928</th>\n",
       "      <td>390.000</td>\n",
       "      <td>NaN</td>\n",
       "    </tr>\n",
       "    <tr>\n",
       "      <th>65833e9a-343b-4894-8df9-8f16b0dae811</th>\n",
       "      <td>NaN</td>\n",
       "      <td>NaN</td>\n",
       "    </tr>\n",
       "    <tr>\n",
       "      <th>b84a4099-6aec-4552-af52-9463a5c2b84d</th>\n",
       "      <td>510.000</td>\n",
       "      <td>NaN</td>\n",
       "    </tr>\n",
       "    <tr>\n",
       "      <th>d6061642-01a3-4584-88c1-61216cd8d7b2</th>\n",
       "      <td>177.000</td>\n",
       "      <td>NaN</td>\n",
       "    </tr>\n",
       "    <tr>\n",
       "      <th>731d6a3c-6f12-4eb9-8737-76e35d61f340</th>\n",
       "      <td>NaN</td>\n",
       "      <td>NaN</td>\n",
       "    </tr>\n",
       "    <tr>\n",
       "      <th>a8ed8410-c7c3-440a-b9ac-0236feb581c5</th>\n",
       "      <td>425.000</td>\n",
       "      <td>NaN</td>\n",
       "    </tr>\n",
       "    <tr>\n",
       "      <th>6b238af8-2658-4007-b3d8-7d6692070230</th>\n",
       "      <td>NaN</td>\n",
       "      <td>NaN</td>\n",
       "    </tr>\n",
       "  </tbody>\n",
       "</table>\n",
       "</div>"
      ],
      "text/plain": [
       "                                      Cargo Volumn  Ground Clearance Unladen\n",
       "usedCarSkuId                                                                \n",
       "f34835f5-823f-44ad-b07c-2f976eea270f       494.000                       NaN\n",
       "841154d9-b8d9-4469-a208-7062dfa56019       433.000                       NaN\n",
       "4bf31c29-85b3-4e38-b291-460f441be50e           NaN                       NaN\n",
       "2c99b549-efe0-4c04-b4eb-fe917ef26928       390.000                       NaN\n",
       "65833e9a-343b-4894-8df9-8f16b0dae811           NaN                       NaN\n",
       "b84a4099-6aec-4552-af52-9463a5c2b84d       510.000                       NaN\n",
       "d6061642-01a3-4584-88c1-61216cd8d7b2       177.000                       NaN\n",
       "731d6a3c-6f12-4eb9-8737-76e35d61f340           NaN                       NaN\n",
       "a8ed8410-c7c3-440a-b9ac-0236feb581c5       425.000                       NaN\n",
       "6b238af8-2658-4007-b3d8-7d6692070230           NaN                       NaN"
      ]
     },
     "execution_count": 70,
     "metadata": {},
     "output_type": "execute_result"
    }
   ],
   "source": [
    "cars_df2[['Cargo Volumn', 'Ground Clearance Unladen']].sample(10)"
   ]
  },
  {
   "cell_type": "markdown",
   "id": "640d6a7a",
   "metadata": {
    "papermill": {
     "duration": 0.032609,
     "end_time": "2023-03-25T19:14:30.284967",
     "exception": false,
     "start_time": "2023-03-25T19:14:30.252358",
     "status": "completed"
    },
    "tags": []
   },
   "source": [
    "---\n",
    "\n",
    "#### `Compression Ratio` and `Alloy Wheel Size`\n",
    "\n",
    "These columns should be converted to floats"
   ]
  },
  {
   "cell_type": "code",
   "execution_count": 71,
   "id": "b7c47e67",
   "metadata": {
    "execution": {
     "iopub.execute_input": "2023-03-25T19:14:30.352399Z",
     "iopub.status.busy": "2023-03-25T19:14:30.352050Z",
     "iopub.status.idle": "2023-03-25T19:14:30.365721Z",
     "shell.execute_reply": "2023-03-25T19:14:30.364802Z"
    },
    "papermill": {
     "duration": 0.050582,
     "end_time": "2023-03-25T19:14:30.368139",
     "exception": false,
     "start_time": "2023-03-25T19:14:30.317557",
     "status": "completed"
    },
    "tags": []
   },
   "outputs": [
    {
     "data": {
      "text/html": [
       "<div>\n",
       "<style scoped>\n",
       "    .dataframe tbody tr th:only-of-type {\n",
       "        vertical-align: middle;\n",
       "    }\n",
       "\n",
       "    .dataframe tbody tr th {\n",
       "        vertical-align: top;\n",
       "    }\n",
       "\n",
       "    .dataframe thead th {\n",
       "        text-align: right;\n",
       "    }\n",
       "</style>\n",
       "<table border=\"1\" class=\"dataframe\">\n",
       "  <thead>\n",
       "    <tr style=\"text-align: right;\">\n",
       "      <th></th>\n",
       "      <th>Alloy Wheel Size</th>\n",
       "      <th>Compression Ratio</th>\n",
       "    </tr>\n",
       "    <tr>\n",
       "      <th>usedCarSkuId</th>\n",
       "      <th></th>\n",
       "      <th></th>\n",
       "    </tr>\n",
       "  </thead>\n",
       "  <tbody>\n",
       "    <tr>\n",
       "      <th>b27b297e-1a70-4192-b40b-5ca64109e589</th>\n",
       "      <td>15</td>\n",
       "      <td>NaN</td>\n",
       "    </tr>\n",
       "    <tr>\n",
       "      <th>90a10dec-086d-4978-b29e-c1aa47db11e7</th>\n",
       "      <td>nan</td>\n",
       "      <td>NaN</td>\n",
       "    </tr>\n",
       "    <tr>\n",
       "      <th>90ed6040-3d9a-48e0-b5f3-eae28e59d036</th>\n",
       "      <td>nan</td>\n",
       "      <td>NaN</td>\n",
       "    </tr>\n",
       "    <tr>\n",
       "      <th>0308e426-d4c8-4f85-b13f-86dcc19a932b</th>\n",
       "      <td>nan</td>\n",
       "      <td>NaN</td>\n",
       "    </tr>\n",
       "    <tr>\n",
       "      <th>ec4c508b-a5c2-4d48-8757-61100fc80ec5</th>\n",
       "      <td>16</td>\n",
       "      <td>NaN</td>\n",
       "    </tr>\n",
       "    <tr>\n",
       "      <th>d62d4305-64e3-4756-b8b0-8f5f962a4cd6</th>\n",
       "      <td>nan</td>\n",
       "      <td>NaN</td>\n",
       "    </tr>\n",
       "    <tr>\n",
       "      <th>526e1cbc-4234-444a-81ab-2db29244dc7c</th>\n",
       "      <td>nan</td>\n",
       "      <td>NaN</td>\n",
       "    </tr>\n",
       "    <tr>\n",
       "      <th>9291bf7f-3d17-4709-abff-17e7a77e04fd</th>\n",
       "      <td>13</td>\n",
       "      <td>10:1</td>\n",
       "    </tr>\n",
       "    <tr>\n",
       "      <th>5cd92e26-cf83-49f9-9b6e-cd14179da92f</th>\n",
       "      <td>16</td>\n",
       "      <td>NaN</td>\n",
       "    </tr>\n",
       "    <tr>\n",
       "      <th>ba61673d-6d30-4b8e-bd1b-ed04a5020ecb</th>\n",
       "      <td>nan</td>\n",
       "      <td>NaN</td>\n",
       "    </tr>\n",
       "  </tbody>\n",
       "</table>\n",
       "</div>"
      ],
      "text/plain": [
       "                                     Alloy Wheel Size Compression Ratio\n",
       "usedCarSkuId                                                           \n",
       "b27b297e-1a70-4192-b40b-5ca64109e589               15               NaN\n",
       "90a10dec-086d-4978-b29e-c1aa47db11e7              nan               NaN\n",
       "90ed6040-3d9a-48e0-b5f3-eae28e59d036              nan               NaN\n",
       "0308e426-d4c8-4f85-b13f-86dcc19a932b              nan               NaN\n",
       "ec4c508b-a5c2-4d48-8757-61100fc80ec5               16               NaN\n",
       "d62d4305-64e3-4756-b8b0-8f5f962a4cd6              nan               NaN\n",
       "526e1cbc-4234-444a-81ab-2db29244dc7c              nan               NaN\n",
       "9291bf7f-3d17-4709-abff-17e7a77e04fd               13              10:1\n",
       "5cd92e26-cf83-49f9-9b6e-cd14179da92f               16               NaN\n",
       "ba61673d-6d30-4b8e-bd1b-ed04a5020ecb              nan               NaN"
      ]
     },
     "execution_count": 71,
     "metadata": {},
     "output_type": "execute_result"
    }
   ],
   "source": [
    "cars_df2[['Alloy Wheel Size', 'Compression Ratio']].sample(10)"
   ]
  },
  {
   "cell_type": "code",
   "execution_count": 72,
   "id": "d46d30c5",
   "metadata": {
    "execution": {
     "iopub.execute_input": "2023-03-25T19:14:30.438331Z",
     "iopub.status.busy": "2023-03-25T19:14:30.437933Z",
     "iopub.status.idle": "2023-03-25T19:14:30.548740Z",
     "shell.execute_reply": "2023-03-25T19:14:30.547212Z"
    },
    "papermill": {
     "duration": 0.148958,
     "end_time": "2023-03-25T19:14:30.551261",
     "exception": false,
     "start_time": "2023-03-25T19:14:30.402303",
     "status": "completed"
    },
    "tags": []
   },
   "outputs": [],
   "source": [
    "for col in ['Alloy Wheel Size', 'Compression Ratio']:\n",
    "    cars_df2[col] = cars_df2[col].apply(get_begin_float).astype(float)"
   ]
  },
  {
   "cell_type": "code",
   "execution_count": 73,
   "id": "85059ab8",
   "metadata": {
    "execution": {
     "iopub.execute_input": "2023-03-25T19:14:30.618679Z",
     "iopub.status.busy": "2023-03-25T19:14:30.618274Z",
     "iopub.status.idle": "2023-03-25T19:14:30.631855Z",
     "shell.execute_reply": "2023-03-25T19:14:30.630399Z"
    },
    "papermill": {
     "duration": 0.050598,
     "end_time": "2023-03-25T19:14:30.634569",
     "exception": false,
     "start_time": "2023-03-25T19:14:30.583971",
     "status": "completed"
    },
    "tags": []
   },
   "outputs": [
    {
     "data": {
      "text/html": [
       "<div>\n",
       "<style scoped>\n",
       "    .dataframe tbody tr th:only-of-type {\n",
       "        vertical-align: middle;\n",
       "    }\n",
       "\n",
       "    .dataframe tbody tr th {\n",
       "        vertical-align: top;\n",
       "    }\n",
       "\n",
       "    .dataframe thead th {\n",
       "        text-align: right;\n",
       "    }\n",
       "</style>\n",
       "<table border=\"1\" class=\"dataframe\">\n",
       "  <thead>\n",
       "    <tr style=\"text-align: right;\">\n",
       "      <th></th>\n",
       "      <th>Alloy Wheel Size</th>\n",
       "      <th>Compression Ratio</th>\n",
       "    </tr>\n",
       "    <tr>\n",
       "      <th>usedCarSkuId</th>\n",
       "      <th></th>\n",
       "      <th></th>\n",
       "    </tr>\n",
       "  </thead>\n",
       "  <tbody>\n",
       "    <tr>\n",
       "      <th>5caf1e7f-13b8-41c6-a787-389d693aeed0</th>\n",
       "      <td>14.000</td>\n",
       "      <td>10.000</td>\n",
       "    </tr>\n",
       "    <tr>\n",
       "      <th>eb1adedf-e547-46d6-b55c-9c6c76d18675</th>\n",
       "      <td>NaN</td>\n",
       "      <td>NaN</td>\n",
       "    </tr>\n",
       "    <tr>\n",
       "      <th>f44b8229-47d9-437a-bf3b-a2408e35a89e</th>\n",
       "      <td>NaN</td>\n",
       "      <td>NaN</td>\n",
       "    </tr>\n",
       "    <tr>\n",
       "      <th>a5e16a14-c608-46d9-ab6c-ad6a07216334</th>\n",
       "      <td>NaN</td>\n",
       "      <td>NaN</td>\n",
       "    </tr>\n",
       "    <tr>\n",
       "      <th>9f068552-41fd-43dc-97c8-f34b65b3b5a4</th>\n",
       "      <td>16.000</td>\n",
       "      <td>NaN</td>\n",
       "    </tr>\n",
       "    <tr>\n",
       "      <th>8ec8fd68-1484-42a0-92ed-c4d3a7a789f2</th>\n",
       "      <td>NaN</td>\n",
       "      <td>NaN</td>\n",
       "    </tr>\n",
       "    <tr>\n",
       "      <th>bcc743bf-d6bb-46b0-a2fb-a72185f9680e</th>\n",
       "      <td>16.000</td>\n",
       "      <td>17.300</td>\n",
       "    </tr>\n",
       "    <tr>\n",
       "      <th>f7d80434-b7be-443a-aafd-90334f944e8f</th>\n",
       "      <td>16.000</td>\n",
       "      <td>10.000</td>\n",
       "    </tr>\n",
       "    <tr>\n",
       "      <th>72562572-154a-425a-a36d-473fd66474c8</th>\n",
       "      <td>20.000</td>\n",
       "      <td>16.100</td>\n",
       "    </tr>\n",
       "    <tr>\n",
       "      <th>475d1f73-6057-4c82-843a-63876a09e86d</th>\n",
       "      <td>17.000</td>\n",
       "      <td>NaN</td>\n",
       "    </tr>\n",
       "  </tbody>\n",
       "</table>\n",
       "</div>"
      ],
      "text/plain": [
       "                                      Alloy Wheel Size  Compression Ratio\n",
       "usedCarSkuId                                                             \n",
       "5caf1e7f-13b8-41c6-a787-389d693aeed0            14.000             10.000\n",
       "eb1adedf-e547-46d6-b55c-9c6c76d18675               NaN                NaN\n",
       "f44b8229-47d9-437a-bf3b-a2408e35a89e               NaN                NaN\n",
       "a5e16a14-c608-46d9-ab6c-ad6a07216334               NaN                NaN\n",
       "9f068552-41fd-43dc-97c8-f34b65b3b5a4            16.000                NaN\n",
       "8ec8fd68-1484-42a0-92ed-c4d3a7a789f2               NaN                NaN\n",
       "bcc743bf-d6bb-46b0-a2fb-a72185f9680e            16.000             17.300\n",
       "f7d80434-b7be-443a-aafd-90334f944e8f            16.000             10.000\n",
       "72562572-154a-425a-a36d-473fd66474c8            20.000             16.100\n",
       "475d1f73-6057-4c82-843a-63876a09e86d            17.000                NaN"
      ]
     },
     "execution_count": 73,
     "metadata": {},
     "output_type": "execute_result"
    }
   ],
   "source": [
    "cars_df2[['Alloy Wheel Size', 'Compression Ratio']].sample(10)"
   ]
  },
  {
   "cell_type": "markdown",
   "id": "18a7576a",
   "metadata": {
    "papermill": {
     "duration": 0.033828,
     "end_time": "2023-03-25T19:14:30.702945",
     "exception": false,
     "start_time": "2023-03-25T19:14:30.669117",
     "status": "completed"
    },
    "tags": []
   },
   "source": [
    "---\n",
    "### `km`\n",
    "\n",
    "The columns need to be converted to int64."
   ]
  },
  {
   "cell_type": "code",
   "execution_count": 74,
   "id": "9ad36e38",
   "metadata": {
    "execution": {
     "iopub.execute_input": "2023-03-25T19:14:30.774144Z",
     "iopub.status.busy": "2023-03-25T19:14:30.773552Z",
     "iopub.status.idle": "2023-03-25T19:14:30.781700Z",
     "shell.execute_reply": "2023-03-25T19:14:30.780302Z"
    },
    "papermill": {
     "duration": 0.046715,
     "end_time": "2023-03-25T19:14:30.784175",
     "exception": false,
     "start_time": "2023-03-25T19:14:30.737460",
     "status": "completed"
    },
    "tags": []
   },
   "outputs": [
    {
     "data": {
      "text/plain": [
       "usedCarSkuId\n",
       "7ae96078-f369-433b-824e-416667ce14ae      41,494\n",
       "4b2f7567-d7cb-446f-b20b-4736c92758cb      24,173\n",
       "31fa45fb-ba54-4dac-9b6a-8b66f16c1def      66,000\n",
       "ed020e94-42d2-4ab1-a175-317e476cc424      40,000\n",
       "32488a91-3ea5-4686-b4ea-54639a186829    1,10,000\n",
       "6ef35063-db72-4843-b757-8329b0ba1cea      46,067\n",
       "d87e86ee-f3c3-40d1-95ea-f38d4621bcfd      33,076\n",
       "8b899050-f9b1-43c4-a51d-03009d4f9c5e    2,04,500\n",
       "4beb3088-e6c7-4777-a275-360dcfebf249      11,834\n",
       "83a06c34-cd00-4c65-96e1-066237a2d4f1    1,17,391\n",
       "Name: km, dtype: object"
      ]
     },
     "execution_count": 74,
     "metadata": {},
     "output_type": "execute_result"
    }
   ],
   "source": [
    "cars_df2['km'].sample(10)"
   ]
  },
  {
   "cell_type": "code",
   "execution_count": 75,
   "id": "5693612e",
   "metadata": {
    "execution": {
     "iopub.execute_input": "2023-03-25T19:14:30.853698Z",
     "iopub.status.busy": "2023-03-25T19:14:30.853019Z",
     "iopub.status.idle": "2023-03-25T19:14:30.937342Z",
     "shell.execute_reply": "2023-03-25T19:14:30.936328Z"
    },
    "papermill": {
     "duration": 0.121939,
     "end_time": "2023-03-25T19:14:30.939934",
     "exception": false,
     "start_time": "2023-03-25T19:14:30.817995",
     "status": "completed"
    },
    "tags": []
   },
   "outputs": [],
   "source": [
    "cars_df2['km'] = cars_df2['km'].apply(get_begin_float).astype(float)"
   ]
  },
  {
   "cell_type": "code",
   "execution_count": 76,
   "id": "ab8d3c16",
   "metadata": {
    "execution": {
     "iopub.execute_input": "2023-03-25T19:14:31.007403Z",
     "iopub.status.busy": "2023-03-25T19:14:31.007035Z",
     "iopub.status.idle": "2023-03-25T19:14:31.014786Z",
     "shell.execute_reply": "2023-03-25T19:14:31.014044Z"
    },
    "papermill": {
     "duration": 0.043484,
     "end_time": "2023-03-25T19:14:31.016534",
     "exception": false,
     "start_time": "2023-03-25T19:14:30.973050",
     "status": "completed"
    },
    "tags": []
   },
   "outputs": [
    {
     "data": {
      "text/plain": [
       "usedCarSkuId\n",
       "1330e5e7-8750-488c-b958-d2cd000f5698    35111.000\n",
       "85857ba9-5a85-4fcf-ab56-758060b3b619    85000.000\n",
       "1c773902-eb9d-4e23-a4ed-16d0bb932f20    51000.000\n",
       "7a0da7fb-26ef-4620-b102-c7d28147777a    70000.000\n",
       "7f82c058-367a-4579-83e0-69c3c727680e    92000.000\n",
       "d5277af2-39c6-4854-9bd0-519f3844e454    67800.000\n",
       "edbc4714-a470-4f80-a5f5-f39ca760f3fe   184290.000\n",
       "5903f1d2-826c-4f6e-ac4f-0f4cdbeab513    80804.000\n",
       "761a325c-c412-40f4-9a71-541a4cb29825    22509.000\n",
       "730e67fe-688e-4b01-ad21-0ce680694726    13633.000\n",
       "Name: km, dtype: float64"
      ]
     },
     "execution_count": 76,
     "metadata": {},
     "output_type": "execute_result"
    }
   ],
   "source": [
    "cars_df2['km'].sample(10)"
   ]
  },
  {
   "cell_type": "markdown",
   "id": "f1c9393d",
   "metadata": {
    "papermill": {
     "duration": 0.032424,
     "end_time": "2023-03-25T19:14:31.081850",
     "exception": false,
     "start_time": "2023-03-25T19:14:31.049426",
     "status": "completed"
    },
    "tags": []
   },
   "source": [
    "With this, we have converted all the columns to numerical that were noted."
   ]
  },
  {
   "cell_type": "code",
   "execution_count": 77,
   "id": "abc5e642",
   "metadata": {
    "execution": {
     "iopub.execute_input": "2023-03-25T19:14:31.149413Z",
     "iopub.status.busy": "2023-03-25T19:14:31.149049Z",
     "iopub.status.idle": "2023-03-25T19:14:31.157474Z",
     "shell.execute_reply": "2023-03-25T19:14:31.155909Z"
    },
    "papermill": {
     "duration": 0.044613,
     "end_time": "2023-03-25T19:14:31.159474",
     "exception": false,
     "start_time": "2023-03-25T19:14:31.114861",
     "status": "completed"
    },
    "tags": []
   },
   "outputs": [
    {
     "data": {
      "text/plain": [
       "object     31\n",
       "float64    27\n",
       "int64       4\n",
       "bool        3\n",
       "dtype: int64"
      ]
     },
     "execution_count": 77,
     "metadata": {},
     "output_type": "execute_result"
    }
   ],
   "source": [
    "cars_df2.dtypes.value_counts()"
   ]
  },
  {
   "cell_type": "markdown",
   "id": "b822ae28",
   "metadata": {
    "papermill": {
     "duration": 0.032911,
     "end_time": "2023-03-25T19:14:31.225876",
     "exception": false,
     "start_time": "2023-03-25T19:14:31.192965",
     "status": "completed"
    },
    "tags": []
   },
   "source": [
    "---"
   ]
  },
  {
   "cell_type": "markdown",
   "id": "7b612584",
   "metadata": {
    "papermill": {
     "duration": 0.0333,
     "end_time": "2023-03-25T19:14:31.292210",
     "exception": false,
     "start_time": "2023-03-25T19:14:31.258910",
     "status": "completed"
    },
    "tags": []
   },
   "source": [
    "#### Fixing some column names"
   ]
  },
  {
   "cell_type": "code",
   "execution_count": 78,
   "id": "ec711e79",
   "metadata": {
    "execution": {
     "iopub.execute_input": "2023-03-25T19:14:31.363395Z",
     "iopub.status.busy": "2023-03-25T19:14:31.362991Z",
     "iopub.status.idle": "2023-03-25T19:14:31.388556Z",
     "shell.execute_reply": "2023-03-25T19:14:31.387500Z"
    },
    "papermill": {
     "duration": 0.063812,
     "end_time": "2023-03-25T19:14:31.391132",
     "exception": false,
     "start_time": "2023-03-25T19:14:31.327320",
     "status": "completed"
    },
    "tags": []
   },
   "outputs": [],
   "source": [
    "cars_df2 = cars_df2.rename(columns={\n",
    "    'tt': 'transmission',\n",
    "    'bt': 'body',\n",
    "    'ft': 'fuel',\n",
    "    'variantName': 'variant',\n",
    "    'pu': 'listed_price',\n",
    "    'Values per Cylinder': 'Valves per Cylinder',\n",
    "    'Value Configuration': 'Valve Configuration',\n",
    "    'No Door Numbers': 'Doors',\n",
    "    'Seating Capacity': 'Seats',\n",
    "    'Cargo Volumn': 'Cargo Volume',\n",
    "    'city_x': 'City',\n",
    "})"
   ]
  },
  {
   "cell_type": "code",
   "execution_count": 79,
   "id": "658e9338",
   "metadata": {
    "execution": {
     "iopub.execute_input": "2023-03-25T19:14:31.461508Z",
     "iopub.status.busy": "2023-03-25T19:14:31.461134Z",
     "iopub.status.idle": "2023-03-25T19:14:31.483483Z",
     "shell.execute_reply": "2023-03-25T19:14:31.482098Z"
    },
    "papermill": {
     "duration": 0.060294,
     "end_time": "2023-03-25T19:14:31.485648",
     "exception": false,
     "start_time": "2023-03-25T19:14:31.425354",
     "status": "completed"
    },
    "tags": []
   },
   "outputs": [
    {
     "data": {
      "text/html": [
       "<div>\n",
       "<style scoped>\n",
       "    .dataframe tbody tr th:only-of-type {\n",
       "        vertical-align: middle;\n",
       "    }\n",
       "\n",
       "    .dataframe tbody tr th {\n",
       "        vertical-align: top;\n",
       "    }\n",
       "\n",
       "    .dataframe thead th {\n",
       "        text-align: right;\n",
       "    }\n",
       "</style>\n",
       "<table border=\"1\" class=\"dataframe\">\n",
       "  <thead>\n",
       "    <tr style=\"text-align: right;\">\n",
       "      <th></th>\n",
       "      <th>loc</th>\n",
       "      <th>myear</th>\n",
       "      <th>body</th>\n",
       "      <th>transmission</th>\n",
       "      <th>fuel</th>\n",
       "      <th>km</th>\n",
       "      <th>ip</th>\n",
       "      <th>images</th>\n",
       "      <th>imgCount</th>\n",
       "      <th>threesixty</th>\n",
       "      <th>...</th>\n",
       "      <th>Fuel Suppy System</th>\n",
       "      <th>Compression Ratio</th>\n",
       "      <th>Alloy Wheel Size</th>\n",
       "      <th>Ground Clearance Unladen</th>\n",
       "      <th>Max Power Delivered</th>\n",
       "      <th>Max Power At</th>\n",
       "      <th>Max Torque Delivered</th>\n",
       "      <th>Max Torque At</th>\n",
       "      <th>Bore</th>\n",
       "      <th>Stroke</th>\n",
       "    </tr>\n",
       "    <tr>\n",
       "      <th>usedCarSkuId</th>\n",
       "      <th></th>\n",
       "      <th></th>\n",
       "      <th></th>\n",
       "      <th></th>\n",
       "      <th></th>\n",
       "      <th></th>\n",
       "      <th></th>\n",
       "      <th></th>\n",
       "      <th></th>\n",
       "      <th></th>\n",
       "      <th></th>\n",
       "      <th></th>\n",
       "      <th></th>\n",
       "      <th></th>\n",
       "      <th></th>\n",
       "      <th></th>\n",
       "      <th></th>\n",
       "      <th></th>\n",
       "      <th></th>\n",
       "      <th></th>\n",
       "      <th></th>\n",
       "    </tr>\n",
       "  </thead>\n",
       "  <tbody>\n",
       "    <tr>\n",
       "      <th>7111bf25-97af-47f9-867b-40879190d800</th>\n",
       "      <td>gomti nagar</td>\n",
       "      <td>2016</td>\n",
       "      <td>hatchback</td>\n",
       "      <td>manual</td>\n",
       "      <td>cng</td>\n",
       "      <td>69162.000</td>\n",
       "      <td>0</td>\n",
       "      <td>[{'img': 'https://images10.gaadi.com/usedcar_i...</td>\n",
       "      <td>15</td>\n",
       "      <td>False</td>\n",
       "      <td>...</td>\n",
       "      <td>nan</td>\n",
       "      <td>NaN</td>\n",
       "      <td>NaN</td>\n",
       "      <td>NaN</td>\n",
       "      <td>58.160</td>\n",
       "      <td>6200.000</td>\n",
       "      <td>77.000</td>\n",
       "      <td>3500.000</td>\n",
       "      <td>69.000</td>\n",
       "      <td>NaN</td>\n",
       "    </tr>\n",
       "    <tr>\n",
       "      <th>c309efc1-efaf-4f82-81ad-dcb38eb36665</th>\n",
       "      <td>borivali west</td>\n",
       "      <td>2015</td>\n",
       "      <td>hatchback</td>\n",
       "      <td>manual</td>\n",
       "      <td>cng</td>\n",
       "      <td>45864.000</td>\n",
       "      <td>0</td>\n",
       "      <td>[{'img': 'https://images10.gaadi.com/usedcar_i...</td>\n",
       "      <td>15</td>\n",
       "      <td>False</td>\n",
       "      <td>...</td>\n",
       "      <td>Gasoline Port Injection</td>\n",
       "      <td>11.000</td>\n",
       "      <td>NaN</td>\n",
       "      <td>NaN</td>\n",
       "      <td>58.200</td>\n",
       "      <td>6000.000</td>\n",
       "      <td>78.000</td>\n",
       "      <td>3500.000</td>\n",
       "      <td>73.000</td>\n",
       "      <td>NaN</td>\n",
       "    </tr>\n",
       "    <tr>\n",
       "      <th>7609f710-0c97-4f00-9a47-9b9284b62d3a</th>\n",
       "      <td>jasola</td>\n",
       "      <td>2015</td>\n",
       "      <td>sedan</td>\n",
       "      <td>manual</td>\n",
       "      <td>cng</td>\n",
       "      <td>81506.000</td>\n",
       "      <td>0</td>\n",
       "      <td>[{'img': 'https://images10.gaadi.com/usedcar_i...</td>\n",
       "      <td>15</td>\n",
       "      <td>False</td>\n",
       "      <td>...</td>\n",
       "      <td>nan</td>\n",
       "      <td>NaN</td>\n",
       "      <td>NaN</td>\n",
       "      <td>NaN</td>\n",
       "      <td>86.700</td>\n",
       "      <td>6000.000</td>\n",
       "      <td>109.000</td>\n",
       "      <td>4500.000</td>\n",
       "      <td>NaN</td>\n",
       "      <td>NaN</td>\n",
       "    </tr>\n",
       "    <tr>\n",
       "      <th>278b76e3-5539-4a5e-ae3e-353a2e3b6d7d</th>\n",
       "      <td>jasola</td>\n",
       "      <td>2013</td>\n",
       "      <td>hatchback</td>\n",
       "      <td>manual</td>\n",
       "      <td>cng</td>\n",
       "      <td>115893.000</td>\n",
       "      <td>0</td>\n",
       "      <td>[{'img': ''}]</td>\n",
       "      <td>0</td>\n",
       "      <td>False</td>\n",
       "      <td>...</td>\n",
       "      <td>Multi-Point Fuel Injection</td>\n",
       "      <td>NaN</td>\n",
       "      <td>13.000</td>\n",
       "      <td>NaN</td>\n",
       "      <td>58.200</td>\n",
       "      <td>6200.000</td>\n",
       "      <td>77.000</td>\n",
       "      <td>3500.000</td>\n",
       "      <td>NaN</td>\n",
       "      <td>NaN</td>\n",
       "    </tr>\n",
       "    <tr>\n",
       "      <th>b1eab99b-a606-48dd-a75b-57feb8a9ad92</th>\n",
       "      <td>mumbai g.p.o.</td>\n",
       "      <td>2022</td>\n",
       "      <td>muv</td>\n",
       "      <td>manual</td>\n",
       "      <td>cng</td>\n",
       "      <td>18900.000</td>\n",
       "      <td>0</td>\n",
       "      <td>[{'img': 'https://images10.gaadi.com/usedcar_i...</td>\n",
       "      <td>6</td>\n",
       "      <td>False</td>\n",
       "      <td>...</td>\n",
       "      <td>nan</td>\n",
       "      <td>12.000</td>\n",
       "      <td>NaN</td>\n",
       "      <td>NaN</td>\n",
       "      <td>86.630</td>\n",
       "      <td>5500.000</td>\n",
       "      <td>121.500</td>\n",
       "      <td>4200.000</td>\n",
       "      <td>NaN</td>\n",
       "      <td>NaN</td>\n",
       "    </tr>\n",
       "  </tbody>\n",
       "</table>\n",
       "<p>5 rows × 65 columns</p>\n",
       "</div>"
      ],
      "text/plain": [
       "                                                loc  myear       body  \\\n",
       "usedCarSkuId                                                            \n",
       "7111bf25-97af-47f9-867b-40879190d800    gomti nagar   2016  hatchback   \n",
       "c309efc1-efaf-4f82-81ad-dcb38eb36665  borivali west   2015  hatchback   \n",
       "7609f710-0c97-4f00-9a47-9b9284b62d3a         jasola   2015      sedan   \n",
       "278b76e3-5539-4a5e-ae3e-353a2e3b6d7d         jasola   2013  hatchback   \n",
       "b1eab99b-a606-48dd-a75b-57feb8a9ad92  mumbai g.p.o.   2022        muv   \n",
       "\n",
       "                                     transmission fuel         km  ip  \\\n",
       "usedCarSkuId                                                            \n",
       "7111bf25-97af-47f9-867b-40879190d800       manual  cng  69162.000   0   \n",
       "c309efc1-efaf-4f82-81ad-dcb38eb36665       manual  cng  45864.000   0   \n",
       "7609f710-0c97-4f00-9a47-9b9284b62d3a       manual  cng  81506.000   0   \n",
       "278b76e3-5539-4a5e-ae3e-353a2e3b6d7d       manual  cng 115893.000   0   \n",
       "b1eab99b-a606-48dd-a75b-57feb8a9ad92       manual  cng  18900.000   0   \n",
       "\n",
       "                                                                                 images  \\\n",
       "usedCarSkuId                                                                              \n",
       "7111bf25-97af-47f9-867b-40879190d800  [{'img': 'https://images10.gaadi.com/usedcar_i...   \n",
       "c309efc1-efaf-4f82-81ad-dcb38eb36665  [{'img': 'https://images10.gaadi.com/usedcar_i...   \n",
       "7609f710-0c97-4f00-9a47-9b9284b62d3a  [{'img': 'https://images10.gaadi.com/usedcar_i...   \n",
       "278b76e3-5539-4a5e-ae3e-353a2e3b6d7d                                      [{'img': ''}]   \n",
       "b1eab99b-a606-48dd-a75b-57feb8a9ad92  [{'img': 'https://images10.gaadi.com/usedcar_i...   \n",
       "\n",
       "                                      imgCount  threesixty  ...  \\\n",
       "usedCarSkuId                                                ...   \n",
       "7111bf25-97af-47f9-867b-40879190d800        15       False  ...   \n",
       "c309efc1-efaf-4f82-81ad-dcb38eb36665        15       False  ...   \n",
       "7609f710-0c97-4f00-9a47-9b9284b62d3a        15       False  ...   \n",
       "278b76e3-5539-4a5e-ae3e-353a2e3b6d7d         0       False  ...   \n",
       "b1eab99b-a606-48dd-a75b-57feb8a9ad92         6       False  ...   \n",
       "\n",
       "                                               Fuel Suppy System  \\\n",
       "usedCarSkuId                                                       \n",
       "7111bf25-97af-47f9-867b-40879190d800                         nan   \n",
       "c309efc1-efaf-4f82-81ad-dcb38eb36665     Gasoline Port Injection   \n",
       "7609f710-0c97-4f00-9a47-9b9284b62d3a                         nan   \n",
       "278b76e3-5539-4a5e-ae3e-353a2e3b6d7d  Multi-Point Fuel Injection   \n",
       "b1eab99b-a606-48dd-a75b-57feb8a9ad92                         nan   \n",
       "\n",
       "                                     Compression Ratio Alloy Wheel Size  \\\n",
       "usedCarSkuId                                                              \n",
       "7111bf25-97af-47f9-867b-40879190d800               NaN              NaN   \n",
       "c309efc1-efaf-4f82-81ad-dcb38eb36665            11.000              NaN   \n",
       "7609f710-0c97-4f00-9a47-9b9284b62d3a               NaN              NaN   \n",
       "278b76e3-5539-4a5e-ae3e-353a2e3b6d7d               NaN           13.000   \n",
       "b1eab99b-a606-48dd-a75b-57feb8a9ad92            12.000              NaN   \n",
       "\n",
       "                                     Ground Clearance Unladen  \\\n",
       "usedCarSkuId                                                    \n",
       "7111bf25-97af-47f9-867b-40879190d800                      NaN   \n",
       "c309efc1-efaf-4f82-81ad-dcb38eb36665                      NaN   \n",
       "7609f710-0c97-4f00-9a47-9b9284b62d3a                      NaN   \n",
       "278b76e3-5539-4a5e-ae3e-353a2e3b6d7d                      NaN   \n",
       "b1eab99b-a606-48dd-a75b-57feb8a9ad92                      NaN   \n",
       "\n",
       "                                     Max Power Delivered  Max Power At  \\\n",
       "usedCarSkuId                                                             \n",
       "7111bf25-97af-47f9-867b-40879190d800              58.160      6200.000   \n",
       "c309efc1-efaf-4f82-81ad-dcb38eb36665              58.200      6000.000   \n",
       "7609f710-0c97-4f00-9a47-9b9284b62d3a              86.700      6000.000   \n",
       "278b76e3-5539-4a5e-ae3e-353a2e3b6d7d              58.200      6200.000   \n",
       "b1eab99b-a606-48dd-a75b-57feb8a9ad92              86.630      5500.000   \n",
       "\n",
       "                                      Max Torque Delivered Max Torque At  \\\n",
       "usedCarSkuId                                                               \n",
       "7111bf25-97af-47f9-867b-40879190d800                77.000      3500.000   \n",
       "c309efc1-efaf-4f82-81ad-dcb38eb36665                78.000      3500.000   \n",
       "7609f710-0c97-4f00-9a47-9b9284b62d3a               109.000      4500.000   \n",
       "278b76e3-5539-4a5e-ae3e-353a2e3b6d7d                77.000      3500.000   \n",
       "b1eab99b-a606-48dd-a75b-57feb8a9ad92               121.500      4200.000   \n",
       "\n",
       "                                       Bore Stroke  \n",
       "usedCarSkuId                                        \n",
       "7111bf25-97af-47f9-867b-40879190d800 69.000    NaN  \n",
       "c309efc1-efaf-4f82-81ad-dcb38eb36665 73.000    NaN  \n",
       "7609f710-0c97-4f00-9a47-9b9284b62d3a    NaN    NaN  \n",
       "278b76e3-5539-4a5e-ae3e-353a2e3b6d7d    NaN    NaN  \n",
       "b1eab99b-a606-48dd-a75b-57feb8a9ad92    NaN    NaN  \n",
       "\n",
       "[5 rows x 65 columns]"
      ]
     },
     "execution_count": 79,
     "metadata": {},
     "output_type": "execute_result"
    }
   ],
   "source": [
    "cars_df2.head()"
   ]
  },
  {
   "cell_type": "code",
   "execution_count": 80,
   "id": "721c4581",
   "metadata": {
    "execution": {
     "iopub.execute_input": "2023-03-25T19:14:31.556613Z",
     "iopub.status.busy": "2023-03-25T19:14:31.556223Z",
     "iopub.status.idle": "2023-03-25T19:14:31.634794Z",
     "shell.execute_reply": "2023-03-25T19:14:31.632968Z"
    },
    "papermill": {
     "duration": 0.116647,
     "end_time": "2023-03-25T19:14:31.637085",
     "exception": false,
     "start_time": "2023-03-25T19:14:31.520438",
     "status": "completed"
    },
    "tags": []
   },
   "outputs": [
    {
     "name": "stdout",
     "output_type": "stream",
     "text": [
      "<class 'pandas.core.frame.DataFrame'>\n",
      "Index: 37813 entries, 7111bf25-97af-47f9-867b-40879190d800 to a96fbcd7-c183-4829-ae97-b2581afe4bac\n",
      "Data columns (total 65 columns):\n",
      " #   Column                    Non-Null Count  Dtype  \n",
      "---  ------                    --------------  -----  \n",
      " 0   loc                       37813 non-null  object \n",
      " 1   myear                     37813 non-null  int64  \n",
      " 2   body                      37813 non-null  object \n",
      " 3   transmission              37813 non-null  object \n",
      " 4   fuel                      37813 non-null  object \n",
      " 5   km                        37813 non-null  float64\n",
      " 6   ip                        37813 non-null  int64  \n",
      " 7   images                    37813 non-null  object \n",
      " 8   imgCount                  37813 non-null  int64  \n",
      " 9   threesixty                37813 non-null  bool   \n",
      " 10  dvn                       37813 non-null  object \n",
      " 11  oem                       37813 non-null  object \n",
      " 12  model                     37813 non-null  object \n",
      " 13  variant                   37813 non-null  object \n",
      " 14  City                      37813 non-null  object \n",
      " 15  listed_price              37813 non-null  float64\n",
      " 16  discountValue             37813 non-null  int64  \n",
      " 17  utype                     37813 non-null  object \n",
      " 18  carType                   37813 non-null  object \n",
      " 19  top_features              37813 non-null  object \n",
      " 20  comfort_features          37813 non-null  object \n",
      " 21  interior_features         37813 non-null  object \n",
      " 22  exterior_features         37813 non-null  object \n",
      " 23  safety_features           37813 non-null  object \n",
      " 24  Color                     37813 non-null  object \n",
      " 25  Engine Type               37813 non-null  object \n",
      " 26  No of Cylinder            37670 non-null  float64\n",
      " 27  Valves per Cylinder       37585 non-null  float64\n",
      " 28  Valve Configuration       37813 non-null  object \n",
      " 29  Turbo Charger             37813 non-null  bool   \n",
      " 30  Super Charger             37813 non-null  bool   \n",
      " 31  Length                    37451 non-null  float64\n",
      " 32  Width                     37442 non-null  float64\n",
      " 33  Height                    37450 non-null  float64\n",
      " 34  Wheel Base                37257 non-null  float64\n",
      " 35  Front Tread               21939 non-null  float64\n",
      " 36  Rear Tread                21938 non-null  float64\n",
      " 37  Kerb Weight               24674 non-null  float64\n",
      " 38  Gross Weight              16923 non-null  float64\n",
      " 39  Gear Box                  37813 non-null  object \n",
      " 40  Drive Type                37813 non-null  object \n",
      " 41  Seats                     37795 non-null  float64\n",
      " 42  Steering Type             37813 non-null  object \n",
      " 43  Turning Radius            31965 non-null  float64\n",
      " 44  Front Brake Type          37813 non-null  object \n",
      " 45  Rear Brake Type           37813 non-null  object \n",
      " 46  Top Speed                 22461 non-null  float64\n",
      " 47  Acceleration              23825 non-null  float64\n",
      " 48  Tyre Type                 37813 non-null  object \n",
      " 49  Doors                     37769 non-null  float64\n",
      " 50  Cargo Volume              31081 non-null  float64\n",
      " 51  model_type_new            37813 non-null  object \n",
      " 52  state                     37813 non-null  object \n",
      " 53  exterior_color            37813 non-null  object \n",
      " 54  owner_type                37813 non-null  object \n",
      " 55  Fuel Suppy System         37813 non-null  object \n",
      " 56  Compression Ratio         10012 non-null  float64\n",
      " 57  Alloy Wheel Size          23352 non-null  float64\n",
      " 58  Ground Clearance Unladen  2152 non-null   float64\n",
      " 59  Max Power Delivered       37582 non-null  float64\n",
      " 60  Max Power At              35566 non-null  float64\n",
      " 61  Max Torque Delivered      37582 non-null  float64\n",
      " 62  Max Torque At             35837 non-null  float64\n",
      " 63  Bore                      12636 non-null  float64\n",
      " 64  Stroke                    513 non-null    float64\n",
      "dtypes: bool(3), float64(27), int64(4), object(31)\n",
      "memory usage: 18.3+ MB\n"
     ]
    }
   ],
   "source": [
    "cars_df2.info()"
   ]
  },
  {
   "cell_type": "markdown",
   "id": "773abf90",
   "metadata": {
    "papermill": {
     "duration": 0.035021,
     "end_time": "2023-03-25T19:14:31.708291",
     "exception": false,
     "start_time": "2023-03-25T19:14:31.673270",
     "status": "completed"
    },
    "tags": []
   },
   "source": [
    "#### With this, we are ready to move on to the next steps:\n",
    "1. EDA\n",
    "2. Feature Engineering and selection\n",
    "3. Model Building and Optimization"
   ]
  },
  {
   "cell_type": "code",
   "execution_count": 81,
   "id": "90efe15d",
   "metadata": {
    "execution": {
     "iopub.execute_input": "2023-03-25T19:14:31.778560Z",
     "iopub.status.busy": "2023-03-25T19:14:31.778248Z",
     "iopub.status.idle": "2023-03-25T19:14:31.782427Z",
     "shell.execute_reply": "2023-03-25T19:14:31.781555Z"
    },
    "papermill": {
     "duration": 0.042,
     "end_time": "2023-03-25T19:14:31.784290",
     "exception": false,
     "start_time": "2023-03-25T19:14:31.742290",
     "status": "completed"
    },
    "tags": []
   },
   "outputs": [
    {
     "ename": "",
     "evalue": "",
     "output_type": "error",
     "traceback": [
      "\u001b[1;31mThe Kernel crashed while executing code in the the current cell or a previous cell. Please review the code in the cell(s) to identify a possible cause of the failure. Click <a href='https://aka.ms/vscodeJupyterKernelCrash'>here</a> for more info. View Jupyter <a href='command:jupyter.viewOutput'>log</a> for further details."
     ]
    }
   ],
   "source": [
    "import datetime\n",
    "\n",
    "fileName = f\"../data/clean/cleaned_data_{datetime.datetime.now().strftime('%Y-%m-%d_%H-%M-%S')}.csv\"\n",
    "cars_df2.to_csv(fileName)"
   ]
  }
 ],
 "metadata": {
  "kernelspec": {
   "display_name": "Python 3",
   "language": "python",
   "name": "python3"
  },
  "language_info": {
   "codemirror_mode": {
    "name": "ipython",
    "version": 3
   },
   "file_extension": ".py",
   "mimetype": "text/x-python",
   "name": "python",
   "nbconvert_exporter": "python",
   "pygments_lexer": "ipython3",
   "version": "3.10.5"
  },
  "papermill": {
   "default_parameters": {},
   "duration": 27.322875,
   "end_time": "2023-03-25T19:14:32.640795",
   "environment_variables": {},
   "exception": null,
   "input_path": "__notebook__.ipynb",
   "output_path": "__notebook__.ipynb",
   "parameters": {},
   "start_time": "2023-03-25T19:14:05.317920",
   "version": "2.4.0"
  }
 },
 "nbformat": 4,
 "nbformat_minor": 5
}
